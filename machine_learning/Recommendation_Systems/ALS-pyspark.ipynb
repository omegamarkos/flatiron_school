{
 "cells": [
  {
   "cell_type": "markdown",
   "metadata": {
    "slideshow": {
     "slide_type": "slide"
    }
   },
   "source": [
    "# Building a Movie Recommendation System in PySpark - Lab Code-along\n",
    "![images of vhs tapes on shelf](img/movies.jpg)"
   ]
  },
  {
   "cell_type": "markdown",
   "metadata": {
    "slideshow": {
     "slide_type": "slide"
    }
   },
   "source": [
    "## Introduction\n",
    "\n",
    "In this last lab, we will implement a a movie recommendation system using Alternating Least Squares (ALS) in the Spark programming environment.<br> Spark's machine learning libraray `ml` comes packaged with a very efficient imeplementation of the ALS algorithm. \n",
    "\n",
    "The lab will require you to put into practice your spark programming skills for creating and manipulating pyspark DataFrames. We will go through a step-by-step process into developing a movie recommendation system using ALS and pyspark using the MovieLens Dataset.\n",
    "\n",
    "Note: You are advised to refer to [PySpark Documentation](http://spark.apache.org/docs/2.2.0/api/python/index.html) heavily for completing this lab as it will introduce a few new methods. "
   ]
  },
  {
   "cell_type": "code",
   "execution_count": 1,
   "metadata": {},
   "outputs": [
    {
     "data": {
      "text/plain": [
       "'/home/jovyan/work'"
      ]
     },
     "execution_count": 1,
     "metadata": {},
     "output_type": "execute_result"
    }
   ],
   "source": [
    "pwd"
   ]
  },
  {
   "cell_type": "markdown",
   "metadata": {
    "slideshow": {
     "slide_type": "slide"
    }
   },
   "source": [
    "## Objectives\n",
    "\n",
    "You will be able to:\n",
    "\n",
    "* Identify the key components of the ALS \n",
    "* Demonstrate an understanding on how recommendation systems are being used for personalization of online services/products\n",
    "* Parse and filter datasets into Spark DataFrame, performing basic feature selection\n",
    "* Run a brief hyper-parameter selection activity through a scalable grid search\n",
    "* Train and evaluate the predictive performance of recommendation system\n",
    "* Generate predictions from the trained model"
   ]
  },
  {
   "cell_type": "markdown",
   "metadata": {
    "slideshow": {
     "slide_type": "slide"
    }
   },
   "source": [
    "## Building a Recommendation System\n",
    "\n",
    "We have seen how recommender/Recommendation Systems have played an  integral parts in the success of Amazon (Books, Items), Pandora/Spotify (Music), Google (News, Search), YouTube (Videos) etc.  For Amazon these systems bring more than 30% of their total revenues. For Netflix service, 75% of movies that people watch are based on some sort of recommendation.\n",
    "\n",
    "> The goal of Recommendation Systems is to find what is likely to be of interest to the user. This enables organizations to offer a high level of personalization and customer tailored services."
   ]
  },
  {
   "cell_type": "markdown",
   "metadata": {
    "slideshow": {
     "slide_type": "slide"
    }
   },
   "source": [
    "### We sort of get the concept\n",
    "\n",
    "For online video content services like Netflix and Hulu, the need to build robust movie recommendation systems is extremely important. An example of recommendation system is such as this:\n",
    "\n",
    "1.    User A watches Game of Thrones and Breaking Bad.\n",
    "2.    User B performs a search query for Game of Thrones.\n",
    "3.    The system suggests Breaking Bad to user B from data collected about user A.\n",
    "\n",
    "\n",
    "This lab will guide you through a step-by-step process into developing such a movie recommendation system. We will use the MovieLens dataset to build a movie recommendation system using the collaborative filtering technique with Spark's Alternating Least Saqures implementation. After building that recommendation system, we will go through the process of adding a new user to the dataset with some new ratings and obtaining new recommendations for that user."
   ]
  },
  {
   "cell_type": "markdown",
   "metadata": {
    "slideshow": {
     "slide_type": "slide"
    }
   },
   "source": [
    "## Will Nightengale like Toy Story?\n",
    "\n",
    "Collaborative filtering and matrix decomposition allows us to use the history of others ratings, along with the entire community of ratings, to answer that question.\n",
    "\n",
    "![image1](img/collab.png)\n"
   ]
  },
  {
   "cell_type": "markdown",
   "metadata": {
    "slideshow": {
     "slide_type": "slide"
    }
   },
   "source": [
    "## Person vs vegetable\n",
    "\n",
    "It's important to realize that there are two sides to recommendation\n",
    "\n",
    "![image2](img/item_user_based.png)"
   ]
  },
  {
   "cell_type": "markdown",
   "metadata": {
    "slideshow": {
     "slide_type": "slide"
    }
   },
   "source": [
    "## Code for model\n",
    "\n",
    "If we wanted, we could jump to the code right now to make this happen."
   ]
  },
  {
   "cell_type": "markdown",
   "metadata": {
    "slideshow": {
     "slide_type": "slide"
    }
   },
   "source": [
    "But would we understand it?\n",
    "```\n",
    "from pyspark.ml.evaluation import RegressionEvaluator\n",
    "\n",
    "from pyspark.ml.recommendation import ALS, ALSModel\n",
    "\n",
    "als = ALS(\n",
    "    rank=10,\n",
    "    maxIter=10,\n",
    "    userCol='userId',\n",
    "    itemCol='movieId',\n",
    "    ratingCol='rating',\n",
    ")\n",
    "\n",
    "als_model = als.fit(movie_ratings)\n",
    "```"
   ]
  },
  {
   "cell_type": "markdown",
   "metadata": {
    "slideshow": {
     "slide_type": "slide"
    }
   },
   "source": [
    "## Documentation Station\n",
    "\n",
    "Let's explore the [documentation](http://spark.apache.org/docs/2.4.3/api/python/pyspark.ml.html#module-pyspark.ml.recommendation) together to maybe get a better idea of what is happening. \n",
    "\n",
    "- which parameters make sense?\n",
    "- which are completely foreign?"
   ]
  },
  {
   "cell_type": "markdown",
   "metadata": {
    "slideshow": {
     "slide_type": "slide"
    }
   },
   "source": [
    "## Rank\n",
    "\n",
    "What's all this rank of the factorization business?<br>\n",
    "[the source code documentation](https://github.com/apache/spark/blob/master/mllib/src/main/scala/org/apache/spark/mllib/recommendation/ALS.scala) describes that variable as the \"Rank of the feature matrices\""
   ]
  },
  {
   "cell_type": "markdown",
   "metadata": {
    "slideshow": {
     "slide_type": "slide"
    }
   },
   "source": [
    "## Assumptions\n",
    "\n",
    "Matrix decomposition is built on the theory that every individual (user, movie) score is actually the **dot product** of two separate vectors:\n",
    "- user characteristics \n",
    "- movie characteristics"
   ]
  },
  {
   "cell_type": "markdown",
   "metadata": {
    "slideshow": {
     "slide_type": "slide"
    }
   },
   "source": [
    "Wait, do you mean like gender, whether the movie is sci-fi or action? Do we have that data?"
   ]
  },
  {
   "cell_type": "markdown",
   "metadata": {
    "slideshow": {
     "slide_type": "slide"
    }
   },
   "source": [
    "![beyonce-gif](img/beyonce.gif)"
   ]
  },
  {
   "cell_type": "markdown",
   "metadata": {
    "slideshow": {
     "slide_type": "slide"
    }
   },
   "source": [
    "## Huh?\n",
    "![what](img/what.gif)"
   ]
  },
  {
   "cell_type": "code",
   "execution_count": 2,
   "metadata": {},
   "outputs": [
    {
     "data": {
      "text/plain": [
       "4000000"
      ]
     },
     "execution_count": 2,
     "metadata": {},
     "output_type": "execute_result"
    }
   ],
   "source": [
    "2000 * 2000"
   ]
  },
  {
   "cell_type": "code",
   "execution_count": 5,
   "metadata": {},
   "outputs": [
    {
     "data": {
      "text/plain": [
       "400000"
      ]
     },
     "execution_count": 5,
     "metadata": {},
     "output_type": "execute_result"
    }
   ],
   "source": [
    "(2000 * 100) + (2000 * 100)"
   ]
  },
  {
   "cell_type": "markdown",
   "metadata": {
    "slideshow": {
     "slide_type": "slide"
    }
   },
   "source": [
    "## The hidden matricies \n",
    "![image4](img/matrix_decomp.png)"
   ]
  },
  {
   "cell_type": "markdown",
   "metadata": {
    "slideshow": {
     "slide_type": "slide"
    }
   },
   "source": [
    "## Embeddings\n",
    "\n",
    "Embeddings are low dimensional hidden factors for items and users.\n",
    "\n",
    "For e.g. say we have 5 dimensional (i.e., **rank** = 5) embeddings for both items and users (5 chosen randomly, this could be any number - as we saw with PCA and dim. reduction).\n",
    "\n",
    "For user-X & movie-A, we can say those 5 numbers might represent 5 different characteristics about the movie e.g.:\n",
    "\n",
    "- How much movie-A is political\n",
    "- How recent is the movie\n",
    "- How much special effects are in movie A\n",
    "- How dialogue driven is the movie\n",
    "- How linear is the narrative in the movie\n",
    "\n",
    "In a similar way, 5 numbers in the user embedding matrix might represent:\n",
    "\n",
    "- How much does user-X like sci-fi movies\n",
    "- How much does user-X like recent movies … and so on.\n",
    "\n",
    "But we have *no actual idea* what those factors actually represent."
   ]
  },
  {
   "cell_type": "markdown",
   "metadata": {
    "slideshow": {
     "slide_type": "slide"
    }
   },
   "source": [
    "### If we knew the feature embeddings in advance, it would look something like this:"
   ]
  },
  {
   "cell_type": "code",
   "execution_count": 6,
   "metadata": {
    "slideshow": {
     "slide_type": "slide"
    }
   },
   "outputs": [],
   "source": [
    "import numpy as np\n",
    "\n",
    "# the original matrix of rankings\n",
    "R = np.array([[2, np.nan, np.nan, 1, 4],\n",
    "       [5, 1, 2, np.nan, 2],\n",
    "       [3, np.nan, np.nan, 3, np.nan],\n",
    "       [1, np.nan, 4, 2, 1]])\n",
    "\n",
    "# users X factors\n",
    "P =np.array([[-0.63274434,  1.33686735, -1.55128517],\n",
    "       [-2.23813661,  0.5123861 ,  0.14087293],\n",
    "       [-1.0289794 ,  1.62052691,  0.21027516],\n",
    "       [-0.06422255,  1.62892864,  0.33350709]])\n",
    "\n",
    "# factors X items\n",
    "Q = np.array([[-2.09507374,  0.52351075,  0.01826269],\n",
    "       [-0.45078775, -0.07334991,  0.18731052],\n",
    "       [-0.34161766,  2.46215058, -0.18942263],\n",
    "       [-1.0925736 ,  1.04664756,  0.69963111],\n",
    "       [-0.78152923,  0.89189076, -1.47144019]])"
   ]
  },
  {
   "cell_type": "markdown",
   "metadata": {
    "slideshow": {
     "slide_type": "slide"
    }
   },
   "source": [
    "What about that `np.nan` in the third row, last column? How will that item be reviewed by that user?"
   ]
  },
  {
   "cell_type": "code",
   "execution_count": 7,
   "metadata": {
    "slideshow": {
     "slide_type": "slide"
    }
   },
   "outputs": [
    {
     "name": "stdout",
     "output_type": "stream",
     "text": [
      "[-1.0289794   1.62052691  0.21027516]\n",
      "[-0.78152923  0.89189076 -1.47144019]\n"
     ]
    },
    {
     "data": {
      "text/plain": [
       "1.9401031341455333"
      ]
     },
     "execution_count": 7,
     "metadata": {},
     "output_type": "execute_result"
    }
   ],
   "source": [
    "print(P[2])\n",
    "print(Q.T[:,4])\n",
    "P[2].dot(Q.T[:,4])"
   ]
  },
  {
   "cell_type": "markdown",
   "metadata": {
    "slideshow": {
     "slide_type": "slide"
    }
   },
   "source": [
    "## Wait, I saw a transpose in there - what's the actual formula?\n",
    "\n",
    "Terms:<br>\n",
    "$R$ is the full user-item rating matrix\n",
    "\n",
    "$P$ is a matrix that contains the users and the k factors represented as (user,factor)\n",
    "\n",
    "$Q^T$ is a matrix that contains the items and the k factors represented as\n",
    "\n",
    "$r̂_{u,i}$ represents our prediction for the true rating $r_{ui}$ In order to get an individual rating, you must take the dot product of a row of P and a column of Q\n",
    "\n",
    "for the entire matrix:\n",
    "$$ R = PQ^T $$ \n",
    "\n",
    "or for individual ratings\n",
    "\n",
    "$$r̂_{u,i}=q_i^⊤p_u $$ \n",
    "\n",
    "\n",
    "\n"
   ]
  },
  {
   "cell_type": "markdown",
   "metadata": {
    "slideshow": {
     "slide_type": "slide"
    }
   },
   "source": [
    "### Let's get the whole matrix!"
   ]
  },
  {
   "cell_type": "code",
   "execution_count": 8,
   "metadata": {
    "slideshow": {
     "slide_type": "slide"
    }
   },
   "outputs": [
    {
     "data": {
      "text/plain": [
       "array([[ 1.99717984, -0.10339773,  3.80157388,  1.00522135,  3.96947118],\n",
       "       [ 4.95987359,  0.99772807,  1.9994742 ,  3.08017572,  1.99887552],\n",
       "       [ 3.00799117,  0.38437256,  4.30166793,  2.96747131,  1.94010313],\n",
       "       [ 0.99340337, -0.02806164,  3.96943336,  2.00841398,  1.01228247]])"
      ]
     },
     "execution_count": 8,
     "metadata": {},
     "output_type": "execute_result"
    }
   ],
   "source": [
    "P.dot(Q.T)"
   ]
  },
  {
   "cell_type": "markdown",
   "metadata": {
    "slideshow": {
     "slide_type": "slide"
    }
   },
   "source": [
    "### Look at those results\n",
    "\n",
    "Are they _exactly_ correct?\n",
    "![check](img/check.gif)"
   ]
  },
  {
   "cell_type": "markdown",
   "metadata": {
    "slideshow": {
     "slide_type": "slide"
    }
   },
   "source": [
    "## ALS benefit: Loss Function\n",
    "\n",
    "The Loss function $L$ can be calculated as:\n",
    "\n",
    "$$ L = \\sum_{u,i ∈ \\kappa}(r_{u,i}− q_i^T p_u)^2 + λ( ||q_i||^2 + |p_u||^2)$$\n",
    "\n",
    "Where $\\kappa$ is the set of (u,i) pairs for which $r_{u,i}$ is known.\n",
    "\n",
    "To avoid overfitting, the loss function also includes a regularization parameter $\\lambda$. We will choose a $\\lambda$ to minimize the square of the difference between all ratings in our dataset $R$ and our predictions.\n",
    "\n",
    "There's the **least squares** part of ALS, got it!"
   ]
  },
  {
   "cell_type": "markdown",
   "metadata": {
    "slideshow": {
     "slide_type": "slide"
    }
   },
   "source": [
    "## So now we use gradient decent, right?"
   ]
  },
  {
   "cell_type": "markdown",
   "metadata": {
    "slideshow": {
     "slide_type": "slide"
    }
   },
   "source": [
    "![incorrect](img/incorrect.gif)"
   ]
  },
  {
   "cell_type": "markdown",
   "metadata": {
    "slideshow": {
     "slide_type": "slide"
    }
   },
   "source": [
    "### Here comes the alternating part\n",
    "\n",
    "ALS alternates between holding the $q_i$'s constant and the $p_u$'s constant. \n",
    "\n",
    "While all $q_i$'s are held constant, each $p_u$ is computed by solving the least squared problem.<br>\n",
    "After that process has taken place, all the $p_u$'s are held constant while the $q_i$'s are altered to solve the least squares problem, again, each independently.<br> \n",
    "This process repeats many times until you've reached convergence (ideally)."
   ]
  },
  {
   "cell_type": "markdown",
   "metadata": {
    "slideshow": {
     "slide_type": "slide"
    }
   },
   "source": [
    "# Enough - let's get to the data"
   ]
  },
  {
   "cell_type": "markdown",
   "metadata": {
    "slideshow": {
     "slide_type": "slide"
    }
   },
   "source": [
    "### Importing the Data\n",
    "To begin with:\n",
    "* initialize a SparkSession object\n",
    "* import the dataset found at './data/ratings.csv' into a pyspark DataFrame"
   ]
  },
  {
   "cell_type": "code",
   "execution_count": 9,
   "metadata": {
    "slideshow": {
     "slide_type": "slide"
    }
   },
   "outputs": [],
   "source": [
    "import pyspark\n",
    "\n",
    "spark = (pyspark.sql.SparkSession.builder \n",
    "  .master(\"local[*]\")\n",
    "  .getOrCreate())"
   ]
  },
  {
   "cell_type": "code",
   "execution_count": 10,
   "metadata": {
    "slideshow": {
     "slide_type": "slide"
    }
   },
   "outputs": [
    {
     "name": "stdout",
     "output_type": "stream",
     "text": [
      "movies.csv  ratings.csv\r\n"
     ]
    }
   ],
   "source": [
    "!ls data/"
   ]
  },
  {
   "cell_type": "code",
   "execution_count": 11,
   "metadata": {
    "slideshow": {
     "slide_type": "slide"
    }
   },
   "outputs": [
    {
     "name": "stdout",
     "output_type": "stream",
     "text": [
      "/bin/sh: 1: file: not found\r\n"
     ]
    }
   ],
   "source": [
    "!file data/ratings.csv"
   ]
  },
  {
   "cell_type": "code",
   "execution_count": 12,
   "metadata": {
    "slideshow": {
     "slide_type": "slide"
    }
   },
   "outputs": [
    {
     "name": "stdout",
     "output_type": "stream",
     "text": [
      "userId,movieId,rating,timestamp\r",
      "\r\n",
      "1,1,4.0,964982703\r",
      "\r\n",
      "1,3,4.0,964981247\r",
      "\r\n",
      "1,6,4.0,964982224\r",
      "\r\n",
      "1,47,5.0,964983815\r",
      "\r\n",
      "1,50,5.0,964982931\r",
      "\r\n",
      "1,70,3.0,964982400\r",
      "\r\n",
      "1,101,5.0,964980868\r",
      "\r\n",
      "1,110,4.0,964982176\r",
      "\r\n",
      "1,151,5.0,964984041\r",
      "\r\n"
     ]
    }
   ],
   "source": [
    "!head data/ratings.csv"
   ]
  },
  {
   "cell_type": "code",
   "execution_count": 13,
   "metadata": {
    "slideshow": {
     "slide_type": "slide"
    }
   },
   "outputs": [],
   "source": [
    "# read in the dataset into pyspark DataFrame\n",
    "movie_ratings = spark.read.csv('data/ratings.csv',\n",
    "                               inferSchema=True,\n",
    "                               header=True)"
   ]
  },
  {
   "cell_type": "markdown",
   "metadata": {
    "slideshow": {
     "slide_type": "slide"
    }
   },
   "source": [
    "Check the data types of each of the values to ensure that they are a type that makes sense given the column."
   ]
  },
  {
   "cell_type": "code",
   "execution_count": 14,
   "metadata": {},
   "outputs": [
    {
     "name": "stdout",
     "output_type": "stream",
     "text": [
      "root\n",
      " |-- userId: integer (nullable = true)\n",
      " |-- movieId: integer (nullable = true)\n",
      " |-- rating: double (nullable = true)\n",
      " |-- timestamp: integer (nullable = true)\n",
      "\n"
     ]
    }
   ],
   "source": [
    "movie_ratings.printSchema()"
   ]
  },
  {
   "cell_type": "code",
   "execution_count": 15,
   "metadata": {
    "slideshow": {
     "slide_type": "slide"
    }
   },
   "outputs": [
    {
     "name": "stdout",
     "output_type": "stream",
     "text": [
      "root\n",
      " |-- userId: integer (nullable = true)\n",
      " |-- movieId: integer (nullable = true)\n",
      " |-- rating: double (nullable = true)\n",
      " |-- timestamp: integer (nullable = true)\n",
      "\n"
     ]
    }
   ],
   "source": [
    "movie_ratings.printSchema()"
   ]
  },
  {
   "cell_type": "markdown",
   "metadata": {
    "slideshow": {
     "slide_type": "slide"
    }
   },
   "source": [
    "But if they were ever incorrectly assigned, here's how we fix it:"
   ]
  },
  {
   "cell_type": "code",
   "execution_count": 16,
   "metadata": {
    "slideshow": {
     "slide_type": "slide"
    }
   },
   "outputs": [],
   "source": [
    "from pyspark.sql.types import (\n",
    "    ArrayType,\n",
    "    AtomicType,\n",
    "    BinaryType,\n",
    "    BooleanType,\n",
    "    ByteType,\n",
    "    CloudPickleSerializer,\n",
    "    DataType,\n",
    "    DataTypeSingleton,\n",
    "    DateConverter,\n",
    "    DateType,\n",
    "    DatetimeConverter,\n",
    "    DecimalType,\n",
    "    DoubleType,\n",
    "    FloatType,\n",
    "    FractionalType,\n",
    "    IntegerType,\n",
    "    IntegralType,\n",
    "    JavaClass,\n",
    "    LongType,\n",
    "    MapType,\n",
    "    NullType,\n",
    "    NumericType,\n",
    "    Row,\n",
    "    ShortType,\n",
    "    SparkContext,\n",
    "    StringType,\n",
    "    StructField,\n",
    "    StructType,\n",
    "    TimestampType,\n",
    "    UserDefinedType,\n",
    ")"
   ]
  },
  {
   "cell_type": "code",
   "execution_count": 18,
   "metadata": {
    "slideshow": {
     "slide_type": "slide"
    }
   },
   "outputs": [],
   "source": [
    "schema = StructType(\n",
    "    [\n",
    "        StructField('userId', IntegerType()),\n",
    "        StructField('movieId', IntegerType()),\n",
    "        StructField('rating', FloatType()),\n",
    "        StructField('timestamp', LongType()),\n",
    "    ]\n",
    ")"
   ]
  },
  {
   "cell_type": "code",
   "execution_count": 19,
   "metadata": {
    "slideshow": {
     "slide_type": "slide"
    }
   },
   "outputs": [],
   "source": [
    "# read in the dataset into pyspark DataFrame\n",
    "movie_ratings = spark.read.csv('data/ratings.csv',\n",
    "                               inferSchema=False,\n",
    "                               schema=schema,\n",
    "                               header=True)"
   ]
  },
  {
   "cell_type": "code",
   "execution_count": 20,
   "metadata": {
    "slideshow": {
     "slide_type": "slide"
    }
   },
   "outputs": [
    {
     "data": {
      "text/plain": [
       "DataFrame[userId: int, movieId: int, rating: float, timestamp: bigint]"
      ]
     },
     "execution_count": 20,
     "metadata": {},
     "output_type": "execute_result"
    }
   ],
   "source": [
    "movie_ratings.persist()"
   ]
  },
  {
   "cell_type": "code",
   "execution_count": 21,
   "metadata": {
    "slideshow": {
     "slide_type": "slide"
    }
   },
   "outputs": [
    {
     "name": "stdout",
     "output_type": "stream",
     "text": [
      "root\n",
      " |-- userId: integer (nullable = true)\n",
      " |-- movieId: integer (nullable = true)\n",
      " |-- rating: float (nullable = true)\n",
      " |-- timestamp: long (nullable = true)\n",
      "\n"
     ]
    }
   ],
   "source": [
    "movie_ratings.printSchema()"
   ]
  },
  {
   "cell_type": "code",
   "execution_count": 22,
   "metadata": {
    "slideshow": {
     "slide_type": "slide"
    }
   },
   "outputs": [
    {
     "data": {
      "text/plain": [
       "pyspark.sql.dataframe.DataFrame"
      ]
     },
     "execution_count": 22,
     "metadata": {},
     "output_type": "execute_result"
    }
   ],
   "source": [
    "type(movie_ratings)"
   ]
  },
  {
   "cell_type": "code",
   "execution_count": 23,
   "metadata": {
    "slideshow": {
     "slide_type": "slide"
    }
   },
   "outputs": [
    {
     "name": "stdout",
     "output_type": "stream",
     "text": [
      "+------+-------+------+---------+\n",
      "|userId|movieId|rating|timestamp|\n",
      "+------+-------+------+---------+\n",
      "|     1|      1|   4.0|964982703|\n",
      "|     1|      3|   4.0|964981247|\n",
      "|     1|      6|   4.0|964982224|\n",
      "|     1|     47|   5.0|964983815|\n",
      "|     1|     50|   5.0|964982931|\n",
      "|     1|     70|   3.0|964982400|\n",
      "|     1|    101|   5.0|964980868|\n",
      "|     1|    110|   4.0|964982176|\n",
      "|     1|    151|   5.0|964984041|\n",
      "|     1|    157|   5.0|964984100|\n",
      "|     1|    163|   5.0|964983650|\n",
      "|     1|    216|   5.0|964981208|\n",
      "|     1|    223|   3.0|964980985|\n",
      "|     1|    231|   5.0|964981179|\n",
      "|     1|    235|   4.0|964980908|\n",
      "|     1|    260|   5.0|964981680|\n",
      "|     1|    296|   3.0|964982967|\n",
      "|     1|    316|   3.0|964982310|\n",
      "|     1|    333|   5.0|964981179|\n",
      "|     1|    349|   4.0|964982563|\n",
      "+------+-------+------+---------+\n",
      "only showing top 20 rows\n",
      "\n"
     ]
    }
   ],
   "source": [
    "movie_ratings.show()"
   ]
  },
  {
   "cell_type": "markdown",
   "metadata": {
    "slideshow": {
     "slide_type": "slide"
    }
   },
   "source": [
    "We aren't going to need the time stamp, so we can go ahead and remove that column."
   ]
  },
  {
   "cell_type": "code",
   "execution_count": 25,
   "metadata": {},
   "outputs": [
    {
     "data": {
      "text/plain": [
       "['userId', 'movieId', 'rating']"
      ]
     },
     "execution_count": 25,
     "metadata": {},
     "output_type": "execute_result"
    }
   ],
   "source": [
    "movie_ratings.columns[:-1]"
   ]
  },
  {
   "cell_type": "code",
   "execution_count": 26,
   "metadata": {
    "slideshow": {
     "slide_type": "slide"
    }
   },
   "outputs": [],
   "source": [
    "movie_ratings = movie_ratings.select(movie_ratings.columns[:-1])\n",
    "#what do we put here?"
   ]
  },
  {
   "cell_type": "code",
   "execution_count": 27,
   "metadata": {},
   "outputs": [
    {
     "name": "stdout",
     "output_type": "stream",
     "text": [
      "+------+-------+------+\n",
      "|userId|movieId|rating|\n",
      "+------+-------+------+\n",
      "|     1|      1|   4.0|\n",
      "|     1|      3|   4.0|\n",
      "|     1|      6|   4.0|\n",
      "|     1|     47|   5.0|\n",
      "|     1|     50|   5.0|\n",
      "+------+-------+------+\n",
      "only showing top 5 rows\n",
      "\n"
     ]
    }
   ],
   "source": [
    "movie_ratings.show(5)"
   ]
  },
  {
   "cell_type": "markdown",
   "metadata": {
    "slideshow": {
     "slide_type": "slide"
    }
   },
   "source": [
    "### Fitting the Alternating Least Squares Model"
   ]
  },
  {
   "cell_type": "markdown",
   "metadata": {
    "slideshow": {
     "slide_type": "slide"
    }
   },
   "source": [
    "Because this dataset is already preprocessed for us, we can go ahead and fit the Alternating Least Squares model.\n",
    "\n",
    "* Use the randomSplit method on the pyspark DataFrame to separate the dataset into a training and test set\n",
    "* Import the ALS module from pyspark.ml.recommendation.\n",
    "* Fit the Alternating Least Squares Model to the training dataset. Make sure to set the userCol, itemCol, and ratingCol to the appropriate names given this dataset. Then fit the data to the training set and assign it to a variable model. "
   ]
  },
  {
   "cell_type": "markdown",
   "metadata": {
    "slideshow": {
     "slide_type": "slide"
    }
   },
   "source": [
    "### Train-Test Split\n",
    "\n",
    "Split the data into training and testing sets."
   ]
  },
  {
   "cell_type": "code",
   "execution_count": 28,
   "metadata": {},
   "outputs": [
    {
     "data": {
      "text/plain": [
       "100836"
      ]
     },
     "execution_count": 28,
     "metadata": {},
     "output_type": "execute_result"
    }
   ],
   "source": [
    "movie_ratings.count()"
   ]
  },
  {
   "cell_type": "code",
   "execution_count": 29,
   "metadata": {},
   "outputs": [],
   "source": [
    "train_data, test_data = movie_ratings.randomSplit([0.8, 0.2])"
   ]
  },
  {
   "cell_type": "code",
   "execution_count": 30,
   "metadata": {},
   "outputs": [
    {
     "data": {
      "text/plain": [
       "80743"
      ]
     },
     "execution_count": 30,
     "metadata": {},
     "output_type": "execute_result"
    }
   ],
   "source": [
    "train_data.count()"
   ]
  },
  {
   "cell_type": "code",
   "execution_count": 31,
   "metadata": {},
   "outputs": [
    {
     "data": {
      "text/plain": [
       "20093"
      ]
     },
     "execution_count": 31,
     "metadata": {},
     "output_type": "execute_result"
    }
   ],
   "source": [
    "test_data.count()"
   ]
  },
  {
   "cell_type": "code",
   "execution_count": 32,
   "metadata": {},
   "outputs": [
    {
     "data": {
      "text/plain": [
       "0.8007358483081439"
      ]
     },
     "execution_count": 32,
     "metadata": {},
     "output_type": "execute_result"
    }
   ],
   "source": [
    "train_data.count() / movie_ratings.count()"
   ]
  },
  {
   "cell_type": "code",
   "execution_count": 34,
   "metadata": {},
   "outputs": [
    {
     "data": {
      "text/plain": [
       "0.19926415169185607"
      ]
     },
     "execution_count": 34,
     "metadata": {},
     "output_type": "execute_result"
    }
   ],
   "source": [
    "test_data.count() / movie_ratings.count()"
   ]
  },
  {
   "cell_type": "code",
   "execution_count": 35,
   "metadata": {
    "slideshow": {
     "slide_type": "slide"
    }
   },
   "outputs": [],
   "source": [
    "from pyspark.ml.evaluation import RegressionEvaluator\n",
    "from pyspark.ml.recommendation import ALS, ALSModel\n",
    "\n",
    "als = ALS(\n",
    "    rank=10,\n",
    "    maxIter=10,\n",
    "    userCol='userId',\n",
    "    itemCol='movieId',\n",
    "    ratingCol='rating',\n",
    ")"
   ]
  },
  {
   "cell_type": "code",
   "execution_count": 36,
   "metadata": {
    "slideshow": {
     "slide_type": "slide"
    }
   },
   "outputs": [],
   "source": [
    "# Build the recommendation model using ALS on the training data\n",
    "# fit the ALS model to the training set\n",
    "\n",
    "als_model = als.fit(train_data)"
   ]
  },
  {
   "cell_type": "markdown",
   "metadata": {
    "slideshow": {
     "slide_type": "slide"
    }
   },
   "source": [
    "Now you've fit the model, and it's time to evaluate it to determine just how well it performed.\n",
    "\n",
    "* Import `RegressionEvalutor` from pyspark.ml.evaluation [documentation](http://spark.apache.org/docs/2.4.3/api/python/pyspark.ml.html#pyspark.ml.evaluation.RegressionEvaluator)\n",
    "* Generate predictions with your model for the train and test set by using the `transform` method on your ALS model\n",
    "* Evaluate your model and print out the RMSE from your test set [options for evaluating regressors](http://spark.apache.org/docs/2.4.3/api/python/pyspark.ml.html#pyspark.ml.evaluation.RegressionEvaluator.metricName)"
   ]
  },
  {
   "cell_type": "code",
   "execution_count": 37,
   "metadata": {},
   "outputs": [],
   "source": [
    "train_predictions = als_model.transform(train_data)\n",
    "test_predictions = als_model.transform(test_data)"
   ]
  },
  {
   "cell_type": "code",
   "execution_count": 38,
   "metadata": {},
   "outputs": [
    {
     "data": {
      "text/plain": [
       "DataFrame[userId: int, movieId: int, rating: float, prediction: float]"
      ]
     },
     "execution_count": 38,
     "metadata": {},
     "output_type": "execute_result"
    }
   ],
   "source": [
    "train_predictions.persist()\n",
    "test_predictions.persist()"
   ]
  },
  {
   "cell_type": "code",
   "execution_count": 39,
   "metadata": {},
   "outputs": [
    {
     "name": "stdout",
     "output_type": "stream",
     "text": [
      "+------+-------+------+----------+\n",
      "|userId|movieId|rating|prediction|\n",
      "+------+-------+------+----------+\n",
      "|   191|    148|   5.0| 4.9399343|\n",
      "|   133|    471|   4.0| 3.3171768|\n",
      "|   597|    471|   2.0| 4.0303655|\n",
      "|   385|    471|   4.0|  3.662281|\n",
      "|    91|    471|   1.0| 2.2268791|\n",
      "+------+-------+------+----------+\n",
      "only showing top 5 rows\n",
      "\n"
     ]
    }
   ],
   "source": [
    "train_predictions.show(5)"
   ]
  },
  {
   "cell_type": "code",
   "execution_count": 40,
   "metadata": {},
   "outputs": [
    {
     "name": "stdout",
     "output_type": "stream",
     "text": [
      "+------+-------+------+----------+\n",
      "|userId|movieId|rating|prediction|\n",
      "+------+-------+------+----------+\n",
      "|   436|    471|   3.0| 3.3652458|\n",
      "|   602|    471|   4.0| 3.0683546|\n",
      "|   409|    471|   3.0| 3.3030767|\n",
      "|   218|    471|   4.0| 2.7493901|\n",
      "|   520|    471|   5.0| 3.6308029|\n",
      "+------+-------+------+----------+\n",
      "only showing top 5 rows\n",
      "\n"
     ]
    }
   ],
   "source": [
    "test_predictions.show(5)"
   ]
  },
  {
   "cell_type": "code",
   "execution_count": 42,
   "metadata": {},
   "outputs": [],
   "source": [
    "user_factors = als_model.userFactors"
   ]
  },
  {
   "cell_type": "code",
   "execution_count": 46,
   "metadata": {},
   "outputs": [
    {
     "name": "stdout",
     "output_type": "stream",
     "text": [
      "+---+--------------------+\n",
      "| id|            features|\n",
      "+---+--------------------+\n",
      "| 10|[-0.24594471, 0.6...|\n",
      "| 20|[0.37253463, -0.6...|\n",
      "| 30|[-0.57537425, -0....|\n",
      "| 40|[-0.42906234, -0....|\n",
      "| 50|[-0.03952579, -0....|\n",
      "+---+--------------------+\n",
      "only showing top 5 rows\n",
      "\n"
     ]
    }
   ],
   "source": [
    "user_factors.show(5)"
   ]
  },
  {
   "cell_type": "code",
   "execution_count": 44,
   "metadata": {},
   "outputs": [],
   "source": [
    "item_factors = als_model.itemFactors"
   ]
  },
  {
   "cell_type": "code",
   "execution_count": 47,
   "metadata": {},
   "outputs": [
    {
     "name": "stdout",
     "output_type": "stream",
     "text": [
      "+------+-------+------+----------+\n",
      "|userId|movieId|rating|prediction|\n",
      "+------+-------+------+----------+\n",
      "|   191|    148|   5.0| 4.9399343|\n",
      "|   133|    471|   4.0| 3.3171768|\n",
      "|   597|    471|   2.0| 4.0303655|\n",
      "|   385|    471|   4.0|  3.662281|\n",
      "|    91|    471|   1.0| 2.2268791|\n",
      "+------+-------+------+----------+\n",
      "only showing top 5 rows\n",
      "\n"
     ]
    }
   ],
   "source": [
    "train_predictions.show(5)"
   ]
  },
  {
   "cell_type": "code",
   "execution_count": 49,
   "metadata": {},
   "outputs": [
    {
     "data": {
      "text/plain": [
       "0.5654019178368366"
      ]
     },
     "execution_count": 49,
     "metadata": {},
     "output_type": "execute_result"
    }
   ],
   "source": [
    "evaluator = RegressionEvaluator(predictionCol='prediction', labelCol='rating')\n",
    "evaluator.evaluate(train_predictions)"
   ]
  },
  {
   "cell_type": "code",
   "execution_count": 50,
   "metadata": {},
   "outputs": [
    {
     "name": "stdout",
     "output_type": "stream",
     "text": [
      "+------+-------+------+----------+\n",
      "|userId|movieId|rating|prediction|\n",
      "+------+-------+------+----------+\n",
      "|   436|    471|   3.0| 3.3652458|\n",
      "|   602|    471|   4.0| 3.0683546|\n",
      "|   409|    471|   3.0| 3.3030767|\n",
      "|   218|    471|   4.0| 2.7493901|\n",
      "|   520|    471|   5.0| 3.6308029|\n",
      "+------+-------+------+----------+\n",
      "only showing top 5 rows\n",
      "\n"
     ]
    }
   ],
   "source": [
    "test_predictions.show(5)"
   ]
  },
  {
   "cell_type": "code",
   "execution_count": 51,
   "metadata": {},
   "outputs": [
    {
     "data": {
      "text/plain": [
       "nan"
      ]
     },
     "execution_count": 51,
     "metadata": {},
     "output_type": "execute_result"
    }
   ],
   "source": [
    "evaluator.evaluate(test_predictions)"
   ]
  },
  {
   "cell_type": "code",
   "execution_count": 52,
   "metadata": {},
   "outputs": [
    {
     "name": "stdout",
     "output_type": "stream",
     "text": [
      "+------+-------+------+----------+\n",
      "|userId|movieId|rating|prediction|\n",
      "+------+-------+------+----------+\n",
      "|   436|    471|   3.0| 3.3652458|\n",
      "|   602|    471|   4.0| 3.0683546|\n",
      "|   409|    471|   3.0| 3.3030767|\n",
      "|   218|    471|   4.0| 2.7493901|\n",
      "|   520|    471|   5.0| 3.6308029|\n",
      "|   216|    471|   3.0|  3.181619|\n",
      "|   492|    833|   4.0| 2.4571538|\n",
      "|   474|   1088|   3.5| 2.9498584|\n",
      "|   489|   1088|   4.5|  3.263337|\n",
      "|   286|   1088|   3.5| 3.4048371|\n",
      "|    51|   1088|   4.0| 3.6054924|\n",
      "|   600|   1088|   3.5| 2.2608473|\n",
      "|    19|   1238|   3.0| 3.0327106|\n",
      "|   223|   1342|   1.0| 1.7232274|\n",
      "|   593|   1580|   1.5| 2.9181647|\n",
      "|   597|   1580|   3.0|  3.943423|\n",
      "|    34|   1580|   2.5|  3.281466|\n",
      "|   233|   1580|   3.0| 2.8749175|\n",
      "|   355|   1580|   4.0| 3.8901284|\n",
      "|   603|   1580|   4.0| 2.9344745|\n",
      "|     1|   1580|   3.0|  4.332275|\n",
      "|   474|   1580|   4.5|  2.945593|\n",
      "|   283|   1580|   4.0| 3.2414956|\n",
      "|   579|   1580|   4.0|  4.003756|\n",
      "|   263|   1580|   3.0| 3.5929573|\n",
      "|   586|   1580|   5.0| 3.9214282|\n",
      "|   286|   1580|   3.0| 3.1430714|\n",
      "|   220|   1580|   5.0| 4.0052614|\n",
      "|     4|   1580|   3.0|  3.235238|\n",
      "|   495|   1580|   3.5| 4.2499504|\n",
      "|   244|   1580|   4.0| 3.6338959|\n",
      "|   391|   1580|   2.0| 2.8974104|\n",
      "|   543|   1580|   5.0| 4.6651897|\n",
      "|   234|   1580|   4.0| 3.8072844|\n",
      "|   264|   1580|   4.5| 3.4138753|\n",
      "|    63|   1580|   2.0| 3.4417331|\n",
      "|    82|   1580|   4.0| 3.3888047|\n",
      "|    62|   1580|   3.0|  3.851676|\n",
      "|   141|   1580|   3.5| 3.2753549|\n",
      "|   200|   1580|   4.0| 3.5057383|\n",
      "|   376|   1580|   4.0| 3.7508307|\n",
      "|    79|   1580|   4.0| 3.9421737|\n",
      "|   201|   1580|   4.0| 4.1148624|\n",
      "|   357|   1580|   3.5| 3.6449845|\n",
      "|    67|   1580|   4.0|  3.545177|\n",
      "|   186|   1580|   4.0| 4.1383243|\n",
      "|   483|   1580|   2.0| 3.3061235|\n",
      "|    93|   1591|   4.0| 3.3270235|\n",
      "|    51|   1591|   1.0|  3.599975|\n",
      "|    45|   1591|   4.0| 3.4271767|\n",
      "|   464|   1591|   1.0| 2.8020492|\n",
      "|   608|   1591|   3.0|   3.61924|\n",
      "|   298|   1591|   1.5| 2.4835281|\n",
      "|   198|   1591|   2.0| 1.8762792|\n",
      "|   332|   1645|   3.5| 3.1948137|\n",
      "|    91|   1645|   3.0|  3.474847|\n",
      "|   246|   1645|   4.0| 3.7511556|\n",
      "|   305|   1645|   2.5| 3.3405852|\n",
      "|   182|   1645|   4.5| 2.9956584|\n",
      "|   452|   1645|   4.0| 4.6051717|\n",
      "|    19|   1645|   2.0| 2.6094012|\n",
      "|   590|   1645|   3.0| 3.0152724|\n",
      "|   318|   1645|   3.0|   3.60364|\n",
      "|   448|   1645|   3.0| 2.8931613|\n",
      "|   160|   1645|   3.0| 3.4748597|\n",
      "|   199|   1645|   2.0| 2.7415433|\n",
      "|   113|   1829|   3.0|   3.23014|\n",
      "|   384|   1959|   4.0| 3.5701816|\n",
      "|   606|   1959|   3.5| 3.4460888|\n",
      "|   342|   1959|   3.0|  2.705865|\n",
      "|   138|   1959|   3.5| 3.4300795|\n",
      "|   307|   2122|   3.5| 1.8515047|\n",
      "|   288|   2122|   1.0| 2.0509107|\n",
      "|   332|   2366|   3.5| 3.7892091|\n",
      "|   348|   2366|   4.0|  4.478445|\n",
      "|   448|   2366|   5.0|   4.09212|\n",
      "|   345|   2366|   3.5| 4.2624884|\n",
      "|   508|   2366|   1.5| 2.1746674|\n",
      "|    28|   3175|   1.5| 2.7583582|\n",
      "|   452|   3175|   5.0| 4.7658176|\n",
      "|    64|   3175|   3.5| 3.9178128|\n",
      "|   489|   3175|   3.5| 3.3888187|\n",
      "|   590|   3175|   2.5| 3.4933448|\n",
      "|   381|   3175|   2.5| 3.3905435|\n",
      "|   555|   3175|   5.0|  4.075623|\n",
      "|   234|   3175|   4.0| 4.1184673|\n",
      "|   249|   3175|   3.0|  3.864048|\n",
      "|   141|   3175|   4.0| 3.1020236|\n",
      "|   275|   3175|   5.0| 4.5021853|\n",
      "|   555|   3918|   3.0| 2.8201046|\n",
      "|   274|   4519|   3.0| 3.0337806|\n",
      "|    20|   4519|   3.5| 3.3810892|\n",
      "|   387|   5156|   2.5|       NaN|\n",
      "|   474|   6357|   3.0| 2.7640991|\n",
      "|   474|   6466|   4.5| 3.4403152|\n",
      "|   462|   6466|   2.0|  2.630208|\n",
      "|   504|   6620|   3.0| 3.7603831|\n",
      "|   387|   6620|   2.5| 4.1186023|\n",
      "|   610|   6620|   4.0|  4.083498|\n",
      "|   287|   6620|   5.0| 4.0635724|\n",
      "|   600|   6620|   3.0| 3.0332847|\n",
      "|   474|   7340|   3.0|  2.435341|\n",
      "|   594|   7982|   0.5| 3.5390482|\n",
      "|   280|   8638|   4.5| 3.9783056|\n",
      "|   263|   8638|   4.5| 3.2996106|\n",
      "|   599|  31367|   2.0|       NaN|\n",
      "|    18|  32460|   3.5| 4.2160172|\n",
      "|   380|  36525|   3.0|   2.78511|\n",
      "|   143|  36525|   2.0| 1.6873436|\n",
      "|   580|  44022|   3.5|   3.46958|\n",
      "|   388|  44022|   4.5| 3.2948694|\n",
      "|   132|  44022|   2.0| 2.6713567|\n",
      "|   361|  44022|   4.0|  2.703025|\n",
      "|    50|  44022|   1.5| 2.1890416|\n",
      "|   249|  44022|   3.5| 3.5452676|\n",
      "|    68|  44022|   3.5| 2.9919775|\n",
      "|   111|  54190|   4.0| 4.1182866|\n",
      "|   414|  54190|   3.5|  3.791353|\n",
      "|   564|  68135|   4.0| 3.5565689|\n",
      "|   562|  68135|   3.5| 3.7942388|\n",
      "|    89|  76143|   4.5|       NaN|\n",
      "|   448| 141422|   2.5|       NaN|\n",
      "|   599| 153236|   3.0|       NaN|\n",
      "|   380| 166558|   3.0|       NaN|\n",
      "|   212| 175197|   3.5|       NaN|\n",
      "|     6|    243|   3.0|       NaN|\n",
      "|    19|    540|   1.0| 1.8652588|\n",
      "|    58|    540|   3.0| 3.0853457|\n",
      "|   373|    540|   3.0|  2.258812|\n",
      "|   269|    737|   3.0| 1.9371524|\n",
      "|   438|    737|   2.0| 2.9995742|\n",
      "|   211|    858|   4.5|  4.096663|\n",
      "|   497|    858|   4.0|  3.956396|\n",
      "|   412|    858|   5.0| 4.1484976|\n",
      "|   222|    858|   4.5| 3.6550598|\n",
      "|   122|    858|   5.0|  5.139566|\n",
      "|   132|    858|   3.0| 3.2462957|\n",
      "|   305|    858|   5.0| 4.3945856|\n",
      "|   603|    858|   5.0| 4.4472523|\n",
      "|   308|    858|   1.5| 1.6610632|\n",
      "|   328|    858|   5.0| 3.8249528|\n",
      "|   279|    858|   4.0|  4.412329|\n",
      "|   430|    858|   4.0| 4.3842983|\n",
      "|   324|    858|   4.0| 3.5713174|\n",
      "|   387|    858|   4.5|  4.112249|\n",
      "|   610|    858|   5.0| 4.8186264|\n",
      "|   307|    858|   4.5|  3.655241|\n",
      "|   494|    858|   5.0|  4.761827|\n",
      "|   241|    858|   4.5|  4.167028|\n",
      "|   520|    858|   2.0|  4.332437|\n",
      "|   247|    858|   4.0|   4.03847|\n",
      "|   343|    858|   3.0|  4.124484|\n",
      "|   585|    858|   5.0| 4.6338186|\n",
      "|   391|    858|   5.0| 4.2438545|\n",
      "|   166|    858|   4.5|  4.351635|\n",
      "|   400|    858|   5.0| 4.7386675|\n",
      "|    82|    858|   3.5|  3.349442|\n",
      "|   249|    858|   4.5| 4.4096794|\n",
      "|   510|    858|   4.5| 3.5476122|\n",
      "|   156|    858|   5.0|  4.342834|\n",
      "|   480|    858|   5.0|  4.218454|\n",
      "|   219|    858|   4.5|  4.142054|\n",
      "|    21|    858|   2.5| 3.2454064|\n",
      "|    98|    858|   3.0|  4.488366|\n",
      "|   141|    858|   2.5|  3.839532|\n",
      "|   354|    858|   4.0| 4.1474133|\n",
      "|   105|    858|   5.0|  4.291067|\n",
      "|   413|    858|   5.0|   4.07057|\n",
      "|   317|    858|   5.0| 4.3404245|\n",
      "|    42|    858|   5.0| 4.3366017|\n",
      "|   313|    858|   5.0|  4.196592|\n",
      "|   275|    858|   5.0| 4.7057204|\n",
      "|   282|    858|   5.0|  4.475705|\n",
      "|   274|   1025|   3.5| 3.5230477|\n",
      "|   171|   1025|   4.0| 4.2316484|\n",
      "|   395|   1025|   3.0| 3.2310462|\n",
      "|   414|   1025|   4.0| 3.8450685|\n",
      "|   590|   1084|   4.0| 3.6875014|\n",
      "|   290|   1084|   5.0|  4.092537|\n",
      "|   156|   1084|   5.0| 3.8448477|\n",
      "|    32|   1084|   4.0| 4.0522685|\n",
      "|   294|   1084|   4.0| 3.4120622|\n",
      "|   275|   1084|   5.0| 4.3952484|\n",
      "|   410|   1084|   4.0|  4.155824|\n",
      "|   315|   1084|   4.0| 3.1998005|\n",
      "|   372|   1127|   4.0| 3.4879901|\n",
      "|   140|   1127|   3.0| 3.3971975|\n",
      "|   266|   1127|   4.0| 3.2447693|\n",
      "|   590|   1127|   3.5| 3.4732087|\n",
      "|    82|   1127|   3.0| 3.2490377|\n",
      "|   480|   1127|   3.5| 3.2494287|\n",
      "|   345|   1127|   3.5| 3.9262595|\n",
      "|   414|   1127|   3.0| 3.5009255|\n",
      "|   303|   1127|   3.5| 3.9091692|\n",
      "|   573|   1127|   0.5|  4.260561|\n",
      "|   186|   1127|   4.0| 4.1531715|\n",
      "|   234|   1460|   3.0| 2.8959813|\n",
      "|   553|   1483|   5.0| 2.9133124|\n",
      "|   326|   1483|   3.5| 3.0689921|\n",
      "|   160|   1483|   5.0| 1.7219733|\n",
      "|   597|   1721|   4.0|  3.886507|\n",
      "|   108|   1721|   4.0|  3.597332|\n",
      "|    34|   1721|   0.5|  2.225079|\n",
      "|   115|   1721|   4.0|  2.913872|\n",
      "|    12|   1721|   5.0|  4.287685|\n",
      "|   223|   1721|   2.0|  3.097957|\n",
      "|   128|   1721|   4.0| 3.7401118|\n",
      "|   140|   1721|   4.0| 3.9807339|\n",
      "|   305|   1721|   3.5| 2.8600838|\n",
      "|   603|   1721|   3.0| 2.8622677|\n",
      "|    86|   1721|   3.5|  3.504013|\n",
      "|    41|   1721|   5.0| 2.1144204|\n",
      "|   489|   1721|   3.5| 3.2866988|\n",
      "|   381|   1721|   3.5|  3.385837|\n",
      "|   438|   1721|   3.0| 3.5057855|\n",
      "|   467|   1721|   4.0|  3.269919|\n",
      "|   113|   1721|   4.0| 3.2759054|\n",
      "|    21|   1721|   3.5| 3.1071508|\n",
      "|   352|   1721|   4.0| 3.5218835|\n",
      "|   272|   1721|   2.5| 3.4668736|\n",
      "|   376|   1721|   3.5|  3.974404|\n",
      "|   573|   1721|   1.5| 3.1552973|\n",
      "|    18|   1721|   4.0| 3.4852786|\n",
      "|   597|   2387|   4.0| 3.8558583|\n",
      "|   266|   2387|   4.0| 4.1601954|\n",
      "|   125|   2387|   4.5| 3.9299793|\n",
      "|   263|   2563|   5.0| 2.8661249|\n",
      "|    28|   2580|   3.5| 3.1819007|\n",
      "|    55|   2580|   2.5|  3.841592|\n",
      "|    51|   2580|   5.0|  4.636228|\n",
      "|   480|   2580|   2.5| 3.6117582|\n",
      "|   608|   2580|   4.0| 3.9370122|\n",
      "|   600|   2580|   3.0| 3.2334146|\n",
      "|   535|   2580|   3.0| 3.3272877|\n",
      "|   562|   2580|   4.5| 4.1808405|\n",
      "|   580|   3698|   3.5| 3.2525592|\n",
      "|   599|   3698|   3.0| 2.9337423|\n",
      "|   182|   3698|   4.0| 2.6604052|\n",
      "|   129|   3698|   4.0| 3.7471328|\n",
      "|   448|   3698|   2.0| 3.3389924|\n",
      "|   160|   3698|   4.0| 2.1435235|\n",
      "|   298|   3698|   2.5|  2.534111|\n",
      "|    68|   3698|   2.5| 2.9698725|\n",
      "|   480|   4158|   3.0| 2.4927506|\n",
      "|   287|   4158|   0.5|  1.969645|\n",
      "|   599|   4161|   2.0| 2.7238128|\n",
      "|   390|   4161|   3.0| 3.0783195|\n",
      "|   414|   4161|   3.0| 3.3879313|\n",
      "|   474|   4190|   4.0|  3.001279|\n",
      "|    45|   4929|   3.0| 2.4758482|\n",
      "|   414|   4929|   2.0| 2.5057638|\n",
      "|   560|   6773|   4.0| 3.4962206|\n",
      "|   480|   6773|   3.0| 3.3527298|\n",
      "|   477|   6773|   3.0| 3.9012957|\n",
      "|   414|   6773|   4.5| 3.7742884|\n",
      "|   260|   6773|   5.0| 3.9679112|\n",
      "|   346|   8928|   4.0| 3.4071405|\n",
      "|    65|  48780|   4.5|  4.094635|\n",
      "|   211|  48780|   4.0|  3.956004|\n",
      "|    28|  48780|   1.5| 3.4704065|\n",
      "|   601|  48780|   4.5|  4.506848|\n",
      "|   232|  48780|   4.5| 3.8999114|\n",
      "|   599|  48780|   3.0| 3.1365407|\n",
      "|   111|  48780|   4.0| 3.2875564|\n",
      "|   305|  48780|   3.0| 4.2628903|\n",
      "|   274|  48780|   3.5|  3.942598|\n",
      "|   570|  48780|   3.5| 3.6122937|\n",
      "|   309|  48780|   3.5| 3.4552903|\n",
      "|   505|  48780|   3.5|  4.890841|\n",
      "|   301|  48780|   5.0| 3.7676919|\n",
      "|   438|  48780|   4.0| 3.9878037|\n",
      "|   239|  48780|   4.0| 4.3581443|\n",
      "|   261|  48780|   4.5| 4.4415092|\n",
      "|   288|  48780|   3.5| 3.7966142|\n",
      "|   105|  48780|   5.0| 4.1730714|\n",
      "|   298|  48780|   2.0|  2.864552|\n",
      "|   561|  48780|   3.5| 3.8554468|\n",
      "|   184|  48780|   5.0|  4.237289|\n",
      "|   483|  48780|   5.0| 4.1305957|\n",
      "|   490|  50954|   1.0|0.69616336|\n",
      "|   563|  56941|   3.0| 3.6855226|\n",
      "|   232|  69481|   4.5| 3.6741703|\n",
      "|   139|  69481|   1.0| 2.6296215|\n",
      "|   339|  69481|   4.5|  3.930751|\n",
      "|   378|  69481|   4.0| 4.0130787|\n",
      "|   599|  92008|   3.0| 2.1403766|\n",
      "|   382| 101362|   3.5| 2.8321269|\n",
      "|   561| 101362|   2.0|  2.257452|\n",
      "|   125| 166635|   4.0| 3.4184377|\n",
      "|   362|     31|   4.0| 2.8638477|\n",
      "|    28|     31|   2.5| 2.5481374|\n",
      "|   159|     31|   3.5| 2.9520807|\n",
      "|     6|     31|   3.0| 3.9739137|\n",
      "|   479|     31|   3.0| 2.5719714|\n",
      "|   447|     31|   4.0| 3.7230375|\n",
      "|   387|     31|   2.5| 2.1381636|\n",
      "|   203|     31|   3.5| 3.6409636|\n",
      "|    68|     31|   3.5|  3.342518|\n",
      "|   483|     31|   2.0|  2.658785|\n",
      "|   217|    516|   2.0| 2.5255175|\n",
      "|   414|    516|   3.0| 2.9013042|\n",
      "|    31|   1270|   4.0|  4.501103|\n",
      "|   108|   1270|   5.0| 4.2903185|\n",
      "|   596|   1270|   4.0|  3.921608|\n",
      "|   332|   1270|   4.0| 3.9868484|\n",
      "|   606|   1270|   3.5| 3.9567556|\n",
      "|   122|   1270|   5.0|  4.782857|\n",
      "|   232|   1270|   3.0| 3.5944939|\n",
      "|   132|   1270|   3.5| 3.1949182|\n",
      "|   325|   1270|   4.0|  3.761444|\n",
      "|   452|   1270|   4.0| 4.8287244|\n",
      "|   231|   1270|   4.0| 3.3050077|\n",
      "|   387|   1270|   2.0| 3.3551042|\n",
      "|   381|   1270|   4.0|  3.800645|\n",
      "|   307|   1270|   4.0| 3.1360388|\n",
      "|   400|   1270|   4.0|  4.367157|\n",
      "|   524|   1270|   5.0| 3.7887332|\n",
      "|    82|   1270|   4.0| 3.3133936|\n",
      "|   249|   1270|   4.5|  4.184053|\n",
      "|   469|   1270|   3.0| 3.9530911|\n",
      "|   265|   1270|   5.0|  3.807665|\n",
      "|   200|   1270|   4.0|  4.044182|\n",
      "|   376|   1270|   4.5|  4.232151|\n",
      "|   254|   1270|   3.5| 4.0072207|\n",
      "|   344|   1270|   5.0|  4.688408|\n",
      "|   313|   1270|   2.0| 3.2128873|\n",
      "|   399|   1270|   5.0| 3.6111488|\n",
      "|   420|   1270|   3.5| 4.0535407|\n",
      "|    28|   1303|   3.0| 3.0403771|\n",
      "|   332|   1303|   4.5| 3.6322196|\n",
      "|   603|   1339|   4.0| 2.7660222|\n",
      "|    19|   1339|   2.0| 2.7453048|\n",
      "|    64|   1339|   3.5| 3.7676647|\n",
      "|   489|   1339|   5.0| 3.6974878|\n",
      "|   263|   1339|   3.0| 3.7981524|\n",
      "|   374|   1339|   3.0| 3.9655511|\n",
      "|   387|   1339|   4.0| 3.2933593|\n",
      "|   288|   1339|   2.0| 3.3036842|\n",
      "|   113|   1339|   4.0| 4.1724143|\n",
      "|    68|   1339|   2.0| 3.1610515|\n",
      "|   313|   1339|   4.0| 3.9424295|\n",
      "|   603|   1699|   5.0| 2.6342916|\n",
      "|   474|   2393|   3.5|  3.040703|\n",
      "|   586|   2393|   4.0|  3.963415|\n",
      "|   448|   2393|   4.0| 2.9673007|\n",
      "|   414|   2393|   3.0| 3.1174178|\n",
      "|   135|   2393|   2.0|  3.275275|\n",
      "|   131|   2393|   3.0| 2.4300778|\n",
      "|   603|   2572|   3.0| 1.8780571|\n",
      "|   542|   2572|   3.5| 4.2125406|\n",
      "|   484|   2572|   4.0| 4.1914654|\n",
      "|   564|   2572|   3.0|  3.959741|\n",
      "|   307|   2572|   0.5| 2.9628637|\n",
      "|   555|   2572|   3.0| 3.6527567|\n",
      "|   298|   2572|   2.5| 2.4379888|\n",
      "|   525|   2572|   4.0|  3.659748|\n",
      "|   600|   2572|   3.0| 3.1755311|\n",
      "|   158|   2572|   3.5|   3.45834|\n",
      "|   474|   3000|   4.0| 3.7511106|\n",
      "|   398|   3000|   5.0|  4.456712|\n",
      "|   381|   3000|   4.0| 4.0364356|\n",
      "|    39|   3000|   5.0| 4.1581182|\n",
      "|   520|   3000|   4.0|   4.50973|\n",
      "|   428|   3000|   2.5| 3.2671688|\n",
      "|    50|   3000|   3.5| 3.1566029|\n",
      "|    21|   3000|   0.5| 3.3467834|\n",
      "|   414|   3000|   5.0| 4.0096154|\n",
      "|   334|   3000|   3.5| 3.6802974|\n",
      "|   260|   3000|   3.5| 3.8219042|\n",
      "|   344|   3000|   4.5| 3.6346557|\n",
      "|   483|   3000|   5.0| 4.3826265|\n",
      "|   187|   3000|   4.0| 3.8104234|\n",
      "|   599|   3213|   2.5|  3.404635|\n",
      "|   274|   3213|   3.5| 4.1696043|\n",
      "|    39|   3213|   5.0|   4.02907|\n",
      "|   603|   3704|   2.0| 2.7435803|\n",
      "|   452|   3704|   5.0| 4.1675177|\n",
      "|    19|   3704|   2.0| 2.7813287|\n",
      "|   590|   3704|   2.5| 2.9664068|\n",
      "|   160|   3704|   4.0|  2.040129|\n",
      "|   313|   3704|   5.0| 2.8268247|\n",
      "|   367|   4489|   4.0| 3.4377513|\n",
      "|   249|   4489|   3.5| 3.8783264|\n",
      "|   226|   4489|   4.0| 3.6474538|\n",
      "|   275|   4489|   4.0| 3.7587185|\n",
      "|   414|   5071|   4.0|       NaN|\n",
      "|   387|   5984|   4.0|  2.415122|\n",
      "|   169|   6266|   4.0| 3.7636714|\n",
      "|   274|   6482|   1.5| 2.2098088|\n",
      "|   219|   6482|   0.5| 1.8706462|\n",
      "|   330|   7387|   5.0| 3.3988228|\n",
      "|   305|   7387|   4.5|  4.376607|\n",
      "|   387|   7387|   3.5| 3.5648072|\n",
      "|    64|  27266|   4.5| 4.1285343|\n",
      "|   318|  27266|   3.5| 3.8799858|\n",
      "|   448|  50792|   2.5| 1.6663213|\n",
      "|   307|  55272|   4.0|  2.491095|\n",
      "|   414|  55363|   3.0| 4.1508284|\n",
      "|    74|  55363|   4.0| 4.5498867|\n",
      "|   599|  56022|   2.0|       NaN|\n",
      "|    10|  61250|   2.5| 2.6568308|\n",
      "|   143|  61250|   3.5| 2.9969428|\n",
      "|   414|  61250|   2.0| 2.2244327|\n",
      "|    68|  67618|   5.0|       NaN|\n",
      "|    18|  74948|   4.0|   3.01277|\n",
      "|   282|  80906|   4.5| 4.5419664|\n",
      "|   222|  82459|   3.5| 3.3038323|\n",
      "|   232|  82459|   4.5| 4.0507817|\n",
      "|   599|  82459|   3.0| 3.1716397|\n",
      "|   249|  82459|   4.5| 4.2365403|\n",
      "|   414|  82459|   4.5|  4.135064|\n",
      "|    68|  82459|   3.5|  3.687881|\n",
      "|   517|  82459|   1.0| 2.1756887|\n",
      "|   365| 135137|   3.0| 2.4973185|\n",
      "|   599| 172253|   3.0|       NaN|\n",
      "|   191|     85|   5.0| 2.5946584|\n",
      "|   609|    137|   3.0|       NaN|\n",
      "|    91|    251|   2.5|  2.576419|\n",
      "|    27|    808|   4.0|   2.58552|\n",
      "|   159|   1265|   4.5| 2.8724394|\n",
      "|    91|   1265|   4.0| 3.8478312|\n",
      "|   409|   1265|   4.0|  4.172062|\n",
      "|    93|   1265|   5.0| 4.6077843|\n",
      "|   367|   1265|   4.0|  3.841751|\n",
      "|    47|   1265|   2.0| 2.7126396|\n",
      "|   140|   1265|   3.0| 3.4736187|\n",
      "|   182|   1265|   4.5| 3.7557554|\n",
      "|    86|   1265|   4.0| 4.0124083|\n",
      "|   500|   1265|   3.0| 4.1446605|\n",
      "|   479|   1265|   5.0|  3.920889|\n",
      "|   452|   1265|   5.0|  4.945606|\n",
      "|    19|   1265|   4.0| 3.4029555|\n",
      "|   309|   1265|   4.5|  3.735924|\n",
      "|   381|   1265|   3.5| 3.5454926|\n",
      "|   217|   1265|   3.0| 3.2516065|\n",
      "|   307|   1265|   3.0| 3.1668074|\n",
      "|   241|   1265|   3.0|  3.904252|\n",
      "|   438|   1265|   4.0|   3.92666|\n",
      "|   167|   1265|   3.0| 3.7605817|\n",
      "|   356|   1265|   4.0| 4.3166094|\n",
      "|   160|   1265|   2.0| 3.2086735|\n",
      "|   221|   1265|   4.0| 4.2474446|\n",
      "|   151|   1265|   5.0|  3.752431|\n",
      "|   561|   1265|   4.5| 3.9860563|\n",
      "|   199|   1265|   4.0| 3.7261672|\n",
      "|    66|   1265|   3.5|  4.356771|\n",
      "|   282|   1265|   4.5| 3.9843974|\n",
      "|   517|   1265|   3.0| 2.3188844|\n",
      "|   580|   1884|   5.0| 3.5933347|\n",
      "|   606|   1884|   4.0| 3.7887251|\n",
      "|   233|   1884|   3.0| 3.2566862|\n",
      "|   599|   1884|   4.0| 3.0498571|\n",
      "|   274|   1884|   4.0| 3.9770107|\n",
      "|    57|   1884|   2.0| 3.2159734|\n",
      "|    41|   1884|   3.0| 2.5533776|\n",
      "|   453|   1884|   4.0| 4.0037494|\n",
      "|    73|   1884|   3.5| 3.3059032|\n",
      "|   226|   1884|   3.5| 4.1150994|\n",
      "|   390|   1884|   4.5| 3.9356275|\n",
      "|   414|   1884|   4.0| 3.6694992|\n",
      "|    68|   1884|   2.5| 3.5289335|\n",
      "|   317|   1884|   5.0|  4.003171|\n",
      "|   294|   1884|   5.0| 3.5364096|\n",
      "|   274|   1975|   2.5| 2.4636104|\n",
      "|    42|   1975|   2.0| 3.3896992|\n",
      "|   182|   2025|   3.5| 3.0317445|\n",
      "|   503|   2025|   4.5| 3.3877687|\n",
      "|   390|   2025|   4.0| 2.8988926|\n",
      "|   268|   2231|   3.0| 2.9304738|\n",
      "|   217|   2231|   4.0|  3.008191|\n",
      "|   249|   2231|   3.5|  4.005942|\n",
      "|   510|   2231|   3.5|  2.650746|\n",
      "|   167|   2231|   4.5|  3.339881|\n",
      "|   608|   2231|   5.0|  3.707978|\n",
      "|   369|   2231|   3.0| 3.4271193|\n",
      "|   483|   2231|   4.0| 3.8268945|\n",
      "|   516|   2259|   3.0|  2.406679|\n",
      "|   597|   2259|   5.0| 2.8764434|\n",
      "|   603|   2488|   5.0| 3.4319675|\n",
      "|   594|   2488|   0.5|   2.53056|\n",
      "|   217|   2525|   3.0| 1.1859446|\n",
      "|   555|   2748|   1.0| 2.2580154|\n",
      "|   294|   2748|   2.0| 1.7457902|\n",
      "|   462|   3089|   4.5| 3.7992117|\n",
      "|   610|   3089|   3.0|  4.098975|\n",
      "|    74|   3089|   5.0|  4.536131|\n",
      "|   479|   3098|   4.0| 3.7601068|\n",
      "|   590|   3098|   3.5| 3.5136626|\n",
      "|   288|   3098|   3.0| 3.5555577|\n",
      "|   182|   3986|   2.0| 1.7934377|\n",
      "|    20|   3986|   2.5| 2.3045604|\n",
      "|   380|   3986|   3.0| 3.6278667|\n",
      "|   216|   3986|   2.0| 1.9971144|\n",
      "|   351|   3986|   4.0| 2.1937063|\n",
      "|   422|   3986|   2.0| 2.6041336|\n",
      "|   305|   4239|   3.5|  3.959377|\n",
      "|   288|   4239|   3.0|  3.618717|\n",
      "|   608|   4239|   4.0|  3.843249|\n",
      "|    68|   4239|   4.0| 3.3276434|\n",
      "|   282|   4239|   5.0| 3.8698034|\n",
      "|    64|   5308|   3.0|  3.100562|\n",
      "|   175|   8911|   5.0|       NaN|\n",
      "|   580|  33437|   5.0| 3.6058168|\n",
      "|   425|  33615|   3.0| 3.4187064|\n",
      "|   489|  33615|   4.0| 2.5467362|\n",
      "|   509|  33615|   2.0| 3.1299326|\n",
      "|   382|  33615|   3.0| 3.5527253|\n",
      "|   104|  33615|   3.0| 3.4290512|\n",
      "|   517|  33615|   2.0| 1.9071219|\n",
      "|   610|  34450|   4.5|       NaN|\n",
      "|   177|  51086|   2.0| 2.9454374|\n",
      "|    62|  51086|   3.5| 3.1996267|\n",
      "|   306|  76293|   3.5| 2.6454978|\n",
      "|    73|  76293|   3.5|  2.841581|\n",
      "|   339|  83613|   3.0| 2.6612864|\n",
      "|   448|  83613|   1.5|  2.687205|\n",
      "|   103|  91653|   3.5| 3.7966177|\n",
      "|   599|  91653|   2.5|   2.88049|\n",
      "|   105| 101088|   4.0| 2.9547112|\n",
      "|   210| 123553|   1.0|       NaN|\n",
      "|   596| 150548|   3.5| 3.7609367|\n",
      "|   523| 150548|   5.0|  4.719221|\n",
      "|   105| 150548|   5.0|  3.642438|\n",
      "|    44|     65|   3.0| 2.7823696|\n",
      "|   274|     65|   3.0| 2.8446577|\n",
      "|   217|     65|   1.0| 1.9276447|\n",
      "|   555|     65|   3.0| 2.6101923|\n",
      "|   448|     65|   1.0| 1.6676737|\n",
      "|   234|     65|   3.0| 2.5556734|\n",
      "|   389|     65|   4.0|  2.761097|\n",
      "|   414|     65|   2.0| 2.4356942|\n",
      "|    68|     65|   1.5|  2.944059|\n",
      "|   599|    458|   2.0| 2.0336635|\n",
      "|   414|    458|   3.0| 2.5854387|\n",
      "|    16|   1223|   4.0| 3.9784324|\n",
      "|   263|   1223|   5.0| 3.9688027|\n",
      "|   546|   1977|   4.0| 2.0445435|\n",
      "|   599|   2096|   2.5| 2.6272728|\n",
      "|    20|   2096|   4.0| 3.7238593|\n",
      "|   554|   2096|   4.0| 3.8867908|\n",
      "|   517|   2096|   4.0| 2.0212417|\n",
      "|   266|   2249|   2.0| 3.2338264|\n",
      "|   414|   2249|   3.0| 3.3000207|\n",
      "|   201|   2249|   3.0|  3.643143|\n",
      "|   157|   2392|   3.0|  1.824366|\n",
      "|   287|   2392|   0.5| 1.2048329|\n",
      "|   587|   2622|   3.0| 3.6032884|\n",
      "|   474|   2622|   3.0|  3.032092|\n",
      "|    19|   2622|   3.0| 2.2114964|\n",
      "|   104|   2622|   3.0| 3.1467466|\n",
      "|   414|   3425|   3.0|  3.440637|\n",
      "|    79|   3425|   4.0| 3.8716626|\n",
      "|   474|   3566|   4.5| 2.7972903|\n",
      "|   244|   3566|   1.0|  3.477805|\n",
      "|   368|   4000|   3.0| 2.4005032|\n",
      "|   560|   4383|   4.0| 3.1993632|\n",
      "|   312|   5433|   3.0|  2.465414|\n",
      "|   462|   6301|   3.5| 3.4698668|\n",
      "|    74|   6301|   4.0| 3.9599128|\n",
      "|    28|   6934|   3.5| 2.7080753|\n",
      "|   232|   6934|   3.0| 3.5703983|\n",
      "|   246|   6934|   5.0|  3.305535|\n",
      "|   177|   6934|   1.5| 3.0345092|\n",
      "|   132|   6934|   3.0| 2.4348786|\n",
      "|   139|   6934|   2.0| 1.9011328|\n",
      "|   428|   6934|   3.0| 2.4221046|\n",
      "|    63|   6934|   3.0|  2.798909|\n",
      "|    80|   6934|   4.5| 4.0862017|\n",
      "|   226|   6934|   2.5| 2.6338248|\n",
      "|   464|   6934|   4.0|  3.385673|\n",
      "|   414|   6934|   4.0| 2.9910188|\n",
      "|   420|   6934|   3.5| 3.1342466|\n",
      "|   307|   7324|   3.0| 2.8946202|\n",
      "|   288|   7324|   3.0|  2.961059|\n",
      "|    28|   8665|   3.5| 2.9940937|\n",
      "|    52|   8665|   5.0|  4.330726|\n",
      "|   474|   8665|   3.5| 3.6205876|\n",
      "|   169|   8665|   3.5| 4.5052032|\n",
      "|   381|   8665|   4.0| 3.9297583|\n",
      "|   220|   8665|   4.0| 4.2573075|\n",
      "|   438|   8665|   3.5| 3.8669624|\n",
      "|   167|   8665|   3.5|  3.304158|\n",
      "|   288|   8665|   3.5|  3.325593|\n",
      "|    80|   8665|   5.0| 4.3468266|\n",
      "|   200|   8665|   4.0| 3.9169245|\n",
      "|   105|   8665|   3.5|   4.13477|\n",
      "|   282|   8665|   4.0| 4.0199385|\n",
      "|   233|  27803|   3.0| 3.7488306|\n",
      "|   474|  27803|   3.0| 4.0508914|\n",
      "|     7|  32296|   2.0| 1.5621793|\n",
      "|    21|  32296|   3.5| 2.2979972|\n",
      "|   382|  32296|   1.0|  2.592241|\n",
      "|   414|  46974|   3.0| 2.7118495|\n",
      "|   414|  52712|   3.5|  2.404047|\n",
      "|   318|  65037|   3.5|       NaN|\n",
      "|    68|  76751|   3.0|       NaN|\n",
      "|   610|  81132|   4.0| 2.7717686|\n",
      "|   111| 101142|   3.5|  3.829357|\n",
      "|   380| 104241|   4.0| 3.6640213|\n",
      "|    18| 104241|   3.0| 3.3769886|\n",
      "|   122| 108932|   4.5| 4.4776683|\n",
      "|   448| 108932|   4.0| 3.8619652|\n",
      "|    63| 108932|   5.0|  3.634815|\n",
      "|   534| 108932|   4.0|  3.370231|\n",
      "|   561| 108932|   3.5| 3.2934086|\n",
      "|    30| 108932|   4.0| 4.3109956|\n",
      "|   610| 110281|   4.0|       NaN|\n",
      "|   610| 130050|   3.0|       NaN|\n",
      "|   249| 146210|   3.0|       NaN|\n",
      "|   462| 152711|   5.0|       NaN|\n",
      "|   105| 173963|   5.0|       NaN|\n",
      "|    66|    255|   0.5| 1.9807785|\n",
      "|    28|    481|   3.0| 2.8811066|\n",
      "|   602|    481|   3.0| 3.1160972|\n",
      "|   489|    481|   1.5|  2.452091|\n",
      "|   503|    481|   4.0| 2.8143191|\n",
      "|    66|    481|   2.0| 3.5696793|\n",
      "|   137|    588|   4.0| 3.4226165|\n",
      "|   115|    588|   4.0| 3.6636434|\n",
      "|   126|    588|   3.0|  3.498338|\n",
      "|    81|    588|   2.0| 2.7249074|\n",
      "|   436|    588|   3.0| 3.5630577|\n",
      "|    91|    588|   3.5|  2.995649|\n",
      "|   476|    588|   5.0| 3.9938378|\n",
      "|    52|    588|   5.0| 4.2612877|\n",
      "|     6|    588|   5.0| 3.9250326|\n",
      "|    40|    588|   4.0|  4.081179|\n",
      "|    57|    588|   4.0| 3.7049768|\n",
      "|   292|    588|   4.0| 3.6666703|\n",
      "|    64|    588|   4.0|   3.76435|\n",
      "|   117|    588|   4.0| 3.5170078|\n",
      "|   425|    588|   3.0|   3.46594|\n",
      "|   447|    588|   5.0| 3.8102705|\n",
      "|   489|    588|   3.5| 3.6288111|\n",
      "|   374|    588|   3.0| 3.4595973|\n",
      "|   130|    588|   2.0| 3.1934383|\n",
      "|   395|    588|   2.0|  3.118961|\n",
      "|   527|    588|   5.0| 4.3104625|\n",
      "|   394|    588|   2.0| 2.9020112|\n",
      "|   219|    588|   4.5|  3.074284|\n",
      "|    21|    588|   4.0| 3.2778418|\n",
      "|   592|    588|   5.0|  4.104145|\n",
      "|   534|    588|   4.5| 3.8505332|\n",
      "|   170|    588|   3.0| 3.5548682|\n",
      "|   284|    588|   5.0| 4.2941103|\n",
      "|   294|    588|   3.0|  2.963509|\n",
      "|    99|    588|   5.0| 4.7258615|\n",
      "|   186|    588|   5.0| 4.1504726|\n",
      "|   104|    588|   4.0| 3.9616053|\n",
      "|   350|    799|   3.0|  2.754763|\n",
      "|   599|    799|   2.5| 2.9841075|\n",
      "|   492|    799|   4.0|  3.150471|\n",
      "|   412|    898|   5.0|  4.454802|\n",
      "|   606|    898|   5.0| 4.1381226|\n",
      "|   474|    898|   4.0|  4.107469|\n",
      "|     4|    898|   5.0|  4.099778|\n",
      "|   156|    898|   5.0|  4.026399|\n",
      "|   508|    898|   2.0|  2.127423|\n",
      "|    11|   2027|   3.0| 1.4451864|\n",
      "|   294|   2027|   1.0| 1.0726455|\n",
      "|   597|   2247|   4.0| 3.7467084|\n",
      "|   387|   2247|   3.0| 2.5976934|\n",
      "|   307|   2559|   3.0|       NaN|\n",
      "|   597|   2802|   3.0| 3.5690112|\n",
      "|   603|   2802|   3.0| 3.0265622|\n",
      "|    57|   2802|   3.0|  3.216323|\n",
      "|   217|   2802|   2.0| 2.6078224|\n",
      "|   474|   3105|   3.5|  3.633725|\n",
      "|    57|   3105|   4.0| 3.1663625|\n",
      "|   202|   3105|   4.0|  3.690206|\n",
      "|   561|   3105|   4.0| 3.2916942|\n",
      "|   474|   4477|   1.0| 1.6252724|\n",
      "|   226|   4477|   2.5|  2.111734|\n",
      "|   182|   5110|   4.0| 3.2651987|\n",
      "|   318|   5110|   4.0|  3.683627|\n",
      "|   474|   5527|   4.0| 3.2691433|\n",
      "|    28|   5995|   3.0|  3.050869|\n",
      "|   606|   5995|   4.5|  4.312176|\n",
      "|   233|   5995|   4.0|  3.800417|\n",
      "|   249|   5995|   3.5|  4.220903|\n",
      "|    70|   5995|   4.0| 4.7710056|\n",
      "|   464|   5995|   4.0| 4.4620643|\n",
      "|   352|   5995|   5.0|  4.204342|\n",
      "|   204|   5995|   4.0| 3.9553618|\n",
      "|    18|   5995|   4.5| 4.2349467|\n",
      "|   599|   6722|   2.5|       NaN|\n",
      "|   232|  67734|   4.0| 3.3854103|\n",
      "|   318|  67734|   4.0| 3.5350375|\n",
      "|   249|  67734|   2.5| 3.6784432|\n",
      "|   414|  67734|   4.0|  3.450922|\n",
      "|    41|  70293|   3.0| 2.2926536|\n",
      "|   563|  70293|   3.5| 3.2393665|\n",
      "|   489|  70293|   3.0| 3.4106257|\n",
      "|   505|  70293|   2.0|  3.902032|\n",
      "|   563|  70932|   2.0|       NaN|\n",
      "|   432|  71902|   3.5|       NaN|\n",
      "|    50|  92427|   1.0|       NaN|\n",
      "|   365| 107997|   1.5| 1.5521791|\n",
      "|   371| 110127|   5.0|  3.143674|\n",
      "|   300| 112183|   4.0| 4.1526585|\n",
      "|   119| 112183|   3.0| 3.1702545|\n",
      "|    89| 171811|   4.0|       NaN|\n",
      "|   540|    296|   5.0| 4.3940816|\n",
      "|   368|    296|   5.0| 3.7029743|\n",
      "|   115|    296|   5.0|  4.363401|\n",
      "|   384|    296|   5.0| 3.8575242|\n",
      "|   192|    296|   3.0| 3.6199884|\n",
      "|   222|    296|   4.0| 3.5902507|\n",
      "|   285|    296|   4.0| 4.4662366|\n",
      "|   233|    296|   4.0| 3.8155813|\n",
      "|   346|    296|   3.5| 4.1132503|\n",
      "|   353|    296|   5.0| 4.1638355|\n",
      "|   603|    296|   5.0|  4.240546|\n",
      "|   512|    296|   5.0| 4.5401354|\n",
      "|   470|    296|   3.0| 3.5369036|\n",
      "|   402|    296|   5.0| 3.6892521|\n",
      "|   432|    296|   2.5| 3.9460416|\n",
      "|   235|    296|   4.0| 3.9967732|\n",
      "|     5|    296|   5.0| 3.7223775|\n",
      "|   191|    296|   5.0| 4.4429364|\n",
      "|   542|    296|   3.5| 3.7141366|\n",
      "|   560|    296|   4.0|  4.130477|\n",
      "|    41|    296|   5.0| 3.7090447|\n",
      "|    43|    296|   3.0| 4.1110106|\n",
      "|   262|    296|   3.0| 3.4014733|\n",
      "|   197|    296|   5.0| 4.1152253|\n",
      "|   609|    296|   4.0| 3.7830806|\n",
      "|   441|    296|   5.0| 4.2278028|\n",
      "|   229|    296|   5.0| 4.1223793|\n",
      "|   326|    296|   4.0|     4.402|\n",
      "|   220|    296|   5.0| 4.2287364|\n",
      "|     8|    296|   4.0| 4.0999436|\n",
      "|   555|    296|   4.0| 4.4936895|\n",
      "|   162|    296|   3.0| 4.2374287|\n",
      "|   514|    296|   4.0| 3.9200559|\n",
      "|   130|    296|   4.0| 3.8526297|\n",
      "|   314|    296|   1.0| 3.3922253|\n",
      "|   171|    296|   5.0| 5.2958636|\n",
      "|   273|    296|   4.0| 4.5839157|\n",
      "|   391|    296|   5.0| 4.1463976|\n",
      "|   166|    296|   4.5|  4.361442|\n",
      "|   509|    296|   3.5|   3.60048|\n",
      "|    50|    296|   4.0| 3.4241748|\n",
      "|   569|    296|   5.0| 3.1443172|\n",
      "|   249|    296|   4.0| 4.4120374|\n",
      "|   427|    296|   4.5| 4.1674314|\n",
      "|   125|    296|   4.5|  4.386899|\n",
      "|   464|    296|   4.5| 4.3653073|\n",
      "|   528|    296|   4.0|  3.916733|\n",
      "|   323|    296|   4.0| 3.4565246|\n",
      "|   145|    296|   4.0| 3.6967955|\n",
      "|   200|    296|   5.0| 4.0467687|\n",
      "|    56|    296|   4.0| 4.0845847|\n",
      "|   426|    296|   3.5| 2.6875057|\n",
      "|   354|    296|   4.5| 4.0692506|\n",
      "|   298|    296|   4.5| 3.5016148|\n",
      "|   204|    296|   4.5| 4.5433016|\n",
      "|   317|    296|   5.0| 4.3832145|\n",
      "|   379|    296|   2.0|  3.472419|\n",
      "|   199|    296|   4.0| 3.8520207|\n",
      "|   242|    296|   5.0|  4.336918|\n",
      "|   284|    296|   4.0| 3.9069757|\n",
      "|   357|    296|   4.5| 4.3369565|\n",
      "|   573|    296|   5.0|  4.677792|\n",
      "|    74|    296|   5.0|   4.54828|\n",
      "|   584|    296|   3.0|  3.676641|\n",
      "|   217|    472|   3.0| 2.2321424|\n",
      "|   474|   1466|   4.0|  3.508675|\n",
      "|   531|   1466|   4.0|  3.281808|\n",
      "|   555|   1466|   4.0| 3.9338143|\n",
      "|   166|   1466|   4.0| 4.0529656|\n",
      "|   356|   1466|   4.0| 4.0081167|\n",
      "|   414|   1466|   3.0| 3.9316168|\n",
      "|   105|   1466|   4.5|  4.077409|\n",
      "|   298|   1466|   2.0| 2.6091118|\n",
      "|   275|   1466|   3.0|  3.777672|\n",
      "|    68|   1888|   2.0| 2.1781085|\n",
      "|   288|   2035|   3.0|  2.888061|\n",
      "|   211|   2542|   4.5| 4.0972457|\n",
      "|   412|   2542|   4.0|  3.684494|\n",
      "|   236|   2542|   5.0|  4.703212|\n",
      "|    91|   2542|   4.5| 4.0269613|\n",
      "|   553|   2542|   5.0|  4.494227|\n",
      "|   554|   2542|   5.0|  4.409973|\n",
      "|   434|   2542|   3.5| 3.9098554|\n",
      "|   356|   2542|   4.0|   4.19119|\n",
      "|   608|   2542|   4.0| 4.1607156|\n",
      "|   254|   2542|   4.5|  4.083084|\n",
      "|    33|   2542|   4.0|  3.942825|\n",
      "|    68|   2542|   1.0| 3.6945386|\n",
      "|   199|   2542|   3.0|  3.342569|\n",
      "|   522|   2542|   4.5| 4.1938252|\n",
      "|   483|   2542|   5.0|  4.113633|\n",
      "|   217|   2874|   3.0|  2.787245|\n",
      "|   182|   3062|   4.0|  3.785143|\n",
      "|    79|   3062|   4.0| 4.2508764|\n",
      "|   318|   3306|   3.5| 3.8502612|\n",
      "|   105|   3306|   4.5| 4.0586977|\n",
      "|   325|   4291|   3.0| 1.8327954|\n",
      "|   514|   4291|   2.0| 2.4589481|\n",
      "|    51|   4291|   2.0| 2.4896882|\n",
      "|   275|   4291|   5.0|  2.555325|\n",
      "|   448|   4396|   5.0| 2.5819073|\n",
      "|   414|   4396|   3.0| 2.6887228|\n",
      "|   414|   4583|   4.0|       NaN|\n",
      "|   318|   4612|   4.5|       NaN|\n",
      "|   603|   4799|   4.0| 1.6286827|\n",
      "|   169|   4799|   4.0| 2.8619976|\n",
      "|   387|   4799|   2.5| 1.7086805|\n",
      "|   520|   4799|   3.0| 2.6911483|\n",
      "|   448|   4799|   5.0| 1.6758342|\n",
      "|   527|   4799|   3.0|  3.262844|\n",
      "|   221|   4799|   3.5| 1.9713323|\n",
      "|   387|   7206|   4.0| 3.6865366|\n",
      "|   474|   8482|   3.5|0.25070688|\n",
      "|   438|   8640|   3.0| 2.9646945|\n",
      "|   249|   8640|   3.5| 3.4154754|\n",
      "|   103|   8950|   4.5|  4.136776|\n",
      "|   111|   8950|   3.0|  3.372784|\n",
      "|   279|   8950|   3.5| 3.8218632|\n",
      "|    88|   8950|   5.0|  4.170026|\n",
      "|   610|   8950|   4.5| 4.2559123|\n",
      "|   380|   8950|   4.0| 4.1231456|\n",
      "|   247|   8950|   5.0| 3.6684659|\n",
      "|   351|   8950|   4.0| 3.8418791|\n",
      "|   414|   8950|   4.5| 3.9346373|\n",
      "|   561|   8950|   3.5|  3.485691|\n",
      "|    18|   8950|   4.0| 3.8670044|\n",
      "|   414|     78|   3.0| 2.8425822|\n",
      "|   372|    322|   4.0| 2.8300738|\n",
      "|   599|    322|   3.5|  3.124632|\n",
      "|   500|    322|   4.0| 3.3572454|\n",
      "|   474|    513|   3.5| 2.8922052|\n",
      "|   217|    513|   3.0| 2.8561854|\n",
      "|   177|    918|   4.0| 4.4078536|\n",
      "|   290|    918|   5.0|   4.02715|\n",
      "|   104|    918|   3.5| 4.4039445|\n",
      "|   274|   1005|   3.5| 1.5857693|\n",
      "|   226|   1005|   3.0| 1.7044724|\n",
      "|   294|   1005|   1.0| 1.4463456|\n",
      "|   587|   2396|   5.0|  4.125368|\n",
      "|   185|   2396|   4.0| 3.5862908|\n",
      "|   363|   2396|   3.0| 2.9894319|\n",
      "|    57|   2396|   5.0|  3.533139|\n",
      "|    96|   2396|   4.0| 3.7834988|\n",
      "|    19|   2396|   4.0| 2.9240124|\n",
      "|    64|   2396|   4.0| 4.0225744|\n",
      "|   227|   2396|   4.0| 3.8777637|\n",
      "|   579|   2396|   5.0|  3.876661|\n",
      "|   554|   2396|   5.0| 3.4283051|\n",
      "|   489|   2396|   2.5| 3.3621597|\n",
      "|   462|   2396|   0.5| 2.9593685|\n",
      "|   217|   2396|   2.0|  3.242668|\n",
      "|   290|   2396|   4.0| 4.1797905|\n",
      "|   129|   2396|   4.0| 3.9810336|\n",
      "|   595|   2396|   5.0| 3.9510787|\n",
      "|   469|   2396|   4.0|  3.673341|\n",
      "|   144|   2396|   3.5| 3.5181968|\n",
      "|   555|   3577|   3.0| 0.6755811|\n",
      "|   332|   3703|   4.0| 3.5058165|\n",
      "|   452|   3703|   5.0| 4.6770334|\n",
      "|   320|   3703|   3.0| 3.4980478|\n",
      "|   382|   3703|   5.0| 3.7900815|\n",
      "|   414|   3703|   4.0| 3.8431969|\n",
      "|   453|   4167|   5.0| 3.3268495|\n",
      "|    91|   4624|   3.0| 2.4859812|\n",
      "|   307|   4697|   1.5| 1.6255798|\n",
      "|    74|   5867|   4.0| 3.9467282|\n",
      "|   204|   5949|   5.0|  3.331399|\n",
      "|   519|   6378|   4.0| 4.1920714|\n",
      "|   432|   6378|   4.5| 3.3997734|\n",
      "|   381|   6378|   4.5| 3.6690536|\n",
      "|   438|   6378|   4.0| 3.6479616|\n",
      "|   288|   6378|   3.5|  3.279959|\n",
      "|   200|   6378|   4.0| 3.8860667|\n",
      "|   561|   6378|   2.0| 3.2687633|\n",
      "|    18|   6378|   3.0| 3.6467586|\n",
      "|   474|   9018|   4.0| 3.9384246|\n",
      "|    89|  25887|   5.0|       NaN|\n",
      "|   305|  31364|   4.0|  4.739537|\n",
      "|   274|  33132|   1.5|       NaN|\n",
      "|   606|  41285|   4.0| 3.6056118|\n",
      "|   177|  41285|   4.0|  3.309665|\n",
      "|    41|  41285|   4.0| 2.9328718|\n",
      "|    68|  48342|   3.0|  3.427149|\n",
      "|   274|  53127|   4.0| 1.3454695|\n",
      "|   111|  62434|   3.5| 3.6331453|\n",
      "|   356|  62434|   5.0| 3.7060823|\n",
      "|    73|  62434|   4.0| 3.1574426|\n",
      "|   298|  62434|   1.5| 1.7088064|\n",
      "|   159|  68954|   3.0| 3.2291563|\n",
      "|   222|  68954|   2.5|  3.514671|\n",
      "|    22|  68954|   2.0| 2.5976338|\n",
      "|   539|  68954|   5.0| 4.4319615|\n",
      "|   435|  68954|   4.0|  4.387921|\n",
      "|   292|  68954|   4.0| 3.7735531|\n",
      "|   189|  68954|   4.5| 3.8808331|\n",
      "|   127|  68954|   0.5| 3.6031919|\n",
      "|   448|  68954|   3.0| 3.5536263|\n",
      "|   509|  68954|   3.5| 3.8173456|\n",
      "|   249|  68954|   3.5|  4.312952|\n",
      "|    73|  68954|   4.0|  4.789647|\n",
      "|   352|  68954|   4.0| 4.0742855|\n",
      "|   382|  68954|   4.5| 4.4837117|\n",
      "|   298|  68954|   3.0| 2.7016096|\n",
      "|   204|  68954|   4.0|  3.609174|\n",
      "|    83|  68954|   4.5| 3.2521992|\n",
      "|   561|  68954|   4.5| 3.5799065|\n",
      "|   466|  68954|   5.0| 4.2893124|\n",
      "|   205|  71462|   5.0|  2.285962|\n",
      "|   419|  71462|   4.0|  3.045836|\n",
      "|   525|  71462|   4.0| 2.6474051|\n",
      "|   103|  72407|   2.5| 2.7653494|\n",
      "|   122|  72407|   2.0| 3.1659296|\n",
      "|   246|  89753|   5.0| 4.0959744|\n",
      "|   249|  95720|   3.5| 2.9355013|\n",
      "|   483|  95720|   3.0| 2.6174316|\n",
      "|   475| 106487|   4.5|  4.412179|\n",
      "|   318| 117364|   4.0|       NaN|\n",
      "|   184| 178111|   2.0|       NaN|\n",
      "|    84|    321|   4.0| 3.4362402|\n",
      "|   606|    362|   2.5|  3.017006|\n",
      "|   476|    362|   5.0| 3.4278047|\n",
      "|     1|    362|   5.0|  4.283992|\n",
      "|   274|    362|   2.5| 3.2223074|\n",
      "|   295|    362|   4.5|  2.226883|\n",
      "|   117|    362|   4.0|   3.18579|\n",
      "|   240|    362|   3.0| 4.5268993|\n",
      "|   226|    362|   3.5| 3.2502403|\n",
      "|   281|    362|   2.0| 3.2412453|\n",
      "|   483|    362|   2.5| 3.2667184|\n",
      "|   517|    362|   3.5| 2.9477024|\n",
      "|   606|    613|   3.0|  2.963028|\n",
      "|   599|    613|   2.5| 2.4681275|\n",
      "|    90|    613|   5.0| 2.8980675|\n",
      "|   385|    673|   3.0| 2.6207547|\n",
      "|   350|    673|   3.0|  2.599454|\n",
      "|   599|    673|   2.5| 1.7944114|\n",
      "|   132|    673|   2.0| 2.1995063|\n",
      "|     1|    673|   3.0| 2.6938024|\n",
      "|   274|    673|   3.5|     2.543|\n",
      "|   474|    673|   1.5| 2.6607761|\n",
      "|   318|    673|   3.5| 2.7976537|\n",
      "|   381|    673|   3.0| 3.0052347|\n",
      "|   217|    673|   3.0| 2.3170135|\n",
      "|   249|    673|   3.0|  2.801194|\n",
      "|   240|    673|   5.0| 3.4188182|\n",
      "|   141|    673|   4.0|  2.650228|\n",
      "|   414|    673|   2.0| 2.7216356|\n",
      "|   135|    673|   2.0|   2.99649|\n",
      "|   276|    673|   4.0| 3.2274897|\n",
      "|   606|    961|   4.0|       NaN|\n",
      "|   345|   2971|   5.0| 3.5669248|\n",
      "|   325|   3087|   3.0| 2.9759607|\n",
      "|   226|   3087|   4.0| 3.8364272|\n",
      "|    95|   4126|   4.0|  3.102123|\n",
      "|   414|   4126|   3.0| 2.8960905|\n",
      "|   140|   4259|   4.0| 3.4159381|\n",
      "|   287|   4259|   3.0| 3.0505214|\n",
      "|   608|   4725|   2.5| 3.3052945|\n",
      "|   414|   5222|   4.0| 3.3663712|\n",
      "|   514|   5543|   2.5|       NaN|\n",
      "|   288|   5543|   2.0|       NaN|\n",
      "|   438|   7169|   3.5|  2.709058|\n",
      "|   182|   8042|   4.0| 3.6371965|\n",
      "|   397|   8042|   3.5| 3.9987848|\n",
      "|   610|   8042|   4.0| 3.5762215|\n",
      "|   596|  58559|   4.0| 4.0874467|\n",
      "|   233|  58559|   4.5| 3.6585922|\n",
      "|   132|  58559|   3.5| 3.5357635|\n",
      "|   152|  58559|   4.0| 4.1286488|\n",
      "|   328|  58559|   2.0| 3.8131723|\n",
      "|   432|  58559|   4.0| 3.8934402|\n",
      "|   292|  58559|   4.0| 3.5105176|\n",
      "|   339|  58559|   3.0| 4.2053194|\n",
      "|   279|  58559|   4.0|   3.96134|\n",
      "|   318|  58559|   4.0| 4.2062683|\n",
      "|   585|  58559|   4.0|  4.511345|\n",
      "|   239|  58559|   4.5| 4.4912977|\n",
      "|    10|  58559|   4.5| 2.6603174|\n",
      "|   356|  58559|   5.0|  4.341368|\n",
      "|    73|  58559|   4.5|  4.534732|\n",
      "|   219|  58559|   5.0|  4.042943|\n",
      "|   390|  58559|   2.5|  4.458855|\n",
      "|   382|  58559|   5.0|  4.730222|\n",
      "|   466|  58559|   3.0|   4.17082|\n",
      "|   365|  58559|   3.5| 3.1035395|\n",
      "|   573|  58559|   5.0| 4.7852435|\n",
      "|    18|  58559|   4.0| 4.2651153|\n",
      "|   483|  58559|   4.0| 4.5335026|\n",
      "|   393|  58559|   5.0| 3.9437134|\n",
      "|   200|  62299|   3.5|       NaN|\n",
      "|   448|  80241|   2.5| 2.7730947|\n",
      "|   318|  84273|   5.0|       NaN|\n",
      "|   125| 163134|   4.0| 3.4612129|\n",
      "|   249| 187593|   5.0| 3.7487533|\n",
      "|    25| 187593|   5.0| 3.8561156|\n",
      "|   248| 187593|   4.5| 3.6736705|\n",
      "|   596| 188301|   4.0|  3.231086|\n",
      "|   133|    593|   3.0| 3.2634263|\n",
      "|   530|    593|   4.0| 4.0415974|\n",
      "|   497|    593|   4.0|  3.615421|\n",
      "|   596|    593|   4.0| 3.9171634|\n",
      "|   128|    593|   5.0| 4.2841854|\n",
      "|   209|    593|   4.5| 4.6573167|\n",
      "|   122|    593|   5.0| 5.0540285|\n",
      "|   140|    593|   4.0| 3.9563978|\n",
      "|   182|    593|   4.5|  4.034219|\n",
      "|   348|    593|   5.0|  4.891169|\n",
      "|   474|    593|   4.5| 3.9136398|\n",
      "|   283|    593|   4.0|  3.734446|\n",
      "|   402|    593|   5.0|  4.217145|\n",
      "|   432|    593|   4.0|  3.971737|\n",
      "|    57|    593|   5.0| 4.0683002|\n",
      "|   339|    593|   5.0|  4.541691|\n",
      "|   560|    593|   4.0|  4.070252|\n",
      "|   117|    593|   5.0|  3.853045|\n",
      "|   598|    593|   0.5| 3.6059375|\n",
      "|   189|    593|   4.0| 4.0818477|\n",
      "|   590|    593|   3.5| 4.0278482|\n",
      "|    72|    593|   4.5|  4.475801|\n",
      "|     4|    593|   5.0|  3.452289|\n",
      "|    59|    593|   5.0| 4.7197857|\n",
      "|     8|    593|   4.0|  4.261286|\n",
      "|   241|    593|   4.5| 4.0594816|\n",
      "|   238|    593|   3.0| 4.3140125|\n",
      "|   434|    593|   4.0| 4.1955895|\n",
      "|   428|    593|   2.5| 3.4424756|\n",
      "|   465|    593|   5.0| 4.7317123|\n",
      "|   467|    593|   1.0| 4.0828896|\n",
      "|   400|    593|   5.0| 4.7106495|\n",
      "|   524|    593|   4.0| 3.7821496|\n",
      "|   102|    593|   4.0| 4.2129517|\n",
      "|    45|    593|   4.0|   4.66968|\n",
      "|   288|    593|   5.0| 3.8551261|\n",
      "|    80|    593|   5.0| 4.6429744|\n",
      "|   351|    593|   4.5|  4.216345|\n",
      "|   338|    593|   4.0| 3.6240706|\n",
      "|   254|    593|   4.0| 4.2755013|\n",
      "|   370|    593|   4.0| 3.7563236|\n",
      "|    11|    593|   5.0|  4.369008|\n",
      "|   421|    593|   5.0| 4.5369477|\n",
      "|    68|    593|   3.5| 3.5064352|\n",
      "|    14|    593|   4.0|  4.119716|\n",
      "|   373|    593|   5.0|   4.16309|\n",
      "|    42|    593|   5.0| 4.5224957|\n",
      "|   201|    593|   5.0| 4.4631367|\n",
      "|    66|    593|   4.0| 4.6546116|\n",
      "|   144|    593|   4.5| 3.9486952|\n",
      "|   322|    597|   3.0| 2.9128795|\n",
      "|   159|    597|   4.0| 2.9685292|\n",
      "|   606|    597|   4.0| 3.3260903|\n",
      "|    91|    597|   2.5|  2.563795|\n",
      "|   476|    597|   3.0| 3.4833858|\n",
      "|    47|    597|   3.0| 2.8355114|\n",
      "|   474|    597|   4.0| 3.2861967|\n",
      "|    57|    597|   3.0| 2.8045163|\n",
      "|   570|    597|   4.0| 3.3093166|\n",
      "|   559|    597|   3.0|  3.216374|\n",
      "|   447|    597|   4.0|  3.899735|\n",
      "|   552|    597|   2.5| 2.8009117|\n",
      "|   229|    597|   3.0| 3.7968583|\n",
      "|     8|    597|   3.0| 3.2550578|\n",
      "|   438|    597|   4.0| 3.3131912|\n",
      "|    10|    597|   3.5|   3.51923|\n",
      "|    38|    597|   2.0| 3.2357392|\n",
      "|   411|    597|   3.0| 3.5067918|\n",
      "|    21|    597|   4.0| 3.3663282|\n",
      "|   170|    597|   4.0| 3.5019376|\n",
      "|   199|    597|   3.0| 2.5465875|\n",
      "|   201|    597|   5.0| 3.9820347|\n",
      "|   104|    597|   4.0|  3.834107|\n",
      "|   517|    597|   3.0| 2.3822217|\n",
      "|   599|   1199|   3.5| 3.3793976|\n",
      "|   570|   1199|   3.5| 3.4095516|\n",
      "|   160|   1199|   5.0| 3.1652932|\n",
      "|   156|   1199|   5.0| 3.9820032|\n",
      "|   595|   1199|   5.0|   4.54931|\n",
      "|   371|   1199|   5.0|   4.41119|\n",
      "|   414|   1199|   5.0|   4.04805|\n",
      "|    83|   1199|   2.5| 2.8028898|\n",
      "|   260|   1199|   3.5| 3.9646041|\n",
      "|   405|   1199|   4.0| 4.3302784|\n",
      "|   275|   1199|   4.0|  4.371417|\n",
      "|   590|   1212|   4.5|   3.86252|\n",
      "|   188|   1212|   5.0| 4.1366982|\n",
      "|   599|   1653|   3.5| 3.0891418|\n",
      "|   140|   1653|   2.0| 3.6312847|\n",
      "|   339|   1653|   5.0| 4.3154745|\n",
      "|   579|   1653|   5.0|  4.349071|\n",
      "|   511|   1653|   4.0|   4.28491|\n",
      "|   318|   1653|   4.0| 3.8472655|\n",
      "|    62|   1653|   5.0| 4.2806673|\n",
      "|   141|   1653|   4.0| 3.7246127|\n",
      "|   608|   1653|   5.0|  3.354264|\n",
      "|    83|   1653|   3.5| 3.9109168|\n",
      "|   135|   1653|   5.0| 4.1097646|\n",
      "|   104|   1653|   3.0|  3.490374|\n",
      "|   483|   1653|   5.0| 3.7326035|\n",
      "|    19|   2513|   1.0| 2.6420588|\n",
      "|   555|   2513|   3.0| 3.9701915|\n",
      "|   600|   2513|   3.5| 3.3433547|\n",
      "|   599|   2797|   3.5| 2.9738607|\n",
      "|   177|   2797|   5.0|  3.624867|\n",
      "|   489|   2797|   4.0|  3.554211|\n",
      "|   590|   2797|   4.5| 3.6001399|\n",
      "|   381|   2797|   4.0| 3.7106452|\n",
      "|   310|   2797|   3.5| 3.1718884|\n",
      "|   244|   2797|   4.0|  4.171322|\n",
      "|    51|   2797|   5.0|  4.033951|\n",
      "|   527|   2797|   5.0| 4.0683527|\n",
      "|   249|   2797|   4.0| 3.8586814|\n",
      "|   288|   2797|   4.0|  3.404515|\n",
      "|   608|   2797|   2.5| 2.8259706|\n",
      "|    68|   2797|   3.0|   3.27017|\n",
      "|   313|   2797|   1.0|   2.76868|\n",
      "|   186|   2797|   4.0| 4.1074376|\n",
      "|   562|   2797|   4.5| 4.2502933|\n",
      "|   452|   3441|   5.0| 4.2256193|\n",
      "|   202|   3441|   1.0|  3.838741|\n",
      "|   555|   3441|   3.0| 3.4237168|\n",
      "|   288|   3441|   2.0| 3.6009545|\n",
      "|    42|   3441|   4.0| 3.4574668|\n",
      "|   414|   4474|   2.0| 2.5027535|\n",
      "|   603|   4713|   4.0| 2.7950776|\n",
      "|   318|   4713|   2.5| 3.3217251|\n",
      "|    51|   4713|   5.0| 3.9428985|\n",
      "|   600|   4713|   2.0| 3.0617056|\n",
      "|   483|   5298|   4.0| 3.7348516|\n",
      "|   425|   6157|   3.5| 2.7902758|\n",
      "|   381|   6157|   2.5| 2.7586825|\n",
      "|   331|   6157|   1.0| 2.3536394|\n",
      "|   448|   6157|   1.5| 2.3830636|\n",
      "|    82|   6157|   3.0| 3.0713866|\n",
      "|   111|   6188|   4.5| 3.3001554|\n",
      "|   274|   6188|   3.0| 3.4363308|\n",
      "|   564|   6188|   4.5|  3.797275|\n",
      "|   448|   6188|   3.5| 3.4938118|\n",
      "|    66|   6188|   3.5| 4.0146995|\n",
      "|   414|   6689|   4.0|       NaN|\n",
      "|   474|   7092|   3.5| 3.0102751|\n",
      "|   474|   7132|   3.5|  4.240239|\n",
      "|   177|  50685|   4.0| 3.9899483|\n",
      "|    73|  50685|   3.5| 3.8582375|\n",
      "|   610|  64983|   3.0|  3.553636|\n",
      "|   249|  64983|   3.5| 3.5045323|\n",
      "|   414|  64983|   3.0| 3.1982126|\n",
      "|    83|  64983|   4.0| 2.6862197|\n",
      "|   177|  66297|   3.0| 2.6997747|\n",
      "|    89|  73106|   1.5| 1.7052871|\n",
      "|   222| 101531|   2.0|       NaN|\n",
      "|   184| 106873|   2.5| 2.5229418|\n",
      "|   111| 140715|   4.5| 3.2844052|\n",
      "|   249| 140715|   4.0| 3.9826128|\n",
      "|    47| 148626|   3.0| 2.9532666|\n",
      "|   339| 148626|   4.5| 4.0114098|\n",
      "|   560| 148626|   4.5| 3.8253198|\n",
      "|   125| 148626|   3.5| 4.2685723|\n",
      "|   567| 148626|   3.0| 2.6640313|\n",
      "|   599|    155|   2.5| 1.2850045|\n",
      "|    89|    950|   3.0| 1.8816237|\n",
      "|    27|   2294|   2.0| 2.9678822|\n",
      "|   332|   2294|   3.5| 3.0699484|\n",
      "|   182|   2294|   4.0| 3.2713811|\n",
      "|   500|   2294|   3.0| 3.4578977|\n",
      "|   489|   2294|   1.5| 2.9080153|\n",
      "|    59|   2294|   3.0| 3.2122753|\n",
      "|   380|   2294|   4.0|  3.616793|\n",
      "|   288|   2294|   3.5| 2.9938264|\n",
      "|   382|   2294|   4.5| 3.5485306|\n",
      "|    68|   2294|   3.0| 2.8953445|\n",
      "|    19|   2606|   4.0| 2.1213968|\n",
      "|   307|   2606|   0.5| 1.8097422|\n",
      "|    45|   2606|   3.0| 2.8987017|\n",
      "|    82|   2606|   3.5| 2.9603307|\n",
      "|   457|   2606|   2.0| 3.0122604|\n",
      "|   245|   2739|   3.0|  2.203447|\n",
      "|   603|   3431|   1.0| 2.0146062|\n",
      "|   224|   3436|   4.0| 2.6172948|\n",
      "|   414|   3436|   2.0| 2.3256032|\n",
      "|   198|   3436|   5.0|   2.44087|\n",
      "|   555|   3661|   3.0|       NaN|\n",
      "|   226|   3843|   2.5| 2.5769777|\n",
      "|   599|   4452|   2.5| 1.8393868|\n",
      "|   182|   4452|   3.0| 2.4808156|\n",
      "|   608|   4452|   3.0| 2.5062673|\n",
      "|   414|   4773|   2.0| 3.0438838|\n",
      "|   599|   6213|   2.0| 1.6941022|\n",
      "|   232|   6754|   3.5| 3.7323313|\n",
      "|   599|   6754|   2.5|  2.557324|\n",
      "|   560|   6754|   3.5| 3.3950741|\n",
      "|   381|   6754|   3.0|  3.626852|\n",
      "|   380|   6754|   4.0| 3.8672285|\n",
      "|   438|   6754|   3.0| 3.4640815|\n",
      "|   482|   6754|   4.0| 3.8752332|\n",
      "|   200|   6754|   4.0| 3.7096078|\n",
      "|   309|   7218|   4.5|       NaN|\n",
      "|   477|   7481|   3.5| 4.4444733|\n",
      "|   599|   8755|   3.0|       NaN|\n",
      "|   599|  26539|   3.0|       NaN|\n",
      "|   232|  40946|   1.5| 2.0857105|\n",
      "|   274|  54272|   3.5| 3.3635511|\n",
      "|   387|  54272|   3.5|  3.438013|\n",
      "|   380|  54272|   4.0| 3.9705462|\n",
      "|   331|  54272|   3.0| 3.8213782|\n",
      "|   525|  54272|   1.5|  3.438363|\n",
      "|   506|  54272|   2.0| 3.0559022|\n",
      "|   573|  54272|   4.0|  4.263592|\n",
      "|    18|  54272|   3.5| 3.7078378|\n",
      "|   475|  54272|   3.5|  4.195485|\n",
      "|    68|  54734|   3.5| 1.1793262|\n",
      "|    68|  64622|   3.5| 2.9677968|\n",
      "|   249|  77667|   3.0|       NaN|\n",
      "|   509|  78105|   4.0| 2.5873902|\n",
      "|   464|  78105|   2.5| 2.4114687|\n",
      "|   605|  78105|   3.5| 3.0666156|\n",
      "|   249|  90430|   4.5| 3.9047155|\n",
      "|   599|  95771|   4.0|       NaN|\n",
      "|   249|  99750|   3.5|       NaN|\n",
      "|   111| 112497|   3.0|       NaN|\n",
      "|   448| 112497|   1.0|       NaN|\n",
      "|   563| 126548|   3.0| 3.3769035|\n",
      "|    73| 126548|   2.5| 3.4102976|\n",
      "|   298| 126548|   2.0| 1.8145282|\n",
      "|   305| 143385|   4.0| 3.8933933|\n",
      "|    15| 143385|   3.0| 3.5376587|\n",
      "|   610| 143385|   4.0| 3.9659436|\n",
      "|   567| 143385|   1.0| 2.3018546|\n",
      "|   599| 169958|   1.0|       NaN|\n",
      "|   436|     34|   5.0|  3.604316|\n",
      "|   223|     34|   1.0|   2.85713|\n",
      "|   372|     34|   4.0|  3.732967|\n",
      "|   353|     34|   5.0| 3.6438737|\n",
      "|   169|     34|   4.0|  4.112954|\n",
      "|   359|     34|   2.5| 3.3379276|\n",
      "|   347|     34|   4.0| 3.3059187|\n",
      "|   455|     34|   4.0| 3.5572166|\n",
      "|   220|     34|   4.5| 4.4430976|\n",
      "|   181|     34|   5.0| 3.2987003|\n",
      "|   480|     34|   4.0|  3.489006|\n",
      "|    95|     34|   4.0|  4.399283|\n",
      "|   608|     34|   3.5| 2.6929362|\n",
      "|   109|     34|   3.0| 3.0933063|\n",
      "|   534|     34|   4.0| 3.6156352|\n",
      "|   275|     34|   5.0|  4.178096|\n",
      "|    18|     34|   2.5| 3.5933685|\n",
      "|   243|    193|   5.0| 3.2725372|\n",
      "|   325|    193|   3.0|  2.086743|\n",
      "|   440|    193|   3.5| 2.4872305|\n",
      "|   524|    193|   2.0| 2.4067078|\n",
      "|   404|    193|   3.0|  2.106403|\n",
      "|   584|    193|   1.0|  2.471908|\n",
      "|   368|    368|   3.0| 2.6415052|\n",
      "|   436|    368|   3.0| 3.2056937|\n",
      "|    93|    368|   4.0| 4.2119656|\n",
      "|     6|    368|   5.0|  3.778248|\n",
      "|   235|    368|   2.0| 3.6272278|\n",
      "|   117|    368|   4.0| 3.2251139|\n",
      "|    38|    368|   4.0|  3.079894|\n",
      "|   181|    368|   3.0| 2.9330595|\n",
      "|   226|    368|   4.0|  3.649291|\n",
      "|   478|    368|   3.5| 2.4982386|\n",
      "|   483|    368|   4.0| 3.3741004|\n",
      "|   516|   1198|   4.0| 4.2697577|\n",
      "|   137|   1198|   4.5| 3.9701796|\n",
      "|   606|   1198|   3.5|  3.878307|\n",
      "|   140|   1198|   4.0|  3.912432|\n",
      "|     1|   1198|   5.0| 4.9377103|\n",
      "|   212|   1198|   4.0| 3.5863984|\n",
      "|    13|   1198|   5.0|   4.82871|\n",
      "|    57|   1198|   5.0|   4.16525|\n",
      "|   292|   1198|   4.0|  3.938558|\n",
      "|    96|   1198|   5.0| 4.4666133|\n",
      "|   299|   1198|   4.0|  4.421736|\n",
      "|   309|   1198|   4.0| 3.8294115|\n",
      "|   489|   1198|   4.0| 3.5163624|\n",
      "|   202|   1198|   5.0| 4.3278666|\n",
      "|   586|   1198|   5.0| 4.4894247|\n",
      "|   381|   1198|   4.0| 3.6646528|\n",
      "|   310|   1198|   4.0| 4.5121684|\n",
      "|   290|   1198|   5.0|  4.390914|\n",
      "|   555|   1198|   4.0| 4.4464183|\n",
      "|   439|   1198|   4.5| 4.0311723|\n",
      "|   532|   1198|   4.0| 4.7372446|\n",
      "|    50|   1198|   3.5| 3.1623898|\n",
      "|   267|   1198|   5.0|  5.010438|\n",
      "|   356|   1198|   4.0| 4.3261576|\n",
      "|    24|   1198|   4.5| 4.1226697|\n",
      "|   160|   1198|   3.0| 3.2684088|\n",
      "|   408|   1198|   5.0|  4.608224|\n",
      "|   482|   1198|   4.0| 4.6245136|\n",
      "|    21|   1198|   4.0| 3.8669484|\n",
      "|   265|   1198|   5.0|  4.057111|\n",
      "|   334|   1198|   3.5| 3.6912596|\n",
      "|   376|   1198|   4.0|  4.351938|\n",
      "|   298|   1198|   4.5| 3.5094018|\n",
      "|   110|   1198|   3.5| 3.8652403|\n",
      "|    68|   1198|   5.0| 3.5730596|\n",
      "|   198|   1198|   4.0| 3.7794578|\n",
      "|   600|   1198|   4.0|  3.451619|\n",
      "|   199|   1198|   4.0| 3.6778405|\n",
      "|   302|   1198|   5.0| 4.4775553|\n",
      "|   399|   1198|   5.0|  3.633084|\n",
      "|   475|   1198|   5.0|  5.081694|\n",
      "|   180|   1198|   4.0| 3.8112528|\n",
      "|   393|   1198|   5.0| 3.9116526|\n",
      "|   603|   1344|   5.0| 3.9396234|\n",
      "|   590|   1344|   3.5|  3.582649|\n",
      "|   387|   1344|   4.0|  3.617725|\n",
      "|   465|   1344|   5.0| 4.1889596|\n",
      "|   563|   1537|   3.5|  2.894984|\n",
      "|    33|   1537|   4.0|  3.356266|\n",
      "|   288|   1924|   2.0|  2.243329|\n",
      "|    19|   2888|   3.0| 1.6961007|\n",
      "|   414|   2888|   1.5| 1.9169703|\n",
      "|   603|   3152|   4.0|  4.008423|\n",
      "|   469|   3152|   5.0|  4.554756|\n",
      "|   307|   4132|   2.5| 2.3446953|\n",
      "|   422|   4132|   1.0| 2.7481036|\n",
      "|   292|   4321|   3.0|  2.902491|\n",
      "|   278|   4321|   3.0| 3.7386389|\n",
      "|   480|   4321|   3.0| 2.7595973|\n",
      "|    68|   4321|   3.5| 2.7453108|\n",
      "|   600|   4321|   3.0| 3.0653563|\n",
      "|   474|   6124|   2.0| 2.8756828|\n",
      "|   590|   6639|   4.0|  3.711769|\n",
      "|   221|   6639|   4.0|  4.445031|\n",
      "|   599|   7587|   3.0| 3.0800343|\n",
      "|    23|   7587|   5.0|  3.525813|\n",
      "|   474|   7647|   3.5| 3.2864947|\n",
      "|   260|   8011|   4.0| 3.4817553|\n",
      "|   122|   8464|   4.5|  4.420877|\n",
      "|   274|   8464|   3.5| 3.4005527|\n",
      "|   448|   8464|   3.5|  3.523769|\n",
      "|   249|   8464|   4.0| 3.9533577|\n",
      "|    68|   8464|   4.5| 3.2297947|\n",
      "|   260|   8464|   3.0| 3.5748672|\n",
      "|   580|   8961|   4.5| 3.8772938|\n",
      "|   593|   8961|   3.0| 2.9555633|\n",
      "|   332|   8961|   3.5|  3.814863|\n",
      "|   460|   8961|   4.5| 4.3640203|\n",
      "|   223|   8961|   4.5|  3.452611|\n",
      "|   601|   8961|   5.0| 4.3320937|\n",
      "|   230|   8961|   3.0| 2.8518236|\n",
      "|   233|   8961|   3.5|  3.405981|\n",
      "|   178|   8961|   4.0|  3.796227|\n",
      "|   328|   8961|   5.0| 3.8794994|\n",
      "|   139|   8961|   3.5|   2.85792|\n",
      "|   339|   8961|   4.0| 3.6177406|\n",
      "|   425|   8961|   4.0| 3.6909502|\n",
      "|   263|   8961|   3.5| 3.8954809|\n",
      "|    23|   8961|   3.0| 3.1376522|\n",
      "|   380|   8961|   4.0| 4.4649878|\n",
      "|   166|   8961|   4.5| 4.1328654|\n",
      "|   239|   8961|   4.5|  4.090637|\n",
      "|    10|   8961|   2.5| 2.8267362|\n",
      "|   526|   8961|   4.0| 3.6324508|\n",
      "|    21|   8961|   3.5| 3.4210017|\n",
      "|   608|   8961|   4.0| 3.5260394|\n",
      "|   376|   8961|   3.5| 3.8538065|\n",
      "|   426|   8961|   5.0| 3.4924242|\n",
      "|   248|   8961|   5.0| 3.5882227|\n",
      "|   119|   8961|   4.0| 4.0959573|\n",
      "|   466|   8961|   3.5| 3.8561335|\n",
      "|   252|   8961|   4.5|  4.194774|\n",
      "|    18|   8961|   3.5| 3.8599625|\n",
      "|   104|   8961|   4.0| 3.7268414|\n",
      "|   600|  26258|   5.0| 2.7722216|\n",
      "|    89|  44777|   4.5|       NaN|\n",
      "|   122|  94864|   4.0|  3.983319|\n",
      "|   599|  94864|   3.5| 2.6511908|\n",
      "|   328|  94864|   2.0| 2.2920282|\n",
      "|   139|  94864|   1.5| 1.8812609|\n",
      "|   279|  94864|   3.0| 3.2415473|\n",
      "|    15|  94864|   3.0| 3.5474062|\n",
      "|   318|  94864|   4.0| 3.1004596|\n",
      "|   331|  94864|   5.0|  3.076892|\n",
      "|    50|  94864|   1.5| 1.8187168|\n",
      "|   534|  94864|   3.0| 3.2506988|\n",
      "|   448| 102378|   1.5| 2.4895515|\n",
      "|   596| 111800|   3.0|       NaN|\n",
      "|   305| 117895|   2.5|  2.194138|\n",
      "|   184| 193573|   4.0|       NaN|\n",
      "|   603|    101|   4.0| 2.8024023|\n",
      "|   474|    101|   3.5|   3.33047|\n",
      "|   448|    101|   3.5| 3.1221228|\n",
      "|   356|    101|   3.5| 3.6391726|\n",
      "|   480|    101|   5.0|  4.197977|\n",
      "|   287|    101|   4.0| 3.0585392|\n",
      "|   221|    101|   4.5| 3.8136716|\n",
      "|   567|    101|   3.0| 2.3725414|\n",
      "|   600|    101|   4.5|   2.79267|\n",
      "|   313|    101|   5.0| 2.9569886|\n",
      "|   395|    126|   2.0| 1.8538007|\n",
      "|   385|   1183|   4.0| 3.0683079|\n",
      "|    91|   1183|   2.5| 3.1869438|\n",
      "|   603|   1183|   4.0| 3.9843953|\n",
      "|    64|   1183|   4.0| 3.4377317|\n",
      "|   263|   1183|   5.0| 3.7047362|\n",
      "|   453|   1183|   4.0|  3.622311|\n",
      "|   467|   1183|   5.0|  4.669267|\n",
      "|   480|   1183|   4.5| 3.7207816|\n",
      "|   414|   1378|   4.0|  2.897472|\n",
      "|    68|   1378|   2.5| 3.0268068|\n",
      "|   140|   1500|   5.0| 3.5377836|\n",
      "|     1|   1500|   4.0| 4.6525564|\n",
      "|   263|   1500|   3.0|  3.649775|\n",
      "|   307|   1500|   2.5|  2.607205|\n",
      "|     4|   1500|   4.0| 3.6326416|\n",
      "|   369|   1500|   4.5|  3.062901|\n",
      "|   599|   2003|   3.0| 2.7365377|\n",
      "|    19|   2003|   3.0| 3.1052694|\n",
      "|   307|   2003|   2.5| 2.7796774|\n",
      "|   380|   2003|   5.0| 3.6752286|\n",
      "|   480|   2003|   4.0| 3.0242481|\n",
      "|   608|   2003|   2.5| 2.3309052|\n",
      "|   313|   2003|   4.0| 2.9488168|\n",
      "|   186|   2003|   3.0| 3.7437909|\n",
      "|    66|   2261|   4.5| 3.5743885|\n",
      "|   160|   2771|   1.0| 2.2779927|\n",
      "|    42|   2771|   4.0|  4.073412|\n",
      "|   255|   2907|   4.0| 1.9725118|\n",
      "|   267|   2907|   5.0|  4.138005|\n",
      "|   140|   3198|   4.0|  2.851107|\n",
      "|   182|   3198|   4.0| 3.8439627|\n",
      "|   474|   3198|   3.5| 3.5468407|\n",
      "|   288|   3198|   5.0| 3.6119685|\n",
      "|   590|   4153|   1.0| 1.8318317|\n",
      "|   610|   4153|   3.0| 2.3678784|\n",
      "|   599|   4683|   2.5|  2.713883|\n",
      "|   348|   4865|   5.0|  4.145639|\n",
      "|   288|   4865|   3.5| 3.3977814|\n",
      "|   480|   4865|   4.5|  2.988249|\n",
      "|   489|   4992|   3.0| 2.6822658|\n",
      "|    51|   4992|   4.5| 2.3762448|\n",
      "|   256|   4992|   4.5|   3.53508|\n",
      "|   599|   5597|   2.5|       NaN|\n",
      "|   608|   5597|   1.0|       NaN|\n",
      "|    91|   7118|   3.5|       NaN|\n",
      "|   387|   7118|   4.0|       NaN|\n",
      "|   222|   7173|   3.5| 2.4549701|\n",
      "|    45|   7173|   5.0|  3.535269|\n",
      "|   200|   7173|   3.5|  3.058319|\n",
      "|   232|  39427|   3.5| 3.0365112|\n",
      "|   586| 110130|   4.0|  4.022701|\n",
      "|    89| 110130|   5.0| 2.8372836|\n",
      "|   560| 148881|   4.0|  3.350513|\n",
      "|   462| 160644|   5.0|       NaN|\n",
      "|    15| 160980|   3.5| 3.1938903|\n",
      "|   372|     81|   2.0| 3.4478245|\n",
      "|   437|     81|   3.0| 3.3364089|\n",
      "|    12|    830|   4.0| 3.6190045|\n",
      "|     6|    830|   5.0| 2.9644175|\n",
      "|   474|    830|   2.0|  3.405416|\n",
      "|   217|    830|   3.0| 2.3520174|\n",
      "|   414|    830|   1.0| 3.5872307|\n",
      "|   387|   1226|   3.0|  3.008429|\n",
      "|   597|   1259|   5.0| 4.3198423|\n",
      "|   587|   1259|   4.0|   4.17696|\n",
      "|    91|   1259|   3.0| 3.5387151|\n",
      "|   330|   1259|   5.0| 3.9491196|\n",
      "|   225|   1259|   5.0|  4.117631|\n",
      "|   132|   1259|   3.0| 3.3593206|\n",
      "|   531|   1259|   5.0| 3.7937217|\n",
      "|   514|   1259|   4.5| 3.7508433|\n",
      "|   239|   1259|   4.5| 4.2755084|\n",
      "|   477|   1259|   4.0| 4.3947563|\n",
      "|   226|   1259|   4.0| 4.1423106|\n",
      "|   195|   1259|   4.0|  3.833895|\n",
      "|   469|   1259|   5.0| 4.0453553|\n",
      "|   221|   1259|   5.0| 4.3431854|\n",
      "|   525|   1259|   4.0| 3.8404083|\n",
      "|   153|   1259|   2.0| 2.6668744|\n",
      "|   414|   2007|   2.0| 3.4131918|\n",
      "|   606|   2212|   4.0|       NaN|\n",
      "|   474|   2212|   3.0|       NaN|\n",
      "|   275|   2212|   4.0|       NaN|\n",
      "|   183|   2662|   3.0| 3.1020021|\n",
      "|   288|   2662|   3.0| 3.2007232|\n",
      "|   606|   3538|   4.0| 2.9274523|\n",
      "|   103|   4896|   2.5| 3.6174011|\n",
      "|   223|   4896|   4.0|    3.6374|\n",
      "|   111|   4896|   4.0|  3.514286|\n",
      "|   177|   4896|   5.0|  3.981364|\n",
      "|   556|   4896|   5.0|  4.194853|\n",
      "|   305|   4896|   3.0|  3.902483|\n",
      "|   560|   4896|   3.0| 3.3518345|\n",
      "|   590|   4896|   3.5| 3.4348242|\n",
      "|   318|   4896|   3.0| 3.6722631|\n",
      "|   552|   4896|   3.5| 3.5385036|\n",
      "|   220|   4896|   5.0|  4.132353|\n",
      "|   301|   4896|   4.0| 3.2331727|\n",
      "|   247|   4896|   3.5| 3.6611974|\n",
      "|   434|   4896|   2.5| 3.5216138|\n",
      "|   438|   4896|   4.0| 3.6220627|\n",
      "|   226|   4896|   3.5| 3.5719934|\n",
      "|   382|   4896|   4.5|  4.327667|\n",
      "|   608|   4896|   3.0| 3.3549662|\n",
      "|   376|   4896|   4.5| 3.8361812|\n",
      "|    68|   4896|   5.0| 3.6052485|\n",
      "|   380|   5055|   3.0| 3.8547235|\n",
      "|   169|   5151|   4.0|  3.770514|\n",
      "|   594|   5151|   4.5| 3.8501027|\n",
      "|   438|   5151|   2.5|  3.459619|\n",
      "|   274|   5254|   3.0|   3.31132|\n",
      "|   139|   5254|   1.5| 1.9083436|\n",
      "|   610|   5254|   4.0| 3.6151621|\n",
      "|    51|   5254|   2.5| 3.5871763|\n",
      "|   464|   5254|   2.5|  3.297595|\n",
      "|   573|   5254|   4.5| 4.1376257|\n",
      "|   448|   5490|   5.0|       NaN|\n",
      "|   473|   5785|   3.5| 2.2606199|\n",
      "|   320|   5785|   4.0| 2.6949823|\n",
      "|   427|   5785|   3.5| 3.0519357|\n",
      "|   608|   5785|   2.0| 2.4817798|\n",
      "|   105|   5785|   3.5|  3.555252|\n",
      "|   469|   6460|   5.0|  4.612645|\n",
      "|   599|   6664|   3.0| 2.6861002|\n",
      "|   561|   6664|   3.5|  3.268012|\n",
      "|   199|   6953|   3.0|  2.900078|\n",
      "|    66|   7048|   4.0| 3.6632397|\n",
      "|   580|   7649|   3.5| 2.3385239|\n",
      "|    28|   8977|   2.5|  1.164206|\n",
      "|   480|   8977|   3.0|  1.690254|\n",
      "|   462|  60766|   4.5| 3.3034945|\n",
      "|   563|  71668|   3.0| 2.5305476|\n",
      "|   448|  79259|   2.5|       NaN|\n",
      "|   122|  86833|   5.0|  4.593447|\n",
      "|   177|  86833|   4.0| 3.4856524|\n",
      "|   280|  86833|   5.0| 4.0202847|\n",
      "|   491|  86833|   3.5| 3.9672801|\n",
      "|   563|  86833|   4.0|  3.296432|\n",
      "|   564|  86833|   2.0| 3.3932872|\n",
      "|   414|  89804|   4.0|  3.639678|\n",
      "|   448| 109317|   2.5|       NaN|\n",
      "|    50| 127146|   3.0|       NaN|\n",
      "|   560| 130576|   2.0|  2.417904|\n",
      "|    89| 141544|   2.5|  2.588867|\n",
      "|   560| 143859|   3.5| 3.0638707|\n",
      "|   111| 159093|   4.5| 3.9660664|\n",
      "|   100|     28|   4.5| 4.4305134|\n",
      "|   368|    436|   2.0| 2.5399537|\n",
      "|   414|    436|   2.0| 2.8316875|\n",
      "|   177|   1031|   3.0| 3.4392343|\n",
      "|     1|   1031|   5.0| 4.0265217|\n",
      "|   527|   1031|   4.0| 3.8445168|\n",
      "|   606|   1175|   4.0|  3.992898|\n",
      "|   182|   1175|   3.5| 3.6714575|\n",
      "|   318|   1175|   3.5| 3.7040377|\n",
      "|   160|   1175|   4.0| 3.7295172|\n",
      "|   260|   1175|   4.0| 4.3994455|\n",
      "|   600|   1175|   3.0| 3.8557713|\n",
      "|   420|   1175|   4.0|  4.000212|\n",
      "|   187|   1175|   4.0|  4.218295|\n",
      "|   385|   1201|   3.0|  4.211808|\n",
      "|   603|   1201|   5.0| 3.9613261|\n",
      "|    16|   1201|   3.0| 3.8832192|\n",
      "|   328|   1201|   2.5| 3.8201163|\n",
      "|   295|   1201|   3.5| 4.5731077|\n",
      "|   590|   1201|   4.5| 4.1701407|\n",
      "|   387|   1201|   4.0|  4.007259|\n",
      "|   494|   1201|   4.0|  4.362645|\n",
      "|   524|   1201|   4.0| 3.7943373|\n",
      "|    63|   1201|   4.0| 4.1795726|\n",
      "|    82|   1201|   3.0| 3.4313672|\n",
      "|   288|   1201|   4.0| 4.0829487|\n",
      "|   499|   1201|   4.5|   4.16134|\n",
      "|   187|   1201|   5.0|  3.911865|\n",
      "|   474|   1441|   3.0| 2.9763784|\n",
      "|   356|   1441|   4.0| 3.8743615|\n",
      "|   294|   1441|   4.0| 2.2529197|\n",
      "|   474|   1496|   4.0|       NaN|\n",
      "|   305|   1892|   2.5| 3.9993267|\n",
      "|    18|   1892|   4.0| 3.4809008|\n",
      "|    36|   1892|   3.5| 2.4712396|\n",
      "|   599|   2052|   1.0|  2.262949|\n",
      "|   274|   2052|   3.5| 2.6215615|\n",
      "|   381|   2052|   4.0| 3.3766887|\n",
      "|   288|   2052|   2.0| 2.4838016|\n",
      "|   608|   2052|   1.0| 2.7410557|\n",
      "|   186|   2052|   3.0| 3.3987432|\n",
      "|   517|   2052|   0.5| 1.9926522|\n",
      "|   597|   2313|   4.0|  4.397347|\n",
      "|   606|   2313|   4.0|  4.356605|\n",
      "|   568|   2313|   5.0| 4.1230164|\n",
      "|   290|   2313|   4.0|   4.31293|\n",
      "|   288|   2313|   3.0|  3.645288|\n",
      "|   448|   2463|   4.0| 2.7840953|\n",
      "|    66|   2463|   4.0| 3.3660557|\n",
      "|   597|   2522|   5.0| 2.8874528|\n",
      "|   555|   2522|   3.0|   2.63752|\n",
      "|   392|   2683|   5.0| 2.9311616|\n",
      "|   384|   2683|   4.0| 2.5321658|\n",
      "|   236|   2683|   5.0|  3.417771|\n",
      "|    91|   2683|   3.5| 3.4239645|\n",
      "|   330|   2683|   3.5| 3.1519163|\n",
      "|   169|   2683|   5.0| 3.5677845|\n",
      "|   500|   2683|   3.0| 3.6634583|\n",
      "|   387|   2683|   3.0| 3.1616516|\n",
      "|   220|   2683|   3.5| 3.5845962|\n",
      "|     4|   2683|   4.0|  2.571957|\n",
      "|   428|   2683|   2.0|  2.754925|\n",
      "|   448|   2683|   4.5| 3.5136466|\n",
      "|   509|   2683|   4.0| 2.9647799|\n",
      "|   219|   2683|   4.0| 3.3312147|\n",
      "|   477|   2683|   3.5| 3.3777065|\n",
      "|   464|   2683|   2.0| 3.1565168|\n",
      "|   221|   2683|   0.5| 3.4276247|\n",
      "|    42|   2683|   4.0| 3.3311071|\n",
      "|   119|   2683|   4.0|  3.302526|\n",
      "|   294|   2683|   1.0| 2.7912412|\n",
      "|    66|   2683|   4.5| 3.6016924|\n",
      "|   282|   2683|   4.0| 3.0590324|\n",
      "|    18|   2683|   2.5| 3.2867327|\n",
      "|    89|   2683|   2.5| 2.5824637|\n",
      "|   517|   2683|   0.5| 1.6753676|\n",
      "|   603|   3445|   4.0| 2.5409312|\n",
      "|   469|   3445|   4.0| 2.7312207|\n",
      "|   216|   3685|   5.0| 3.7462075|\n",
      "|   469|   3685|   4.0|  3.361731|\n",
      "|    68|   4326|   3.5| 3.3785021|\n",
      "|   140|   4958|   3.0| 3.1414924|\n",
      "|   274|   4958|   2.5|  2.896269|\n",
      "|   169|   4958|   3.5| 3.9734733|\n",
      "|   586|   4958|   4.0| 3.2791057|\n",
      "|   480|   4958|   3.0| 2.6928225|\n",
      "|    64|   5152|   3.5| 3.0930731|\n",
      "|   438|   5152|   3.5|  3.538654|\n",
      "|   414|   5152|   3.0| 2.6769178|\n",
      "|   105|   5152|   4.5| 3.7031846|\n",
      "|   160|   6319|   1.0| 2.0223508|\n",
      "|   222|   7325|   4.0| 2.6908562|\n",
      "|   232|   7325|   3.0| 3.1682594|\n",
      "|   226|   7325|   4.0|  3.193672|\n",
      "|   608|   7325|   4.0| 3.1584532|\n",
      "|   298|   7325|   2.5| 1.9682677|\n",
      "|   199|   7325|   4.0| 2.4933121|\n",
      "|   281|   7325|   4.0| 3.0283065|\n",
      "|   606|   7460|   4.0| 3.0598202|\n",
      "|   564|  44193|   3.0| 2.9824188|\n",
      "|   509|  44193|   3.5|  3.511604|\n",
      "|   387|  50804|   2.5|  2.415122|\n",
      "|    62|  50804|   5.0| 2.8373466|\n",
      "|   274|  57274|   3.5| 3.5132763|\n",
      "|   506|  68269|   4.0| 2.4353826|\n",
      "|    21|  80166|   3.0| 2.9714386|\n",
      "|   298|  80166|   0.5| 1.7777524|\n",
      "|   599| 110882|   3.0| 2.7470765|\n",
      "|   560| 155288|   3.5| 2.1943448|\n",
      "|   105| 172583|   5.0|       NaN|\n",
      "|   606|    497|   4.5| 3.8347054|\n",
      "|   474|    497|   5.0| 3.6655238|\n",
      "|    19|    497|   3.0| 2.7828126|\n",
      "|   425|    497|   3.0| 3.4237752|\n",
      "|   202|    497|   4.0|    3.8424|\n",
      "|   381|    497|   4.0| 3.5330522|\n",
      "|   594|    497|   4.0|  4.229501|\n",
      "|   446|    497|   4.0| 3.7249422|\n",
      "|   314|    497|   5.0| 3.6899524|\n",
      "|   294|    497|   4.0| 2.6785574|\n",
      "|   385|    596|   3.0| 3.4442887|\n",
      "|   232|    596|   2.5| 2.7037497|\n",
      "|   168|    596|   4.5| 3.8838468|\n",
      "|   328|    596|   4.0| 3.1441128|\n",
      "|    64|    596|   4.0|  3.732263|\n",
      "|   484|    596|   5.0| 3.2835913|\n",
      "|   171|    596|   5.0| 3.6794906|\n",
      "|   395|    596|   3.0|  2.857576|\n",
      "|   181|    596|   3.0|  2.723505|\n",
      "|   534|    596|   4.0| 3.6913533|\n",
      "|   517|    596|   3.5| 1.9315069|\n",
      "|   402|    762|   3.0| 3.2048466|\n",
      "|   590|    762|   2.0|  2.079386|\n",
      "|   524|    762|   2.0| 2.3191724|\n",
      "|   200|    762|   3.5| 2.8695264|\n",
      "|   302|    762|   2.0| 2.4596648|\n",
      "|   521|    762|   3.0| 2.7623956|\n",
      "|    57|   1243|   5.0| 3.8787656|\n",
      "|    51|   1243|   5.0| 4.0296903|\n",
      "|   414|   1243|   5.0| 3.6232076|\n",
      "|    66|   1243|   5.0| 3.9641414|\n",
      "|    57|   1274|   3.0| 3.1762087|\n",
      "|   428|   1274|   4.5| 3.4274373|\n",
      "|   469|   1274|   4.0| 4.0924206|\n",
      "|   198|   1274|   4.0| 2.1672966|\n",
      "|   187|   1274|   4.0|    3.9467|\n",
      "|   332|   1296|   3.5| 3.3612766|\n",
      "|   103|   2018|   3.5| 3.5631542|\n",
      "|   555|   2018|   5.0| 3.3564482|\n",
      "|   480|   2018|   3.5| 3.2724507|\n",
      "|    68|   2018|   3.0| 2.8616219|\n",
      "|   525|   2018|   1.5| 3.3951788|\n",
      "|    91|   2355|   3.5| 3.4678144|\n",
      "|   232|   2355|   3.5| 3.5903528|\n",
      "|   367|   2355|   5.0| 3.8841403|\n",
      "|   328|   2355|   3.5| 2.9335504|\n",
      "|    57|   2355|   4.0| 3.3232346|\n",
      "|    19|   2355|   3.0|  2.879061|\n",
      "|   290|   2355|   4.0| 3.5753467|\n",
      "|   438|   2355|   4.0| 3.7188334|\n",
      "|    82|   2355|   2.0| 3.5588865|\n",
      "|   427|   2355|   2.0| 3.1693134|\n",
      "|   144|   2355|   3.5|  3.418423|\n",
      "|   483|   2355|   3.5| 3.4956617|\n",
      "|    89|   2355|   3.5| 2.6436026|\n",
      "|   535|   2583|   3.0| 2.8101354|\n",
      "|   332|   2905|   4.5| 3.1073425|\n",
      "|   387|   2905|   4.5| 3.2345734|\n",
      "|   367|   4155|   4.0| 4.1255026|\n",
      "|   603|   4155|   1.0|  2.129992|\n",
      "|   256|   4155|   4.0| 3.9754848|\n",
      "|   603|   4424|   4.0| 2.7607274|\n",
      "|   474|   6667|   3.5|       NaN|\n",
      "|   193|   7147|   3.5| 3.4698622|\n",
      "|   332|   7147|   4.0|  3.672964|\n",
      "|   132|   7147|   3.5| 3.4751184|\n",
      "|   560|   7147|   3.0| 3.5937347|\n",
      "|   489|   7147|   0.5| 3.6918578|\n",
      "|    88|   7147|   3.5| 4.2048883|\n",
      "|   381|   7147|   3.5|  4.172969|\n",
      "|   509|   7147|   3.0| 3.5171885|\n",
      "|   141|   7147|   4.5| 3.8227963|\n",
      "|   213|   7147|   5.0| 4.1949396|\n",
      "|   298|   7147|   2.0| 2.3176103|\n",
      "|   600|   7147|   3.5|  3.122651|\n",
      "|    22|   8622|   0.5| 2.5694401|\n",
      "|   190|   8622|   3.0| 3.8269799|\n",
      "|   419|   8622|   4.0| 3.2816226|\n",
      "|   318|   8622|   3.5| 3.3681817|\n",
      "|   263|   8622|   3.5|  3.547923|\n",
      "|   438|   8622|   4.0| 3.3461287|\n",
      "|   414|   8622|   4.0| 3.6265948|\n",
      "|    68|   8622|   3.0| 2.7583623|\n",
      "|   420|   8622|   4.0|  3.711608|\n",
      "|   448|  55995|   2.0| 2.6256535|\n",
      "|   599|  60803|   2.5|       NaN|\n",
      "|   610|  70208|   4.0|       NaN|\n",
      "|   318|  90769|   4.0|       NaN|\n",
      "|   496| 106920|   4.5|  4.365079|\n",
      "|   417| 106920|   4.5| 4.6907086|\n",
      "|   318| 106920|   3.0| 3.8201275|\n",
      "|   331| 106920|   4.0| 4.5142074|\n",
      "|   448| 106920|   3.5| 3.8458233|\n",
      "|   249| 106920|   5.0| 4.0678234|\n",
      "|   125| 106920|   4.0| 3.9014025|\n",
      "|   105| 106920|   5.0|   4.09959|\n",
      "|   298| 106920|   2.0| 2.9675827|\n",
      "|   318| 138966|   5.0|       NaN|\n",
      "|   491| 170697|   4.0| 3.7211533|\n",
      "|   551| 170697|   4.0| 3.5189025|\n",
      "|   530|    300|   3.0| 3.6382358|\n",
      "|   412|    300|   4.0| 3.6857967|\n",
      "|   330|    300|   4.0| 3.6113534|\n",
      "|   604|    300|   3.0| 3.5037062|\n",
      "|   599|    300|   3.5|  2.842803|\n",
      "|   305|    300|   3.5| 3.7378287|\n",
      "|   429|    300|   4.0| 3.7744913|\n",
      "|   117|    300|   4.0| 3.3715048|\n",
      "|   112|    300|   0.5| 3.2554886|\n",
      "|   202|    300|   4.0| 3.5913336|\n",
      "|   498|    300|   4.0| 3.5575495|\n",
      "|    23|    300|   3.0| 3.2039852|\n",
      "|    84|    300|   5.0|  3.568939|\n",
      "|   121|    300|   3.0|  3.030984|\n",
      "|   323|    300|   2.5| 3.2662926|\n",
      "|   195|    300|   4.0| 3.5211868|\n",
      "|    33|    300|   3.0|  3.345981|\n",
      "|   373|    300|   3.0|  4.032069|\n",
      "|   199|    300|   4.0| 3.2666998|\n",
      "|   242|    300|   5.0| 3.3837311|\n",
      "|    46|    300|   3.0| 3.8975153|\n",
      "|   275|    300|   3.0|  3.746376|\n",
      "|   385|    412|   2.0| 3.4515765|\n",
      "|   372|    412|   2.0| 3.3700604|\n",
      "|   599|    412|   3.0| 3.1128068|\n",
      "|     6|    412|   3.0| 3.0796723|\n",
      "|   610|    412|   2.0| 4.1131725|\n",
      "|   330|    784|   2.0| 2.8737574|\n",
      "|   122|    784|   5.0| 3.3327353|\n",
      "|   274|    784|   2.5| 2.8193686|\n",
      "|   217|    784|   3.0|  2.035172|\n",
      "|   194|    784|   3.0| 2.9924386|\n",
      "|   226|    784|   4.0|  2.483629|\n",
      "|    32|    784|   3.0|   2.77449|\n",
      "|   600|    784|   2.5| 2.1199012|\n",
      "|   475|    784|   4.0| 3.1509824|\n",
      "|    44|    842|   3.0| 3.1924243|\n",
      "|   290|    842|   2.0| 2.1005683|\n",
      "|   169|   1030|   3.5| 3.3180552|\n",
      "|   479|   1030|   2.0| 3.0406885|\n",
      "|   294|   1030|   2.0| 2.2926507|\n",
      "|   160|   1034|   1.0|  4.314601|\n",
      "|   328|   1064|   4.0| 2.2770576|\n",
      "|    43|   1064|   5.0|  3.220057|\n",
      "|   380|   1752|   2.0| 2.3032107|\n",
      "|   249|   1752|   3.0|  2.236443|\n",
      "|   219|   1752|   3.0| 1.8767996|\n",
      "|   266|   1772|   1.0|  2.298712|\n",
      "|   387|   1772|   2.0|  2.070055|\n",
      "|   249|   1772|   3.0| 2.7648602|\n",
      "|   104|   1772|   4.0| 2.6317644|\n",
      "|   234|   1826|   2.0|       NaN|\n",
      "|    91|   1974|   4.0| 2.2135825|\n",
      "|   160|   1974|   1.0| 2.6580474|\n",
      "|   216|   2349|   2.0| 3.6580372|\n",
      "|   368|   3706|   3.0| 2.2342777|\n",
      "|   271|   3706|   4.0| 2.7106543|\n",
      "|   603|   3706|   4.0| 2.7282233|\n",
      "|   599|   4848|   4.5|  3.003746|\n",
      "|   140|   4848|   4.0| 2.4785633|\n",
      "|   182|   4848|   5.0| 3.9199176|\n",
      "|   339|   4848|   5.0|   4.36447|\n",
      "|   286|   4848|   5.0| 3.9025943|\n",
      "|   610|   4848|   5.0|  4.171177|\n",
      "|   307|   4848|   3.0| 3.7109468|\n",
      "|   238|   4848|   4.0| 3.2819471|\n",
      "|   260|   4848|   3.0| 3.7505279|\n",
      "|   561|   4848|   2.0|  3.510497|\n",
      "|   393|   4848|   3.0| 4.0970416|\n",
      "|   275|   5884|   1.0|       NaN|\n",
      "|   307|   6695|   1.5| 0.9574244|\n",
      "|   380|   6695|   3.0| 1.7953706|\n",
      "|   274|   6820|   3.5|  4.176091|\n",
      "|   610|   6820|   4.0|  4.922293|\n",
      "|   608|   6820|   3.5|  4.082004|\n",
      "|   474|   8008|   3.5| 3.4043186|\n",
      "|   129|   8132|   4.5|  4.648753|\n",
      "|   474|   8809|   4.0| 2.4704547|\n",
      "|   219|  41716|   4.0|  2.983515|\n",
      "|   599|  42946|   3.0| 3.5479717|\n",
      "|   599|  45440|   2.5| 2.5639045|\n",
      "|   288|  45440|   4.0| 3.4178956|\n",
      "|   274|  54785|   3.5|  2.592984|\n",
      "|   448| 112460|   2.5| 1.5554761|\n",
      "|   514| 136864|   2.5| 2.6747785|\n",
      "|   534| 136864|   1.5| 2.7475085|\n",
      "|    18| 180095|   3.0| 4.2455454|\n",
      "|    91|    587|   2.5| 2.6372287|\n",
      "|    47|    587|   4.0| 2.8060427|\n",
      "|   325|    587|   3.0| 2.7315671|\n",
      "|   603|    587|   3.0| 2.6047099|\n",
      "|   297|    587|   1.0| 2.3662584|\n",
      "|   283|    587|   2.0| 2.8720522|\n",
      "|    43|    587|   5.0| 4.4236493|\n",
      "|   461|    587|   4.0| 1.2400035|\n",
      "|   307|    587|   2.0| 2.0980563|\n",
      "|   301|    587|   3.5| 2.8914177|\n",
      "|   380|    587|   3.0| 3.2246313|\n",
      "|   434|    587|   3.0| 3.0100107|\n",
      "|   524|    587|   4.0|  2.942243|\n",
      "|   589|    587|   5.0| 3.4559112|\n",
      "|   113|    587|   3.0|  3.074956|\n",
      "|   109|    587|   3.0| 3.3174624|\n",
      "|   199|    587|   2.0| 2.3487144|\n",
      "|   144|    587|   3.5| 3.3113134|\n",
      "|   603|    988|   3.0| 2.2002776|\n",
      "|    16|   1276|   4.0| 3.9365962|\n",
      "|    57|   1276|   5.0|    4.3825|\n",
      "|   309|   1276|   4.0|  4.066025|\n",
      "|   387|   1276|   4.0| 3.8808894|\n",
      "|   610|   1276|   4.5|  4.417385|\n",
      "|    51|   1276|   5.0|  4.315975|\n",
      "|   288|   1276|   4.0|  4.027372|\n",
      "|   294|   1276|   3.0| 3.3924694|\n",
      "|    18|   1276|   4.0|  4.274535|\n",
      "|   597|   1307|   5.0| 4.4736323|\n",
      "|   159|   1307|   4.5| 2.8693783|\n",
      "|    91|   1307|   2.5| 3.2835824|\n",
      "|   409|   1307|   4.0| 3.9599016|\n",
      "|   132|   1307|   3.5| 3.0985203|\n",
      "|   570|   1307|   3.5| 3.4771137|\n",
      "|   489|   1307|   5.0| 3.5412617|\n",
      "|    10|   1307|   3.0| 3.0251868|\n",
      "|   288|   1307|   4.5| 3.4824042|\n",
      "|   356|   1307|   4.5|  4.275759|\n",
      "|   480|   1307|   5.0| 3.5689144|\n",
      "|   482|   1307|   4.0| 3.5782242|\n",
      "|   490|   1307|   2.5| 3.2916698|\n",
      "|   221|   1307|   3.5| 4.1002617|\n",
      "|   186|   1307|   3.0|  4.227965|\n",
      "|   555|   2015|   4.0| 3.3471985|\n",
      "|   288|   2015|   3.0| 2.8873878|\n",
      "|   577|   2094|   5.0| 3.0676246|\n",
      "|     1|   2094|   5.0| 3.7535665|\n",
      "|   266|   2094|   3.0|  2.360053|\n",
      "|   415|   2094|   3.0| 3.1965973|\n",
      "|   160|   2094|   2.0|  2.328099|\n",
      "|   457|   2094|   4.0|  3.114191|\n",
      "|   522|   2094|   1.5| 3.0598965|\n",
      "|    42|   2094|   3.0| 3.0085442|\n",
      "|   597|   2240|   5.0|  4.155966|\n",
      "|   555|   2752|   3.0| 2.2917137|\n",
      "|   156|   2752|   3.0| 1.7819654|\n",
      "|   596|   3624|   3.5|  2.876652|\n",
      "|   333|   3624|   4.0| 1.7958399|\n",
      "|   367|   3624|   4.0| 3.5498247|\n",
      "|   169|   3624|   3.5| 3.7452676|\n",
      "|   292|   3624|   3.0| 3.4011757|\n",
      "|    19|   3624|   3.0| 2.3924847|\n",
      "|   480|   3624|   1.5| 3.0189784|\n",
      "|   135|   3624|   4.0| 3.1385934|\n",
      "|    89|   3624|   3.5|  2.444403|\n",
      "|   226|   4229|   1.0| 2.6357493|\n",
      "|   414|   5663|   3.5|       NaN|\n",
      "|   580|   6300|   5.0|  4.008764|\n",
      "|   288|  42007|   3.0| 2.4940958|\n",
      "|   474|  42018|   3.5|0.35903248|\n",
      "|   462|  46855|   4.5|       NaN|\n",
      "|   274|  52435|   3.5| 2.7847338|\n",
      "|   600|  52435|   4.0|  2.331368|\n",
      "|   318|  64497|   3.0| 2.4425256|\n",
      "|   352|  64497|   3.0| 2.8368993|\n",
      "|   292|  71535|   4.0| 3.4663758|\n",
      "|    62|  71535|   3.5| 4.0801845|\n",
      "|   477|  71535|   4.5| 4.2236485|\n",
      "|   352|  71535|   5.0| 3.9685476|\n",
      "|   413|  71535|   5.0| 4.1624045|\n",
      "|    89|  71535|   3.5| 2.4011927|\n",
      "|   599|  78959|   3.0|       NaN|\n",
      "|   408|  85510|   3.5| 3.4634578|\n",
      "|   380|  94405|   3.0| 3.3922677|\n",
      "|   534|  96110|   3.5| 3.8720715|\n",
      "|   212| 135861|   2.0|   2.82057|\n",
      "|   564| 135861|   3.0| 2.4865718|\n",
      "|   365| 157699|   3.0| 3.1758199|\n",
      "|   604|     76|   4.0|  3.337412|\n",
      "|   599|     76|   2.5|  2.677567|\n",
      "|   269|     76|   2.0| 3.8667078|\n",
      "|   380|     76|   3.0| 3.1355004|\n",
      "|   524|     76|   2.0| 3.6592479|\n",
      "|   337|     76|   5.0| 4.0377197|\n",
      "|   402|    667|   3.0|  2.598052|\n",
      "|   136|    688|   3.0| 2.3275607|\n",
      "|   234|    688|   4.0|  2.232568|\n",
      "|   177|    914|   4.0| 3.6643026|\n",
      "|   474|    914|   4.5|  4.018104|\n",
      "|   328|    914|   4.0| 3.7368617|\n",
      "|   169|    914|   5.0|  4.529833|\n",
      "|   554|    914|   4.0|  3.986318|\n",
      "|   489|    914|   5.0|  3.826412|\n",
      "|    84|    914|   4.0|  4.357927|\n",
      "|   186|    914|   4.0|  4.191242|\n",
      "|   315|    914|   3.0| 3.5499964|\n",
      "|   517|    914|   4.5| 2.7987833|\n",
      "|   587|   1372|   4.0| 3.2768085|\n",
      "|   218|   1372|   2.0| 3.2813315|\n",
      "|   474|   1372|   4.5|  2.910285|\n",
      "|    57|   1372|   4.0| 3.3085375|\n",
      "|   570|   1372|   3.0| 3.0364544|\n",
      "|   452|   1372|   4.0| 4.2270803|\n",
      "|    19|   1372|   5.0| 2.9260383|\n",
      "|   202|   1372|   3.0| 3.6885157|\n",
      "|   312|   1372|   4.0|  3.316327|\n",
      "|   518|   1372|   4.0| 2.1706686|\n",
      "|   527|   1372|   4.0|   4.08208|\n",
      "|    45|   1372|   5.0| 3.7372131|\n",
      "|    75|   1372|   4.0| 3.6503918|\n",
      "|   414|   1372|   3.0| 3.7088692|\n",
      "|   135|   1372|   1.0| 2.9449441|\n",
      "|   606|   1480|   3.5| 3.4321945|\n",
      "|   599|   1480|   2.5| 2.8416066|\n",
      "|    59|   1480|   4.0| 3.8074527|\n",
      "|   244|   1480|   4.0| 3.9831686|\n",
      "|   380|   1889|   4.0| 3.5592558|\n",
      "|    74|   1889|   5.0|  3.681474|\n",
      "|   580|   2467|   3.5| 4.5712805|\n",
      "|   387|   2467|   2.5|  3.829733|\n",
      "|   249|   2467|   4.5| 4.4468336|\n",
      "|   199|   2467|   4.5| 3.5003839|\n",
      "|   175|   2526|   0.5| 1.4142325|\n",
      "|   288|   2526|   2.0| 2.1072102|\n",
      "|   330|   2871|   4.0| 3.6334214|\n",
      "|   274|   2871|   3.5| 3.4047246|\n",
      "|   452|   2871|   5.0| 4.3777533|\n",
      "|   403|   2871|   3.0| 3.8594668|\n",
      "|    42|   2871|   5.0| 3.8958817|\n",
      "|   294|   2871|   3.0| 3.2666967|\n",
      "|   562|   2871|   4.0|   3.86555|\n",
      "|    91|   3013|   4.0|       NaN|\n",
      "|   368|   3127|   3.0|  2.325451|\n",
      "|   606|   3252|   4.0| 3.8839574|\n",
      "|   599|   3252|   4.0| 2.8274784|\n",
      "|   552|   3252|   3.5| 3.3938143|\n",
      "|   241|   3252|   3.5|  3.606217|\n",
      "|    68|   3252|   3.5| 2.7847733|\n",
      "|    42|   3252|   4.0| 3.5672371|\n",
      "|   215|   3252|   4.0|  3.683671|\n",
      "|   539|   3264|   3.5| 2.6935456|\n",
      "|   307|   3264|   2.5| 1.7643293|\n",
      "|   312|   3264|   2.0| 2.2452233|\n",
      "|   140|   3359|   4.0| 3.4986444|\n",
      "|   367|   3435|   4.0| 4.2956734|\n",
      "|   599|   3435|   5.0|  3.696378|\n",
      "|   325|   3435|   5.0| 3.9961114|\n",
      "|   474|   3435|   4.0|  4.024125|\n",
      "|    17|   3435|   3.5| 3.9104056|\n",
      "|   275|   3435|   5.0| 5.0202017|\n",
      "|   202|   3725|   3.0|       NaN|\n",
      "|   414|   3725|   4.0|       NaN|\n",
      "|   232|   4700|   2.5|  3.002654|\n",
      "|   599|   4700|   2.0| 2.1813762|\n",
      "|   140|   4700|   3.0| 3.4422348|\n",
      "|   504|   4700|   3.0| 3.3139713|\n",
      "|   438|   4700|   3.5| 2.8221629|\n",
      "|   427|   5040|   3.0| 2.8388445|\n",
      "|   474|   5505|   4.5| 3.2399964|\n",
      "|    51|   5505|   4.0| 2.6820161|\n",
      "|   288|   5505|   3.0| 3.2696567|\n",
      "|   212|   6863|   3.5| 3.2342606|\n",
      "|   274|   6863|   2.5| 3.1400256|\n",
      "|   280|   6863|   3.5|   3.50193|\n",
      "|   308|   6863|   3.5| 2.2493975|\n",
      "|   564|   6863|   3.5| 3.0441904|\n",
      "|   381|   6863|   5.0| 3.4472713|\n",
      "|   219|   6863|   2.5| 3.3684168|\n",
      "|   414|   6863|   3.5| 3.3288975|\n",
      "|   525|   6863|   3.0| 3.3280303|\n",
      "|   282|   6863|   4.0|    3.6956|\n",
      "|   153|   6863|   2.0| 1.5809709|\n",
      "|    18|   6863|   3.5|  3.475228|\n",
      "|   307|   7321|   2.0|  2.421339|\n",
      "|   596|  39183|   4.0| 3.1773667|\n",
      "|    51|  39183|   5.0| 3.8469415|\n",
      "|   331|  39183|   2.5| 4.1851416|\n",
      "|   390|  39183|   2.5|   3.82004|\n",
      "|   105|  39183|   3.5| 3.7381635|\n",
      "|    28|  52952|   3.5| 3.1977859|\n",
      "|   343|  52952|   4.0| 3.9809594|\n",
      "|   599|  55269|   3.0|  2.844209|\n",
      "|   489|  55269|   2.5| 3.1382964|\n",
      "|   307|  55269|   4.0|  2.988783|\n",
      "|   483|  55269|   4.0| 3.4104204|\n",
      "|    89|  55269|   2.5| 2.0033708|\n",
      "|   318|  66744|   4.0| 3.8894677|\n",
      "|   339|  69784|   4.5|  3.017855|\n",
      "|   448|  69784|   3.0|  2.829835|\n",
      "|   489|  79299|   3.0|       NaN|\n",
      "|   610| 107406|   5.0| 3.7752209|\n",
      "|   298| 107406|   3.0| 2.8654733|\n",
      "|   567| 107406|   3.0| 2.1475277|\n",
      "|   117|     26|   4.0| 3.4536517|\n",
      "|   280|     27|   4.5| 3.7043014|\n",
      "|   337|     27|   5.0| 3.2952523|\n",
      "|   595|    501|   4.0|  4.175664|\n",
      "|   234|    577|   3.0| 2.2133126|\n",
      "|   606|   1235|   3.5|  4.426547|\n",
      "|   603|   1235|   3.0| 4.1887236|\n",
      "|   274|   1235|   4.5|  4.135591|\n",
      "|    84|   1235|   3.0| 4.1426806|\n",
      "|    70|   1235|   4.0|  4.444999|\n",
      "|   357|   1235|   4.0| 4.3589134|\n",
      "|   362|   2023|   4.0| 3.6338346|\n",
      "|   452|   2023|   5.0|  3.859037|\n",
      "|    64|   2023|   3.5| 3.3356373|\n",
      "|     9|   2023|   3.0| 2.8442423|\n",
      "|   391|   2023|   3.0| 2.7550647|\n",
      "|   160|   2023|   5.0| 2.9725509|\n",
      "|    62|   2023|   5.0| 3.9104676|\n",
      "|    95|   2023|   4.0| 3.5896158|\n",
      "|   294|   2023|   3.0|  2.500076|\n",
      "|   281|   2023|   1.0| 3.3751817|\n",
      "|   103|   2335|   4.0| 3.3862894|\n",
      "|   274|   2335|   3.0|  3.409247|\n",
      "|   484|   2335|   4.0| 3.2556014|\n",
      "|   555|   2335|   4.0|  3.079868|\n",
      "|   608|   2335|   2.5| 2.8911645|\n",
      "|   600|   2335|   3.0|  2.874467|\n",
      "|   599|   2439|   2.5| 2.4571311|\n",
      "|   448|   2857|   4.0| 3.0633044|\n",
      "|   216|   2857|   4.0|  2.228919|\n",
      "|   381|   3270|   4.0|  2.876376|\n",
      "|    57|   3811|   4.0|  3.614335|\n",
      "|   480|   4774|   2.5| 2.2719488|\n",
      "|   140|   5066|   3.0| 3.7733798|\n",
      "|   143|   5066|   5.0|  3.586617|\n",
      "|   414|   5066|   4.0| 2.6845315|\n",
      "|   525|   5066|   3.5|  2.839852|\n",
      "|   474|   5875|   2.5|       NaN|\n",
      "|   182|   5993|   3.0|  2.936389|\n",
      "|   599|   6936|   3.0| 2.9800453|\n",
      "|   564|   6936|   3.5| 3.5005722|\n",
      "|   380|   6936|   3.0|  4.007379|\n",
      "|    73|   6936|   5.0| 4.0264425|\n",
      "|   480|   6936|   3.5|  3.597105|\n",
      "|   608|   6936|   4.0| 3.2902162|\n",
      "|   525|   6936|   4.0| 3.5769243|\n",
      "|   104|   8643|   2.5| 3.1132467|\n",
      "|   232|   8864|   2.0| 2.7356186|\n",
      "|   318|  26048|   4.5|       NaN|\n",
      "|   580|  30793|   3.0| 2.3293085|\n",
      "|   606|  30793|   4.0| 2.9057977|\n",
      "|   111|  30793|   1.5| 3.2099469|\n",
      "|   177|  30793|   2.5| 2.8682215|\n",
      "|   292|  30793|   3.5| 2.8797562|\n",
      "|   381|  30793|   3.5| 3.3353095|\n",
      "|    73|  30793|   3.5| 2.9417763|\n",
      "|   352|  30793|   3.0| 2.8720322|\n",
      "|   561|  30793|   2.5| 2.6802747|\n",
      "|   483|  30793|   4.0| 3.0945404|\n",
      "|    89|  30793|   2.0|  2.405402|\n",
      "|   401|  30793|   3.0|  2.619685|\n",
      "|    28|  38886|   2.0| 2.2042663|\n",
      "|   600|  38886|   4.5|  2.787222|\n",
      "|   448|  71211|   3.0| 3.4759045|\n",
      "|   596|  81834|   4.0| 3.8633835|\n",
      "|   599|  81834|   3.0| 2.8629942|\n",
      "|   177|  81834|   5.0| 4.0606666|\n",
      "|   590|  81834|   4.0| 3.4674897|\n",
      "|   106|  81834|   5.0| 4.6749125|\n",
      "|   365|  81834|   3.0|   2.47523|\n",
      "|   326|  86781|   4.0| 4.5132613|\n",
      "|   448|  87222|   3.0| 2.8890755|\n",
      "|    50|  87222|   2.0| 1.8250469|\n",
      "|   351|  87222|   3.5| 2.7606826|\n",
      "|   483|  87222|   3.5| 3.5568304|\n",
      "|   292| 115231|   2.5| 2.7431355|\n",
      "|   111| 117851|   3.5| 3.8718278|\n",
      "|   256| 117851|   3.5| 3.4617069|\n",
      "|   105| 117851|   3.5| 3.3836453|\n",
      "|   448| 144262|   2.0|       NaN|\n",
      "|    91|    384|   3.5|  2.346317|\n",
      "|   387|   1019|   3.5|  2.806654|\n",
      "|   304|   1019|   4.0| 3.5199375|\n",
      "|   168|   1269|   4.5|   4.49347|\n",
      "|   590|   1269|   3.5| 3.6914868|\n",
      "|   290|   1269|   4.0|  4.262533|\n",
      "|    59|   1269|   5.0|  4.414057|\n",
      "|   216|   1269|   4.0| 3.7421792|\n",
      "|    89|   1269|   2.5| 2.7847128|\n",
      "|   474|   1927|   3.5| 3.9872272|\n",
      "|   290|   1927|   5.0|  4.515832|\n",
      "|   387|   2750|   4.0|    2.9214|\n",
      "|   156|   2750|   3.0|  2.830704|\n",
      "|   384|   3072|   4.0| 2.8040504|\n",
      "|   197|   3072|   4.0| 3.5353537|\n",
      "|   448|   3072|   3.0| 3.5378842|\n",
      "|   216|   3072|   4.0|   3.10006|\n",
      "|   116|   3072|   2.5|  3.629404|\n",
      "|    66|   3072|   4.0|  4.121452|\n",
      "|   555|   3387|   4.0|  1.991284|\n",
      "|   387|   4408|   3.5|       NaN|\n",
      "|   292|   4830|   4.0|       NaN|\n",
      "|   438|   4866|   3.0| 3.3310509|\n",
      "|   160|   4866|   2.0| 0.6196014|\n",
      "|   414|   4866|   3.0| 2.8310237|\n",
      "|   275|   5258|   2.0| 1.9046798|\n",
      "|   274|   6040|   3.0| 1.7585967|\n",
      "|   254|  33154|   4.0| 4.1333313|\n",
      "|   477|  37857|   4.0|  3.640576|\n",
      "|   480|  42011|   2.5| 2.3516572|\n",
      "|   414|  42011|   2.5|   2.61311|\n",
      "|    89| 101283|   3.0| 1.6696552|\n",
      "|   292| 103249|   3.5|  3.269731|\n",
      "|   610| 103249|   3.0|  2.805603|\n",
      "|   380| 103249|   3.0|  3.345924|\n",
      "|   352| 103249|   4.0| 3.3852232|\n",
      "|   534| 103249|   4.0| 3.0611002|\n",
      "|   298| 103249|   2.0| 1.7574482|\n",
      "|    68| 103249|   3.5|  2.900826|\n",
      "|   365| 103249|   3.0| 1.3944163|\n",
      "|    21| 106918|   3.5|  3.345302|\n",
      "|   105| 106918|   4.0|  4.302236|\n",
      "|   380| 135536|   3.0| 3.1218321|\n",
      "|   567| 135536|   0.5| 1.8790281|\n",
      "|   396|     44|   2.0| 2.5718844|\n",
      "|   219|     44|   1.5| 2.1724827|\n",
      "|   534|     44|   4.0|  3.360494|\n",
      "|    11|     44|   2.0| 2.2589848|\n",
      "|   597|    159|   2.0| 2.8688703|\n",
      "|   606|    159|   3.5| 2.6937876|\n",
      "|   610|    159|   3.5| 3.3072836|\n",
      "|   269|    743|   3.0| 2.4287932|\n",
      "|   555|    743|   1.0| 2.8171253|\n",
      "|   389|    743|   2.0| 3.1038706|\n",
      "|   137|    908|   4.5|  4.396102|\n",
      "|   412|    908|   5.0| 4.4609823|\n",
      "|   601|    908|   4.5|  4.280344|\n",
      "|   128|    908|   5.0| 4.5027905|\n",
      "|   274|    908|   3.5| 3.3751042|\n",
      "|   339|    908|   4.5|  4.097212|\n",
      "|   462|    908|   4.0| 3.9371154|\n",
      "|   387|    908|   4.0| 3.7054787|\n",
      "|   219|    908|   4.0| 3.7506013|\n",
      "|   414|    908|   4.0|  4.455443|\n",
      "|   334|    908|   3.5| 3.5000138|\n",
      "|   213|    908|   4.0|  3.820723|\n",
      "|   131|    908|   4.0| 3.8175673|\n",
      "|   275|    908|   5.0| 4.4080763|\n",
      "|   177|    916|   5.0| 3.6644506|\n",
      "|   355|    916|   4.0|  4.476909|\n",
      "|   474|    916|   4.0| 3.8390276|\n",
      "|   307|    916|   4.0| 3.3044019|\n",
      "|    84|    916|   3.0|  4.258234|\n",
      "|   356|    916|   4.5| 4.2664633|\n",
      "|   113|    916|   5.0| 3.2049873|\n",
      "|    89|    916|   3.5| 3.7215216|\n",
      "|   474|   1135|   2.0| 2.9406445|\n",
      "|   561|   1135|   2.5| 3.4386795|\n",
      "|   606|   1350|   4.0| 4.0529222|\n",
      "|   236|   1350|   4.0|  4.063431|\n",
      "|   274|   1350|   3.5| 3.8966036|\n",
      "|    51|   1350|   4.5| 4.3900757|\n",
      "|   288|   1350|   3.0|  3.298278|\n",
      "|   608|   1350|   3.5| 3.4381707|\n",
      "|   313|   1350|   4.0| 4.4568424|\n",
      "|   603|   1875|   4.0| 3.9715376|\n",
      "|   474|   1875|   3.5| 3.4014099|\n",
      "|   288|   2134|   3.0| 2.8823981|\n",
      "|   226|   2134|   4.0| 3.3897939|\n",
      "|   275|   2134|   3.0|  3.647883|\n",
      "|   483|   2134|   3.5| 3.0035756|\n",
      "|   307|   2169|   1.5| 1.5865476|\n",
      "|   265|   2322|   4.0| 2.5836022|\n",
      "|   414|   2322|   3.0| 3.0358381|\n",
      "|     1|   2644|   4.0|  3.413665|\n",
      "|   499|   2644|   2.5| 3.7223647|\n",
      "|   234|   3287|   2.0| 3.4630854|\n",
      "|   103|   3481|   4.5| 4.0595665|\n",
      "|   122|   3481|   4.5|  4.465724|\n",
      "|   599|   3481|   3.0|  2.908829|\n",
      "|   185|   3481|   4.0| 3.7683597|\n",
      "|   274|   3481|   4.0| 3.3110526|\n",
      "|   474|   3481|   5.0| 3.5865915|\n",
      "|   327|   3481|   5.0| 3.3776722|\n",
      "|     4|   3481|   2.0| 3.9428973|\n",
      "|   391|   3481|   4.0|  3.462308|\n",
      "|   509|   3481|   3.5| 3.2137644|\n",
      "|   490|   3481|   4.0| 3.1428251|\n",
      "|   608|   3481|   4.5|  3.443976|\n",
      "|   370|   3481|   4.0|  3.267284|\n",
      "|   600|   3481|   3.0| 2.7739353|\n",
      "|   357|   3481|   3.0| 4.0438685|\n",
      "|   275|   3481|   4.0| 3.9111047|\n",
      "|    74|   3481|   3.5| 3.9577854|\n",
      "|   606|   3528|   4.0| 1.7930379|\n",
      "|   202|   3528|   4.0| 2.4182653|\n",
      "|   238|   3528|   4.0| 2.0942078|\n",
      "|   155|   3744|   4.0|  3.218687|\n",
      "|    20|   3744|   1.0| 2.9616156|\n",
      "|   139|   3744|   1.5| 1.4077263|\n",
      "|   438|   3744|   3.5| 2.4111223|\n",
      "|   352|   3744|   2.0| 3.1271322|\n",
      "|   555|   3783|   5.0| 3.9641669|\n",
      "|   182|   5219|   2.0| 2.4711995|\n",
      "|   249|   5219|   3.5| 3.4691565|\n",
      "|   160|   5219|   2.0| 1.8383532|\n",
      "|   558|   5219|   3.0| 2.8843572|\n",
      "|   534|   5219|   4.0| 3.1955376|\n",
      "|    68|   5219|   4.0| 3.0745895|\n",
      "|   260|   5219|   3.0| 2.3854187|\n",
      "|   156|   6509|   4.0|       NaN|\n",
      "|   600|   6509|   4.0|       NaN|\n",
      "|   448|   7257|   2.0| 1.9534023|\n",
      "|   414|   7257|   2.5| 2.3784113|\n",
      "|   380|   8967|   2.0| 1.7458594|\n",
      "|   382|  48598|   3.5|  4.076803|\n",
      "|   232|  57368|   2.5| 3.4604783|\n",
      "|   279|  57368|   3.0|  3.137816|\n",
      "|   610|  57368|   4.0| 3.4833286|\n",
      "|   239|  57368|   2.5| 3.6662204|\n",
      "|   610|  61289|   3.0| 2.3560958|\n",
      "|   534|  61289|   4.5|  2.203909|\n",
      "|   168|  71033|   4.5|  4.164982|\n",
      "|   308|  71033|   1.0| 2.8664858|\n",
      "|   448|  71033|   4.0| 3.5889015|\n",
      "|   222|  78469|   2.5| 2.8321931|\n",
      "|   274|  78469|   3.5| 3.1799123|\n",
      "|   380|  78469|   4.0| 3.2827137|\n",
      "|   563|  90524|   3.5|       NaN|\n",
      "|   599| 111743|   1.0| 1.6004186|\n",
      "|   306| 111743|   3.0| 2.3349326|\n",
      "|   448| 111743|   3.5|  2.675075|\n",
      "|   249| 111743|   3.5| 3.1416402|\n",
      "|    21| 111743|   3.5|   2.65448|\n",
      "|   556| 122890|   4.0| 3.9429476|\n",
      "|   249| 122890|   4.0|  3.502287|\n",
      "|   462| 167064|   5.0|       NaN|\n",
      "|   132|    253|   2.0| 2.8755763|\n",
      "|   603|    253|   3.0| 3.2121847|\n",
      "|   512|    253|   5.0| 4.1591864|\n",
      "|     6|    253|   3.0| 3.3019676|\n",
      "|    94|    253|   1.0| 3.2173045|\n",
      "|   570|    253|   3.0| 3.1878383|\n",
      "|   489|    253|   4.0| 2.8566105|\n",
      "|   173|    253|   3.0| 2.4704368|\n",
      "|   524|    253|   3.0| 2.9609284|\n",
      "|   249|    253|   4.0| 3.7868006|\n",
      "|   160|    253|   3.0|  3.510089|\n",
      "|   534|    253|   4.0| 3.8698845|\n",
      "|   536|    253|   1.0|  3.756225|\n",
      "|    58|    253|   2.0| 3.3892822|\n",
      "|    68|    253|   2.5| 2.8106635|\n",
      "|   379|    253|   3.0| 3.1288316|\n",
      "|   357|    253|   4.0| 3.7534204|\n",
      "|   313|    253|   4.0| 4.4049745|\n",
      "|   144|    253|   4.5| 3.4678948|\n",
      "|   134|    253|   4.0| 3.7337716|\n",
      "|   187|    253|   3.5| 3.9354632|\n",
      "|    76|   1148|   0.5| 2.8704631|\n",
      "|   177|   1148|   4.0| 3.8119442|\n",
      "|   328|   1148|   3.0| 4.0770984|\n",
      "|    20|   1148|   5.0|  4.836362|\n",
      "|   283|   1148|   2.0| 3.6747193|\n",
      "|    19|   1148|   4.0| 3.6659195|\n",
      "|   327|   1148|   4.0| 4.6006684|\n",
      "|   590|   1148|   3.5|  4.308042|\n",
      "|    63|   1148|   5.0| 3.9912143|\n",
      "|    89|   1148|   2.0| 2.6979427|\n",
      "|   580|   1210|   4.0| 4.0108624|\n",
      "|   597|   1210|   5.0|  4.575898|\n",
      "|   368|   1210|   4.0| 3.4796274|\n",
      "|    27|   1210|   4.0| 3.9839272|\n",
      "|   606|   1210|   4.5| 3.8613732|\n",
      "|   330|   1210|   5.0| 3.8515322|\n",
      "|   372|   1210|   5.0| 3.8721466|\n",
      "|   224|   1210|   2.0| 4.2917924|\n",
      "|   132|   1210|   2.0| 3.1656723|\n",
      "|   212|   1210|   3.5|  3.567593|\n",
      "|   164|   1210|   4.0|  4.725226|\n",
      "|   559|   1210|   4.0| 3.9950783|\n",
      "|   266|   1210|   3.0|  4.000024|\n",
      "|    19|   1210|   3.0| 3.4007225|\n",
      "|    64|   1210|   3.5| 4.3117695|\n",
      "|   425|   1210|   3.0|  3.965421|\n",
      "|   318|   1210|   4.0|  4.075642|\n",
      "|    17|   1210|   5.0| 4.3963003|\n",
      "|   381|   1210|   3.5| 3.8695288|\n",
      "|    59|   1210|   3.0| 4.2842875|\n",
      "|   549|   1210|   2.0|  3.649658|\n",
      "|   465|   1210|   4.0| 4.2610855|\n",
      "|   391|   1210|   4.0| 3.6901598|\n",
      "|   438|   1210|   5.0|  4.299414|\n",
      "|    69|   1210|   5.0| 4.7042484|\n",
      "|   524|   1210|   3.0| 4.0684395|\n",
      "|    77|   1210|   5.0|  4.462356|\n",
      "|   364|   1210|   3.0| 4.7377305|\n",
      "|   167|   1210|   4.0|  3.669604|\n",
      "|   480|   1210|   3.5|  3.674379|\n",
      "|   469|   1210|   3.0|  3.930924|\n",
      "|   200|   1210|   5.0|  4.311701|\n",
      "|   354|   1210|   4.0| 4.2010393|\n",
      "|   298|   1210|   4.5| 3.1364007|\n",
      "|   525|   1210|   4.0|  3.822417|\n",
      "|   561|   1210|   4.5|  4.092367|\n",
      "|   198|   1210|   5.0| 3.8090343|\n",
      "|   344|   1210|   5.0|  4.268805|\n",
      "|   135|   1210|   4.0| 4.2379866|\n",
      "|   248|   1210|   3.5| 3.5560255|\n",
      "|    79|   1210|   5.0| 4.3766756|\n",
      "|   276|   1210|   5.0|  5.408083|\n",
      "|   573|   1210|   5.0| 4.8609247|\n",
      "|   172|   1210|   4.5| 4.1713953|\n",
      "|   551|   1210|   3.5| 3.8426542|\n",
      "|   483|   1210|   4.5| 3.9713619|\n",
      "|   208|   1210|   4.0| 3.9737377|\n",
      "|   332|   1280|   3.5| 4.1716614|\n",
      "|   202|   1280|   4.0|  4.625231|\n",
      "|   214|   1363|   3.0| 2.8297389|\n",
      "|    19|   1689|   2.0| 2.3569078|\n",
      "|   294|   1689|   2.0| 2.8532119|\n",
      "|   603|   1759|   5.0|       NaN|\n",
      "|   414|   1866|   2.0| 3.2712104|\n",
      "|   597|   1955|   5.0|  4.242761|\n",
      "|    70|   1955|   3.5| 4.2965927|\n",
      "|   517|   1955|   2.5| 3.0382137|\n",
      "|   346|   2076|   3.5| 3.6249194|\n",
      "|   132|   2076|   3.0| 2.8170626|\n",
      "|   603|   2076|   5.0|  3.948513|\n",
      "|   474|   2076|   4.0| 3.3146052|\n",
      "|    59|   2076|   5.0| 4.0367937|\n",
      "|   427|   2076|   4.0| 4.1863914|\n",
      "|   390|   2076|   4.5|  3.884504|\n",
      "|   225|   2371|   4.0| 3.4017677|\n",
      "|   397|   2371|   2.5| 2.4982367|\n",
      "|   217|   2371|   2.0| 3.2874792|\n",
      "|    51|   2371|   3.5| 3.4555802|\n",
      "|   448|   2371|   3.0| 3.1724985|\n",
      "|   167|   2371|   3.0| 2.5810962|\n",
      "|   603|   2727|   3.0|       NaN|\n",
      "|   474|   2804|   4.0|  3.876275|\n",
      "|    45|   2804|   3.0| 4.0765724|\n",
      "|   288|   2804|   5.0|  3.768736|\n",
      "|   477|   2804|   4.0|  4.140191|\n",
      "|   221|   2804|   3.5|  4.237073|\n",
      "|   357|   2804|   5.0| 4.1745977|\n",
      "|   533|   3727|   5.0| 3.9758587|\n",
      "|   313|   3727|   5.0|  4.149143|\n",
      "|   474|   4036|   3.0| 2.3870163|\n",
      "|   387|   4036|   3.0|  3.025691|\n",
      "|   419|   5480|   0.5|  3.306464|\n",
      "|   414|   5480|   3.0|  1.844552|\n",
      "|   599|   5768|   3.0|       NaN|\n",
      "|   462|   6528|   2.0|       NaN|\n",
      "|   177|  25906|   5.0|       NaN|\n",
      "|   534|  51024|   4.0| 3.3078084|\n",
      "|   212|  55247|   3.5| 3.8037977|\n",
      "|   359|  55247|   2.5| 3.8874066|\n",
      "|    41|  55247|   4.0| 3.4624119|\n",
      "|    50|  55247|   2.5|  2.683904|\n",
      "|   249|  55247|   3.5|  4.062088|\n",
      "|   526|  55247|   4.5|  4.325283|\n",
      "|   334|  55247|   3.5| 3.4651403|\n",
      "|   105|  55247|   5.0| 4.2401743|\n",
      "|   119|  55247|   4.0|  4.366677|\n",
      "|   466|  55247|   4.5|  3.967946|\n",
      "|   405|  55247|   4.5| 3.5095675|\n",
      "|    18|  55247|   3.5| 3.9856796|\n",
      "|    74|  55247|   4.5|  4.171297|\n",
      "|   448|  60161|   3.0|  3.238531|\n",
      "|   483|  60161|   3.5|  3.514733|\n",
      "|   405|  70708|   4.5|       NaN|\n",
      "|   280|  71619|   4.0|       NaN|\n",
      "|   352|  99007|   4.0| 3.7635562|\n",
      "|   111| 102123|   4.5|  3.093843|\n",
      "|   298| 102123|   1.5| 2.0847747|\n",
      "|   610| 103685|   4.5|       NaN|\n",
      "|   319| 112552|   5.0|  4.301713|\n",
      "|   279| 112552|   3.5| 3.5920963|\n",
      "|   445| 112552|   4.5| 3.9259467|\n",
      "|   514| 112552|   4.5|  3.875151|\n",
      "|   105| 112552|   4.0| 4.4864073|\n",
      "|     2| 112552|   4.0| 3.7040286|\n",
      "|   153| 112552|   1.0| 2.7787244|\n",
      "|   501|    103|   3.0| 2.3696587|\n",
      "|   458|    236|   4.0| 4.2356277|\n",
      "|   191|    236|   3.0| 2.5418565|\n",
      "|   117|    236|   3.0| 3.2460976|\n",
      "|   447|    236|   3.0|  3.677127|\n",
      "|    51|    236|   5.0| 3.4893928|\n",
      "|   404|    236|   3.0| 3.1980326|\n",
      "|   126|    329|   4.0| 2.9364176|\n",
      "|   325|    329|   3.0| 2.7266307|\n",
      "|   429|    329|   3.0| 3.8329387|\n",
      "|   570|    329|   3.5| 3.0421357|\n",
      "|   455|    329|   3.0| 3.2015135|\n",
      "|   179|    329|   3.0|  3.587836|\n",
      "|   552|    329|   3.5|  2.718173|\n",
      "|   594|    329|   4.0|  4.061809|\n",
      "|   176|    329|   5.0| 3.7822597|\n",
      "|   380|    329|   3.0|  3.509901|\n",
      "|   446|    329|   3.0| 3.0327938|\n",
      "|   465|    329|   3.0| 3.3413358|\n",
      "|   448|    329|   4.0|  3.169563|\n",
      "|   264|    329|   4.5|  3.085987|\n",
      "|   395|    329|   3.0| 3.0902076|\n",
      "|    45|    329|   4.0| 3.4592505|\n",
      "|   160|    329|   1.0|  2.377081|\n",
      "|   265|    329|   4.0| 3.3067937|\n",
      "|   541|    329|   4.0| 3.2840724|\n",
      "|   149|    329|   1.0| 2.4461532|\n",
      "|    33|   1056|   4.0| 2.6070848|\n",
      "|   217|   1085|   3.0| 2.3019388|\n",
      "|   236|   2496|   3.0|  3.690193|\n",
      "|   274|   2496|   3.5| 3.0520158|\n",
      "|    19|   2496|   3.0| 2.8010378|\n",
      "|   579|   2496|   4.0| 2.8639057|\n",
      "|   217|   2496|   2.0| 2.8397074|\n",
      "|   555|   2496|   2.0|   3.26964|\n",
      "|   304|   2496|   3.0|  3.823721|\n",
      "|   140|   2497|   4.0| 2.2123365|\n",
      "|   603|   2629|   2.0| 1.6993546|\n",
      "|   140|   3173|   4.0| 2.7219572|\n",
      "|   307|   3173|   3.0|  2.242139|\n",
      "|   244|   3173|   3.0| 3.2146091|\n",
      "|   448|   3173|   3.0| 2.7966082|\n",
      "|   474|   3258|   2.5| 2.1346035|\n",
      "|    57|   3258|   3.0| 2.2393553|\n",
      "|    19|   3258|   2.0|  1.958593|\n",
      "|   489|   3258|   4.0| 1.5482167|\n",
      "|   217|   3258|   3.0|  2.161704|\n",
      "|   543|   3258|   5.0| 3.6649415|\n",
      "|   579|   3512|   3.0| 3.8840551|\n",
      "|   138|   3972|   5.0|  4.996593|\n",
      "|   232|   4025|   3.0| 2.9961925|\n",
      "|   367|   4025|   5.0| 3.8910944|\n",
      "|   140|   4025|   4.0| 3.1523924|\n",
      "|   292|   4025|   3.0| 3.1911383|\n",
      "|   542|   4025|   3.0| 3.4710927|\n",
      "|   504|   4025|   3.5| 3.2842894|\n",
      "|   380|   4025|   3.0| 2.8735688|\n",
      "|   448|   4025|   2.0| 2.2850106|\n",
      "|   509|   4025|   3.5|  2.799636|\n",
      "|   219|   4025|   0.5|  2.073035|\n",
      "|   141|   4025|   2.5| 2.8331246|\n",
      "|    68|   4025|   4.0| 3.2679613|\n",
      "|   525|   4025|   4.0|  2.845765|\n",
      "|   282|   4025|   3.0| 3.1941156|\n",
      "|   307|   4104|   1.5| 1.1150004|\n",
      "|   213|   4368|   3.0|  2.389155|\n",
      "|    89|   4899|   2.0| 2.3682497|\n",
      "|   414|   5080|   2.0| 3.0095532|\n",
      "|   474|   5238|   3.5| 2.9468274|\n",
      "|   448|   5401|   1.0|  1.728613|\n",
      "|   608|   5401|   2.0|  2.541048|\n",
      "|   274|   5891|   3.0| 2.1920013|\n",
      "|   590|   7311|   4.0| 3.0734522|\n",
      "|   104|  41573|   3.5|  2.944665|\n",
      "|   610|  44195|   3.5|  4.697461|\n",
      "|   288|  44195|   4.0| 3.7112103|\n",
      "|   125|  44195|   4.0| 4.0904675|\n",
      "+------+-------+------+----------+\n",
      "only showing top 2500 rows\n",
      "\n"
     ]
    }
   ],
   "source": [
    "test_predictions.filter(test_predictions.prediction.isNotNull()).show(2500)"
   ]
  },
  {
   "cell_type": "code",
   "execution_count": 53,
   "metadata": {},
   "outputs": [
    {
     "name": "stdout",
     "output_type": "stream",
     "text": [
      "20093\n",
      "19293\n"
     ]
    }
   ],
   "source": [
    "print(test_predictions.count())\n",
    "test_predictions = test_predictions.na.drop()\n",
    "print(test_predictions.count())"
   ]
  },
  {
   "cell_type": "code",
   "execution_count": 54,
   "metadata": {},
   "outputs": [
    {
     "data": {
      "text/plain": [
       "0.8834857303247121"
      ]
     },
     "execution_count": 54,
     "metadata": {},
     "output_type": "execute_result"
    }
   ],
   "source": [
    "evaluator.evaluate(test_predictions)"
   ]
  },
  {
   "cell_type": "markdown",
   "metadata": {
    "slideshow": {
     "slide_type": "slide"
    }
   },
   "source": [
    "### Important Question\n",
    "\n",
    "Will Billy like movie m?"
   ]
  },
  {
   "cell_type": "code",
   "execution_count": 55,
   "metadata": {
    "slideshow": {
     "slide_type": "slide"
    }
   },
   "outputs": [],
   "source": [
    "billy_row = user_factors[user_factors['id'] == 10].first()\n",
    "billy_factors = np.array(billy_row['features'])"
   ]
  },
  {
   "cell_type": "code",
   "execution_count": 56,
   "metadata": {
    "slideshow": {
     "slide_type": "slide"
    }
   },
   "outputs": [],
   "source": [
    "m_row = item_factors[item_factors['id'] == 296].first()\n",
    "m_factors = np.array(m_row['features'])"
   ]
  },
  {
   "cell_type": "code",
   "execution_count": 57,
   "metadata": {
    "scrolled": true,
    "slideshow": {
     "slide_type": "slide"
    }
   },
   "outputs": [
    {
     "data": {
      "text/plain": [
       "array([-0.24594471,  0.663706  , -1.06943846,  1.06504226, -1.19796598,\n",
       "        0.44404691, -0.17034313,  0.62352639,  0.09987149, -0.50399488])"
      ]
     },
     "execution_count": 57,
     "metadata": {},
     "output_type": "execute_result"
    }
   ],
   "source": [
    "billy_factors"
   ]
  },
  {
   "cell_type": "code",
   "execution_count": 58,
   "metadata": {
    "slideshow": {
     "slide_type": "slide"
    }
   },
   "outputs": [
    {
     "data": {
      "text/plain": [
       "array([ 0.16406441, -0.42935836,  0.01214545,  0.83501232, -0.93340421,\n",
       "        0.93720305, -1.30829847, -1.0222249 , -0.5035938 , -0.92789817])"
      ]
     },
     "execution_count": 58,
     "metadata": {},
     "output_type": "execute_result"
    }
   ],
   "source": [
    "m_factors"
   ]
  },
  {
   "cell_type": "code",
   "execution_count": 59,
   "metadata": {
    "slideshow": {
     "slide_type": "slide"
    }
   },
   "outputs": [
    {
     "data": {
      "text/plain": [
       "2.08820142094766"
      ]
     },
     "execution_count": 59,
     "metadata": {},
     "output_type": "execute_result"
    }
   ],
   "source": [
    "billy_factors @ m_factors"
   ]
  },
  {
   "cell_type": "code",
   "execution_count": 70,
   "metadata": {
    "slideshow": {
     "slide_type": "slide"
    }
   },
   "outputs": [],
   "source": [
    "billy_preds = test_predictions[test_predictions['userId'] == 10]"
   ]
  },
  {
   "cell_type": "code",
   "execution_count": 71,
   "metadata": {
    "scrolled": true,
    "slideshow": {
     "slide_type": "slide"
    }
   },
   "outputs": [
    {
     "name": "stdout",
     "output_type": "stream",
     "text": [
      "+------+-------+------+----------+\n",
      "|userId|movieId|rating|prediction|\n",
      "+------+-------+------+----------+\n",
      "|    10|    356|   3.5| 3.7165873|\n",
      "|    10|    597|   3.5|   3.51923|\n",
      "|    10|   1307|   3.0| 3.0251868|\n",
      "|    10|   2959|   0.5| 2.5241995|\n",
      "|    10|   4306|   4.5| 3.6072264|\n",
      "|    10|   5952|   4.0| 2.5943336|\n",
      "|    10|   6155|   3.0| 3.8278906|\n",
      "|    10|   6535|   4.0| 3.0703773|\n",
      "|    10|   7151|   3.0| 2.3716252|\n",
      "|    10|   7293|   3.5| 4.0405393|\n",
      "|    10|   8961|   2.5| 2.8267362|\n",
      "|    10|  30749|   3.5| 2.7336738|\n",
      "|    10|  51662|   3.0| 2.4111786|\n",
      "|    10|  51705|   4.5| 2.9769802|\n",
      "|    10|  58559|   4.5| 2.6603174|\n",
      "|    10|  59421|   2.0| 3.3664527|\n",
      "|    10|  60950|   2.0| 1.8235226|\n",
      "|    10|  61250|   2.5| 2.6568308|\n",
      "|    10|  63113|   3.5| 2.8833141|\n",
      "|    10|  69844|   3.0| 2.7508037|\n",
      "+------+-------+------+----------+\n",
      "only showing top 20 rows\n",
      "\n"
     ]
    }
   ],
   "source": [
    "billy_preds.sort('movieId').show()"
   ]
  },
  {
   "cell_type": "code",
   "execution_count": 72,
   "metadata": {
    "slideshow": {
     "slide_type": "slide"
    }
   },
   "outputs": [
    {
     "name": "stdout",
     "output_type": "stream",
     "text": [
      "356,Forrest Gump (1994),Comedy|Drama|Romance|War\r",
      "\r\n",
      "1356,Star Trek: First Contact (1996),Action|Adventure|Sci-Fi|Thriller\r",
      "\r\n",
      "2356,Celebrity (1998),Comedy\r",
      "\r\n",
      "3563,\"Crow: Salvation, The (2000)\",Action|Horror\r",
      "\r\n",
      "3564,\"Flintstones in Viva Rock Vegas, The (2000)\",Children|Comedy\r",
      "\r\n",
      "3565,Where the Heart Is (2000),Comedy|Drama\r",
      "\r\n",
      "3566,\"Big Kahuna, The (2000)\",Comedy|Drama\r",
      "\r\n",
      "3567,Bossa Nova (2000),Comedy|Drama|Romance\r",
      "\r\n",
      "3568,Smiling Fish and Goat on Fire (1999),Comedy|Romance\r",
      "\r\n",
      "3569,\"Idiots, The (Idioterne) (1998)\",Comedy|Drama\r",
      "\r\n",
      "4356,Gentlemen Prefer Blondes (1953),Comedy|Musical|Romance\r",
      "\r\n",
      "5356,\"Giant Spider Invasion, The (1975)\",Horror|Sci-Fi\r",
      "\r\n",
      "33564,Divorce - Italian Style (Divorzio all'italiana) (1961),Comedy\r",
      "\r\n",
      "43560,Nanny McPhee (2005),Children|Comedy|Fantasy\r",
      "\r\n",
      "50356,The Little World of Don Camillo (1952),Comedy\r",
      "\r\n",
      "72356,Partly Cloudy (2009),Animation|Children|Comedy|Fantasy\r",
      "\r\n",
      "73569,Project A 2 ('A' gai wak juk jap) (1987),Action|Comedy|Crime\r",
      "\r\n",
      "88356,\"Smurfs, The (2011)\",Animation|Children|Comedy\r",
      "\r\n",
      "93563,Lockout (2012),Action|Sci-Fi|Thriller\r",
      "\r\n",
      "113565,\"Sacrament, The (2013)\",Horror|Thriller\r",
      "\r\n",
      "193565,Gintama: The Movie (2010),Action|Animation|Comedy|Sci-Fi\r",
      "\r\n",
      "193567,anohana: The Flower We Saw That Day - The Movie (2013),Animation|Drama\r",
      "\r\n"
     ]
    }
   ],
   "source": [
    "!grep 356 < data/movies.csv"
   ]
  },
  {
   "cell_type": "markdown",
   "metadata": {
    "slideshow": {
     "slide_type": "slide"
    }
   },
   "source": [
    "## Okay, what *will* Billy like?"
   ]
  },
  {
   "cell_type": "code",
   "execution_count": 73,
   "metadata": {
    "slideshow": {
     "slide_type": "slide"
    }
   },
   "outputs": [],
   "source": [
    "recs = als_model.recommendForAllUsers(numItems=10)"
   ]
  },
  {
   "cell_type": "code",
   "execution_count": 74,
   "metadata": {
    "slideshow": {
     "slide_type": "slide"
    }
   },
   "outputs": [
    {
     "data": {
      "text/plain": [
       "[Row(movieId=7121, rating=4.9583210945129395),\n",
       " Row(movieId=5034, rating=4.869685649871826),\n",
       " Row(movieId=8235, rating=4.82766056060791),\n",
       " Row(movieId=515, rating=4.744690418243408),\n",
       " Row(movieId=3548, rating=4.693119049072266),\n",
       " Row(movieId=72641, rating=4.676361560821533),\n",
       " Row(movieId=6201, rating=4.6520795822143555),\n",
       " Row(movieId=4495, rating=4.6520795822143555),\n",
       " Row(movieId=2295, rating=4.6520795822143555),\n",
       " Row(movieId=8869, rating=4.610371112823486)]"
      ]
     },
     "execution_count": 74,
     "metadata": {},
     "output_type": "execute_result"
    }
   ],
   "source": [
    "recs[recs['userId']==10].first()['recommendations']"
   ]
  },
  {
   "cell_type": "code",
   "execution_count": 84,
   "metadata": {
    "slideshow": {
     "slide_type": "slide"
    }
   },
   "outputs": [
    {
     "name": "stdout",
     "output_type": "stream",
     "text": [
      "8869,First Daughter (2004),Comedy|Romance\r",
      "\r\n",
      "88697,SUBWAYStories: Tales from the Underground (1997),Drama\r",
      "\r\n",
      "88699,Death Race 2 (2010),Action|Sci-Fi|Thriller\r",
      "\r\n"
     ]
    }
   ],
   "source": [
    "!grep 8869 < data/movies.csv"
   ]
  },
  {
   "cell_type": "markdown",
   "metadata": {
    "slideshow": {
     "slide_type": "slide"
    }
   },
   "source": [
    "## Objective Review\n",
    "\n",
    "* Identify the key components of the ALS \n",
    "* Demonstrate an understanding on how recommendation systems are being used for personalization of online services/products\n",
    "* Parse and filter datasets into Spark DataFrame, performing basic feature selection\n",
    "* Run a brief hyper-parameter selection activity through a scalable grid search\n",
    "* Train and evaluate the predictive performance of recommendation system\n",
    "* Generate predictions from the trained model"
   ]
  },
  {
   "cell_type": "markdown",
   "metadata": {
    "slideshow": {
     "slide_type": "slide"
    }
   },
   "source": [
    "## Some great technical resources:\n",
    "\n",
    "- [Stanford ALS Theory and Implementation](http://stanford.edu/~rezab/classes/cme323/S15/notes/lec14.pdf)\n",
    "- [The Netflix Recommendation Project](https://www.netflixprize.com/assets/GrandPrize2009_BPC_BellKor.pdf)"
   ]
  }
 ],
 "metadata": {
  "celltoolbar": "Slideshow",
  "kernelspec": {
   "display_name": "Python 3",
   "language": "python",
   "name": "python3"
  },
  "language_info": {
   "codemirror_mode": {
    "name": "ipython",
    "version": 3
   },
   "file_extension": ".py",
   "mimetype": "text/x-python",
   "name": "python",
   "nbconvert_exporter": "python",
   "pygments_lexer": "ipython3",
   "version": "3.7.3"
  }
 },
 "nbformat": 4,
 "nbformat_minor": 2
}
