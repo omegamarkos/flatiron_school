{
 "cells": [
  {
   "cell_type": "markdown",
   "metadata": {
    "slideshow": {
     "slide_type": "slide"
    }
   },
   "source": [
    "# Building a Movie Recommendation System in PySpark - Lab Code-along\n",
    "![images of vhs tapes on shelf](img/movies.jpg)"
   ]
  },
  {
   "cell_type": "markdown",
   "metadata": {
    "slideshow": {
     "slide_type": "slide"
    }
   },
   "source": [
    "## Introduction\n",
    "\n",
    "In this last lab, we will implement a a movie recommendation system using Alternating Least Squares (ALS) in the Spark programming environment.<br> Spark's machine learning libraray `ml` comes packaged with a very efficient imeplementation of the ALS algorithm. \n",
    "\n",
    "The lab will require you to put into practice your spark programming skills for creating and manipulating pyspark DataFrames. We will go through a step-by-step process into developing a movie recommendation system using ALS and pyspark using the MovieLens Dataset.\n",
    "\n",
    "Note: You are advised to refer to [PySpark Documentation](http://spark.apache.org/docs/2.2.0/api/python/index.html) heavily for completing this lab as it will introduce a few new methods. "
   ]
  },
  {
   "cell_type": "markdown",
   "metadata": {
    "slideshow": {
     "slide_type": "slide"
    }
   },
   "source": [
    "## Objectives\n",
    "\n",
    "You will be able to:\n",
    "\n",
    "* Identify the key components of the ALS \n",
    "* Demonstrate an understanding on how recommendation systems are being used for personalization of online services/products\n",
    "* Parse and filter datasets into Spark DataFrame, performing basic feature selection\n",
    "* Run a brief hyper-parameter selection activity through a scalable grid search\n",
    "* Train and evaluate the predictive performance of recommendation system\n",
    "* Generate predictions from the trained model"
   ]
  },
  {
   "cell_type": "markdown",
   "metadata": {
    "slideshow": {
     "slide_type": "slide"
    }
   },
   "source": [
    "## Building a Recommendation System\n",
    "\n",
    "We have seen how recommender/Recommendation Systems have played an  integral parts in the success of Amazon (Books, Items), Pandora/Spotify (Music), Google (News, Search), YouTube (Videos) etc.  For Amazon these systems bring more than 30% of their total revenues. For Netflix service, 75% of movies that people watch are based on some sort of recommendation.\n",
    "\n",
    "> The goal of Recommendation Systems is to find what is likely to be of interest to the user. This enables organizations to offer a high level of personalization and customer tailored services."
   ]
  },
  {
   "cell_type": "markdown",
   "metadata": {
    "slideshow": {
     "slide_type": "slide"
    }
   },
   "source": [
    "### We sort of get the concept\n",
    "\n",
    "For online video content services like Netflix and Hulu, the need to build robust movie recommendation systems is extremely important. An example of recommendation system is such as this:\n",
    "\n",
    "1.    User A watches Game of Thrones and Breaking Bad.\n",
    "2.    User B performs a search query for Game of Thrones.\n",
    "3.    The system suggests Breaking Bad to user B from data collected about user A.\n",
    "\n",
    "\n",
    "This lab will guide you through a step-by-step process into developing such a movie recommendation system. We will use the MovieLens dataset to build a movie recommendation system using the collaborative filtering technique with Spark's Alternating Least Saqures implementation. After building that recommendation system, we will go through the process of adding a new user to the dataset with some new ratings and obtaining new recommendations for that user."
   ]
  },
  {
   "cell_type": "markdown",
   "metadata": {
    "slideshow": {
     "slide_type": "slide"
    }
   },
   "source": [
    "## Will Nightengale like Toy Story?\n",
    "\n",
    "Collaborative filtering and matrix decomposition allows us to use the history of others ratings, along with the entire community of ratings, to answer that question.\n",
    "\n",
    "![image1](img/collab.png)\n"
   ]
  },
  {
   "cell_type": "markdown",
   "metadata": {
    "slideshow": {
     "slide_type": "slide"
    }
   },
   "source": [
    "## Person vs vegetable\n",
    "\n",
    "It's important to realize that there are two sides to recommendation\n",
    "\n",
    "![image2](img/item_user_based.png)"
   ]
  },
  {
   "cell_type": "markdown",
   "metadata": {
    "slideshow": {
     "slide_type": "slide"
    }
   },
   "source": [
    "## Code for model\n",
    "\n",
    "If we wanted, we could jump to the code right now to make this happen."
   ]
  },
  {
   "cell_type": "markdown",
   "metadata": {
    "slideshow": {
     "slide_type": "slide"
    }
   },
   "source": [
    "But would we understand it?\n",
    "```\n",
    "from pyspark.ml.evaluation import RegressionEvaluator\n",
    "\n",
    "from pyspark.ml.recommendation import ALS, ALSModel\n",
    "\n",
    "als = ALS(\n",
    "    rank=10,\n",
    "    maxIter=10,\n",
    "    userCol='userId',\n",
    "    itemCol='movieId',\n",
    "    ratingCol='rating',\n",
    ")\n",
    "\n",
    "als_model = als.fit(movie_ratings)\n",
    "```"
   ]
  },
  {
   "cell_type": "markdown",
   "metadata": {
    "slideshow": {
     "slide_type": "slide"
    }
   },
   "source": [
    "## Documentation Station\n",
    "\n",
    "Let's explore the [documentation](http://spark.apache.org/docs/2.4.3/api/python/pyspark.ml.html#module-pyspark.ml.recommendation) together to maybe get a better idea of what is happening. \n",
    "\n",
    "- which parameters make sense?\n",
    "- which are completely foreign?"
   ]
  },
  {
   "cell_type": "markdown",
   "metadata": {
    "slideshow": {
     "slide_type": "slide"
    }
   },
   "source": [
    "## Rank\n",
    "\n",
    "What's all this rank of the factorization business?<br>\n",
    "[the source code documentation](https://github.com/apache/spark/blob/master/mllib/src/main/scala/org/apache/spark/mllib/recommendation/ALS.scala) describes that variable as the \"Rank of the feature matrices\""
   ]
  },
  {
   "cell_type": "markdown",
   "metadata": {
    "slideshow": {
     "slide_type": "slide"
    }
   },
   "source": [
    "## Assumptions\n",
    "\n",
    "Matrix decomposition is built on the theory that every individual (user, movie) score is actually the **dot product** of two separate vectors:\n",
    "- user characteristics \n",
    "- movie characteristics"
   ]
  },
  {
   "cell_type": "markdown",
   "metadata": {
    "slideshow": {
     "slide_type": "slide"
    }
   },
   "source": [
    "Wait, do you mean like gender, whether the movie is sci-fi or action? Do we have that data?"
   ]
  },
  {
   "cell_type": "markdown",
   "metadata": {
    "slideshow": {
     "slide_type": "slide"
    }
   },
   "source": [
    "![beyonce-gif](img/beyonce.gif)"
   ]
  },
  {
   "cell_type": "markdown",
   "metadata": {
    "slideshow": {
     "slide_type": "slide"
    }
   },
   "source": [
    "## Huh?\n",
    "![what](img/what.gif)"
   ]
  },
  {
   "cell_type": "markdown",
   "metadata": {
    "slideshow": {
     "slide_type": "slide"
    }
   },
   "source": [
    "## The hidden matricies \n",
    "![image4](img/matrix_decomp.png)"
   ]
  },
  {
   "cell_type": "markdown",
   "metadata": {
    "slideshow": {
     "slide_type": "slide"
    }
   },
   "source": [
    "## Embeddings\n",
    "\n",
    "Embeddings are low dimensional hidden factors for items and users.\n",
    "\n",
    "For e.g. say we have 5 dimensional (i.e., **rank** = 5) embeddings for both items and users (5 chosen randomly, this could be any number - as we saw with PCA and dim. reduction).\n",
    "\n",
    "For user-X & movie-A, we can say those 5 numbers might represent 5 different characteristics about the movie e.g.:\n",
    "\n",
    "- How much movie-A is political\n",
    "- How recent is the movie\n",
    "- How much special effects are in movie A\n",
    "- How dialogue driven is the movie\n",
    "- How linear is the narrative in the movie\n",
    "\n",
    "In a similar way, 5 numbers in the user embedding matrix might represent:\n",
    "\n",
    "- How much does user-X like sci-fi movies\n",
    "- How much does user-X like recent movies … and so on.\n",
    "\n",
    "But we have *no actual idea* what those factors actually represent."
   ]
  },
  {
   "cell_type": "markdown",
   "metadata": {
    "slideshow": {
     "slide_type": "slide"
    }
   },
   "source": [
    "### If we knew the feature embeddings in advance, it would look something like this:"
   ]
  },
  {
   "cell_type": "code",
   "execution_count": 1,
   "metadata": {
    "slideshow": {
     "slide_type": "slide"
    }
   },
   "outputs": [],
   "source": [
    "import numpy as np\n",
    "\n",
    "# the original matrix of rankings\n",
    "R = np.array([[2, np.nan, np.nan, 1, 4],\n",
    "       [5, 1, 2, np.nan, 2],\n",
    "       [3, np.nan, np.nan, 3, np.nan],\n",
    "       [1, np.nan, 4, 2, 1]])\n",
    "\n",
    "# users X factors\n",
    "P =np.array([[-0.63274434,  1.33686735, -1.55128517],\n",
    "       [-2.23813661,  0.5123861 ,  0.14087293],\n",
    "       [-1.0289794 ,  1.62052691,  0.21027516],\n",
    "       [-0.06422255,  1.62892864,  0.33350709]])\n",
    "\n",
    "# factors X items\n",
    "Q = np.array([[-2.09507374,  0.52351075,  0.01826269],\n",
    "       [-0.45078775, -0.07334991,  0.18731052],\n",
    "       [-0.34161766,  2.46215058, -0.18942263],\n",
    "       [-1.0925736 ,  1.04664756,  0.69963111],\n",
    "       [-0.78152923,  0.89189076, -1.47144019]])"
   ]
  },
  {
   "cell_type": "markdown",
   "metadata": {
    "slideshow": {
     "slide_type": "slide"
    }
   },
   "source": [
    "What about that `np.nan` in the third row, last column? How will that item be reviewed by that user?"
   ]
  },
  {
   "cell_type": "code",
   "execution_count": 2,
   "metadata": {
    "slideshow": {
     "slide_type": "slide"
    }
   },
   "outputs": [
    {
     "name": "stdout",
     "output_type": "stream",
     "text": [
      "[-1.0289794   1.62052691  0.21027516]\n",
      "[-0.78152923  0.89189076 -1.47144019]\n"
     ]
    },
    {
     "data": {
      "text/plain": [
       "1.9401031341455333"
      ]
     },
     "execution_count": 2,
     "metadata": {},
     "output_type": "execute_result"
    }
   ],
   "source": [
    "print(P[2])\n",
    "print(Q.T[:,4])\n",
    "P[2].dot(Q.T[:,4])"
   ]
  },
  {
   "cell_type": "markdown",
   "metadata": {
    "slideshow": {
     "slide_type": "slide"
    }
   },
   "source": [
    "## Wait, I saw a transpose in there - what's the actual formula?\n",
    "\n",
    "Terms:<br>\n",
    "$R$ is the full user-item rating matrix\n",
    "\n",
    "$P$ is a matrix that contains the users and the k factors represented as (user,factor)\n",
    "\n",
    "$Q^T$ is a matrix that contains the items and the k factors represented as\n",
    "\n",
    "$r̂_{u,i}$ represents our prediction for the true rating $r_{ui}$ In order to get an individual rating, you must take the dot product of a row of P and a column of Q\n",
    "\n",
    "for the entire matrix:\n",
    "$$ R = PQ^T $$ \n",
    "\n",
    "or for individual ratings\n",
    "\n",
    "$$r̂_{u,i}=q_i^⊤p_u $$ \n",
    "\n",
    "\n",
    "\n"
   ]
  },
  {
   "cell_type": "markdown",
   "metadata": {
    "slideshow": {
     "slide_type": "slide"
    }
   },
   "source": [
    "### Let's get the whole matrix!"
   ]
  },
  {
   "cell_type": "code",
   "execution_count": 3,
   "metadata": {
    "slideshow": {
     "slide_type": "slide"
    }
   },
   "outputs": [
    {
     "data": {
      "text/plain": [
       "array([[ 1.99717984, -0.10339773,  3.80157388,  1.00522135,  3.96947118],\n",
       "       [ 4.95987359,  0.99772807,  1.9994742 ,  3.08017572,  1.99887552],\n",
       "       [ 3.00799117,  0.38437256,  4.30166793,  2.96747131,  1.94010313],\n",
       "       [ 0.99340337, -0.02806164,  3.96943336,  2.00841398,  1.01228247]])"
      ]
     },
     "execution_count": 3,
     "metadata": {},
     "output_type": "execute_result"
    }
   ],
   "source": [
    "P.dot(Q.T)"
   ]
  },
  {
   "cell_type": "markdown",
   "metadata": {
    "slideshow": {
     "slide_type": "slide"
    }
   },
   "source": [
    "### Look at those results\n",
    "\n",
    "Are they _exactly_ correct?\n",
    "![check](img/check.gif)"
   ]
  },
  {
   "cell_type": "markdown",
   "metadata": {
    "slideshow": {
     "slide_type": "slide"
    }
   },
   "source": [
    "## ALS benefit: Loss Function\n",
    "\n",
    "The Loss function $L$ can be calculated as:\n",
    "\n",
    "$$ L = \\sum_{u,i ∈ \\kappa}(r_{u,i}− q_i^T p_u)^2 + λ( ||q_i||^2 + |p_u||^2)$$\n",
    "\n",
    "Where $\\kappa$ is the set of (u,i) pairs for which $r_{u,i}$ is known.\n",
    "\n",
    "To avoid overfitting, the loss function also includes a regularization parameter $\\lambda$. We will choose a $\\lambda$ to minimize the square of the difference between all ratings in our dataset $R$ and our predictions.\n",
    "\n",
    "There's the **least squares** part of ALS, got it!"
   ]
  },
  {
   "cell_type": "markdown",
   "metadata": {
    "slideshow": {
     "slide_type": "slide"
    }
   },
   "source": [
    "## So now we use gradient decent, right?"
   ]
  },
  {
   "cell_type": "markdown",
   "metadata": {
    "slideshow": {
     "slide_type": "slide"
    }
   },
   "source": [
    "![incorrect](img/incorrect.gif)"
   ]
  },
  {
   "cell_type": "markdown",
   "metadata": {
    "slideshow": {
     "slide_type": "slide"
    }
   },
   "source": [
    "### Here comes the alternating part\n",
    "\n",
    "ALS alternates between holding the $q_i$'s constant and the $p_u$'s constant. \n",
    "\n",
    "While all $q_i$'s are held constant, each $p_u$ is computed by solving the least squared problem.<br>\n",
    "After that process has taken place, all the $p_u$'s are held constant while the $q_i$'s are altered to solve the least squares problem, again, each independently.<br> \n",
    "This process repeats many times until you've reached convergence (ideally)."
   ]
  },
  {
   "cell_type": "markdown",
   "metadata": {
    "slideshow": {
     "slide_type": "slide"
    }
   },
   "source": [
    "### Changing Loss function:\n",
    "\n",
    "First let's assume first the item vectors are fixed, we first solve for the user vectors:\n",
    "\n",
    "$$p_u=(\\sum{r{u,i}\\in r_{u*}}{q_iq_i^T + \\lambda I_k})^{-1}\\sum_{r_{u,i}\\in r_{u*}}{r_{ui}{q_{i}}}$$__\n",
    "Then we hold the user vectors constant and solve for the item vectors\n",
    "\n",
    "$$q_i=(\\sum{r{u,i}\\in r_{i*}}{p_up_u^T + \\lambda I_k})^{-1}\\sum_{r_{u,i}\\in r_{u*}}{r_{ui}{p_{u}}}$$__\n",
    "This process repeats until convergence"
   ]
  },
  {
   "cell_type": "markdown",
   "metadata": {
    "slideshow": {
     "slide_type": "slide"
    }
   },
   "source": [
    "# Review\n",
    "What levers do we have available to adjust?\n",
    "![lever-choice](img/levers.jpeg)\n",
    "\n",
    "- Pros and cons of large rank?\n",
    "- Pros and cons of lambda size?\n",
    "- Iterations?"
   ]
  },
  {
   "cell_type": "markdown",
   "metadata": {
    "slideshow": {
     "slide_type": "slide"
    }
   },
   "source": [
    "# Enough - let's get to the data"
   ]
  },
  {
   "cell_type": "markdown",
   "metadata": {
    "slideshow": {
     "slide_type": "slide"
    }
   },
   "source": [
    "### Importing the Data\n",
    "To begin with:\n",
    "* initialize a SparkSession object\n",
    "* import the dataset found at './data/ratings.csv' into a pyspark DataFrame"
   ]
  },
  {
   "cell_type": "code",
   "execution_count": 4,
   "metadata": {
    "slideshow": {
     "slide_type": "slide"
    }
   },
   "outputs": [],
   "source": [
    "# import necessary libraries\n",
    "!env | grep PYTHONPATH"
   ]
  },
  {
   "cell_type": "code",
   "execution_count": 5,
   "metadata": {
    "slideshow": {
     "slide_type": "slide"
    }
   },
   "outputs": [],
   "source": [
    "import pyspark\n",
    "\n",
    "spark = (pyspark.sql.SparkSession.builder \n",
    "  .master(\"local[*]\")\n",
    "  .getOrCreate())"
   ]
  },
  {
   "cell_type": "code",
   "execution_count": 6,
   "metadata": {
    "slideshow": {
     "slide_type": "slide"
    }
   },
   "outputs": [
    {
     "name": "stdout",
     "output_type": "stream",
     "text": [
      "movies.csv  ratings.csv\r\n"
     ]
    }
   ],
   "source": [
    "!ls data/"
   ]
  },
  {
   "cell_type": "code",
   "execution_count": 7,
   "metadata": {
    "slideshow": {
     "slide_type": "slide"
    }
   },
   "outputs": [
    {
     "name": "stdout",
     "output_type": "stream",
     "text": [
      "data/ratings.csv: ASCII text, with CRLF line terminators\r\n"
     ]
    }
   ],
   "source": [
    "!file data/ratings.csv"
   ]
  },
  {
   "cell_type": "code",
   "execution_count": 8,
   "metadata": {
    "slideshow": {
     "slide_type": "slide"
    }
   },
   "outputs": [
    {
     "name": "stdout",
     "output_type": "stream",
     "text": [
      "userId,movieId,rating,timestamp\r",
      "\r\n",
      "1,1,4.0,964982703\r",
      "\r\n",
      "1,3,4.0,964981247\r",
      "\r\n",
      "1,6,4.0,964982224\r",
      "\r\n",
      "1,47,5.0,964983815\r",
      "\r\n",
      "1,50,5.0,964982931\r",
      "\r\n",
      "1,70,3.0,964982400\r",
      "\r\n",
      "1,101,5.0,964980868\r",
      "\r\n",
      "1,110,4.0,964982176\r",
      "\r\n",
      "1,151,5.0,964984041\r",
      "\r\n"
     ]
    }
   ],
   "source": [
    "!head data/ratings.csv"
   ]
  },
  {
   "cell_type": "code",
   "execution_count": 9,
   "metadata": {
    "slideshow": {
     "slide_type": "slide"
    }
   },
   "outputs": [],
   "source": [
    "# read in the dataset into pyspark DataFrame\n",
    "movie_ratings = spark.read.csv('data/ratings.csv',\n",
    "                               inferSchema=True,\n",
    "                               header=True)"
   ]
  },
  {
   "cell_type": "markdown",
   "metadata": {
    "slideshow": {
     "slide_type": "slide"
    }
   },
   "source": [
    "Check the data types of each of the values to ensure that they are a type that makes sense given the column."
   ]
  },
  {
   "cell_type": "code",
   "execution_count": 10,
   "metadata": {
    "slideshow": {
     "slide_type": "slide"
    }
   },
   "outputs": [
    {
     "name": "stdout",
     "output_type": "stream",
     "text": [
      "root\n",
      " |-- userId: integer (nullable = true)\n",
      " |-- movieId: integer (nullable = true)\n",
      " |-- rating: double (nullable = true)\n",
      " |-- timestamp: integer (nullable = true)\n",
      "\n"
     ]
    }
   ],
   "source": [
    "movie_ratings.printSchema()"
   ]
  },
  {
   "cell_type": "markdown",
   "metadata": {
    "slideshow": {
     "slide_type": "slide"
    }
   },
   "source": [
    "But if they were ever incorrectly assigned, here's how we fix it:"
   ]
  },
  {
   "cell_type": "code",
   "execution_count": 11,
   "metadata": {
    "slideshow": {
     "slide_type": "slide"
    }
   },
   "outputs": [],
   "source": [
    "from pyspark.sql.types import (\n",
    "    ArrayType,\n",
    "    AtomicType,\n",
    "    BinaryType,\n",
    "    BooleanType,\n",
    "    ByteType,\n",
    "    CloudPickleSerializer,\n",
    "    DataType,\n",
    "    DataTypeSingleton,\n",
    "    DateConverter,\n",
    "    DateType,\n",
    "    DatetimeConverter,\n",
    "    DecimalType,\n",
    "    DoubleType,\n",
    "    FloatType,\n",
    "    FractionalType,\n",
    "    IntegerType,\n",
    "    IntegralType,\n",
    "    JavaClass,\n",
    "    LongType,\n",
    "    MapType,\n",
    "    NullType,\n",
    "    NumericType,\n",
    "    Row,\n",
    "    ShortType,\n",
    "    SparkContext,\n",
    "    StringType,\n",
    "    StructField,\n",
    "    StructType,\n",
    "    TimestampType,\n",
    "    UserDefinedType,\n",
    ")"
   ]
  },
  {
   "cell_type": "code",
   "execution_count": 12,
   "metadata": {
    "slideshow": {
     "slide_type": "slide"
    }
   },
   "outputs": [],
   "source": [
    "schema = StructType(\n",
    "    [\n",
    "        StructField('userId', IntegerType()),\n",
    "        StructField('movieId', IntegerType()),\n",
    "        StructField('rating', FloatType()),\n",
    "        StructField('timestamp', LongType()),\n",
    "    ]\n",
    ")"
   ]
  },
  {
   "cell_type": "code",
   "execution_count": 13,
   "metadata": {
    "slideshow": {
     "slide_type": "slide"
    }
   },
   "outputs": [],
   "source": [
    "# read in the dataset into pyspark DataFrame\n",
    "movie_ratings = spark.read.csv('data/ratings.csv',\n",
    "                               inferSchema=False,\n",
    "                               schema=schema,\n",
    "                               header=True)"
   ]
  },
  {
   "cell_type": "code",
   "execution_count": 14,
   "metadata": {
    "slideshow": {
     "slide_type": "slide"
    }
   },
   "outputs": [
    {
     "data": {
      "text/plain": [
       "DataFrame[userId: int, movieId: int, rating: float, timestamp: bigint]"
      ]
     },
     "execution_count": 14,
     "metadata": {},
     "output_type": "execute_result"
    }
   ],
   "source": [
    "movie_ratings.persist()"
   ]
  },
  {
   "cell_type": "code",
   "execution_count": 15,
   "metadata": {
    "slideshow": {
     "slide_type": "slide"
    }
   },
   "outputs": [
    {
     "name": "stdout",
     "output_type": "stream",
     "text": [
      "root\n",
      " |-- userId: integer (nullable = true)\n",
      " |-- movieId: integer (nullable = true)\n",
      " |-- rating: float (nullable = true)\n",
      " |-- timestamp: long (nullable = true)\n",
      "\n"
     ]
    }
   ],
   "source": [
    "movie_ratings.printSchema()"
   ]
  },
  {
   "cell_type": "code",
   "execution_count": 16,
   "metadata": {
    "slideshow": {
     "slide_type": "slide"
    }
   },
   "outputs": [
    {
     "data": {
      "text/plain": [
       "pyspark.sql.dataframe.DataFrame"
      ]
     },
     "execution_count": 16,
     "metadata": {},
     "output_type": "execute_result"
    }
   ],
   "source": [
    "type(movie_ratings)"
   ]
  },
  {
   "cell_type": "code",
   "execution_count": 17,
   "metadata": {
    "slideshow": {
     "slide_type": "slide"
    }
   },
   "outputs": [
    {
     "name": "stdout",
     "output_type": "stream",
     "text": [
      "+------+-------+------+---------+\n",
      "|userId|movieId|rating|timestamp|\n",
      "+------+-------+------+---------+\n",
      "|     1|      1|   4.0|964982703|\n",
      "|     1|      3|   4.0|964981247|\n",
      "|     1|      6|   4.0|964982224|\n",
      "|     1|     47|   5.0|964983815|\n",
      "|     1|     50|   5.0|964982931|\n",
      "|     1|     70|   3.0|964982400|\n",
      "|     1|    101|   5.0|964980868|\n",
      "|     1|    110|   4.0|964982176|\n",
      "|     1|    151|   5.0|964984041|\n",
      "|     1|    157|   5.0|964984100|\n",
      "|     1|    163|   5.0|964983650|\n",
      "|     1|    216|   5.0|964981208|\n",
      "|     1|    223|   3.0|964980985|\n",
      "|     1|    231|   5.0|964981179|\n",
      "|     1|    235|   4.0|964980908|\n",
      "|     1|    260|   5.0|964981680|\n",
      "|     1|    296|   3.0|964982967|\n",
      "|     1|    316|   3.0|964982310|\n",
      "|     1|    333|   5.0|964981179|\n",
      "|     1|    349|   4.0|964982563|\n",
      "+------+-------+------+---------+\n",
      "only showing top 20 rows\n",
      "\n"
     ]
    }
   ],
   "source": [
    "movie_ratings.show()"
   ]
  },
  {
   "cell_type": "markdown",
   "metadata": {
    "slideshow": {
     "slide_type": "slide"
    }
   },
   "source": [
    "We aren't going to need the time stamp, so we can go ahead and remove that column."
   ]
  },
  {
   "cell_type": "code",
   "execution_count": null,
   "metadata": {
    "slideshow": {
     "slide_type": "slide"
    }
   },
   "outputs": [],
   "source": [
    "movie_ratings = #what do we put here?"
   ]
  },
  {
   "cell_type": "code",
   "execution_count": 23,
   "metadata": {
    "slideshow": {
     "slide_type": "notes"
    }
   },
   "outputs": [
    {
     "name": "stdout",
     "output_type": "stream",
     "text": [
      "+------+-------+------+\n",
      "|userId|movieId|rating|\n",
      "+------+-------+------+\n",
      "|     1|      1|   4.0|\n",
      "|     1|      3|   4.0|\n",
      "|     1|      6|   4.0|\n",
      "|     1|     47|   5.0|\n",
      "|     1|     50|   5.0|\n",
      "+------+-------+------+\n",
      "only showing top 5 rows\n",
      "\n"
     ]
    }
   ],
   "source": [
    "#Answer to above\n",
    "movie_ratings = movie_ratings.select(movie_ratings.columns[:-1])\n",
    "movie_ratings.show(5)"
   ]
  },
  {
   "cell_type": "markdown",
   "metadata": {
    "slideshow": {
     "slide_type": "slide"
    }
   },
   "source": [
    "### Fitting the Alternating Least Squares Model"
   ]
  },
  {
   "cell_type": "markdown",
   "metadata": {
    "slideshow": {
     "slide_type": "slide"
    }
   },
   "source": [
    "Because this dataset is already preprocessed for us, we can go ahead and fit the Alternating Least Squares model.\n",
    "\n",
    "* Use the randomSplit method on the pyspark DataFrame to separate the dataset into a training and test set\n",
    "* Import the ALS module from pyspark.ml.recommendation.\n",
    "* Fit the Alternating Least Squares Model to the training dataset. Make sure to set the userCol, itemCol, and ratingCol to the appropriate names given this dataset. Then fit the data to the training set and assign it to a variable model. "
   ]
  },
  {
   "cell_type": "markdown",
   "metadata": {
    "slideshow": {
     "slide_type": "slide"
    }
   },
   "source": [
    "### Train-Test Split\n",
    "\n",
    "Split the data into training and testing sets."
   ]
  },
  {
   "cell_type": "code",
   "execution_count": 25,
   "metadata": {
    "slideshow": {
     "slide_type": "notes"
    }
   },
   "outputs": [
    {
     "data": {
      "text/plain": [
       "100836"
      ]
     },
     "execution_count": 25,
     "metadata": {},
     "output_type": "execute_result"
    }
   ],
   "source": [
    "movie_ratings.count()"
   ]
  },
  {
   "cell_type": "code",
   "execution_count": 28,
   "metadata": {
    "slideshow": {
     "slide_type": "notes"
    }
   },
   "outputs": [
    {
     "name": "stdout",
     "output_type": "stream",
     "text": [
      "Training Size: 80760, Testing Size: 20076\n",
      "Training Size: 0.8009044388908723, Testing Size: 0.19909556110912768\n"
     ]
    }
   ],
   "source": [
    "train_data , test_data = movie_ratings.randomSplit([.8, .2])\n",
    "print(\"Training Size: {}, Testing Size: {}\".format(train_data.count(), test_data.count()))\n",
    "length = movie_ratings.count()\n",
    "print(\"Training Size: {}, Testing Size: {}\".format(train_data.count()/length, test_data.count()/length))"
   ]
  },
  {
   "cell_type": "code",
   "execution_count": 29,
   "metadata": {
    "slideshow": {
     "slide_type": "slide"
    }
   },
   "outputs": [],
   "source": [
    "from pyspark.ml.evaluation import RegressionEvaluator\n",
    "from pyspark.ml.recommendation import ALS, ALSModel\n",
    "\n",
    "als = ALS(\n",
    "    rank=10,\n",
    "    maxIter=10,\n",
    "    userCol='userId',\n",
    "    itemCol='movieId',\n",
    "    ratingCol='rating',\n",
    ")"
   ]
  },
  {
   "cell_type": "code",
   "execution_count": 30,
   "metadata": {
    "slideshow": {
     "slide_type": "slide"
    }
   },
   "outputs": [],
   "source": [
    "# Build the recommendation model using ALS on the training data\n",
    "# fit the ALS model to the training set\n",
    "\n",
    "als_model = als.fit(train_data)"
   ]
  },
  {
   "cell_type": "markdown",
   "metadata": {
    "slideshow": {
     "slide_type": "slide"
    }
   },
   "source": [
    "Now you've fit the model, and it's time to evaluate it to determine just how well it performed.\n",
    "\n",
    "* Import `RegressionEvalutor` from pyspark.ml.evaluation [documentation](http://spark.apache.org/docs/2.4.3/api/python/pyspark.ml.html#pyspark.ml.evaluation.RegressionEvaluator)\n",
    "* Generate predictions with your model for the train and test set by using the `transform` method on your ALS model\n",
    "* Evaluate your model and print out the RMSE from your test set [options for evaluating regressors](http://spark.apache.org/docs/2.4.3/api/python/pyspark.ml.html#pyspark.ml.evaluation.RegressionEvaluator.metricName)"
   ]
  },
  {
   "cell_type": "code",
   "execution_count": 31,
   "metadata": {
    "slideshow": {
     "slide_type": "notes"
    }
   },
   "outputs": [],
   "source": [
    "ALSModel.transform?"
   ]
  },
  {
   "cell_type": "code",
   "execution_count": 61,
   "metadata": {
    "slideshow": {
     "slide_type": "notes"
    }
   },
   "outputs": [],
   "source": [
    "train_predictions = als_model.transform(train_data)\n",
    "test_predictions = als_model.transform(test_data)"
   ]
  },
  {
   "cell_type": "code",
   "execution_count": 62,
   "metadata": {
    "slideshow": {
     "slide_type": "notes"
    }
   },
   "outputs": [
    {
     "data": {
      "text/plain": [
       "DataFrame[userId: int, movieId: int, rating: float, prediction: float]"
      ]
     },
     "execution_count": 62,
     "metadata": {},
     "output_type": "execute_result"
    }
   ],
   "source": [
    "train_predictions.persist()\n",
    "test_predictions.persist()"
   ]
  },
  {
   "cell_type": "code",
   "execution_count": 63,
   "metadata": {
    "slideshow": {
     "slide_type": "notes"
    }
   },
   "outputs": [
    {
     "name": "stdout",
     "output_type": "stream",
     "text": [
      "+------+-------+------+\n",
      "|userId|movieId|rating|\n",
      "+------+-------+------+\n",
      "|     1|      1|   4.0|\n",
      "+------+-------+------+\n",
      "only showing top 1 row\n",
      "\n"
     ]
    }
   ],
   "source": [
    "movie_ratings.show(1)"
   ]
  },
  {
   "cell_type": "code",
   "execution_count": 65,
   "metadata": {
    "slideshow": {
     "slide_type": "notes"
    }
   },
   "outputs": [
    {
     "name": "stdout",
     "output_type": "stream",
     "text": [
      "+------+-------+------+----------+\n",
      "|userId|movieId|rating|prediction|\n",
      "+------+-------+------+----------+\n",
      "|   191|    148|   5.0| 4.9202523|\n",
      "+------+-------+------+----------+\n",
      "only showing top 1 row\n",
      "\n"
     ]
    }
   ],
   "source": [
    "train_predictions.show(1)"
   ]
  },
  {
   "cell_type": "code",
   "execution_count": 64,
   "metadata": {
    "slideshow": {
     "slide_type": "notes"
    }
   },
   "outputs": [
    {
     "name": "stdout",
     "output_type": "stream",
     "text": [
      "+------+-------+------+----------+\n",
      "|userId|movieId|rating|prediction|\n",
      "+------+-------+------+----------+\n",
      "|   133|    471|   4.0| 2.9283142|\n",
      "+------+-------+------+----------+\n",
      "only showing top 1 row\n",
      "\n"
     ]
    }
   ],
   "source": [
    "test_predictions.show(1)"
   ]
  },
  {
   "cell_type": "code",
   "execution_count": 37,
   "metadata": {
    "slideshow": {
     "slide_type": "notes"
    }
   },
   "outputs": [],
   "source": [
    "user_factors = als_model.userFactors"
   ]
  },
  {
   "cell_type": "code",
   "execution_count": 38,
   "metadata": {
    "slideshow": {
     "slide_type": "notes"
    }
   },
   "outputs": [
    {
     "data": {
      "text/plain": [
       "DataFrame[id: int, features: array<float>]"
      ]
     },
     "execution_count": 38,
     "metadata": {},
     "output_type": "execute_result"
    }
   ],
   "source": [
    "user_factors"
   ]
  },
  {
   "cell_type": "code",
   "execution_count": 39,
   "metadata": {
    "slideshow": {
     "slide_type": "notes"
    }
   },
   "outputs": [],
   "source": [
    "item_factors = als_model.itemFactors"
   ]
  },
  {
   "cell_type": "code",
   "execution_count": 66,
   "metadata": {
    "slideshow": {
     "slide_type": "notes"
    }
   },
   "outputs": [
    {
     "data": {
      "text/plain": [
       "0.5654571135030395"
      ]
     },
     "execution_count": 66,
     "metadata": {},
     "output_type": "execute_result"
    }
   ],
   "source": [
    "evaluator = RegressionEvaluator(predictionCol=\"prediction\", labelCol=\"rating\", metricName=\"rmse\")\n",
    "evaluator.evaluate(train_predictions)"
   ]
  },
  {
   "cell_type": "code",
   "execution_count": 69,
   "metadata": {
    "slideshow": {
     "slide_type": "notes"
    }
   },
   "outputs": [
    {
     "data": {
      "text/plain": [
       "nan"
      ]
     },
     "execution_count": 69,
     "metadata": {},
     "output_type": "execute_result"
    }
   ],
   "source": [
    "evaluator = RegressionEvaluator(predictionCol=\"prediction\", labelCol=\"rating\", metricName=\"rmse\")\n",
    "evaluator.evaluate(test_predictions.filter(test_predictions.prediction.isNotNull()))"
   ]
  },
  {
   "cell_type": "markdown",
   "metadata": {
    "slideshow": {
     "slide_type": "notes"
    }
   },
   "source": [
    "> **Warning!**\n",
    "Spark Considers Null Values and NaN (Not a Number) different entities. See the code below, where the NaN values from our prediction are not filtered out. See this [stack overflow thread](https://stackoverflow.com/questions/43882699/differences-between-null-and-nan-in-spark-how-to-deal-with-it#43883025) for further details."
   ]
  },
  {
   "cell_type": "code",
   "execution_count": 80,
   "metadata": {
    "slideshow": {
     "slide_type": "notes"
    }
   },
   "outputs": [
    {
     "data": {
      "text/plain": [
       "Column<b'(prediction IS NOT NULL)'>"
      ]
     },
     "execution_count": 80,
     "metadata": {},
     "output_type": "execute_result"
    }
   ],
   "source": [
    "test_predictions.prediction.is"
   ]
  },
  {
   "cell_type": "code",
   "execution_count": 84,
   "metadata": {
    "slideshow": {
     "slide_type": "notes"
    }
   },
   "outputs": [
    {
     "name": "stdout",
     "output_type": "stream",
     "text": [
      "+------+-------+------+----------+\n",
      "|userId|movieId|rating|prediction|\n",
      "+------+-------+------+----------+\n",
      "|   133|    471|   4.0| 2.9283142|\n",
      "|   372|    471|   3.0| 3.4082422|\n",
      "|   500|    471|   1.0| 1.4433138|\n",
      "|   462|    471|   2.5| 2.0555644|\n",
      "|   387|    471|   3.0| 2.7757351|\n",
      "|   217|    471|   2.0|  2.620111|\n",
      "|   555|    471|   3.0| 4.2340193|\n",
      "|   171|    471|   3.0| 4.7378817|\n",
      "|   312|    471|   4.0| 3.5492857|\n",
      "|   411|    471|   4.0| 3.1242478|\n",
      "|   287|    471|   4.5|  2.982832|\n",
      "|    32|    471|   3.0| 4.3000693|\n",
      "|   260|    471|   4.5| 3.4367647|\n",
      "|   608|    833|   0.5|  2.005748|\n",
      "|   111|   1088|   3.0|  3.139306|\n",
      "|    20|   1088|   4.5|  3.319328|\n",
      "|    64|   1088|   4.0| 2.9902453|\n",
      "|   554|   1088|   5.0|   3.97138|\n",
      "|   286|   1088|   3.5| 3.5916922|\n",
      "|   594|   1088|   4.5|  4.321806|\n",
      "|   221|   1088|   3.0| 2.7761447|\n",
      "|   414|   1088|   3.0|  3.023644|\n",
      "|    68|   1088|   3.5| 3.4387605|\n",
      "|   517|   1088|   1.0| 3.1206899|\n",
      "|   325|   1238|   4.0|  4.507472|\n",
      "|   599|   1342|   2.5| 2.3181674|\n",
      "|   387|   1342|   3.0|  2.638722|\n",
      "|   600|   1342|   2.5| 1.7788392|\n",
      "|   593|   1580|   1.5|  2.820942|\n",
      "|   597|   1580|   3.0| 3.6534226|\n",
      "|   155|   1580|   4.0| 3.6331935|\n",
      "|    28|   1580|   3.0| 3.1290772|\n",
      "|   183|   1580|   4.0| 3.7344248|\n",
      "|   330|   1580|   4.0|  3.172707|\n",
      "|   355|   1580|   4.0| 3.9155383|\n",
      "|   570|   1580|   4.0|  3.196332|\n",
      "|   452|   1580|   4.0| 4.5502334|\n",
      "|   266|   1580|   3.0|  3.048977|\n",
      "|   268|   1580|   3.0|  2.842323|\n",
      "|   286|   1580|   3.0| 3.3030338|\n",
      "|   217|   1580|   5.0|    3.2178|\n",
      "|   220|   1580|   5.0| 4.0861306|\n",
      "|   244|   1580|   4.0|  3.766217|\n",
      "|   428|   1580|   1.5|  2.544277|\n",
      "|    69|   1580|   4.0| 3.9946423|\n",
      "|   166|   1580|   4.0|  3.702792|\n",
      "|    63|   1580|   2.0| 2.7913053|\n",
      "|    50|   1580|   2.5| 2.4452677|\n",
      "|    24|   1580|   4.0| 3.3883164|\n",
      "|   469|   1580|   3.0| 3.0453951|\n",
      "|   376|   1580|   4.0| 3.8956075|\n",
      "|   534|   1580|   4.0| 4.0653358|\n",
      "|   354|   1580|   3.5| 3.6110036|\n",
      "|   561|   1580|   3.0| 3.3342893|\n",
      "|   199|   1580|   4.0|  3.153632|\n",
      "|   357|   1580|   3.5|  3.497044|\n",
      "|   475|   1580|   5.0| 4.4206257|\n",
      "|    89|   1580|   1.5| 2.5427861|\n",
      "|   401|   1580|   2.0| 3.3159134|\n",
      "|   517|   1580|   3.0| 1.9366037|\n",
      "|   599|   1591|   2.5| 2.2461011|\n",
      "|   274|   1591|   2.0| 2.6274283|\n",
      "|    51|   1591|   1.0|  3.187846|\n",
      "|   452|   1645|   4.0|  4.519803|\n",
      "|   590|   1645|   3.0| 2.9563327|\n",
      "|   495|   1645|   5.0| 3.7229943|\n",
      "|   428|   1645|   3.5|  2.819946|\n",
      "|   391|   1645|   2.0| 2.3859825|\n",
      "|    82|   1645|   2.0| 3.5681856|\n",
      "|   160|   1645|   3.0| 2.8575711|\n",
      "|    62|   1645|   5.0|  3.875053|\n",
      "|   414|   1645|   3.0| 3.5412858|\n",
      "|   483|   1645|   3.5|  3.755016|\n",
      "|   108|   1959|   5.0| 3.2809997|\n",
      "|   603|   1959|   3.0| 3.1527295|\n",
      "|   474|   1959|   4.0| 3.4327476|\n",
      "|   138|   1959|   3.5| 4.1943936|\n",
      "|    91|   2122|   4.0| 2.0017843|\n",
      "|   274|   2122|   3.5| 2.1576247|\n",
      "|   260|   2122|   3.5|   1.35429|\n",
      "|   600|   2122|   3.0| 2.2057507|\n",
      "|   571|   2122|   3.0| 1.5568442|\n",
      "|    27|   2142|   3.0| 2.5648336|\n",
      "|   387|   2142|   3.0| 2.6782548|\n",
      "|   234|   2142|   3.0| 3.0831563|\n",
      "|   600|   2142|   3.5| 2.7344196|\n",
      "|   177|   2366|   3.0| 3.2464473|\n",
      "|    39|   2366|   5.0| 3.5642252|\n",
      "|   380|   2366|   5.0| 3.4430933|\n",
      "|    70|   2366|   4.5| 3.7633104|\n",
      "|   462|   2866|   3.5| 3.2073066|\n",
      "|   101|   3175|   4.0| 3.8216515|\n",
      "|   115|   3175|   4.0| 4.0964723|\n",
      "|    28|   3175|   1.5| 3.1804967|\n",
      "|   587|   3175|   5.0|  3.940173|\n",
      "|   111|   3175|   3.5| 2.7415369|\n",
      "|   274|   3175|   2.0|  3.618192|\n",
      "|   474|   3175|   4.0|  3.475812|\n",
      "|   292|   3175|   4.0| 3.0580215|\n",
      "|   607|   3175|   2.0|  3.870942|\n",
      "|   381|   3175|   2.5|  3.600443|\n",
      "|   217|   3175|   4.0| 2.9504762|\n",
      "|     4|   3175|   1.0|  2.914664|\n",
      "|   428|   3175|   2.0|  2.980451|\n",
      "|   448|   3175|   4.0|  3.441767|\n",
      "|   234|   3175|   4.0|  3.936659|\n",
      "|   312|   3175|   3.0|  3.747186|\n",
      "|   249|   3175|   3.0| 3.8370411|\n",
      "|   408|   3175|   5.0| 4.0206485|\n",
      "|   156|   3175|   4.5| 3.3937058|\n",
      "|   141|   3175|   4.0|  3.251513|\n",
      "|    68|   3175|   3.0| 3.0760477|\n",
      "|   555|   3918|   3.0| 3.3788538|\n",
      "|   479|   4519|   4.0| 2.8499103|\n",
      "|   509|   4519|   3.0| 3.0999866|\n",
      "|   414|   4818|   2.0|       NaN|\n",
      "|   480|   4900|   1.5| 3.5736842|\n",
      "|   474|   6336|   3.0|       NaN|\n",
      "|   474|   6357|   3.0|       NaN|\n",
      "|   590|   6357|   3.0|       NaN|\n",
      "|    91|   6620|   3.5| 3.4273877|\n",
      "|   182|   6620|   4.0| 3.3109527|\n",
      "|   474|   6620|   4.5| 3.3527977|\n",
      "|   610|   6620|   4.0|  4.040326|\n",
      "|   477|   6620|   5.0| 3.3724518|\n",
      "|   287|   6620|   5.0|  3.995796|\n",
      "|   599|   7982|   3.5| 3.2670386|\n",
      "|   599|   8638|   3.0| 3.1521034|\n",
      "|   280|   8638|   4.5| 4.2485967|\n",
      "|   227|   8638|   4.0| 4.1805067|\n",
      "|   490|   8638|   4.0|  3.707681|\n",
      "|   200|   8638|   1.0| 3.9426386|\n",
      "|   199|   8638|   2.0| 3.5346706|\n",
      "|   125|  32460|   4.0| 4.3957663|\n",
      "|    18|  32460|   3.5| 4.3528166|\n",
      "|   605|  36525|   1.0| 2.9858663|\n",
      "|   606|  44022|   4.0|  2.575991|\n",
      "|   232|  44022|   3.0| 3.0391386|\n",
      "|   274|  44022|   3.5|  2.914176|\n",
      "|   381|  44022|   3.5| 3.0301585|\n",
      "|   105|  44022|   4.0|  3.171117|\n",
      "|   119|  44022|   3.5| 3.8616304|\n",
      "|   274|  54190|   4.0| 3.8593597|\n",
      "|   381|  54190|   5.0|   3.74327|\n",
      "|   125|  54190|   5.0|  3.850643|\n",
      "|   509|  68135|   3.5| 2.8411515|\n",
      "|   462|  96488|   4.0| 3.1532207|\n",
      "|   105|  96488|   4.5|   4.17573|\n",
      "|   448| 150604|   2.5|       NaN|\n",
      "|   599| 153236|   3.0|       NaN|\n",
      "|   382| 160563|   3.5|  2.973834|\n",
      "|    19|    540|   1.0|  2.332738|\n",
      "|   524|    737|   3.0| 2.6615653|\n",
      "|    68|    737|   2.0| 1.3983786|\n",
      "|   362|    858|   5.0| 4.6335473|\n",
      "|   193|    858|   4.5| 4.3344665|\n",
      "|   412|    858|   5.0| 4.6962614|\n",
      "|   577|    858|   5.0| 3.9197662|\n",
      "|   606|    858|   4.0| 4.1586175|\n",
      "|   103|    858|   4.5| 4.4767613|\n",
      "|   417|    858|   5.0| 4.3365555|\n",
      "|   601|    858|   5.0| 4.4833136|\n",
      "|   122|    858|   5.0|  5.070589|\n",
      "|   190|    858|   4.5|  4.252863|\n",
      "|   232|    858|   4.0| 3.8822703|\n",
      "|   233|    858|   4.0|  3.779708|\n",
      "|   346|    858|   4.0|  3.957673|\n",
      "|   140|    858|   5.0| 3.8233552|\n",
      "|   348|    858|   5.0| 4.7719173|\n",
      "|   308|    858|   1.5| 1.3013625|\n",
      "|   295|    858|   4.5|  4.048744|\n",
      "|    57|    858|   5.0| 4.5234184|\n",
      "|   292|    858|   4.0| 3.2068894|\n",
      "|   120|    858|   5.0| 3.7575803|\n",
      "|    96|    858|   4.0| 4.9010034|\n",
      "|   452|    858|   5.0| 4.8296933|\n",
      "|   279|    858|   4.0|  3.942029|\n",
      "|   227|    858|   4.5|  4.207706|\n",
      "|   327|    858|   3.5| 3.8879929|\n",
      "|   590|    858|   5.0| 4.1696234|\n",
      "|   307|    858|   4.5| 3.3442154|\n",
      "|   220|    858|   5.0|  4.535019|\n",
      "|   494|    858|   5.0|  4.585443|\n",
      "|    23|    858|   3.5|  4.096098|\n",
      "|   380|    858|   4.0|  4.513984|\n",
      "|    97|    858|   5.0| 3.9509752|\n",
      "|    45|    858|   5.0|  4.332783|\n",
      "|   364|    858|   5.0| 3.5568137|\n",
      "|   245|    858|   2.0|  3.108698|\n",
      "|    62|    858|   5.0|  4.347162|\n",
      "|   156|    858|   5.0|  4.363381|\n",
      "|   480|    858|   5.0|  4.023838|\n",
      "|   382|    858|   5.0|  4.709065|\n",
      "|   469|    858|   5.0| 4.4318285|\n",
      "|   141|    858|   2.5| 3.7256064|\n",
      "|   608|    858|   5.0| 3.7101467|\n",
      "|   376|    858|   4.0|  4.365845|\n",
      "|   254|    858|   4.0| 4.2462454|\n",
      "|   105|    858|   5.0|  4.257324|\n",
      "|   413|    858|   5.0| 3.8227243|\n",
      "|   116|    858|   1.5| 3.1051214|\n",
      "|   317|    858|   5.0|    4.3606|\n",
      "|   600|    858|   4.0|  3.223276|\n",
      "|   522|    858|   4.5| 4.2783146|\n",
      "|    42|    858|   5.0|  4.475125|\n",
      "|    57|    897|   4.0| 2.8166254|\n",
      "|   274|   1025|   3.5| 3.4039652|\n",
      "|   484|   1025|   5.0| 3.8108573|\n",
      "|     4|   1025|   4.0| 3.5554163|\n",
      "|   395|   1025|   3.0| 3.3305156|\n",
      "|    68|   1025|   2.5| 3.0106375|\n",
      "|   599|   1084|   3.5| 3.2200673|\n",
      "|   474|   1084|   3.5| 3.8526468|\n",
      "|   156|   1084|   5.0| 3.6640892|\n",
      "|   265|   1084|   3.0| 3.7497692|\n",
      "|   294|   1084|   4.0| 3.0537522|\n",
      "|   405|   1084|   4.0| 3.9078119|\n",
      "|   140|   1127|   3.0| 3.4009023|\n",
      "|   182|   1127|   0.5| 3.9320676|\n",
      "|    57|   1127|   4.0|  3.410583|\n",
      "|   380|   1127|   4.0|  3.862923|\n",
      "|   591|   1127|   3.0| 3.4654481|\n",
      "|   480|   1127|   3.5| 3.3035986|\n",
      "|   414|   1127|   3.0|  3.727729|\n",
      "|   298|   1127|   4.0| 2.5035207|\n",
      "|    68|   1127|   3.5| 2.8852587|\n",
      "|   294|   1127|   2.0| 3.1584394|\n",
      "|   182|   1483|   3.5| 2.1564505|\n",
      "|   553|   1483|   5.0|  2.817689|\n",
      "|   326|   1483|   3.5| 3.2577796|\n",
      "|   135|   1483|   4.0| 3.0100708|\n",
      "|   481|   1721|   5.0|  2.901071|\n",
      "|   593|   1721|   4.0| 2.9020045|\n",
      "|    27|   1721|   5.0| 3.5337143|\n",
      "|   159|   1721|   3.5| 3.5438395|\n",
      "|   223|   1721|   2.0|   3.24059|\n",
      "|   128|   1721|   4.0| 3.5988367|\n",
      "|   111|   1721|   4.0|  3.060286|\n",
      "|   325|   1721|   4.0| 3.0228927|\n",
      "|   163|   1721|   3.0| 2.9394007|\n",
      "|   358|   1721|   5.0| 4.0734367|\n",
      "|   307|   1721|   2.0| 2.4415877|\n",
      "|   514|   1721|   4.0|  3.423157|\n",
      "|   156|   1721|   3.0| 3.0660977|\n",
      "|    21|   1721|   3.5| 3.2171876|\n",
      "|   221|   1721|   3.0| 3.3510284|\n",
      "|   608|   1721|   2.0| 2.7951877|\n",
      "|   272|   1721|   2.5|  3.235434|\n",
      "|   304|   1721|   5.0|  3.632434|\n",
      "|    11|   1721|   5.0| 3.5441875|\n",
      "|   116|   1721|   4.0| 3.3244255|\n",
      "|   201|   1721|   5.0| 3.9127305|\n",
      "|   357|   1721|   4.0| 3.8041582|\n",
      "|   153|   1721|   2.0| 2.0649981|\n",
      "|   483|   1721|   2.0|  3.247539|\n",
      "|   368|   2387|   3.0|  2.640945|\n",
      "|   606|   2387|   3.0| 2.9402463|\n",
      "|   599|   2387|   1.5|  3.143841|\n",
      "|     1|   2387|   5.0| 3.6593685|\n",
      "|   195|   2387|   4.0| 3.6652207|\n",
      "|   135|   2387|   4.0| 3.5836115|\n",
      "|   294|   2387|   4.0| 3.6033287|\n",
      "|   368|   2580|   3.0| 3.3848748|\n",
      "|   599|   2580|   3.0| 3.5807598|\n",
      "|   182|   2580|   4.0|  4.043881|\n",
      "|   266|   2580|   4.0| 3.8883715|\n",
      "|    64|   2580|   3.0| 4.1852765|\n",
      "|    55|   2580|   2.5| 3.5937505|\n",
      "|    45|   2580|   5.0| 4.4690495|\n",
      "|   356|   2580|   4.0|   4.30122|\n",
      "|   219|   2580|   4.5|  4.215476|\n",
      "|   608|   2580|   4.0| 3.8010585|\n",
      "|    33|   2580|   5.0| 4.1209307|\n",
      "|   575|   2580|   4.0| 4.6184473|\n",
      "|    66|   2580|   3.5|  4.383801|\n",
      "|   414|   3179|   3.0| 3.3745873|\n",
      "|   325|   3698|   2.0| 3.3390806|\n",
      "|   274|   3698|   3.5| 3.4681215|\n",
      "|    19|   3698|   2.0| 2.6186006|\n",
      "|   288|   3698|   3.0| 2.6277022|\n",
      "|   160|   3698|   4.0|  1.858351|\n",
      "|   469|   3698|   3.0| 3.0653136|\n",
      "|   414|   3698|   4.0| 3.2804813|\n",
      "|   274|   4158|   2.0| 2.1222625|\n",
      "|   480|   4158|   3.0| 1.9963787|\n",
      "|   287|   4158|   0.5| 1.6515986|\n",
      "|   140|   4161|   4.0| 3.5574224|\n",
      "|   414|   4161|   3.0|  2.996394|\n",
      "|   608|   4161|   3.5| 3.3633802|\n",
      "|   220|   4219|   3.0| 3.4122088|\n",
      "|   414|   4929|   2.0| 2.6251128|\n",
      "|   560|   6773|   4.0| 3.5246525|\n",
      "|   480|   6773|   3.0| 3.6560142|\n",
      "|   488|   6773|   3.0| 3.6372354|\n",
      "|   599|  43921|   2.5|  2.632441|\n",
      "|   599|  45183|   3.0|       NaN|\n",
      "|   211|  48780|   4.0|   3.88382|\n",
      "|   210|  48780|   4.0| 4.0187674|\n",
      "|   103|  48780|   4.5|  4.106778|\n",
      "|   601|  48780|   4.5| 4.5109487|\n",
      "|   233|  48780|   3.0| 3.5426722|\n",
      "|   599|  48780|   3.0| 3.2839217|\n",
      "|   520|  48780|   3.5|  4.023368|\n",
      "|   247|  48780|   4.5| 3.9339976|\n",
      "|   434|  48780|   4.0| 3.9993436|\n",
      "|   166|  48780|   2.5|  4.424644|\n",
      "|   509|  48780|   3.5| 3.7716844|\n",
      "|    80|  48780|   5.0|  4.638214|\n",
      "|   219|  48780|   4.5| 3.6525671|\n",
      "|   256|  48780|   4.0| 4.3885245|\n",
      "|   334|  48780|   3.5| 3.4266808|\n",
      "|   525|  48780|   4.0| 4.0158257|\n",
      "|   184|  48780|   5.0|  4.309947|\n",
      "|   490|  50954|   1.0|0.65539443|\n",
      "|   380|  51927|   3.0| 3.3259084|\n",
      "|   177|  56941|   5.0| 3.0179164|\n",
      "|   432|  56941|   4.0| 3.2961755|\n",
      "|    41|  56941|   3.5| 2.3700938|\n",
      "|   562|  56941|   3.5| 3.5592437|\n",
      "|   232|  69481|   4.5| 3.6523118|\n",
      "|   152|  69481|   5.0| 3.9702106|\n",
      "|   274|  69481|   4.0| 3.7578254|\n",
      "|   560|  69481|   4.0| 3.7050989|\n",
      "|   610|  69481|   4.5| 4.0877967|\n",
      "|   326|  69481|   3.5|  4.394966|\n",
      "|   495|  69481|   4.5| 4.7003827|\n",
      "|   249|  69481|   4.5|  4.198512|\n",
      "|   378|  69481|   4.0| 3.8993018|\n",
      "|   448|  92008|   2.5|   2.64728|\n",
      "|   305| 101362|   3.0| 2.9185128|\n",
      "|   318| 101362|   2.5|  2.836885|\n",
      "|    68| 166635|   3.0|  2.868841|\n",
      "|    28|     31|   2.5| 2.6375542|\n",
      "|   599|     31|   2.0| 2.3327572|\n",
      "|     6|     31|   3.0| 3.8734355|\n",
      "|     3|     31|   0.5|0.38905388|\n",
      "|   181|     31|   3.0| 3.5149524|\n",
      "|   203|     31|   3.5| 3.6110356|\n",
      "|   483|     31|   2.0| 2.8965087|\n",
      "|     6|    516|   4.0| 3.1736152|\n",
      "|   474|    516|   2.0| 3.0229115|\n",
      "|   597|   1270|   5.0| 4.4252086|\n",
      "|   606|   1270|   3.5| 3.8347418|\n",
      "|    91|   1270|   3.5| 3.7620273|\n",
      "|   122|   1270|   5.0|  4.788969|\n",
      "|   157|   1270|   4.0|  4.226641|\n",
      "|   232|   1270|   3.0| 3.7180414|\n",
      "|   224|   1270|   5.0| 4.5953836|\n",
      "|   305|   1270|   5.0|  4.247797|\n",
      "|   292|   1270|   4.0| 3.8535285|\n",
      "|   279|   1270|   3.5|  3.810801|\n",
      "|    19|   1270|   4.0| 3.4328082|\n",
      "|   607|   1270|   3.0| 3.9991097|\n",
      "|   112|   1270|   4.0| 3.9012773|\n",
      "|   462|   1270|   1.5| 2.4932735|\n",
      "|   202|   1270|   4.0| 4.4691086|\n",
      "|   610|   1270|   5.0|   4.34655|\n",
      "|   290|   1270|   4.0| 4.3517118|\n",
      "|   301|   1270|   2.5| 3.1853526|\n",
      "|   400|   1270|   4.0| 4.5269303|\n",
      "|   543|   1270|   5.0| 4.7869663|\n",
      "|    63|   1270|   5.0| 3.9734519|\n",
      "|   527|   1270|   4.0| 4.9389715|\n",
      "|    45|   1270|   3.5| 4.2213445|\n",
      "|   418|   1270|   4.5| 3.4244182|\n",
      "|    70|   1270|   4.0|  4.440384|\n",
      "|    62|   1270|   4.5|   4.29911|\n",
      "|   219|   1270|   3.5| 3.8173966|\n",
      "|   256|   1270|   5.0|  4.486283|\n",
      "|   254|   1270|   3.5| 4.1826057|\n",
      "|   303|   1270|   3.5| 4.2156463|\n",
      "|   508|   1270|   4.5| 2.5355291|\n",
      "|   313|   1270|   2.0|  3.114814|\n",
      "|    66|   1270|   3.0| 4.0883236|\n",
      "|   605|   1270|   4.0|  3.801078|\n",
      "|   172|   1270|   4.0| 4.3286285|\n",
      "|   551|   1270|   4.0| 4.3057885|\n",
      "|   385|   1303|   5.0| 3.8130379|\n",
      "|    57|   1303|   3.0| 4.1425076|\n",
      "|   268|   1303|   5.0| 3.5544283|\n",
      "|   590|   1303|   3.5|  3.886369|\n",
      "|    29|   1303|   4.5| 4.3078628|\n",
      "|   469|   1303|   4.0| 4.0161157|\n",
      "|   263|   1339|   3.0| 3.7031164|\n",
      "|   288|   1339|   2.0|  3.384645|\n",
      "|   113|   1339|   4.0|  3.818122|\n",
      "|   599|   1352|   2.5| 1.3494035|\n",
      "|   596|   2393|   4.0| 2.9492702|\n",
      "|    57|   2393|   2.0| 2.8778074|\n",
      "|   438|   2393|   3.0|  3.269581|\n",
      "|   288|   2393|   3.5| 2.8253622|\n",
      "|   477|   2393|   3.5|  2.817509|\n",
      "|   352|   2393|   4.5|  3.024297|\n",
      "|    12|   2572|   5.0| 4.6600924|\n",
      "|   182|   2572|   4.0| 3.1171954|\n",
      "|    92|   2572|   5.0|  3.746331|\n",
      "|   358|   2572|   4.0| 3.1944494|\n",
      "|   356|   2572|   4.0| 3.6781187|\n",
      "|   575|   2572|   2.0| 3.4413881|\n",
      "|   525|   2572|   4.0|  3.673884|\n",
      "|   275|   2572|   4.0| 3.0023184|\n",
      "|   153|   2572|   1.0| 1.4040083|\n",
      "|   212|   3000|   4.0| 3.8585143|\n",
      "|    16|   3000|   4.0| 3.7843328|\n",
      "|   474|   3000|   4.0| 3.7928588|\n",
      "|   387|   3000|   4.0| 3.6669312|\n",
      "|   343|   3000|   3.0| 3.6891906|\n",
      "|    63|   3000|   3.5| 3.8528514|\n",
      "|   480|   3000|   3.0| 3.7686334|\n",
      "|   260|   3000|   3.5| 3.9146612|\n",
      "|   605|   3000|   3.0| 3.4712453|\n",
      "|    39|   3213|   5.0| 3.7858434|\n",
      "|   599|   3704|   3.5|  2.731542|\n",
      "|   202|   3704|   3.0| 3.3595243|\n",
      "|   380|   3704|   4.0| 3.4364526|\n",
      "|   465|   3704|   3.0|  3.435861|\n",
      "|   182|   3761|   4.0|       NaN|\n",
      "|   103|   4489|   4.0|  3.739515|\n",
      "|   367|   4489|   4.0| 3.1770504|\n",
      "|    64|   4489|   4.5| 3.4591842|\n",
      "|   249|   4489|   3.5| 3.5465696|\n",
      "|   167|   4489|   3.5| 3.1567628|\n",
      "|   226|   4489|   4.0|  3.693057|\n",
      "|    21|   4489|   4.5| 3.0712883|\n",
      "|   414|   5984|   3.0| 3.9440796|\n",
      "|   414|   6266|   3.0| 2.6987915|\n",
      "|   111|   6482|   1.5| 1.6132811|\n",
      "|   307|   6482|   2.0| 1.2445593|\n",
      "|   543|   6482|   5.0| 2.2463708|\n",
      "|   307|   6559|   2.0| 2.2652175|\n",
      "|   122|   7387|   5.0| 4.8910384|\n",
      "|   305|   7387|   4.5| 4.8494215|\n",
      "|    83|   7387|   2.0| 3.1290762|\n",
      "|   561|   7387|   4.0| 3.8228269|\n",
      "|    74|   7387|   3.0| 3.9671962|\n",
      "|   318|  27266|   3.5| 3.9159374|\n",
      "|   387|  27266|   4.0|  3.622795|\n",
      "|   381|  31435|   4.5|       NaN|\n",
      "|    52|  55363|   3.0| 4.5684958|\n",
      "|   357|  55363|   5.0| 3.8115005|\n",
      "|   227|  80906|   4.0| 4.6348634|\n",
      "|   274|  82459|   4.0|  3.615911|\n",
      "|   590|  82459|   4.0| 3.4772449|\n",
      "|    68|  82459|   3.5| 3.5961614|\n",
      "|   517|  82459|   1.0|  2.194459|\n",
      "|   382| 135137|   2.0| 2.9027052|\n",
      "|   599| 172253|   3.0|       NaN|\n",
      "|   199|     85|   1.0| 3.9718308|\n",
      "|   314|    808|   3.0| 2.9591799|\n",
      "|    31|   1265|   2.0| 4.4356995|\n",
      "|   322|   1265|   4.0|  3.593374|\n",
      "|   385|   1265|   5.0| 3.8043668|\n",
      "|   122|   1265|   5.0|  4.565249|\n",
      "|    93|   1265|   5.0| 4.7419744|\n",
      "|   232|   1265|   4.0| 3.6178484|\n",
      "|   367|   1265|   4.0|  3.818315|\n",
      "|   603|   1265|   5.0|  3.486104|\n",
      "|   212|   1265|   2.5| 3.3964202|\n",
      "|   169|   1265|   4.0|  4.518804|\n",
      "|    64|   1265|   4.0|  4.093408|\n",
      "|    41|   1265|   3.0| 3.0410974|\n",
      "|   489|   1265|   3.5| 3.5795746|\n",
      "|   318|   1265|   4.0| 3.7315118|\n",
      "|   610|   1265|   4.5| 4.1605673|\n",
      "|   380|   1265|   5.0| 4.1928577|\n",
      "|   520|   1265|   5.0|  4.413124|\n",
      "|    45|   1265|   3.0|  4.152813|\n",
      "|   216|   1265|   4.0| 3.3806002|\n",
      "|   249|   1265|   4.5|  4.057384|\n",
      "|    24|   1265|   4.5| 3.7343583|\n",
      "|   156|   1265|   5.0| 3.5113688|\n",
      "|   469|   1265|   5.0| 3.8167965|\n",
      "|   141|   1265|   3.5| 3.5634596|\n",
      "|   354|   1265|   4.0| 4.0571246|\n",
      "|    68|   1265|   2.5| 3.4646933|\n",
      "|   561|   1265|   4.5| 3.9856505|\n",
      "|   199|   1265|   4.0| 3.5640633|\n",
      "|    66|   1265|   3.5|  4.197528|\n",
      "|   562|   1265|   4.0|  4.302974|\n",
      "|   483|   1265|   5.0|  3.794238|\n",
      "|   187|   1265|   4.5|  3.335555|\n",
      "|   599|   1884|   4.0| 3.5089943|\n",
      "|   111|   1884|   3.0| 2.5124335|\n",
      "|   182|   1884|   4.0|   3.93282|\n",
      "|   318|   1884|   5.0| 3.9419944|\n",
      "|   249|   1884|   4.0| 4.1400437|\n",
      "|   226|   1884|   3.5|  4.103816|\n",
      "|   124|   1884|   4.5| 3.8723986|\n",
      "|   187|   1884|   3.0| 3.9739692|\n",
      "|   474|   1975|   2.0| 2.4124293|\n",
      "|   599|   2231|   3.0| 3.1954706|\n",
      "|   325|   2231|   4.0|  3.791035|\n",
      "|   178|   2231|   4.5|  4.014381|\n",
      "|   414|   2231|   3.0|  3.957681|\n",
      "|   369|   2231|   3.0|  3.807143|\n",
      "|   562|   2231|   4.5| 4.2124906|\n",
      "|   384|   2259|   3.0| 2.4938676|\n",
      "|   414|   2259|   2.0|  3.242644|\n",
      "|   182|   2443|   4.0| 3.1473143|\n",
      "|    33|   2443|   3.0| 3.0377748|\n",
      "|   603|   2488|   5.0| 2.9625397|\n",
      "|   599|   2525|   2.0| 0.5706928|\n",
      "|   217|   2525|   3.0| 0.5407272|\n",
      "|   217|   2748|   2.0| 0.7999809|\n",
      "|   606|   3089|   4.5| 4.1877685|\n",
      "|   122|   3089|   5.0| 4.5135865|\n",
      "|   610|   3089|   3.0| 4.3502555|\n",
      "|   391|   3089|   5.0|  4.926655|\n",
      "|   275|   3089|   4.0| 4.5881495|\n",
      "|   410|   3089|   4.0| 4.4781003|\n",
      "|    74|   3089|   5.0| 4.9234185|\n",
      "|   202|   3098|   5.0| 3.7746918|\n",
      "|   514|   3098|   4.0|  3.599391|\n",
      "|    68|   3098|   3.0| 3.3296742|\n",
      "|   380|   3986|   3.0| 3.3940518|\n",
      "|   216|   3986|   2.0| 2.1653407|\n",
      "|   122|   4239|   4.5| 4.7123218|\n",
      "|   233|   4239|   3.5| 3.1813378|\n",
      "|   599|   4239|   3.0| 3.2802682|\n",
      "|   111|   4239|   3.0|  3.254416|\n",
      "|   489|   4239|   1.5| 3.2593546|\n",
      "|   318|   4239|   4.0| 3.7903705|\n",
      "|   387|   4239|   3.5| 3.5347812|\n",
      "|    18|   4239|   4.0| 3.8984182|\n",
      "|   356|   5074|   3.5| 3.9104452|\n",
      "|   606|   5308|   2.5| 3.0276003|\n",
      "|   474|   5308|   2.0|  2.337045|\n",
      "|   415|   5308|   3.5|  3.022278|\n",
      "|   381|   5308|   3.5| 3.0796797|\n",
      "|   427|   5308|   2.5| 2.0572724|\n",
      "|   428|   6597|   3.0|       NaN|\n",
      "|   605|   8743|   3.5| 1.7352587|\n",
      "|   599|  26375|   3.0| 2.8766406|\n",
      "|   514|  26375|   4.0| 3.2140129|\n",
      "|   274|  26736|   4.5|       NaN|\n",
      "|   480|  32291|   4.0|  2.659147|\n",
      "|   318|  32554|   4.0| 3.6069522|\n",
      "|   210|  33615|   4.5| 3.7875795|\n",
      "|   388|  33615|   5.0| 3.1913147|\n",
      "|   177|  33615|   3.5| 3.2248769|\n",
      "|   590|  33615|   3.0|  3.040075|\n",
      "|   509|  33615|   2.0| 2.9275484|\n",
      "|   249|  33615|   3.5| 3.6416337|\n",
      "|   125|  33615|   3.0| 3.5676706|\n",
      "|   414|  33615|   2.5| 3.3858595|\n",
      "|   119|  33615|   4.0| 4.0562677|\n",
      "|   606|  51086|   2.5| 2.8135297|\n",
      "|   177|  51086|   2.0| 2.0982206|\n",
      "|   166|  51086|   3.0|  2.996744|\n",
      "|   111|  76293|   3.0| 2.8621924|\n",
      "|   306|  76293|   3.5| 2.9595068|\n",
      "|   125|  76293|   2.5| 3.3568742|\n",
      "|   610|  83613|   3.0| 3.1057289|\n",
      "|   249|  83613|   3.0| 3.2903557|\n",
      "|   534|  83613|   3.5| 3.4802868|\n",
      "|    44|     65|   3.0| 2.2859886|\n",
      "|   111|     65|   3.5| 2.1286118|\n",
      "|    57|     65|   1.0| 1.4966679|\n",
      "|   234|     65|   3.0| 2.4750698|\n",
      "|   389|     65|   4.0| 2.9486804|\n",
      "|   228|     65|   2.0| 2.4005775|\n",
      "|    57|   1223|   4.0| 3.8372674|\n",
      "|    63|   1223|   5.0|  4.026407|\n",
      "|    50|   1223|   3.0| 3.4692585|\n",
      "|   376|   1223|   5.0|  4.453912|\n",
      "|    18|   1223|   4.5| 4.2257204|\n",
      "|   474|   1977|   1.5| 1.9159092|\n",
      "|   387|   1977|   2.0| 1.9610705|\n",
      "|   555|   1977|   3.0| 2.3788831|\n",
      "|   230|   2096|   3.0| 2.0690217|\n",
      "|   599|   2096|   2.5| 2.7122006|\n",
      "|    20|   2096|   4.0| 3.8398633|\n",
      "|   579|   2096|   4.0|   4.12177|\n",
      "|   380|   2096|   3.0| 3.5028865|\n",
      "|   600|   2096|   3.0| 3.0055358|\n",
      "|   597|   2249|   3.0| 2.4087284|\n",
      "|   294|   2249|   3.0| 2.5762799|\n",
      "|   274|   2392|   1.5| 1.9045889|\n",
      "|   606|   2622|   3.5| 3.3278792|\n",
      "|   104|   2622|   3.0| 3.0940006|\n",
      "|   493|   2924|   4.0|   3.76897|\n",
      "|   610|   3425|   4.5| 3.2923026|\n",
      "|   414|   3425|   3.0| 2.9921367|\n",
      "|   603|   3566|   1.0|  2.195837|\n",
      "|   500|   3566|   4.0|  2.181184|\n",
      "|   606|   4383|   4.0|  2.916636|\n",
      "|    18|   4383|   4.0| 3.2275584|\n",
      "|   238|   4957|   5.0|  1.558469|\n",
      "|   210|   6934|   4.5|  3.964184|\n",
      "|   232|   6934|   3.0| 3.7451303|\n",
      "|   233|   6934|   2.5| 2.3767343|\n",
      "|   438|   6934|   3.5|  2.941218|\n",
      "|   249|   6934|   3.5| 3.6615295|\n",
      "|   356|   6934|   4.0| 2.9112215|\n",
      "|    62|   6934|   5.0| 3.6778479|\n",
      "|   219|   6934|   2.5|  2.259734|\n",
      "|   482|   6934|   4.0| 3.8710313|\n",
      "|   141|   6934|   3.5|  2.787681|\n",
      "|   354|   6934|   2.5| 3.0991943|\n",
      "|   474|   6962|   3.5|       NaN|\n",
      "|   387|   7333|   4.0|  3.664118|\n",
      "|   606|   8501|   4.0| 2.8188484|\n",
      "|    91|   8501|   4.0| 3.0327327|\n",
      "|   580|   8665|   2.5| 3.6575775|\n",
      "|   232|   8665|   4.5|  3.702893|\n",
      "|   328|   8665|   3.5| 2.9582486|\n",
      "|   169|   8665|   3.5|  4.461013|\n",
      "|   292|   8665|   4.5| 3.6679063|\n",
      "|   590|   8665|   3.0| 3.3345482|\n",
      "|   326|   8665|   5.0| 3.7099204|\n",
      "|   434|   8665|   4.0| 3.4385836|\n",
      "|   166|   8665|   5.0|  4.087282|\n",
      "|   448|   8665|   3.5| 2.8565092|\n",
      "|   167|   8665|   3.5| 3.0581217|\n",
      "|    66|   8665|   5.0| 4.0200357|\n",
      "|   480|  26965|   4.0| 2.5461614|\n",
      "|   380|  27683|   2.0|       NaN|\n",
      "|   241|  27803|   4.5| 3.5474641|\n",
      "|   177|  32296|   2.5|    2.4978|\n",
      "|   382|  32296|   1.0| 2.7504659|\n",
      "|   232|  36533|   1.5| 2.2687323|\n",
      "|   414|  46974|   3.0| 2.8598964|\n",
      "|   232|  52712|   3.0| 0.3588484|\n",
      "|   414|  52712|   3.5| 0.3409719|\n",
      "|   318|  65037|   3.5|       NaN|\n",
      "|   249| 101142|   3.5| 4.0563045|\n",
      "|   119| 101142|   4.0| 4.1989713|\n",
      "|   610| 104241|   3.0|   3.68207|\n",
      "|   534| 104241|   4.0| 3.6089754|\n",
      "|   154| 108932|   5.0| 4.2009773|\n",
      "|    63| 108932|   5.0| 3.7757916|\n",
      "|   125| 108932|   3.0| 3.8648567|\n",
      "|   534| 108932|   4.0| 3.6395578|\n",
      "|   105| 108932|   3.5|  4.102744|\n",
      "|   567| 108932|   4.5|   2.87391|\n",
      "|   561| 108932|   3.5|  3.222659|\n",
      "|   610| 130050|   3.0|       NaN|\n",
      "|   380| 162598|   3.5|       NaN|\n",
      "|   601| 168326|   4.0|  4.767748|\n",
      "|   599| 168326|   3.0| 3.6042814|\n",
      "|   596| 184997|   4.0|       NaN|\n",
      "|   136|    255|   1.0| 1.2903302|\n",
      "|    53|    481|   5.0| 3.7648706|\n",
      "|   599|    481|   2.0|  2.512759|\n",
      "|   182|    481|   2.5| 3.3581378|\n",
      "|    66|    481|   2.0| 3.7958903|\n",
      "|   115|    588|   4.0| 3.7443874|\n",
      "|   385|    588|   4.0| 3.3175147|\n",
      "|   319|    588|   5.0| 4.1266575|\n",
      "|   225|    588|   4.0| 3.5054922|\n",
      "|   599|    588|   3.0| 2.8635352|\n",
      "|   142|    588|   5.0| 3.9451487|\n",
      "|   328|    588|   3.5| 3.3156984|\n",
      "|   559|    588|   4.0|  3.668958|\n",
      "|   235|    588|   4.0| 3.8383045|\n",
      "|   554|    588|   5.0| 3.7890081|\n",
      "|   455|    588|   3.0| 3.5637197|\n",
      "|   202|    588|   4.0|  3.787731|\n",
      "|   374|    588|   3.0| 3.4969375|\n",
      "|   586|    588|   4.5| 4.4741716|\n",
      "|   583|    588|   3.5| 3.4711974|\n",
      "|   307|    588|   4.0| 3.0267892|\n",
      "|    39|    588|   4.0| 3.3393092|\n",
      "|   514|    588|   4.0| 3.7037158|\n",
      "|    63|    588|   4.0|  3.524318|\n",
      "|   395|    588|   2.0| 3.1202173|\n",
      "|   509|    588|   3.5|  3.506607|\n",
      "|    10|    588|   4.0| 3.3394587|\n",
      "|    82|    588|   2.5| 3.4810739|\n",
      "|   480|    588|   4.0| 3.8413591|\n",
      "|   219|    588|   4.5|  3.275693|\n",
      "|   357|    588|   4.5| 4.1673603|\n",
      "|   573|    588|   4.5| 4.2008114|\n",
      "|    46|    588|   5.0| 4.1400256|\n",
      "|   605|    588|   3.5|  3.744271|\n",
      "|   174|    588|   4.0|  3.773719|\n",
      "|   475|    588|   5.0|  4.435325|\n",
      "|   104|    588|   4.0| 3.9592316|\n",
      "|    89|    588|   1.0| 3.0018086|\n",
      "|     6|    799|   3.0| 2.3250883|\n",
      "|   117|    799|   4.0| 2.7293038|\n",
      "|   508|    799|   2.0| 1.5970384|\n",
      "|   117|    804|   3.0| 3.2390022|\n",
      "|   599|    898|   3.5| 3.3771038|\n",
      "|   603|    898|   5.0|  4.659827|\n",
      "|   508|    898|   2.0| 1.6390356|\n",
      "|   186|    898|   4.0|  4.702772|\n",
      "|   138|    898|   5.0|  4.975481|\n",
      "|    19|   2027|   1.0| 1.8160505|\n",
      "|   448|   2027|   2.0| 2.1595306|\n",
      "|   606|   2156|   4.0|       NaN|\n",
      "|   555|   2247|   3.0|  2.963309|\n",
      "|   608|   2247|   1.0|  2.625649|\n",
      "|   414|   2802|   3.0|  3.209377|\n",
      "|   182|   3105|   4.5| 3.5640948|\n",
      "|    57|   3105|   4.0|  3.416654|\n",
      "|   489|   3105|   4.0| 3.0207326|\n",
      "|   278|   3105|   4.5|  4.108727|\n",
      "|   288|   3105|   3.0|  3.304016|\n",
      "|    68|   3105|   3.0| 3.0806255|\n",
      "|   453|   3790|   4.0|  3.719026|\n",
      "|   479|   4092|   2.0| 1.7098033|\n",
      "|   226|   4477|   2.5| 2.2961977|\n",
      "|   448|   5110|   4.0| 3.2907753|\n",
      "|    68|   5110|   1.0| 3.6835237|\n",
      "|   573|   5110|   5.0|  4.360798|\n",
      "|   287|   5527|   2.5| 1.8812625|\n",
      "|   606|   5995|   4.5| 4.3648405|\n",
      "|   599|   5995|   4.0| 3.1653092|\n",
      "|    88|   5995|   4.5|  4.255239|\n",
      "|    70|   5995|   4.0| 4.3386726|\n",
      "|   199|   5995|   5.0| 3.5954144|\n",
      "|    18|   5995|   4.5|  4.064361|\n",
      "|   387|   6552|   3.5| 3.2128186|\n",
      "|   414|   6832|   4.0| 3.5728734|\n",
      "|   489|   6890|   3.5|  3.164077|\n",
      "|   606|   7109|   3.0|       NaN|\n",
      "|   606|   7584|   4.0| 3.6881683|\n",
      "|   274|  30745|   4.5| 3.9344723|\n",
      "|   105|  48872|   4.5|       NaN|\n",
      "|   132|  48997|   3.0| 2.7811959|\n",
      "|   318|  48997|   3.5| 3.2428231|\n",
      "|    83|  48997|   3.0| 2.8438826|\n",
      "|   489|  70293|   3.0| 3.4347494|\n",
      "|    10|  70293|   0.5|  2.857835|\n",
      "|   448| 103755|   2.5|       NaN|\n",
      "|   567| 110127|   0.5| 1.4305104|\n",
      "|   233| 112183|   4.0| 3.0322843|\n",
      "|   212| 112183|   3.0| 2.9529104|\n",
      "|   241| 112183|   4.5| 3.0721152|\n",
      "|   448| 112183|   3.5|   2.91218|\n",
      "|   105| 112183|   4.0| 3.4484522|\n",
      "|   525| 112183|   3.0| 3.3841212|\n",
      "|   448| 116887|   2.0| 2.5814776|\n",
      "|    89| 171811|   4.0|       NaN|\n",
      "|   458|    296|   4.0| 3.8153744|\n",
      "|   133|    296|   3.0| 3.1931348|\n",
      "|   211|    296|   4.5| 3.9101138|\n",
      "|   115|    296|   5.0|  4.445928|\n",
      "|    28|    296|   4.5|  3.261898|\n",
      "|   606|    296|   5.0| 4.3218284|\n",
      "|   336|    296|   5.0|  4.567502|\n",
      "|   223|    296|   3.0| 3.4646633|\n",
      "|   372|    296|   4.0|  3.887971|\n",
      "|   178|    296|   4.5|  4.704607|\n",
      "|    40|    296|   5.0|  4.666157|\n",
      "|    94|    296|   4.0|  3.103045|\n",
      "|   402|    296|   5.0| 3.4464192|\n",
      "|   432|    296|   2.5| 3.8311431|\n",
      "|   542|    296|   3.5|  4.015936|\n",
      "|   560|    296|   4.0|  4.222183|\n",
      "|    15|    296|   4.0|  3.720466|\n",
      "|    43|    296|   3.0| 4.0959125|\n",
      "|   318|    296|   4.5| 4.1475406|\n",
      "|   202|    296|   4.0|  4.474858|\n",
      "|   263|    296|   3.0|  4.243636|\n",
      "|   437|    296|   5.0| 4.7759476|\n",
      "|     4|    296|   1.0|  3.796443|\n",
      "|   100|    296|   3.5| 3.7293582|\n",
      "|    23|    296|   3.5| 3.9355068|\n",
      "|   247|    296|   4.0| 4.0305347|\n",
      "|   171|    296|   5.0| 5.2532887|\n",
      "|   434|    296|   5.0| 4.7688103|\n",
      "|   428|    296|   4.5| 3.7045257|\n",
      "|   395|    296|   3.0| 3.2708418|\n",
      "|   509|    296|   3.5|  3.823525|\n",
      "|    10|    296|   1.0|  2.022656|\n",
      "|    50|    296|   4.0| 3.4314327|\n",
      "|   418|    296|   4.5|  4.436675|\n",
      "|   167|    296|   3.0|  4.343914|\n",
      "|    24|    296|   4.0| 4.0326486|\n",
      "|   411|    296|   5.0| 3.1757104|\n",
      "|   528|    296|   4.0| 3.3726628|\n",
      "|   382|    296|   5.0| 4.5301876|\n",
      "|   414|    296|   5.0|  4.513448|\n",
      "|   334|    296|   4.0| 3.3822443|\n",
      "|   592|    296|   4.0| 3.8965101|\n",
      "|   145|    296|   4.0| 3.2513983|\n",
      "|   109|    296|   5.0| 3.4798646|\n",
      "|   413|    296|   5.0| 4.0299034|\n",
      "|   201|    296|   5.0| 4.1063337|\n",
      "|   302|    296|   5.0| 5.1289415|\n",
      "|    67|    296|   4.5| 3.8331468|\n",
      "|   174|    296|   3.0|  4.197678|\n",
      "|   551|    296|   3.5| 3.2862787|\n",
      "|    19|    472|   2.0| 1.9172438|\n",
      "|   368|   1466|   3.0| 3.1773036|\n",
      "|   603|   1466|   3.0| 3.5903306|\n",
      "|   450|   1466|   4.0| 4.2633247|\n",
      "|   555|   1466|   4.0|  3.738581|\n",
      "|   166|   1466|   4.0|  4.036048|\n",
      "|   510|   1466|   2.0| 3.0998633|\n",
      "|   195|   1466|   4.0| 3.5095308|\n",
      "|   221|   1466|   4.0|  3.855023|\n",
      "|   414|   1466|   3.0| 3.8743281|\n",
      "|   304|   1466|   5.0|  3.512387|\n",
      "|   105|   1466|   4.5| 4.0102673|\n",
      "|   313|   1466|   3.0|  3.866775|\n",
      "|   282|   1466|   4.5|  3.968963|\n",
      "|    19|   1888|   2.0| 2.1347334|\n",
      "|   414|   2035|   3.0|  3.478034|\n",
      "|   122|   2542|   5.0|  4.929739|\n",
      "|   140|   2542|   4.0| 3.7347355|\n",
      "|   305|   2542|   3.5| 4.3269796|\n",
      "|   590|   2542|   3.5| 3.8483362|\n",
      "|   307|   2542|   3.0| 3.4065995|\n",
      "|   434|   2542|   3.5|  4.258249|\n",
      "|   391|   2542|   3.0| 3.7052257|\n",
      "|   239|   2542|   5.0|  4.316011|\n",
      "|   249|   2542|   4.0| 4.2881618|\n",
      "|   608|   2542|   4.0| 3.6958706|\n",
      "|   298|   2542|   3.0| 3.1966558|\n",
      "|   199|   2542|   3.0| 3.8033195|\n",
      "|   573|   2542|   5.0|  4.712966|\n",
      "|   313|   2542|   5.0| 3.8120124|\n",
      "|   275|   2542|   4.0|   4.45626|\n",
      "|   282|   2542|   4.0|  4.360852|\n",
      "|   215|   2542|   4.0| 3.8502636|\n",
      "|    18|   2542|   4.5|  4.085241|\n",
      "|   577|   3062|   3.0| 3.6917887|\n",
      "|   474|   3306|   4.5| 3.6850567|\n",
      "|   384|   4291|   2.0|  2.907538|\n",
      "|    51|   4291|   2.0| 2.9575038|\n",
      "|   318|   4612|   4.5|       NaN|\n",
      "|   527|   4799|   3.0| 3.0468664|\n",
      "|   599|   6557|   0.5|       NaN|\n",
      "|   177|   7222|   2.5| 2.9807227|\n",
      "|   594|   8482|   0.5| 2.9696162|\n",
      "|   474|   8534|   3.5|       NaN|\n",
      "|   305|   8640|   4.0| 3.2858875|\n",
      "|   480|   8640|   2.0| 2.1513495|\n",
      "|   580|   8950|   4.5| 3.9674366|\n",
      "|   103|   8950|   4.5|  4.071705|\n",
      "|   274|   8950|   3.5| 3.5285726|\n",
      "|   279|   8950|   3.5|  3.800761|\n",
      "|   249|   8950|   5.0|  4.174955|\n",
      "|   405|   8950|   4.0| 4.0872836|\n",
      "|   414|  46347|   3.5| 3.0687473|\n",
      "|    32|     78|   4.0| 2.7919168|\n",
      "|   414|     78|   3.0| 2.5210874|\n",
      "|   597|    322|   5.0| 3.2199643|\n",
      "|   603|    322|   4.0| 2.2178495|\n",
      "|   500|    322|   4.0| 1.9823494|\n",
      "|   262|    322|   3.0| 2.6319325|\n",
      "|   469|    322|   3.0|  3.174965|\n",
      "|   414|    322|   5.0| 2.9224515|\n",
      "|   290|    918|   5.0|  4.182749|\n",
      "|   517|    918|   4.0| 2.3789253|\n",
      "|   288|   1005|   1.0| 1.9760184|\n",
      "|   219|   1005|   1.5| 2.1732693|\n",
      "|   332|   2396|   4.0|  3.485059|\n",
      "|   606|   2396|   4.0|   3.86837|\n",
      "|   223|   2396|   4.0| 3.4247591|\n",
      "|   246|   2396|   4.5| 3.9071164|\n",
      "|   432|   2396|   3.5| 3.8169367|\n",
      "|   266|   2396|   1.0| 3.3998718|\n",
      "|    19|   2396|   4.0| 3.3008714|\n",
      "|    64|   2396|   4.0|  3.832999|\n",
      "|   383|   2396|   5.0| 3.7440462|\n",
      "|   263|   2396|   4.0| 3.7821488|\n",
      "|   217|   2396|   2.0|   3.00437|\n",
      "|   555|   2396|   2.0|  4.149616|\n",
      "|   453|   2396|   5.0|  4.267132|\n",
      "|   129|   2396|   4.0|  3.750022|\n",
      "|    45|   2396|   4.0| 4.0607076|\n",
      "|   288|   2396|   4.0|  3.447591|\n",
      "|   591|   2396|   4.0| 3.7167552|\n",
      "|   160|   2396|   1.0| 3.3977365|\n",
      "|   595|   2396|   5.0|  4.206015|\n",
      "|   525|   2396|   4.0| 3.5584347|\n",
      "|   199|   2396|   4.0| 3.2867968|\n",
      "|   294|   2396|   4.0| 3.1820848|\n",
      "|   115|   3703|   3.0| 4.7379766|\n",
      "|   202|   3703|   3.0| 3.9987147|\n",
      "|   610|   3703|   4.5| 4.5818405|\n",
      "|   514|   3703|   4.5| 3.8561597|\n",
      "|   532|   3703|   5.0| 4.3480854|\n",
      "|   313|   3703|   5.0| 4.3955617|\n",
      "|   599|   4167|   2.0|   2.33582|\n",
      "|   599|   6378|   2.5| 2.9181046|\n",
      "|   139|   6378|   2.0| 2.1562667|\n",
      "|   542|   6378|   3.5| 3.3737462|\n",
      "|   425|   6378|   3.0| 3.5771177|\n",
      "|   196|   6378|   4.5| 3.7684495|\n",
      "|   307|   6378|   2.5| 2.8468828|\n",
      "|   129|   6378|   4.0| 4.0941944|\n",
      "|   448|   6378|   3.0| 2.9546487|\n",
      "|   414|   6378|   4.0| 3.4455645|\n",
      "|   413|   6378|   5.0|  4.726075|\n",
      "|   119|   6378|   4.5| 4.1610684|\n",
      "|   551|   6378|   4.0| 3.4122968|\n",
      "|   483|   6378|   3.5| 3.5788798|\n",
      "|   610|  31364|   5.0|    4.3374|\n",
      "|   187|  31364|   5.0|  3.997637|\n",
      "|   318|  32906|   3.5|       NaN|\n",
      "|   274|  33132|   1.5|       NaN|\n",
      "|   226|  37720|   4.0| 2.4920433|\n",
      "|   606|  41285|   4.0| 3.8430798|\n",
      "|   480|  41285|   4.0| 3.1968498|\n",
      "|   506|  41285|   3.0| 3.7839825|\n",
      "|   274|  53127|   4.0|  1.843592|\n",
      "|   424|  53127|   3.5| 1.6607667|\n",
      "|   274|  62434|   3.5|   3.65881|\n",
      "|    73|  62434|   4.0| 3.6335626|\n",
      "|   414|  62434|   3.5| 3.4665673|\n",
      "|   596|  68954|   3.5|  3.847561|\n",
      "|    22|  68954|   2.0|  1.402491|\n",
      "|   291|  68954|   4.0| 3.8322618|\n",
      "|   435|  68954|   4.0| 4.6012764|\n",
      "|   581|  68954|   4.0|  4.444267|\n",
      "|   274|  68954|   3.5|  3.656929|\n",
      "|    16|  68954|   4.0| 3.6957026|\n",
      "|   308|  68954|   3.5| 2.6787753|\n",
      "|   139|  68954|   2.5| 2.0992162|\n",
      "|   339|  68954|   3.0|  4.308166|\n",
      "|   127|  68954|   0.5|  2.629988|\n",
      "|   196|  68954|   4.0| 3.9610846|\n",
      "|   380|  68954|   5.0| 4.1778746|\n",
      "|   247|  68954|   4.0|  3.777648|\n",
      "|   533|  68954|   5.0|  4.536227|\n",
      "|    10|  68954|   4.0| 3.4042344|\n",
      "|   288|  68954|   4.5| 3.6431234|\n",
      "|    62|  68954|   5.0|  4.365768|\n",
      "|   550|  68954|   4.5| 4.0313635|\n",
      "|   490|  68954|   3.5| 3.4951854|\n",
      "|   105|  68954|   3.5| 4.3225236|\n",
      "|   344|  68954|   5.0| 4.5244765|\n",
      "|   119|  68954|   5.0|  4.235778|\n",
      "|   466|  68954|   5.0|  4.058299|\n",
      "|   551|  68954|   4.0| 3.7747848|\n",
      "|   153|  68954|   2.5|  2.740753|\n",
      "|   104|  68954|   4.0| 4.1195908|\n",
      "|   578|  72407|   3.5| 3.1543224|\n",
      "|   111|  72407|   1.5| 2.3637106|\n",
      "|   599|  89753|   3.0|   2.56069|\n",
      "|   222|  95720|   2.5| 2.9048488|\n",
      "|   292|  95720|   1.0| 3.5870836|\n",
      "|   563| 106487|   3.5| 3.5413933|\n",
      "|   586| 106487|   3.5|  4.760344|\n",
      "|   380| 106487|   3.0| 3.5840394|\n",
      "|    62| 106487|   4.0|  4.088098|\n",
      "|   567| 106487|   2.5| 1.5402571|\n",
      "|    18| 106487|   4.0| 3.6120813|\n",
      "|   447|    362|   5.0| 3.5808816|\n",
      "|   318|    362|   4.0|  3.344253|\n",
      "|   281|    362|   2.0| 3.6865003|\n",
      "|   483|    362|   2.5| 3.6973882|\n",
      "|   385|    673|   3.0| 2.5797138|\n",
      "|    44|    673|   1.0|   3.01349|\n",
      "|   111|    673|   2.5| 1.7713518|\n",
      "|     1|    673|   3.0| 3.2756672|\n",
      "|   274|    673|   3.5| 2.9041054|\n",
      "|    57|    673|   1.0| 2.7634797|\n",
      "|   314|    673|   3.0| 2.4775693|\n",
      "|   234|    673|   3.0| 2.9187236|\n",
      "|   160|    673|   2.0| 2.0220942|\n",
      "|   151|    673|   4.0| 3.6591022|\n",
      "|   567|    673|   2.0| 1.7106099|\n",
      "|   561|    673|   2.0| 2.6778347|\n",
      "|   135|    673|   2.0| 2.7196844|\n",
      "|   483|    673|   2.5| 2.2222548|\n",
      "|   517|    673|   2.0| 2.4229703|\n",
      "|   599|   2625|   1.5| 2.5135736|\n",
      "|    78|   3087|   3.0| 3.2992935|\n",
      "|   328|   3087|   3.5| 2.7575066|\n",
      "|   217|   3087|   2.0|  2.347511|\n",
      "|   156|   3087|   3.0|  2.553992|\n",
      "|   608|   3087|   2.5|  2.671609|\n",
      "|   172|   3087|   5.0| 3.2854192|\n",
      "|   307|   4061|   3.0|  2.186557|\n",
      "|   113|   4126|   4.0| 2.5761933|\n",
      "|   474|   4259|   4.0|  3.360048|\n",
      "|   477|   4725|   4.0| 3.1067238|\n",
      "|   169|   5222|   4.0| 3.6398208|\n",
      "|   489|   5222|   0.5|  4.169119|\n",
      "|   563|   7169|   3.0| 3.6610537|\n",
      "|   438|   7169|   3.5| 2.9178247|\n",
      "|   503|   8042|   5.0|  3.990901|\n",
      "|   298|  54256|   2.5| 1.7675521|\n",
      "|   111|  58559|   4.0| 3.9586093|\n",
      "|   132|  58559|   3.5|  3.596677|\n",
      "|   328|  58559|   2.0| 3.7922893|\n",
      "|   432|  58559|   4.0| 3.6455512|\n",
      "|   279|  58559|   4.0| 3.8391967|\n",
      "|   415|  58559|   4.0|  4.283111|\n",
      "|   366|  58559|   4.0| 4.1743417|\n",
      "|   495|  58559|   5.0|  4.719731|\n",
      "|    80|  58559|   5.0| 4.6561236|\n",
      "|   356|  58559|   5.0|  4.465816|\n",
      "|    24|  58559|   4.0|  4.042407|\n",
      "|    62|  58559|   5.0| 4.6723948|\n",
      "|   351|  58559|   3.5| 3.9182425|\n",
      "|   105|  58559|   3.5|  4.310152|\n",
      "|    83|  58559|   5.0| 3.4475553|\n",
      "|   561|  58559|   5.0|  4.090359|\n",
      "|   317|  58559|   4.0| 4.0047593|\n",
      "|   424|  58559|   3.5| 3.4033394|\n",
      "|   522|  58559|   5.0|  4.281086|\n",
      "|   466|  58559|   3.0| 4.0989776|\n",
      "|     2|  58559|   4.5| 3.8665175|\n",
      "|   563|  80241|   3.0|  2.688665|\n",
      "|   249|  89047|   4.0|       NaN|\n",
      "|   249| 187593|   5.0|  4.002034|\n",
      "|    25| 187593|   5.0| 4.0540533|\n",
      "|   248| 187593|   4.5| 2.6134443|\n",
      "|   137|    593|   4.0| 4.1183724|\n",
      "|   580|    593|   4.5| 3.8548768|\n",
      "|   596|    593|   4.0| 3.9243662|\n",
      "|   300|    593|   4.0|  4.116272|\n",
      "|   412|    593|   4.0|  4.300418|\n",
      "|   577|    593|   4.0| 3.9972062|\n",
      "|   103|    593|   5.0| 4.4595714|\n",
      "|   336|    593|   5.0|  4.554966|\n",
      "|   223|    593|   2.5| 3.4314117|\n",
      "|   367|    593|   5.0| 4.2788525|\n",
      "|   305|    593|   5.0| 4.4887543|\n",
      "|   603|    593|   5.0|   4.05831|\n",
      "|     1|    593|   4.0|  4.691995|\n",
      "|   212|    593|   3.5| 3.5476248|\n",
      "|   474|    593|   4.5| 4.1478395|\n",
      "|   142|    593|   5.0|  4.398783|\n",
      "|    94|    593|   3.0| 3.3056512|\n",
      "|   292|    593|   3.0| 3.5419836|\n",
      "|    54|    593|   4.0| 3.3764493|\n",
      "|   419|    593|   3.0| 4.3199906|\n",
      "|   560|    593|   4.0|  4.030755|\n",
      "|   554|    593|   5.0|  4.647747|\n",
      "|   425|    593|   4.0| 3.9369218|\n",
      "|   607|    593|   5.0| 4.3769674|\n",
      "|   262|    593|   2.0| 3.4432755|\n",
      "|   594|    593|   5.0| 4.3285184|\n",
      "|   485|    593|   5.0| 4.1300955|\n",
      "|   307|    593|   4.5| 3.1924114|\n",
      "|   326|    593|   4.5|    4.1733|\n",
      "|     4|    593|   5.0| 3.9006944|\n",
      "|   244|    593|   4.0| 4.4310327|\n",
      "|   446|    593|   5.0|  4.134192|\n",
      "|    84|    593|   5.0| 4.2169514|\n",
      "|   247|    593|   4.0|   3.78419|\n",
      "|   443|    593|   3.5|  4.163855|\n",
      "|    51|    593|   5.0|  4.713498|\n",
      "|   448|    593|   5.0| 3.7783518|\n",
      "|   589|    593|   5.0|  4.624525|\n",
      "|   267|    593|   5.0|  4.650637|\n",
      "|   288|    593|   5.0|  3.828774|\n",
      "|   411|    593|   5.0| 3.8122063|\n",
      "|   477|    593|   5.0| 4.1588984|\n",
      "|   526|    593|   4.0| 4.0455103|\n",
      "|   382|    593|   5.0|  4.590021|\n",
      "|   592|    593|   5.0|  4.295801|\n",
      "|   304|    593|   4.0| 4.4101114|\n",
      "|   541|    593|   4.0|  4.049516|\n",
      "|   525|    593|   3.5| 4.0804296|\n",
      "|   116|    593|   2.0| 4.0150375|\n",
      "|   600|    593|   4.0| 3.1753025|\n",
      "|   199|    593|   4.0| 3.9979286|\n",
      "|   242|    593|   5.0|  4.291661|\n",
      "|    42|    593|   5.0| 4.3224435|\n",
      "|   357|    593|   4.5| 4.2906857|\n",
      "|   573|    593|   4.5|   4.44969|\n",
      "|   313|    593|   5.0| 3.7613122|\n",
      "|   282|    593|   4.0|   4.44289|\n",
      "|   322|    597|   3.0| 3.0015705|\n",
      "|   597|    597|   4.0|  3.187001|\n",
      "|   530|    597|   4.0| 3.7719576|\n",
      "|   587|    597|   4.0|  4.208405|\n",
      "|    47|    597|   3.0|  2.764714|\n",
      "|   140|    597|   5.0| 3.5916255|\n",
      "|    13|    597|   3.0| 3.3989825|\n",
      "|   470|    597|   4.0| 3.5148077|\n",
      "|   559|    597|   3.0| 3.3006716|\n",
      "|   117|    597|   3.0| 3.3743608|\n",
      "|   347|    597|   4.0| 3.6982005|\n",
      "|   455|    597|   4.0|  3.319532|\n",
      "|   263|    597|   4.0| 3.6540174|\n",
      "|   286|    597|   3.5| 3.4496806|\n",
      "|   387|    597|   2.5| 2.5793018|\n",
      "|   301|    597|   4.0| 3.0644064|\n",
      "|   100|    597|   4.5| 4.1593285|\n",
      "|   129|    597|   4.0| 3.8099813|\n",
      "|   166|    597|   3.5| 3.7313187|\n",
      "|   448|    597|   3.0|  3.013586|\n",
      "|   404|    597|   3.0| 3.4135942|\n",
      "|   156|    597|   4.0| 3.1342432|\n",
      "|   592|    597|   3.0|  3.883395|\n",
      "|   354|    597|   3.5| 3.4910882|\n",
      "|    68|    597|   4.5| 3.6601856|\n",
      "|    14|    597|   3.0| 3.4195263|\n",
      "|    42|    597|   5.0| 3.2092905|\n",
      "|   566|    597|   3.0| 3.2732985|\n",
      "|   174|    597|   4.0|  3.756596|\n",
      "|   144|    597|   3.0|  3.500551|\n",
      "|   153|    597|   0.5|  2.165334|\n",
      "|   493|    876|   5.0|       NaN|\n",
      "|   474|    976|   3.0|       NaN|\n",
      "|    91|   1199|   4.0| 3.9537258|\n",
      "|   318|   1199|   3.5| 3.9452972|\n",
      "|   391|   1199|   5.0|  4.458122|\n",
      "|    50|   1199|   4.0| 3.4567082|\n",
      "|   477|   1199|   4.5|  4.427063|\n",
      "|   371|   1199|   5.0| 4.8823247|\n",
      "|   376|   1199|   3.5| 3.8359957|\n",
      "|   313|   1199|   5.0| 3.9388928|\n",
      "|   202|   1212|   4.0| 4.3887587|\n",
      "|    59|   1212|   5.0|  4.349959|\n",
      "|   469|   1212|   5.0|  4.202028|\n",
      "|   135|   1468|   5.0|  1.433681|\n",
      "|   481|   1653|   3.0| 3.5019472|\n",
      "|   332|   1653|   2.0| 3.8319058|\n",
      "|   603|   1653|   4.0| 3.6521645|\n",
      "|   182|   1653|   3.5| 3.9740548|\n",
      "|   425|   1653|   4.0| 3.7000382|\n",
      "|    61|   1653|   4.5| 4.1331654|\n",
      "|   381|   1653|   4.0|  3.801518|\n",
      "|   453|   1653|   4.0| 4.2066045|\n",
      "|   465|   1653|   4.0| 4.5231657|\n",
      "|   356|   1653|   4.5| 4.3110065|\n",
      "|    75|   1653|   2.0| 3.1248012|\n",
      "|   265|   1653|   4.0| 3.6926808|\n",
      "|   414|   1653|   4.0|  4.364488|\n",
      "|   567|   1653|   3.0| 2.4982884|\n",
      "|   198|   1653|   5.0| 3.9138746|\n",
      "|   100|   2513|   2.0| 2.9652336|\n",
      "|   571|   2513|   5.0| 1.8050476|\n",
      "|   570|   2797|   3.5| 3.3742793|\n",
      "|   318|   2797|   3.5| 3.5106478|\n",
      "|   202|   2797|   4.0| 4.0787416|\n",
      "|   310|   2797|   3.5| 3.2556355|\n",
      "|    51|   2797|   5.0| 4.0549703|\n",
      "|   167|   2797|   3.0| 3.5124295|\n",
      "|   356|   2797|   4.0|  4.195858|\n",
      "|   116|   2797|   3.0| 3.5869277|\n",
      "|   282|   2797|   4.5|  4.140517|\n",
      "|   483|   2797|   4.0| 3.7397912|\n",
      "|   288|   3441|   2.0|  3.091366|\n",
      "|   414|   4474|   2.0| 3.1031313|\n",
      "|   479|   4713|   3.0| 3.1458178|\n",
      "|   377|   4713|   4.5| 3.7746727|\n",
      "|   318|   4713|   2.5|    3.3326|\n",
      "|   596|   6157|   1.5| 2.3721578|\n",
      "|   182|   6157|   2.5| 2.1372023|\n",
      "|   139|   6157|   2.0| 1.6027833|\n",
      "|   166|   6157|   2.5| 2.9659402|\n",
      "|   528|   6157|   2.5| 2.3478594|\n",
      "|   606|   6188|   1.5|  3.199255|\n",
      "|   232|   6188|   4.0| 3.7770865|\n",
      "|   484|   6188|   4.0|  3.855067|\n",
      "|   564|   6188|   4.5|  4.305163|\n",
      "|   438|   6188|   3.5| 3.4075856|\n",
      "|   448|   6188|   3.5| 3.4196014|\n",
      "|   474|   7092|   3.5| 3.0238695|\n",
      "|   462|   7132|   3.5| 3.5631022|\n",
      "|   166|   7132|   4.5|  4.254765|\n",
      "|   483|   7132|   4.5|  4.231701|\n",
      "|   599|  26778|   2.0| 2.6278396|\n",
      "|   474|  35015|   3.5|       NaN|\n",
      "|   177|  50685|   4.0| 3.4051232|\n",
      "|   509|  50685|   3.5| 3.3473327|\n",
      "|    68|  50685|   4.5| 3.1176915|\n",
      "|   298|  66297|   4.0|  2.893707|\n",
      "|    21|  73106|   2.0|   2.28155|\n",
      "|   184| 106873|   2.5| 2.8524213|\n",
      "|    47| 140715|   4.0| 2.8620026|\n",
      "|   414| 140715|   4.0| 3.9623413|\n",
      "|    47| 148626|   3.0| 2.7926035|\n",
      "|   249| 148626|   4.5| 4.3116374|\n",
      "|   414| 148626|   5.0| 4.2854266|\n",
      "|   119| 148626|   5.0|  4.352711|\n",
      "|   184| 148626|   5.0| 4.1410913|\n",
      "|    89| 164707|   4.0|       NaN|\n",
      "|   448| 165343|   1.5|       NaN|\n",
      "|   191|    155|   4.0| 2.9813373|\n",
      "|   555|    155|   1.0| 2.4373045|\n",
      "|    89|    950|   3.0| 1.0434415|\n",
      "|   580|   2294|   4.0| 3.6352744|\n",
      "|    27|   2294|   2.0| 3.0982716|\n",
      "|   474|   2294|   3.5| 3.2583196|\n",
      "|   489|   2294|   1.5| 2.8464496|\n",
      "|   381|   2294|   3.0| 3.4393396|\n",
      "|   220|   2294|   2.5| 3.8162825|\n",
      "|    59|   2294|   3.0|  3.547175|\n",
      "|   234|   2294|   3.0|   3.67861|\n",
      "|   304|   2294|   3.0|  3.688319|\n",
      "|   599|   2606|   3.0| 2.1155996|\n",
      "|   608|   2606|   2.0|  2.331944|\n",
      "|   359|   2739|   4.5| 3.9975271|\n",
      "|   489|   2739|   4.0| 3.5533524|\n",
      "|   587|   3436|   4.0|  4.054528|\n",
      "|   555|   3661|   3.0|       NaN|\n",
      "|   368|   3844|   3.0| 2.6360366|\n",
      "|   414|   3844|   2.0|   3.36351|\n",
      "|   599|   4452|   2.5| 1.9299667|\n",
      "|   195|   4452|   4.0|  2.708274|\n",
      "|   232|   6213|   4.0| 2.7162902|\n",
      "|   556|   6754|   4.0|  3.587112|\n",
      "|   425|   6754|   4.0| 3.4133575|\n",
      "|   381|   6754|   3.0| 3.3614109|\n",
      "|   594|   6754|   5.0| 4.0076723|\n",
      "|   610|   6754|   3.0| 3.5044832|\n",
      "|   428|   6754|   4.0| 2.5096743|\n",
      "|   232|  40946|   1.5| 2.0338583|\n",
      "|   328|  54272|   2.0| 2.2312899|\n",
      "|   220|  54272|   4.0| 3.6227393|\n",
      "|   380|  54272|   4.0| 3.6848114|\n",
      "|   448|  54272|   4.0| 3.0634267|\n",
      "|   119|  54272|   4.5| 3.9435647|\n",
      "|    68|  54734|   3.5| 1.2636063|\n",
      "|   380|  78105|   4.0| 3.1333377|\n",
      "|   561|  78105|   3.0|  2.122527|\n",
      "|   605|  78105|   3.5| 2.9497602|\n",
      "|   249|  90430|   4.5| 4.1218877|\n",
      "|   249|  99750|   3.5|       NaN|\n",
      "|   111| 112497|   3.0| 0.6588194|\n",
      "|   298| 126548|   2.0| 1.6245522|\n",
      "|   305| 143385|   4.0| 3.7838533|\n",
      "|   567| 143385|   1.0|  2.343542|\n",
      "|   593|     34|   4.0| 3.6710763|\n",
      "|   596|     34|   4.0|  3.312026|\n",
      "|   103|     34|   4.0| 3.6433735|\n",
      "|   386|     34|   4.0| 2.8121352|\n",
      "|   274|     34|   4.0| 3.1488023|\n",
      "|    20|     34|   4.0| 4.4689684|\n",
      "|   470|     34|   4.0| 3.4380736|\n",
      "|   169|     34|   4.0| 4.0021715|\n",
      "|    94|     34|   4.0| 3.0839865|\n",
      "|   292|     34|   3.5| 3.2934666|\n",
      "|   507|     34|   5.0| 3.3182602|\n",
      "|   425|     34|   3.5| 3.1259365|\n",
      "|   273|     34|   4.0| 3.9450488|\n",
      "|    63|     34|   3.0| 3.2425818|\n",
      "|    82|     34|   2.0| 2.6408691|\n",
      "|   394|     34|   3.0| 2.8346038|\n",
      "|   156|     34|   4.0| 3.3548715|\n",
      "|   411|     34|   4.0| 3.5748055|\n",
      "|   323|     34|   2.5|  3.399144|\n",
      "|   170|     34|   5.0| 3.0758767|\n",
      "|    33|     34|   3.0| 3.4032607|\n",
      "|   525|     34|   3.0|  3.495565|\n",
      "|   440|    193|   3.5| 2.8122873|\n",
      "|   142|    193|   2.0|  2.612789|\n",
      "|    96|    193|   1.0| 3.3582854|\n",
      "|    43|    193|   4.0| 2.3326223|\n",
      "|   136|    193|   1.0|  2.247102|\n",
      "|   414|    193|   2.0| 2.3488276|\n",
      "|   134|    193|   3.0|  3.162828|\n",
      "|   597|    368|   4.0| 3.4834306|\n",
      "|   385|    368|   4.0| 3.1297367|\n",
      "|   602|    368|   2.0| 3.2731519|\n",
      "|   599|    368|   2.5|   2.81028|\n",
      "|   559|    368|   3.0| 3.5760708|\n",
      "|   235|    368|   2.0| 3.4615753|\n",
      "|    19|    368|   3.0| 2.8160145|\n",
      "|   117|    368|   4.0|  3.348438|\n",
      "|   100|    368|   4.5| 3.8864353|\n",
      "|   244|    368|   5.0| 3.8148081|\n",
      "|   453|    368|   5.0| 4.1145163|\n",
      "|    45|    368|   4.0|  3.630362|\n",
      "|   240|    368|   5.0| 3.8625531|\n",
      "|   464|    368|   4.5| 3.5302243|\n",
      "|   608|    368|   3.0| 3.0734172|\n",
      "|   369|    368|   3.0| 3.0444913|\n",
      "|    31|   1198|   4.0|  4.336345|\n",
      "|   580|   1198|   4.5| 3.8050601|\n",
      "|    28|   1198|   2.5| 3.3456209|\n",
      "|   497|   1198|   4.0|   3.62533|\n",
      "|   596|   1198|   3.5| 3.8359418|\n",
      "|   577|   1198|   4.0|  4.218332|\n",
      "|   223|   1198|   3.5| 3.2895267|\n",
      "|   232|   1198|   4.5|  3.928675|\n",
      "|   177|   1198|   3.5|  3.552665|\n",
      "|   355|   1198|   5.0|  4.093338|\n",
      "|   274|   1198|   4.0| 3.8803315|\n",
      "|   182|   1198|   3.5| 3.8910334|\n",
      "|    16|   1198|   3.5| 3.7956097|\n",
      "|   292|   1198|   4.0| 3.8041348|\n",
      "|    19|   1198|   5.0| 3.4000769|\n",
      "|    15|   1198|   4.0| 3.9793787|\n",
      "|   489|   1198|   4.0| 3.3450308|\n",
      "|   202|   1198|   5.0| 4.5496025|\n",
      "|   381|   1198|   4.0| 3.7085981|\n",
      "|     4|   1198|   3.0| 4.4724855|\n",
      "|   380|   1198|   5.0|  4.735341|\n",
      "|   520|   1198|   5.0|   4.40809|\n",
      "|    84|   1198|   4.0| 4.0113606|\n",
      "|   166|   1198|   4.5| 4.2707086|\n",
      "|   400|   1198|   4.5|  4.569359|\n",
      "|    45|   1198|   4.0| 4.3961515|\n",
      "|   510|   1198|   4.0| 3.4870806|\n",
      "|   356|   1198|   4.0| 4.3521485|\n",
      "|   480|   1198|   5.0| 3.9248278|\n",
      "|    95|   1198|   5.0|  4.728833|\n",
      "|   221|   1198|   3.5| 4.3391767|\n",
      "|   334|   1198|   3.5| 3.6551301|\n",
      "|   200|   1198|   4.0| 3.9600468|\n",
      "|   534|   1198|   4.0| 4.5721226|\n",
      "|   370|   1198|   4.0| 3.7878585|\n",
      "|   342|   1198|   4.0|   3.80907|\n",
      "|   522|   1198|   3.5| 4.3886104|\n",
      "|   201|   1198|   5.0|  4.794109|\n",
      "|   186|   1198|   5.0|  4.562296|\n",
      "|   153|   1198|   0.5| 1.4525186|\n",
      "|    18|   1198|   4.0| 4.2382894|\n",
      "|   180|   1198|   4.0| 3.9193568|\n",
      "|   393|   1198|   5.0| 3.5160007|\n",
      "|   332|   1344|   3.5| 3.7932575|\n",
      "|   590|   1344|   3.5|  3.688516|\n",
      "|   290|   1344|   4.0|  4.306497|\n",
      "|   414|   1344|   3.5| 3.9637315|\n",
      "|   412|   1537|   4.0| 3.9855819|\n",
      "|   499|   1924|   3.0| 3.0978913|\n",
      "|    18|   1924|   2.5|  2.888699|\n",
      "|    70|   3152|   4.0| 4.4987254|\n",
      "|   274|   3235|   3.5| 2.9654715|\n",
      "|   599|   4132|   1.5| 2.0049446|\n",
      "|   213|   4132|   4.0|  3.021096|\n",
      "|    42|   4132|   3.0| 3.3666337|\n",
      "|   422|   4132|   1.0| 3.0242434|\n",
      "|   606|   4321|   3.0| 3.5023055|\n",
      "|   474|   4321|   3.0| 2.8412373|\n",
      "|   514|   4321|   4.0|   3.59554|\n",
      "|   288|   4321|   4.0| 2.8355405|\n",
      "|   226|   4321|   3.0| 3.6750815|\n",
      "|   367|   4517|   3.0|       NaN|\n",
      "|   594|   4517|   0.5|       NaN|\n",
      "|   391|   5417|   5.0| 2.8832166|\n",
      "|   387|   7587|   4.0| 3.4525414|\n",
      "|   474|   7647|   3.5| 3.1629176|\n",
      "|   307|   8011|   4.0|   2.93634|\n",
      "|   122|   8464|   4.5|  4.398122|\n",
      "|    47|   8464|   3.0| 3.2346148|\n",
      "|   177|   8464|   4.5| 3.2000856|\n",
      "|   419|   8464|   5.0| 4.1399407|\n",
      "|   462|   8464|   3.0| 2.7561731|\n",
      "|   448|   8464|   3.5| 3.2458577|\n",
      "|   354|   8464|   4.0| 3.8026114|\n",
      "|   298|   8464|   2.0| 2.4372432|\n",
      "|   357|   8464|   4.0| 3.7040381|\n",
      "|   596|   8961|   4.0| 3.8297398|\n",
      "|   332|   8961|   3.5|  3.717731|\n",
      "|   606|   8961|   4.0|  3.822591|\n",
      "|   330|   8961|   4.5| 3.7178845|\n",
      "|   599|   8961|   2.5|  3.204245|\n",
      "|   274|   8961|   3.5| 3.5766137|\n",
      "|   474|   8961|   4.0|  3.765568|\n",
      "|   292|   8961|   3.5|  3.660558|\n",
      "|   366|   8961|   4.0|  3.728193|\n",
      "|   489|   8961|   3.5| 3.4259531|\n",
      "|   263|   8961|   3.5| 4.1368074|\n",
      "|   307|   8961|   3.0| 3.0650563|\n",
      "|   301|   8961|   4.0| 3.6855304|\n",
      "|   514|   8961|   3.5| 3.7367702|\n",
      "|    77|   8961|   5.0| 3.7296038|\n",
      "|   219|   8961|   4.0| 3.4785233|\n",
      "|   141|   8961|   4.5| 3.7115736|\n",
      "|   200|   8961|   4.0|  4.086865|\n",
      "|   487|   8961|   4.0| 2.8755164|\n",
      "|   426|   8961|   5.0| 3.9353008|\n",
      "|   466|   8961|   3.5|  4.097722|\n",
      "|   357|   8961|   4.0| 4.1569047|\n",
      "|   332|  26258|   2.0|  4.445217|\n",
      "|   387|  26258|   3.5|  4.271543|\n",
      "|   599|  33126|   2.5|       NaN|\n",
      "|   600|  52767|   4.0|  2.840935|\n",
      "|    28|  62376|   2.5| 2.0270243|\n",
      "|   122|  94864|   4.0| 4.1599813|\n",
      "|   305|  94864|   2.5| 3.0664947|\n",
      "|   279|  94864|   3.0| 3.5738158|\n",
      "|   610|  94864|   3.5|  3.737064|\n",
      "|    50|  94864|   1.5| 2.1686144|\n",
      "|    80|  94864|   5.0| 3.7851186|\n",
      "|   298|  94864|   3.5| 2.4582007|\n",
      "|   561|  94864|   2.0|  2.926256|\n",
      "|   573|  94864|   4.5| 3.5547884|\n",
      "|   184| 103210|   2.0|       NaN|\n",
      "|   534| 104129|   4.5| 1.6821231|\n",
      "|   599| 117895|   2.5| 1.1132294|\n",
      "|   249| 117895|   3.5| 1.4840126|\n",
      "|   448| 133782|   2.0|       NaN|\n",
      "|   599|    101|   2.5| 2.8152587|\n",
      "|   274|    101|   3.5| 3.4337654|\n",
      "|   500|    101|   1.0|  4.350341|\n",
      "|   448|    101|   3.5| 3.7841077|\n",
      "|   567|    101|   3.0| 2.5990956|\n",
      "|   600|    101|   4.5| 3.2582562|\n",
      "|    27|    126|   2.0| 2.1262577|\n",
      "|    40|    126|   3.0|  1.969047|\n",
      "|   474|   1183|   2.0|  3.725869|\n",
      "|   559|   1183|   4.0| 3.7262826|\n",
      "|    64|   1183|   4.0| 4.1110845|\n",
      "|   202|   1183|   4.0| 3.9537432|\n",
      "|    59|   1183|   5.0| 4.8432918|\n",
      "|   391|   1183|   3.0|  3.655415|\n",
      "|   312|   1183|   5.0| 4.0093317|\n",
      "|   113|   1183|   5.0|   3.64086|\n",
      "|    32|   1183|   3.0| 4.0831566|\n",
      "|    90|   1183|   4.0| 4.3791595|\n",
      "|   332|   1378|   2.0| 2.7972603|\n",
      "|   474|   1378|   3.0| 2.5878742|\n",
      "|    68|   1378|   2.5| 2.5547307|\n",
      "|   330|   1500|   2.5| 3.4203959|\n",
      "|   202|   1500|   5.0|  3.826021|\n",
      "|   555|   1500|   4.0| 4.0128016|\n",
      "|   194|   1500|   3.5| 3.6221375|\n",
      "|   356|   1500|   5.0| 3.6475658|\n",
      "|   469|   1500|   4.0| 3.5367439|\n",
      "|   215|   1500|   3.0| 3.4157524|\n",
      "|    36|   1500|   2.0|   2.65498|\n",
      "|   122|   2003|   4.0| 4.1435075|\n",
      "|   225|   2003|   3.0| 3.5206048|\n",
      "|   599|   2003|   3.0| 3.0240161|\n",
      "|   274|   2003|   4.5|  2.894758|\n",
      "|   425|   2003|   3.0| 3.0753531|\n",
      "|   489|   2003|   3.5| 2.7873693|\n",
      "|   387|   2003|   3.0| 3.1637547|\n",
      "|   380|   2003|   5.0|  3.381976|\n",
      "|   514|   2003|   4.0|   3.44399|\n",
      "|   480|   2003|   4.0| 3.3448412|\n",
      "|   226|   2003|   3.5| 3.6111567|\n",
      "|   370|   2003|   3.5| 2.5048676|\n",
      "|   474|   2261|   2.0| 2.9660487|\n",
      "|   414|   2261|   5.0| 2.9658792|\n",
      "|   255|   2907|   4.0| 2.8142056|\n",
      "|    28|   3198|   3.0|  2.894476|\n",
      "|   474|   3198|   3.5| 3.8057811|\n",
      "|   448|   3198|   4.0| 3.7404938|\n",
      "|   414|   3198|   4.0| 4.2977495|\n",
      "|   105|   3198|   4.0|  4.329603|\n",
      "|   590|   4153|   1.0| 2.0101495|\n",
      "|   610|   4153|   3.0| 2.3840718|\n",
      "|    82|   4153|   4.0| 2.4607966|\n",
      "|   111|   4865|   3.0| 3.0190752|\n",
      "|   132|   4865|   3.0|  3.010417|\n",
      "|    51|   4865|   5.0| 3.8023267|\n",
      "|   249|   4865|   3.5| 3.9204962|\n",
      "|   351|   4865|   4.0| 3.2829826|\n",
      "|   480|   4865|   4.5| 3.4364803|\n",
      "|   238|   4917|   4.0|       NaN|\n",
      "|   108|   4992|   4.0| 3.1063554|\n",
      "|   177|   4992|   4.0| 3.1248386|\n",
      "|   256|   4992|   4.5| 3.3669968|\n",
      "|   608|   4992|   3.5| 2.2858076|\n",
      "|   599|   5597|   2.5|0.57558954|\n",
      "|   232|   7173|   3.5| 3.2064464|\n",
      "|   484|   7173|   4.0| 2.5600605|\n",
      "|   564|   7173|   3.5| 3.5898185|\n",
      "|   448|   7173|   2.5| 2.3646097|\n",
      "|   143|   7173|   1.0|  2.173391|\n",
      "|   200|   7173|   3.5| 3.3955543|\n",
      "|   448|  26700|   2.5| 1.8734857|\n",
      "|   232|  39427|   3.5| 3.0853047|\n",
      "|   187|  39427|   4.0| 4.1586914|\n",
      "|   448|  47044|   1.5| 2.8895588|\n",
      "|   226|  47044|   2.0| 2.7823968|\n",
      "|   210|  62836|   4.0|       NaN|\n",
      "|   477|  70687|   4.5|0.68891364|\n",
      "|   599|  75416|   1.5|       NaN|\n",
      "|    89| 110130|   5.0|  2.679415|\n",
      "|    15| 160980|   3.5| 3.3187282|\n",
      "|   567| 160980|   2.0| 2.0457737|\n",
      "|   182|     81|   3.5|  3.094297|\n",
      "|   474|    830|   2.0|  2.426834|\n",
      "|   453|    830|   2.0| 3.4780438|\n",
      "|   387|   1226|   3.0| 2.8805737|\n",
      "|    91|   1259|   3.0| 3.6446183|\n",
      "|   305|   1259|   4.5| 4.4781055|\n",
      "|   274|   1259|   3.5| 3.8207262|\n",
      "|   339|   1259|   5.0|  4.388851|\n",
      "|   452|   1259|   5.0| 4.6822915|\n",
      "|   266|   1259|   4.0|  4.115106|\n",
      "|    41|   1259|   5.0| 3.2333996|\n",
      "|   425|   1259|   4.0|  3.641225|\n",
      "|   461|   1259|   4.0| 2.9542153|\n",
      "|   381|   1259|   3.5| 3.7473037|\n",
      "|   307|   1259|   3.5|  3.319251|\n",
      "|     4|   1259|   4.0| 3.9324403|\n",
      "|   450|   1259|   4.0|  4.415169|\n",
      "|   356|   1259|   3.5|  4.278858|\n",
      "|   480|   1259|   3.5| 3.7834787|\n",
      "|   195|   1259|   4.0| 3.6232023|\n",
      "|   105|   1259|   4.0|  4.091118|\n",
      "|   370|   1259|   3.5| 3.6573918|\n",
      "|   600|   1259|   3.0| 3.6761036|\n",
      "|   365|   1259|   4.0| 2.5808983|\n",
      "|   573|   1259|   4.0|   4.32827|\n",
      "|   153|   1259|   2.0| 2.2949674|\n",
      "|   474|   2212|   3.0|  3.519311|\n",
      "|   469|   2662|   3.0| 3.7368171|\n",
      "|   288|   3313|   2.0| 0.6399242|\n",
      "|   410|   3538|   2.0|  3.765406|\n",
      "|    51|   4293|   3.0| 1.7088939|\n",
      "|    42|   4293|   4.0| 1.4265755|\n",
      "|   148|   4896|   4.0| 3.8541028|\n",
      "|   103|   4896|   2.5| 3.6698828|\n",
      "|   190|   4896|   5.0| 3.8483407|\n",
      "|   246|   4896|   4.0| 4.1798425|\n",
      "|   556|   4896|   5.0|  4.117146|\n",
      "|   132|   4896|   3.0| 3.3156488|\n",
      "|   274|   4896|   2.0| 3.4896789|\n",
      "|    20|   4896|   4.5|  4.080672|\n",
      "|   263|   4896|   4.0| 3.9511712|\n",
      "|   114|   4896|   4.0|  3.015256|\n",
      "|   220|   4896|   5.0| 4.1648235|\n",
      "|     4|   4896|   4.0| 2.9661303|\n",
      "|   428|   4896|   3.0| 2.2436514|\n",
      "|   448|   4896|   3.0| 3.3473043|\n",
      "|    63|   4896|   1.5| 3.5436878|\n",
      "|   219|   4896|   2.5| 3.3172421|\n",
      "|   608|   4896|   3.0| 3.3103402|\n",
      "|   135|   4896|   4.0|  3.232182|\n",
      "|   365|   4896|   2.5| 2.9518661|\n",
      "|   557|   4896|   4.5|  4.424222|\n",
      "|   448|   5055|   3.0| 2.0868983|\n",
      "|   448|   5151|   3.0| 2.6685722|\n",
      "|   200|   5151|   2.5|  3.373772|\n",
      "|   599|   5254|   3.5| 2.4913895|\n",
      "|   312|   5254|   3.0| 2.8257196|\n",
      "|    68|   5254|   3.5| 3.0194476|\n",
      "|   313|   5254|   5.0|  3.264238|\n",
      "|     9|   5447|   4.0| 2.6545348|\n",
      "|   479|   5452|   1.0| 1.8510137|\n",
      "|   448|   5490|   5.0|       NaN|\n",
      "|   274|   5785|   4.0| 3.1091194|\n",
      "|    20|   5785|   4.0| 3.4184453|\n",
      "|   339|   5785|   4.0| 3.2597845|\n",
      "|   330|   6460|   4.5|  4.369282|\n",
      "|   156|   6460|   5.0| 3.9766364|\n",
      "|   274|   6664|   3.5| 3.4411626|\n",
      "|    28|   6953|   3.0| 2.2753553|\n",
      "|   425|   6953|   3.5| 3.1004384|\n",
      "|   287|   7649|   0.5| 2.1497214|\n",
      "|   482|   8977|   1.0| 2.2855392|\n",
      "|   605|   8977|   1.0|  1.843969|\n",
      "|   448|  79259|   2.5|       NaN|\n",
      "|   306|  86833|   4.0| 3.4556646|\n",
      "|   491|  86833|   3.5| 3.8793461|\n",
      "|   249|  86833|   3.5|  4.117703|\n",
      "|    73|  86833|   5.0| 4.5220175|\n",
      "|   317|  86833|   4.0| 2.8454463|\n",
      "|   210| 130444|   4.0|       NaN|\n",
      "|   567| 130576|   2.5|  1.537819|\n",
      "|   111| 143859|   1.5|  3.056638|\n",
      "|   462| 143859|   1.5| 3.0113022|\n",
      "|   111| 159093|   4.5| 3.4383385|\n",
      "|   514| 159093|   4.0| 2.9982848|\n",
      "|   248| 159093|   4.5| 3.2612753|\n",
      "|   246|     28|   4.5| 4.7929206|\n",
      "|   177|     28|   2.5| 3.9722621|\n",
      "|   262|     28|   5.0|  2.816853|\n",
      "|   325|    183|   4.0| 2.2544951|\n",
      "|   599|    210|   2.0| 2.3383985|\n",
      "|   368|    436|   2.0| 2.2642016|\n",
      "|    42|    436|   4.0| 2.3461647|\n",
      "|   104|    436|   1.5| 2.0519192|\n",
      "|   177|   1031|   3.0|  2.933572|\n",
      "|    20|   1031|   3.0| 3.4187016|\n",
      "|    19|   1031|   2.0| 2.8573906|\n",
      "|   527|   1031|   4.0| 4.3538036|\n",
      "|   288|   1031|   3.0| 3.1034384|\n",
      "|   517|   1031|   3.5|  2.771499|\n",
      "|   500|   1175|   5.0| 3.3250513|\n",
      "|   312|   1175|   5.0| 4.1165113|\n",
      "|   187|   1175|   4.0|  3.947305|\n",
      "|   580|   1201|   4.0| 3.3165524|\n",
      "|    28|   1201|   4.0|  3.402396|\n",
      "|   329|   1201|   2.0| 2.1659381|\n",
      "|   274|   1201|   3.0| 3.6798072|\n",
      "|   168|   1201|   5.0| 4.5394073|\n",
      "|   590|   1201|   4.5| 4.0352154|\n",
      "|   380|   1201|   5.0|  4.200393|\n",
      "|    51|   1201|   4.0| 4.2811837|\n",
      "|   524|   1201|   4.0| 3.9543757|\n",
      "|    63|   1201|   4.0| 3.8070757|\n",
      "|    50|   1201|   4.0| 3.3421812|\n",
      "|   414|   1201|   5.0|  4.481365|\n",
      "|   298|   1201|   4.0| 2.8423452|\n",
      "|   499|   1201|   4.5|  4.308259|\n",
      "|   483|   1201|   5.0|  4.024522|\n",
      "|   100|   1441|   4.5| 4.0797687|\n",
      "|   432|   1892|   4.5|   3.16205|\n",
      "|   316|   1892|   3.0| 2.7950063|\n",
      "|   237|   1892|   4.0| 2.7827976|\n",
      "|    68|   1892|   4.0| 3.4097478|\n",
      "|   322|   2052|   2.0|  2.437454|\n",
      "|   274|   2052|   3.5| 2.1621091|\n",
      "|   563|   2052|   4.0| 2.9982061|\n",
      "|   381|   2052|   4.0|  2.906017|\n",
      "|   234|   2052|   5.0| 3.2388177|\n",
      "|   186|   2052|   3.0| 2.9195457|\n",
      "|   420|   2052|   3.0| 2.8285265|\n",
      "|   517|   2052|   0.5| 3.1668603|\n",
      "|   568|   2313|   5.0| 4.2832913|\n",
      "|   204|   2313|   4.0|  4.056259|\n",
      "|   172|   2313|   3.0|  3.750185|\n",
      "|    91|   2463|   2.5|  2.815945|\n",
      "|   448|   2463|   4.0| 3.3002582|\n",
      "|   597|   2683|   5.0| 3.4249868|\n",
      "|   236|   2683|   5.0| 3.2565668|\n",
      "|   346|   2683|   2.0| 3.0983834|\n",
      "|   177|   2683|   1.0| 2.7635357|\n",
      "|   603|   2683|   4.0|  2.691293|\n",
      "|   274|   2683|   4.0| 3.2041006|\n",
      "|   280|   2683|   2.5| 3.2508333|\n",
      "|   377|   2683|   4.0| 3.2631664|\n",
      "|   560|   2683|   3.5| 3.0876844|\n",
      "|    64|   2683|   4.0| 3.3175569|\n",
      "|     4|   2683|   4.0| 2.7064943|\n",
      "|   453|   2683|   5.0| 3.8572347|\n",
      "|   434|   2683|   3.5| 3.5146284|\n",
      "|   428|   2683|   2.0| 2.8191543|\n",
      "|   438|   2683|   3.5| 3.2957423|\n",
      "|   249|   2683|   3.0| 3.5297382|\n",
      "|   591|   2683|   5.0|   2.56393|\n",
      "|   156|   2683|   3.0|  2.847672|\n",
      "|   482|   2683|   4.0| 2.7623262|\n",
      "|   608|   2683|   3.0| 2.9761074|\n",
      "|   298|   2683|   2.5| 2.9287794|\n",
      "|   199|   2683|   4.5| 2.6467164|\n",
      "|   201|   2683|   5.0| 3.2094052|\n",
      "|   573|   2683|   4.0|  4.155451|\n",
      "|   124|   2683|   4.0|  3.733821|\n",
      "|   483|   2683|   3.5| 3.5363033|\n",
      "|   517|   2683|   0.5|  2.113568|\n",
      "|   603|   3445|   4.0|  2.588969|\n",
      "|   202|   3445|   3.0| 3.4053626|\n",
      "|    57|   3685|   3.0| 3.8789313|\n",
      "|   216|   3685|   5.0| 3.5514593|\n",
      "|   294|   3685|   3.0| 2.8900476|\n",
      "|   368|   3841|   3.0| 2.3773665|\n",
      "|   448|   3841|   3.0| 2.5068583|\n",
      "|   414|   4326|   3.0| 3.6624494|\n",
      "|   232|   4958|   3.5| 3.0537903|\n",
      "|   348|   4958|   4.0| 3.6562572|\n",
      "|   169|   4958|   3.5| 3.7551553|\n",
      "|   419|   4958|   4.0| 3.2796667|\n",
      "|   586|   4958|   4.0| 3.4654825|\n",
      "|   238|   4958|   4.0|  3.308455|\n",
      "|   414|   4958|   3.0|  3.062626|\n",
      "|   279|   5152|   3.0|  3.371682|\n",
      "|    64|   5152|   3.5| 3.3178236|\n",
      "|    68|   5152|   4.0| 3.5100842|\n",
      "|   606|   6319|   2.5| 2.3420408|\n",
      "|   160|   6319|   1.0| 1.4975455|\n",
      "|   474|   7325|   3.5| 2.6742423|\n",
      "|   484|   7325|   4.0|  3.276293|\n",
      "|   414|   7325|   2.5| 3.0911033|\n",
      "|   199|   7325|   4.0| 2.5328608|\n",
      "|   606|   7460|   4.0| 2.9361525|\n",
      "|   560|   7460|   4.0| 3.3058567|\n",
      "|   599|   8827|   3.0| 2.4859917|\n",
      "|   599|  32515|   2.5|       NaN|\n",
      "|   232|  44193|   3.0| 3.3234038|\n",
      "|   380|  57274|   5.0| 4.0018115|\n",
      "|   506|  68269|   4.0| 2.4359887|\n",
      "|    21|  80166|   3.0| 2.6095347|\n",
      "|   534|  80166|   3.5| 2.6147664|\n",
      "|   599| 108090|   3.5|       NaN|\n",
      "|   330|    497|   4.0| 3.5146391|\n",
      "|   425|    497|   3.0| 3.3809786|\n",
      "|   437|    497|   3.0|  4.150705|\n",
      "|   290|    497|   4.0|   4.32869|\n",
      "|   100|    497|   4.0|   3.74881|\n",
      "|   446|    497|   4.0|  4.060011|\n",
      "|   273|    497|   5.0| 4.4509635|\n",
      "|   510|    497|   1.5|  2.808982|\n",
      "|   177|    596|   3.0| 2.8887079|\n",
      "|   168|    596|   4.5|   3.48372|\n",
      "|     5|    596|   5.0| 2.9001703|\n",
      "|    64|    596|   4.0| 3.5537097|\n",
      "|   484|    596|   5.0| 3.8484776|\n",
      "|    15|    596|   2.0| 3.1888843|\n",
      "|   502|    596|   4.5|  3.921079|\n",
      "|   307|    596|   2.5| 2.2911227|\n",
      "|   161|    596|   3.5| 3.0936484|\n",
      "|   414|    596|   4.0| 3.5912862|\n",
      "|   534|    596|   4.0| 3.4145484|\n",
      "|   525|    596|   1.5| 3.0950248|\n",
      "|   373|    596|   5.0| 3.4452252|\n",
      "|   451|    762|   3.0| 2.0708358|\n",
      "|   402|    762|   3.0| 3.2294497|\n",
      "|   594|    762|   4.0| 3.0772576|\n",
      "|   389|    762|   3.0|   3.25213|\n",
      "|   226|    762|   3.5|  2.306067|\n",
      "|   335|    762|   1.0| 2.5628614|\n",
      "|   270|    762|   3.0| 1.6939546|\n",
      "|   414|   1051|   3.0| 3.7862093|\n",
      "|   372|   1243|   3.0| 3.7124345|\n",
      "|   387|   1243|   3.0| 4.1293306|\n",
      "|   177|   1274|   2.0| 3.1868227|\n",
      "|   474|   1274|   2.0| 3.2831514|\n",
      "|   500|   1274|   4.0| 3.7415946|\n",
      "|    57|   1274|   3.0| 4.0025125|\n",
      "|   560|   1274|   3.5| 3.8697536|\n",
      "|    23|   1274|   4.0| 3.9198563|\n",
      "|   428|   1274|   4.5| 3.3864245|\n",
      "|    50|   1274|   4.0| 2.8605437|\n",
      "|   480|   1274|   4.0| 3.9310937|\n",
      "|   567|   1274|   0.5| 2.2595222|\n",
      "|   483|   1274|   3.5| 4.7655516|\n",
      "|   593|   1296|   5.0|  4.045458|\n",
      "|   606|   1296|   4.5| 3.6043644|\n",
      "|   199|   1296|   4.0|  3.817432|\n",
      "|   603|   1415|   4.0|0.81241775|\n",
      "|   367|   2018|   5.0|   3.93977|\n",
      "|   500|   2018|   3.0| 3.0425334|\n",
      "|    64|   2018|   3.5| 3.5427017|\n",
      "|   517|   2018|   4.0| 2.4520686|\n",
      "|   155|   2355|   4.0| 3.5293868|\n",
      "|   601|   2355|   4.5|  3.908418|\n",
      "|    93|   2355|   4.0|  4.536804|\n",
      "|   328|   2355|   3.5|   2.84808|\n",
      "|   500|   2355|   5.0| 3.1116965|\n",
      "|   560|   2355|   3.0|  3.345842|\n",
      "|    64|   2355|   4.0| 3.4155214|\n",
      "|   263|   2355|   5.0| 3.5676248|\n",
      "|   438|   2355|   4.0|  3.570142|\n",
      "|   509|   2355|   3.0| 3.2123954|\n",
      "|   249|   2355|   4.0| 3.8001242|\n",
      "|   226|   2355|   3.0| 3.4464056|\n",
      "|   608|   2355|   4.0|  3.229197|\n",
      "|    33|   2355|   5.0| 3.3577979|\n",
      "|   104|   2355|   4.0| 3.4704072|\n",
      "|    89|   2355|   3.5| 2.5214233|\n",
      "|   599|   2583|   2.5| 3.1567976|\n",
      "|   160|   2583|   2.0| 3.8252592|\n",
      "|   332|   2905|   4.5|   4.15228|\n",
      "|    64|   2905|   3.5|  4.514816|\n",
      "|   599|   4155|   2.5| 2.7259984|\n",
      "|   177|   4155|   3.0|  3.601686|\n",
      "|   603|   4155|   1.0| 3.2998497|\n",
      "|   594|   4155|   5.0| 3.9662228|\n",
      "|   256|   4155|   4.0| 3.6412208|\n",
      "|    42|   4155|   3.0|  3.534122|\n",
      "|   606|   4424|   4.0|  2.223162|\n",
      "|   603|   4424|   4.0| 2.1987917|\n",
      "|   606|   4482|   2.5| 1.8089381|\n",
      "|    42|   4482|   5.0| 1.7960708|\n",
      "|   460|   7147|   4.0|  4.108133|\n",
      "|   232|   7147|   4.0| 3.7111018|\n",
      "|   169|   7147|   4.0| 4.6974025|\n",
      "|    64|   7147|   4.0|  3.955255|\n",
      "|   610|   7147|   4.0| 3.8626316|\n",
      "|   288|   7147|   4.5| 3.3815506|\n",
      "|   562|   7147|   4.0|  4.369231|\n",
      "|   153|   7147|   4.0| 2.4869545|\n",
      "|   420|   7147|   4.0| 3.9238431|\n",
      "|   483|   7147|   5.0|  3.887561|\n",
      "|   599|   8622|   3.5| 2.7504556|\n",
      "|    68|   8622|   3.0|  2.907889|\n",
      "|   448|  55995|   2.0|  2.405568|\n",
      "|   318|  92637|   3.5|       NaN|\n",
      "|   448| 100390|   1.5| 2.5050287|\n",
      "|   496| 106920|   4.5| 3.4448586|\n",
      "|   599| 106920|   3.0| 2.8382246|\n",
      "|   305| 106920|   5.0| 3.3820577|\n",
      "|   610| 106920|   5.0| 3.7932384|\n",
      "|   241| 106920|   5.0| 3.7410083|\n",
      "|   249| 106920|   5.0| 3.8469813|\n",
      "|   125| 106920|   4.0| 3.6561415|\n",
      "|   123| 106920|   3.5| 3.7967513|\n",
      "|   119| 106920|   5.0| 3.5483572|\n",
      "|   184| 106920|   4.5| 3.9627595|\n",
      "|   551| 170697|   4.0|   3.82874|\n",
      "|    89| 182731|   4.5|       NaN|\n",
      "|   530|    300|   3.0| 3.8419886|\n",
      "|   602|    300|   5.0| 3.0968766|\n",
      "|   330|    300|   4.0| 3.3167188|\n",
      "|   474|    300|   4.0|  3.065706|\n",
      "|    40|    300|   5.0| 4.1998715|\n",
      "|   318|    300|   4.5| 2.9453547|\n",
      "|   462|    300|   2.5| 2.6306608|\n",
      "|   263|    300|   3.0|  3.609887|\n",
      "|   387|    300|   3.0| 3.0310056|\n",
      "|   162|    300|   3.0| 3.5874114|\n",
      "|   446|    300|   3.0| 3.3728743|\n",
      "|   448|    300|   4.0| 3.8054311|\n",
      "|   589|    300|   3.0|  4.263563|\n",
      "|   156|    300|   3.5| 3.1336677|\n",
      "|   411|    300|   3.0| 2.9330094|\n",
      "|   109|    300|   3.0| 3.2356386|\n",
      "|   536|    300|   4.0| 3.0243707|\n",
      "|   566|    300|   3.0|  3.060719|\n",
      "|   468|    300|   4.0| 2.7722058|\n",
      "|   606|    412|   3.5|  4.186236|\n",
      "|   372|    412|   2.0| 3.5112612|\n",
      "|   476|    412|   3.0| 3.1480782|\n",
      "|     6|    412|   3.0| 3.1518147|\n",
      "|   474|    412|   4.0| 3.6795475|\n",
      "|   479|    412|   4.0| 3.3488488|\n",
      "|    84|    412|   5.0| 3.9092038|\n",
      "|    31|    784|   5.0|  2.626341|\n",
      "|   111|    784|   2.5| 2.5101252|\n",
      "|   179|    784|   3.0| 2.7902045|\n",
      "|   489|    784|   0.5| 2.2936702|\n",
      "|   307|    784|   4.0|  2.577765|\n",
      "|   171|    784|   4.0| 2.9950058|\n",
      "|   428|    784|   2.0| 2.2968028|\n",
      "|    82|    784|   1.5| 2.8442028|\n",
      "|   226|    784|   4.0| 2.7078447|\n",
      "|    32|    784|   3.0| 2.4191594|\n",
      "|   600|    784|   2.5| 1.7136027|\n",
      "|   276|    784|   5.0| 3.3581755|\n",
      "|   529|    784|   1.0| 2.9682462|\n",
      "|    44|    842|   3.0| 3.0638776|\n",
      "|   479|   1030|   2.0| 2.3028677|\n",
      "|    57|   1030|   3.0| 2.3037972|\n",
      "|   448|   1030|   4.0| 2.4647708|\n",
      "|   234|   1030|   4.0| 2.5398088|\n",
      "|   348|   1772|   4.5| 2.9316921|\n",
      "|   249|   1772|   3.0|  2.869037|\n",
      "|   600|   1772|   2.0|  2.051836|\n",
      "|   555|   1974|   3.0|  3.838257|\n",
      "|   288|   1974|   1.0| 1.9653671|\n",
      "|   561|   1974|   3.0| 2.6051664|\n",
      "|   562|   1974|   4.5| 3.3987424|\n",
      "|   216|   2349|   2.0| 3.8882387|\n",
      "|   603|   2682|   4.0|  3.208879|\n",
      "|   368|   3706|   3.0| 2.5827885|\n",
      "|   603|   3706|   4.0|  2.973596|\n",
      "|   103|   4848|   5.0| 4.0449657|\n",
      "|    22|   4848|   4.5|  3.491527|\n",
      "|   182|   4848|   5.0|  3.867036|\n",
      "|    20|   4848|   1.5| 3.4871275|\n",
      "|   339|   4848|   5.0| 3.9935696|\n",
      "|    41|   4848|   5.0| 3.7770667|\n",
      "|   286|   4848|   5.0| 3.7684584|\n",
      "|   418|   4848|   3.0|  4.131481|\n",
      "|   125|   4848|   4.5| 3.7039788|\n",
      "|   414|   5337|   3.0| 2.9346697|\n",
      "|   307|   6695|   1.5| 0.8132944|\n",
      "|   380|   6695|   3.0|  1.457428|\n",
      "|   610|   6820|   4.0| 4.5431247|\n",
      "|   414|   6820|   4.0| 4.2069564|\n",
      "|   605|   8008|   3.5| 3.6372333|\n",
      "|   460|   8132|   5.0| 4.5590353|\n",
      "|   129|   8132|   4.5|  4.565994|\n",
      "|   608|   8132|   4.5|  4.370701|\n",
      "|   599|   8809|   2.5|       NaN|\n",
      "|   474|   8809|   4.0|       NaN|\n",
      "|   414|   8915|   3.5|       NaN|\n",
      "|   474|  32584|   4.0|  2.660384|\n",
      "|   221|  32584|   3.0| 3.2537408|\n",
      "|   599|  41716|   2.5| 2.6252675|\n",
      "|   387|  41716|   2.0| 2.8752007|\n",
      "|   448| 103655|   1.5| 1.9565915|\n",
      "|   534| 112370|   2.0| 1.5010103|\n",
      "|   247| 136864|   2.5|   2.65519|\n",
      "|   448| 136864|   2.0| 2.3133307|\n",
      "|    25| 180095|   5.0| 3.2906084|\n",
      "|   321|    587|   3.0| 3.7708457|\n",
      "|   597|    587|   4.0| 3.5415962|\n",
      "|   436|    587|   4.0| 3.5760107|\n",
      "|   602|    587|   4.0| 3.3154392|\n",
      "|   225|    587|   3.0| 3.7793689|\n",
      "|   367|    587|   4.0| 4.2811675|\n",
      "|   325|    587|   3.0| 2.7541983|\n",
      "|   297|    587|   1.0| 2.3957033|\n",
      "|   479|    587|   3.0| 3.5845585|\n",
      "|   268|    587|   1.0| 2.1016135|\n",
      "|    19|    587|   3.0| 2.7231097|\n",
      "|    64|    587|   4.0| 3.3943934|\n",
      "|    43|    587|   5.0| 5.2162867|\n",
      "|   113|    587|   3.0|  2.940948|\n",
      "|   160|    587|   3.0| 2.2105002|\n",
      "|   605|    587|   3.0| 3.2467158|\n",
      "|   517|    587|   4.0| 3.4393642|\n",
      "|   609|    731|   4.0| 2.5958128|\n",
      "|   603|    988|   3.0|       NaN|\n",
      "|   263|    988|   3.0|       NaN|\n",
      "|   412|   1276|   5.0|  4.062465|\n",
      "|   285|   1276|   4.5| 4.0680394|\n",
      "|   462|   1276|   5.0| 3.4523919|\n",
      "|    39|   1276|   4.0| 4.0104074|\n",
      "|   477|   1276|   4.0| 4.2098575|\n",
      "|   110|   1276|   5.0| 4.2321935|\n",
      "|   131|   1276|   4.0|  3.620178|\n",
      "|   294|   1276|   3.0| 3.1423886|\n",
      "|   410|   1276|   5.0|  4.488772|\n",
      "|   597|   1307|   5.0|  4.370414|\n",
      "|   603|   1307|   4.0| 3.6594136|\n",
      "|   474|   1307|   5.0| 3.4841883|\n",
      "|   570|   1307|   3.5| 3.2714329|\n",
      "|    41|   1307|   3.5| 3.2840621|\n",
      "|   387|   1307|   3.5| 3.3027825|\n",
      "|   437|   1307|   4.0| 4.0040917|\n",
      "|   301|   1307|   4.0| 3.1848378|\n",
      "|   555|   1307|   5.0| 3.7688735|\n",
      "|   216|   1307|   3.0| 3.5479767|\n",
      "|   167|   1307|   3.0| 2.9541879|\n",
      "|   156|   1307|   3.5| 3.6433253|\n",
      "|   526|   1307|   3.5| 3.9897423|\n",
      "|   414|   1307|   4.0| 3.9716158|\n",
      "|   198|   1307|   4.0| 4.0863104|\n",
      "|    42|   1307|   4.0|  4.042738|\n",
      "|   377|   2015|   3.5| 3.2962425|\n",
      "|    19|   2015|   3.0| 2.4376166|\n",
      "|   600|   2015|   3.5| 2.8176095|\n",
      "|   315|   2015|   3.0|  2.337484|\n",
      "|   596|   2094|   3.5| 3.0023255|\n",
      "|    19|   2094|   4.0| 2.5641625|\n",
      "|   415|   2094|   3.0| 3.3822327|\n",
      "|   380|   2094|   5.0| 3.5382245|\n",
      "|   469|   2094|   2.0| 3.0229967|\n",
      "|   265|   2094|   3.0|  3.219435|\n",
      "|   414|   2094|   2.0| 3.2120225|\n",
      "|   573|   2094|   2.5| 3.8574154|\n",
      "|   597|   2240|   5.0| 3.3974748|\n",
      "|   290|   2240|   4.0| 3.3768828|\n",
      "|   265|   2240|   3.0| 2.5814924|\n",
      "|   275|   2240|   5.0| 3.3651364|\n",
      "|   367|   3296|   4.0|  4.524921|\n",
      "|   587|   3403|   4.0|       NaN|\n",
      "|    34|   3624|   4.0| 3.3065848|\n",
      "|    20|   3624|   2.0| 2.9232564|\n",
      "|    19|   3624|   3.0| 2.1138403|\n",
      "|   234|   3624|   5.0| 3.0555005|\n",
      "|   216|   3624|   4.0|     3.278|\n",
      "|   135|   3624|   4.0|  2.632646|\n",
      "|   414|   4229|   3.0| 1.9049457|\n",
      "|   414|   5663|   3.5|       NaN|\n",
      "|   414|   6288|   3.5|  3.733702|\n",
      "|   111|  42007|   2.5|  2.572542|\n",
      "|   600|  52435|   4.0| 2.3184116|\n",
      "|   432|  64497|   2.5| 2.8853555|\n",
      "|   209|  71535|   2.0| 4.3109083|\n",
      "|   122|  71535|   4.5|  4.566257|\n",
      "|    52|  71535|   4.5|  4.564603|\n",
      "|   448|  71535|   4.0| 3.2747784|\n",
      "|   320|  71535|   4.0| 3.5404866|\n",
      "|    80|  71535|   4.0| 4.4086494|\n",
      "|   256|  71535|   4.5|  4.191476|\n",
      "|   414|  71535|   5.0| 3.8192043|\n",
      "|   365|  71535|   3.5| 2.6529098|\n",
      "|   448|  85510|   2.0| 2.8014293|\n",
      "|   408|  85510|   3.5|  3.338723|\n",
      "|   414|  85510|   4.0|   3.16277|\n",
      "|   341|  94405|   4.0| 2.4308329|\n",
      "|   298| 135861|   1.5| 2.0981774|\n",
      "|   365| 157699|   3.0|  2.877538|\n",
      "|   184| 157699|   3.5| 3.6746523|\n",
      "|   182|     76|   3.5| 3.4139113|\n",
      "|     6|     76|   4.0|  2.969288|\n",
      "|   492|     76|   5.0| 3.2681153|\n",
      "|   109|     76|   3.0| 2.3271425|\n",
      "|    44|    667|   3.0| 1.8551011|\n",
      "|   402|    667|   3.0| 3.6401482|\n",
      "|   492|    667|   3.0| 3.9583983|\n",
      "|   599|    688|   1.5|  2.098329|\n",
      "|   217|    688|   2.0| 2.1266425|\n",
      "|   136|    688|   3.0| 2.4287176|\n",
      "|   177|    914|   4.0| 4.0820317|\n",
      "|     3|    914|   0.5| 1.1792666|\n",
      "|    20|    914|   4.5|  4.500998|\n",
      "|   590|    914|   4.0| 4.1091256|\n",
      "|   552|    914|   3.5| 3.7842212|\n",
      "|   186|    914|   4.0| 4.3617105|\n",
      "|   104|    914|   4.0| 3.9327319|\n",
      "|    93|   1372|   5.0|  5.074586|\n",
      "|   218|   1372|   2.0| 3.2430367|\n",
      "|   452|   1372|   4.0|  4.477733|\n",
      "|   430|   1372|   4.0| 3.7999861|\n",
      "|   217|   1372|   3.0| 3.5939178|\n",
      "|   312|   1372|   4.0| 3.1360178|\n",
      "|   527|   1372|   4.0|  4.000328|\n",
      "|    45|   1372|   5.0|  3.771091|\n",
      "|   160|   1372|   2.0| 3.1103919|\n",
      "|   376|   1372|   3.5| 4.3325477|\n",
      "|   561|   1372|   4.0| 2.9854946|\n",
      "|   149|   1372|   1.0| 2.8575253|\n",
      "|   599|   1480|   2.5| 2.9327674|\n",
      "|    19|   1816|   1.0| 2.1099768|\n",
      "|   580|   2467|   3.5| 2.7263181|\n",
      "|   318|   2467|   3.5| 3.5164018|\n",
      "|    23|   2467|   4.0| 3.0886168|\n",
      "|   313|   2467|   5.0| 3.0029085|\n",
      "|   483|   2467|   4.5| 3.3262503|\n",
      "|   274|   2871|   3.5| 3.6153753|\n",
      "|   474|   2871|   4.0| 3.5328598|\n",
      "|    51|   2871|   4.5|  3.861408|\n",
      "|   221|   2871|   4.5| 4.0137086|\n",
      "|   599|   3252|   4.0|  3.163871|\n",
      "|   474|   3252|   3.0|  3.589469|\n",
      "|   115|   3264|   4.0| 2.3190348|\n",
      "|   177|   3264|   2.0| 2.5319126|\n",
      "|   473|   3264|   2.0|  2.160814|\n",
      "|   160|   3264|   1.0| 1.8611166|\n",
      "|   135|   3264|   2.0| 2.5975184|\n",
      "|   113|   3359|   4.0| 3.9657285|\n",
      "|   275|   3359|   5.0| 4.2262673|\n",
      "|    17|   3435|   3.5|  4.213098|\n",
      "|   356|   3435|   5.0|  4.101887|\n",
      "|   318|   4256|   5.0| 2.6551197|\n",
      "|   177|   4700|   4.0|  3.269743|\n",
      "|   132|   4700|   3.0|  2.674373|\n",
      "|    20|   4700|   4.0|  3.172352|\n",
      "|    68|   4700|   2.5| 3.0387573|\n",
      "|   599|   5040|   2.0| 2.2271407|\n",
      "|   527|   5040|   4.0| 3.2016363|\n",
      "|   288|   5040|   3.0| 2.3550642|\n",
      "|   427|   5040|   3.0| 2.8314543|\n",
      "|   288|   5505|   3.0| 3.1776178|\n",
      "|   275|   5505|   3.0| 3.6553724|\n",
      "|   606|   5965|   4.0| 3.7042174|\n",
      "|     9|   5965|   4.0| 3.7987902|\n",
      "|   307|   6705|   2.5|       NaN|\n",
      "|   232|   6863|   4.0| 3.2715828|\n",
      "|   177|   6863|   3.5| 3.2656317|\n",
      "|   132|   6863|   4.0|  2.822144|\n",
      "|   308|   6863|   3.5| 2.2485094|\n",
      "|    64|   6863|   3.5| 3.4124181|\n",
      "|   564|   6863|   3.5| 3.4732313|\n",
      "|   381|   6863|   5.0| 3.3692982|\n",
      "|   310|   6863|   5.0| 2.8229232|\n",
      "|     7|   6863|   4.5| 2.8115962|\n",
      "|    82|   6863|   3.5| 3.4075844|\n",
      "|   408|   6863|   4.0| 3.7276988|\n",
      "|   219|   6863|   2.5|  2.787336|\n",
      "|   141|   6863|   3.0| 3.0411253|\n",
      "|   298|   6863|   3.0| 2.3159695|\n",
      "|   274|   7321|   3.5| 1.5458454|\n",
      "|   599|  26555|   2.0|       NaN|\n",
      "|   320|  26555|   3.5|       NaN|\n",
      "|   307|  26629|   1.5|  1.860526|\n",
      "|   274|  30894|   2.0|  2.734425|\n",
      "|   480|  30894|   2.0|  2.256871|\n",
      "|   600|  30894|   3.0| 2.0757437|\n",
      "|   177|  39183|   3.0| 3.5278924|\n",
      "|   421|  39183|   4.5| 3.7795515|\n",
      "|    68|  39183|   2.0| 2.8611553|\n",
      "|   474|  45635|   3.0| 2.4916165|\n",
      "|   226|  55269|   3.0| 3.7332098|\n",
      "|   105|  55269|   3.0|   3.79325|\n",
      "|   298|  56012|   2.0| 2.2440317|\n",
      "|   122|  69784|   4.5| 3.6024005|\n",
      "|   274|  69784|   4.0| 3.2344637|\n",
      "|   339|  69784|   4.5| 2.7817564|\n",
      "|   610|  69784|   3.5| 3.3646848|\n",
      "|   143|  73319|   3.0|  3.281679|\n",
      "|    89|  73319|   2.0| 2.2028804|\n",
      "|   477|  74553|   4.5| 2.9918697|\n",
      "|   509|  91266|   2.5|       NaN|\n",
      "|   111|  98083|   5.0| 2.6389887|\n",
      "|   122| 107406|   4.5|  4.232724|\n",
      "|   610| 107406|   5.0|  3.821945|\n",
      "|   414| 107406|   4.0|  3.677099|\n",
      "|   599|     26|   2.5| 2.7033803|\n",
      "|     6|     26|   4.0| 3.6197777|\n",
      "|   483|     26|   4.0| 3.0520241|\n",
      "|   337|     27|   5.0|  4.228031|\n",
      "|   506|     27|   3.0| 2.6921945|\n",
      "|   125|    501|   4.5|  3.017396|\n",
      "|   599|    577|   1.5|   1.53133|\n",
      "|   387|   1235|   4.5| 3.7759094|\n",
      "|    51|   1235|   5.0| 4.3515453|\n",
      "|   113|   1235|   5.0|   3.38912|\n",
      "|   600|   1235|   5.0| 3.7795863|\n",
      "|   454|   1235|   5.0|  3.520063|\n",
      "|   313|   1235|   5.0| 3.4522426|\n",
      "|   255|   2023|   1.0| 1.7633485|\n",
      "|   597|   2023|   3.0| 3.7493572|\n",
      "|   368|   2023|   2.0|  2.816417|\n",
      "|    28|   2023|   3.5| 2.7586482|\n",
      "|   132|   2023|   3.0| 2.3834534|\n",
      "|   452|   2023|   5.0| 4.1840367|\n",
      "|    64|   2023|   3.5|   3.31571|\n",
      "|   590|   2023|   3.0| 3.0001965|\n",
      "|   307|   2023|   3.5|  2.300075|\n",
      "|   380|   2023|   3.0| 3.3162332|\n",
      "|   238|   2023|   5.0| 3.2438428|\n",
      "|   160|   2023|   5.0| 2.7653313|\n",
      "|   608|   2023|   4.5| 2.7088099|\n",
      "|    68|   2023|   3.5|  2.640068|\n",
      "|   198|   2023|   4.0|  3.618448|\n",
      "|    42|   2023|   5.0|  3.769435|\n",
      "|   208|   2023|   4.0| 2.8566704|\n",
      "|   474|   2335|   2.0|  2.626803|\n",
      "|   307|   2335|   3.5|  2.514204|\n",
      "|   495|   2335|   3.0| 3.5546062|\n",
      "|   453|   2335|   4.0| 3.9508247|\n",
      "|   341|   2335|   3.5| 3.3413825|\n",
      "|    20|   2857|   4.0|  3.522256|\n",
      "|   327|   2857|   2.0| 4.1239524|\n",
      "|   380|   2857|   3.0| 3.9933016|\n",
      "|   474|   3270|   2.5|  2.805564|\n",
      "|   479|   3270|   4.0|  3.824423|\n",
      "|    45|   3270|   1.0|  3.150672|\n",
      "|   307|   3743|   1.0| 1.6566858|\n",
      "|   244|   3811|   5.0| 4.2021246|\n",
      "|   287|   5066|   0.5| 1.6607796|\n",
      "|   525|   5066|   3.5| 3.2819295|\n",
      "|   182|   5993|   3.0|  2.651536|\n",
      "|   474|   5993|   3.0| 2.3743281|\n",
      "|   165|   5993|   2.0| 2.4996808|\n",
      "|   414|   5993|   4.0|   2.74234|\n",
      "|   122|   6936|   4.0|  4.396146|\n",
      "|   190|   6936|   3.5| 3.5878134|\n",
      "|   232|   6936|   3.5| 3.5848916|\n",
      "|   308|   6936|   2.0| 2.2998166|\n",
      "|   328|   6936|   5.0| 2.5342922|\n",
      "|   307|   6936|   3.5|  3.357003|\n",
      "|   608|   6936|   4.0| 3.3441303|\n",
      "|   474|   7116|   3.5| 2.7233071|\n",
      "|   454|   7116|   5.0| 2.5740845|\n",
      "|   387|   8656|   3.0|  3.573781|\n",
      "|   599|  27020|   3.5| 2.6753454|\n",
      "|   230|  30793|   2.0| 2.5814865|\n",
      "|   232|  30793|   3.5| 3.0913343|\n",
      "|   246|  30793|   4.0| 3.8326333|\n",
      "|    47|  30793|   3.0| 2.8209634|\n",
      "|   132|  30793|   3.5| 2.6744447|\n",
      "|   292|  30793|   3.5| 2.9841018|\n",
      "|   484|  30793|   3.5| 3.4098885|\n",
      "|   610|  30793|   3.0| 3.2817464|\n",
      "|   301|  30793|   0.5| 2.8940573|\n",
      "|   380|  30793|   2.0| 3.4062366|\n",
      "|   418|  30793|   2.5| 3.0920606|\n",
      "|   249|  30793|   3.5| 3.3883138|\n",
      "|   480|  30793|   4.0| 2.9898622|\n",
      "|   338|  30793|   2.5| 2.5652008|\n",
      "|    18|  30793|   4.0| 3.1114995|\n",
      "|   474|  38886|   4.0|  3.129632|\n",
      "|   600|  38886|   4.5| 2.9802108|\n",
      "|   605|  40851|   3.0| 3.1437788|\n",
      "|   274|  71211|   3.5| 3.7027328|\n",
      "|   599|  74916|   2.5| 1.9014142|\n",
      "|   599|  81834|   3.0|  3.006815|\n",
      "|   491|  81834|   5.0|  4.503265|\n",
      "|   426|  81834|   5.0|  4.446233|\n",
      "|   246|  87222|   5.0| 3.9628294|\n",
      "|   448|  87222|   3.0| 2.8043175|\n",
      "|   517|  87222|   1.0| 2.2349064|\n",
      "|   292| 115231|   2.5| 2.8113885|\n",
      "|   105| 117851|   3.5| 3.3079135|\n",
      "|   385|   1019|   3.0| 3.0832014|\n",
      "|   448|   1019|   3.0| 2.9725146|\n",
      "|   304|   1019|   4.0|  3.730123|\n",
      "|   474|   1269|   3.5|  3.689643|\n",
      "|    19|   1269|   4.0| 3.3714309|\n",
      "|   309|   1269|   3.5| 3.3712363|\n",
      "|    84|   1269|   4.0| 3.8630798|\n",
      "|   465|   1269|   5.0| 4.3854413|\n",
      "|   605|   1269|   3.5| 2.9550197|\n",
      "|    89|   1269|   2.5|  2.288389|\n",
      "|   168|   1927|   4.5|  4.538258|\n",
      "|    59|   1927|   5.0| 4.8287334|\n",
      "|   156|   2750|   3.0| 3.4622416|\n",
      "|   469|   2750|   3.0| 3.7469606|\n",
      "|   224|   3072|   5.0| 2.9624445|\n",
      "|   503|   3072|   3.0| 3.4877927|\n",
      "|   527|   3072|   4.0|  4.068081|\n",
      "|   216|   3072|   4.0|  4.043733|\n",
      "|   599|   3387|   2.0| 2.3507965|\n",
      "|   292|   4830|   4.0|       NaN|\n",
      "|   307|   4876|   2.0| 1.7267811|\n",
      "|   380|   4876|   3.0|  3.176849|\n",
      "|    69|   4876|   3.0| 2.6226234|\n",
      "|   219|   4876|   1.5|  2.195277|\n",
      "|   414|   5258|   2.0| 1.4027678|\n",
      "|   387|   7895|   3.5|  2.679931|\n",
      "|   438|  33154|   4.0| 2.8826277|\n",
      "|   221|  33154|   4.5| 3.3503456|\n",
      "|   254|  33154|   4.0| 3.3506064|\n",
      "|    68|  33154|   3.0| 2.5161874|\n",
      "|   357|  33154|   5.0| 3.3455656|\n",
      "|   599|  37857|   2.5|  2.746881|\n",
      "|   387|  37857|   3.0| 3.5409808|\n",
      "|   381|  37857|   3.5|  3.441642|\n",
      "|    28|  42004|   2.5| 2.7227647|\n",
      "|   474|  42004|   4.0| 3.4591916|\n",
      "|   414|  42011|   2.5| 2.6455534|\n",
      "|   365|  42011|   1.0| 1.3161948|\n",
      "|   305| 103249|   2.0| 3.4253197|\n",
      "|   339| 103249|   2.5| 3.2219179|\n",
      "|   318| 103249|   3.5| 3.1819582|\n",
      "|    80| 103249|   4.0| 3.7237325|\n",
      "|   599| 103980|   3.0|  3.144339|\n",
      "|   318| 106918|   4.0| 3.8938286|\n",
      "|   414| 106918|   5.0| 3.9605403|\n",
      "|   596| 135536|   3.0|  2.504712|\n",
      "|   111| 135536|   4.0| 3.3296146|\n",
      "|   243|     44|   4.0|   3.30083|\n",
      "|   599|     44|   2.5| 2.1190152|\n",
      "|   452|     44|   4.0|  2.861517|\n",
      "|    19|     44|   3.0| 2.1870728|\n",
      "|   380|     44|   4.0| 2.7145312|\n",
      "|   514|     44|   2.5| 2.4124603|\n",
      "|   240|     44|   4.0| 3.0739748|\n",
      "|   469|     44|   1.0|  2.307206|\n",
      "|   592|     44|   3.0| 2.3900704|\n",
      "|   354|     44|   3.5| 2.6206946|\n",
      "|    58|     44|   2.0| 2.6666076|\n",
      "|    11|     44|   2.0| 2.4362745|\n",
      "|   284|     44|   3.0|  2.917584|\n",
      "|   294|     44|   3.0| 2.0392847|\n",
      "|   372|    159|   2.0|  2.912635|\n",
      "|   437|    159|   3.0| 2.9057684|\n",
      "|   411|    271|   3.0| 2.9534273|\n",
      "|   387|    743|   1.5| 1.9879832|\n",
      "|   389|    743|   2.0| 3.0295608|\n",
      "|    21|    743|   4.0| 2.6275456|\n",
      "|   214|    743|   3.0| 2.1746814|\n",
      "|    90|    743|   3.0| 2.2691596|\n",
      "|   382|    743|   2.0| 2.6706095|\n",
      "|   104|    743|   2.5| 2.2720542|\n",
      "|   128|    908|   5.0|   4.58744|\n",
      "|   152|    908|   4.0|  4.090317|\n",
      "|   274|    908|   3.5| 3.6829858|\n",
      "|   182|    908|   4.0|  4.187615|\n",
      "|   168|    908|   5.0|  4.573306|\n",
      "|    64|    908|   4.0|  4.390312|\n",
      "|   309|    908|   3.5| 4.2512336|\n",
      "|   288|    908|   3.0| 3.8225687|\n",
      "|   477|    908|   4.0| 3.8965752|\n",
      "|   334|    908|   3.5| 3.6287436|\n",
      "|   606|    916|   4.5|  4.009239|\n",
      "|   253|    916|   2.5|  4.311124|\n",
      "|   113|    916|   5.0|  4.415482|\n",
      "|   525|    916|   4.0|  3.897346|\n",
      "|   410|    916|   5.0|  4.033112|\n",
      "|   517|    916|   3.0| 2.8672402|\n",
      "|   555|   1135|   3.0| 2.8445888|\n",
      "|   294|   1135|   4.0|  2.381322|\n",
      "|    91|   1350|   4.5| 3.1337466|\n",
      "|   599|   1350|   2.5| 2.6915956|\n",
      "|   590|   1350|   3.0| 3.2711596|\n",
      "|   374|   1350|   5.0| 3.4015915|\n",
      "|   571|   1350|   5.0| 3.6435862|\n",
      "|   555|   2134|   4.0| 3.0263631|\n",
      "|   226|   2134|   4.0| 3.2253425|\n",
      "|   414|   2134|   5.0| 3.1618717|\n",
      "|   600|   2134|   3.5| 2.9682064|\n",
      "|   294|   2134|   3.0| 1.9386077|\n",
      "|   357|   2134|   3.0| 3.1843417|\n",
      "|   275|   2134|   3.0| 2.6281366|\n",
      "|   414|   2169|   2.0| 2.5040047|\n",
      "|   298|   2169|   1.5| 1.8387735|\n",
      "|   599|   2322|   2.5| 2.3853521|\n",
      "|   217|   2322|   2.0| 2.4229805|\n",
      "|   265|   2322|   4.0| 2.2324493|\n",
      "|   304|   2322|   4.0| 2.6572523|\n",
      "|   603|   3183|   3.0|       NaN|\n",
      "|   169|   3287|   4.5| 2.0896878|\n",
      "|   580|   3481|   4.0| 3.5605574|\n",
      "|   560|   3481|   3.0| 3.3949475|\n",
      "|    63|   3481|   4.0| 3.8248634|\n",
      "|   414|   3481|   5.0| 3.7078242|\n",
      "|   260|   3481|   4.0| 3.2319777|\n",
      "|   525|   3481|   4.0| 3.6125581|\n",
      "|   187|   3481|   3.5| 3.1872916|\n",
      "|   274|   3744|   2.0| 3.0049405|\n",
      "|    19|   3744|   2.0|  2.543641|\n",
      "|   453|   3744|   4.0| 2.7256234|\n",
      "|   428|   3744|   3.0|  2.804442|\n",
      "|   249|   3744|   3.0| 3.0103657|\n",
      "|   600|   3744|   1.0|  1.740002|\n",
      "|   101|   3783|   4.0|  4.093753|\n",
      "|    28|   3783|   4.0|  3.044829|\n",
      "|   182|   3783|   4.5| 3.9070208|\n",
      "|   275|   3783|   4.0| 4.1272097|\n",
      "|   590|   4267|   3.0| 2.8740354|\n",
      "|   448|   4267|   3.0| 2.8398197|\n",
      "|   599|   5214|   2.0| 2.2825336|\n",
      "|   474|   5214|   3.0| 2.6984198|\n",
      "|   560|   5219|   4.0| 3.0576506|\n",
      "|   380|   5219|   4.0|  3.564156|\n",
      "|   428|   5219|   3.0| 2.3478014|\n",
      "|   312|   5219|   1.0| 2.6540792|\n",
      "|   480|   5219|   2.0| 2.5646102|\n",
      "|    21|   5219|   3.0| 2.9755628|\n",
      "|   213|   5219|   4.5| 3.4379225|\n",
      "|     3|   5764|   4.5|       NaN|\n",
      "|   156|   6509|   4.0| 2.4913037|\n",
      "|   599|   7225|   3.0| 1.8111703|\n",
      "|   380|   7225|   4.0|  2.445828|\n",
      "|   298|   7257|   0.5| 1.6278151|\n",
      "|   274|   8967|   1.5| 1.5176277|\n",
      "|   232|  57368|   2.5| 3.2280316|\n",
      "|   419|  57368|   4.0|  3.289082|\n",
      "|   318|  57368|   4.0| 3.2901876|\n",
      "|   610|  57368|   4.0| 3.5874076|\n",
      "|   220|  57368|   4.0| 3.3204474|\n",
      "|   219|  57368|   2.0| 3.1880488|\n",
      "|   308|  71033|   1.0|   2.60863|\n",
      "|   448|  71033|   4.0| 3.7024815|\n",
      "|   105|  71033|   4.0|  4.452779|\n",
      "|   222|  78469|   2.5| 2.6294541|\n",
      "|   119|  78469|   3.5|  3.525465|\n",
      "|    18|  78469|   3.0| 2.9656215|\n",
      "|   509| 110781|   2.5|       NaN|\n",
      "|   111| 111743|   2.5| 3.1930525|\n",
      "|   306| 111743|   3.0|  2.642473|\n",
      "|    21| 111743|   3.5| 2.9112828|\n",
      "|   298| 111743|   0.5| 1.5698903|\n",
      "|   448| 122890|   1.5| 2.9631557|\n",
      "|   249| 122890|   4.0| 3.7435465|\n",
      "|   122|    253|   4.5| 4.5029526|\n",
      "|   230|    253|   4.0| 2.9037886|\n",
      "|   177|    253|   4.0| 3.0526898|\n",
      "|     6|    253|   3.0| 2.8426054|\n",
      "|   117|    253|   4.0| 2.9351523|\n",
      "|   609|    253|   4.0| 3.2805858|\n",
      "|   229|    253|   3.0| 3.7827132|\n",
      "|   273|    253|   3.0|  4.496823|\n",
      "|   264|    253|   4.0| 2.7741551|\n",
      "|   312|    253|   4.0|  3.796622|\n",
      "|   102|    253|   3.0| 3.6904085|\n",
      "|   240|    253|   5.0| 3.4200153|\n",
      "|   121|    253|   3.0| 3.4962835|\n",
      "|   480|    253|   3.5| 3.0512862|\n",
      "|    56|    253|   3.0|  3.601771|\n",
      "|   468|    253|   4.0| 3.0178947|\n",
      "|   597|   1148|   5.0|  4.936646|\n",
      "|   232|   1148|   2.5|  3.749008|\n",
      "|   177|   1148|   4.0| 4.0830765|\n",
      "|   283|   1148|   2.0| 3.7022626|\n",
      "|    19|   1148|   4.0| 3.4331229|\n",
      "|    64|   1148|   4.0| 4.4388547|\n",
      "|   425|   1148|   3.5| 3.7623575|\n",
      "|   327|   1148|   4.0|  4.128085|\n",
      "|   310|   1148|   5.0|  4.176165|\n",
      "|    63|   1148|   5.0|  4.049843|\n",
      "|   167|   1148|   5.0| 3.7390218|\n",
      "|    21|   1148|   3.0| 3.3862903|\n",
      "|   414|   1148|   5.0|  4.437594|\n",
      "|   104|   1148|   5.0| 4.0369577|\n",
      "|    89|   1148|   2.0| 2.8746176|\n",
      "|   517|   1148|   3.0| 3.2932942|\n",
      "|   255|   1210|   5.0| 3.1717196|\n",
      "|   513|   1210|   4.0| 3.9550426|\n",
      "|   597|   1210|   5.0|  4.241511|\n",
      "|   385|   1210|   4.0|  3.902593|\n",
      "|   183|   1210|   4.0| 4.0454674|\n",
      "|   210|   1210|   5.0| 4.2653723|\n",
      "|    27|   1210|   4.0| 3.7063315|\n",
      "|   103|   1210|   3.5| 4.2587404|\n",
      "|   232|   1210|   5.0| 3.9939003|\n",
      "|   246|   1210|   5.0| 4.3206983|\n",
      "|   177|   1210|   3.0| 3.6310344|\n",
      "|   603|   1210|   3.0| 3.2898533|\n",
      "|   474|   1210|   4.0| 3.8169663|\n",
      "|   572|   1210|   5.0| 4.1044126|\n",
      "|   432|   1210|   3.5| 3.9991133|\n",
      "|   120|   1210|   5.0| 3.5513554|\n",
      "|   559|   1210|   4.0| 3.9878159|\n",
      "|   268|   1210|   1.0| 3.7204092|\n",
      "|   430|   1210|   4.0| 4.1573844|\n",
      "|    64|   1210|   3.5|  4.084387|\n",
      "|   554|   1210|   5.0|  4.228472|\n",
      "|   202|   1210|   3.0| 4.2727494|\n",
      "|   263|   1210|   4.0|  3.993202|\n",
      "|   494|   1210|   4.0| 4.5022144|\n",
      "|    39|   1210|   5.0|  4.217628|\n",
      "|   514|   1210|   4.0| 3.9971297|\n",
      "|   549|   1210|   2.0| 4.0567923|\n",
      "|   428|   1210|   3.5| 3.1370375|\n",
      "|   448|   1210|   5.0|  3.580963|\n",
      "|   400|   1210|   5.0| 4.5215607|\n",
      "|    63|   1210|   4.5| 3.9213567|\n",
      "|   288|   1210|   4.5| 3.7336645|\n",
      "|   591|   1210|   5.0| 4.0302706|\n",
      "|   160|   1210|   5.0| 3.6176684|\n",
      "|    70|   1210|   5.0|  4.336502|\n",
      "|    62|   1210|   4.5|  4.385193|\n",
      "|    95|   1210|   4.5|  4.572304|\n",
      "|   195|   1210|   4.0| 4.2523036|\n",
      "|   256|   1210|   4.0|  4.645645|\n",
      "|   304|   1210|   5.0|  4.417683|\n",
      "|   370|   1210|   2.0| 3.7623255|\n",
      "|    11|   1210|   4.0| 4.5079193|\n",
      "|    71|   1210|   3.0|   3.64076|\n",
      "|   567|   1210|   1.5| 2.6210444|\n",
      "|   525|   1210|   4.0| 3.9724545|\n",
      "|   135|   1210|   4.0| 4.2469187|\n",
      "|    79|   1210|   5.0|  4.239956|\n",
      "|   124|   1210|   4.5| 4.0319176|\n",
      "|   313|   1210|   3.0| 3.8359256|\n",
      "|   172|   1210|   4.5|   4.00761|\n",
      "|    18|   1210|   4.5|  4.128727|\n",
      "|   606|   1280|   4.0|  4.077024|\n",
      "|   202|   1280|   4.0|  4.008417|\n",
      "|    33|   1280|   5.0|  4.694645|\n",
      "|   599|   1689|   1.5| 2.5094903|\n",
      "|   599|   1866|   0.5| 2.6487637|\n",
      "|    57|   1866|   3.0| 2.2025537|\n",
      "|    68|   1866|   3.5| 3.6502614|\n",
      "|   597|   1955|   5.0| 3.5883472|\n",
      "|   590|   1955|   4.0| 3.6153493|\n",
      "|   326|   1955|   3.5| 4.1592135|\n",
      "|   113|   1955|   4.0| 4.2360663|\n",
      "|   412|   2076|   3.0| 3.7232356|\n",
      "|   223|   2076|   1.0|   3.03445|\n",
      "|   122|   2076|   5.0| 4.4676127|\n",
      "|   599|   2076|   3.5| 2.8770752|\n",
      "|   603|   2076|   5.0|  4.077497|\n",
      "|   430|   2076|   5.0| 3.5069253|\n",
      "|   387|   2076|   4.5| 3.7338068|\n",
      "|   610|   2076|   5.0| 4.0182114|\n",
      "|   555|   2076|   3.0|  3.822409|\n",
      "|   380|   2076|   5.0| 3.5678546|\n",
      "|   391|   2076|   4.0| 4.1692114|\n",
      "|   156|   2076|   5.0| 3.7329972|\n",
      "|   390|   2076|   4.5| 3.7758334|\n",
      "|   414|   2076|   4.0|  4.069475|\n",
      "|   424|   2076|   3.5|  3.922746|\n",
      "|   405|   2076|   4.5| 3.7984252|\n",
      "|   597|   2371|   5.0| 3.4920893|\n",
      "|   310|   2371|   4.0| 2.4564767|\n",
      "|   217|   2371|   2.0|  2.367534|\n",
      "|   278|   2371|   3.0| 2.7435508|\n",
      "|    51|   2371|   3.5| 2.7249253|\n",
      "|   156|   2371|   1.0| 2.3242528|\n",
      "|   298|   2371|   3.5| 2.4948192|\n",
      "|   177|   2804|   5.0| 3.2625635|\n",
      "|   169|   2804|   5.0|  4.536478|\n",
      "|   266|   2804|   4.0| 3.9888442|\n",
      "|   590|   2804|   4.0|  3.825161|\n",
      "|   555|   2804|   5.0|  3.949621|\n",
      "|   477|   2804|   4.0| 3.9146717|\n",
      "|   357|   2804|   5.0|  4.047188|\n",
      "|   562|   2804|   1.0| 4.2169137|\n",
      "|   422|   2804|   4.0|  4.051979|\n",
      "|   387|   3587|   1.5| 2.7596943|\n",
      "|   474|   4036|   3.0| 2.6322684|\n",
      "|   387|   4036|   3.0| 3.1136773|\n",
      "|   380|   4036|   4.0| 3.0431232|\n",
      "|   509|   5480|   1.5|  2.874673|\n",
      "|   599|   5768|   3.0|       NaN|\n",
      "|   232|   7258|   3.0|  3.014042|\n",
      "|   232|  32598|   3.5| 3.4558372|\n",
      "|   610|  32598|   3.5| 3.2214901|\n",
      "|   438|  32598|   3.0| 3.4025226|\n",
      "|   219|  32598|   0.5| 2.7379124|\n",
      "|    65|  55247|   5.0|  4.025296|\n",
      "|    28|  55247|   3.5| 2.6625423|\n",
      "|   103|  55247|   5.0| 4.0360923|\n",
      "|   222|  55247|   3.5|   3.01375|\n",
      "|   305|  55247|   3.5| 4.0072565|\n",
      "|   590|  55247|   2.5| 3.4022326|\n",
      "|   318|  55247|   4.5| 4.0118103|\n",
      "|   382|  55247|   5.0|  4.220075|\n",
      "|   414|  55247|   3.5| 3.9673684|\n",
      "|    68|  55247|   2.5| 3.4479015|\n",
      "|    74|  55247|   4.5| 4.2509913|\n",
      "|   305|  74510|   5.0|   4.47359|\n",
      "|   560|  74510|   4.0|  4.104237|\n",
      "|   448|  74510|   3.5| 4.0457096|\n",
      "|   111|  99007|   2.0|  2.933933|\n",
      "|   495|  99007|   4.5| 3.5983582|\n",
      "|   318| 102123|   3.0| 3.2075796|\n",
      "|    62| 102123|   4.0|  3.685419|\n",
      "|   414| 112552|   4.0|  4.472787|\n",
      "|   515| 112552|   5.0|  5.002671|\n",
      "|   401| 112552|   3.0|  3.510097|\n",
      "|   521|    103|   3.0| 2.1118293|\n",
      "|   606|    236|   3.5| 3.5658064|\n",
      "|   476|    236|   3.0| 3.2571464|\n",
      "|   353|    236|   3.0| 3.1067142|\n",
      "|   429|    236|   4.0| 3.8065462|\n",
      "|     8|    236|   3.0|   3.29174|\n",
      "|    84|    236|   3.0| 3.3278756|\n",
      "|   181|    236|   4.0| 3.0924234|\n",
      "|   376|    236|   4.0| 3.6481519|\n",
      "|   525|    236|   4.0| 3.5773451|\n",
      "|   530|    329|   3.0|  3.384733|\n",
      "|   602|    329|   3.0| 3.4809105|\n",
      "|   570|    329|   3.5|  3.010883|\n",
      "|    19|    329|   2.0|  2.768873|\n",
      "|   430|    329|   3.0|  3.325661|\n",
      "|   447|    329|   4.0| 4.0491343|\n",
      "|   594|    329|   4.0|  4.064008|\n",
      "|   446|    329|   3.0| 2.8515656|\n",
      "|   448|    329|   4.0|  2.702623|\n",
      "|   264|    329|   4.5| 2.8807724|\n",
      "|   395|    329|   3.0| 3.5217988|\n",
      "|   482|    329|   4.5|  3.960328|\n",
      "|   457|    329|   4.0|  3.023759|\n",
      "|    56|    329|   3.0|  3.426255|\n",
      "|   536|    329|   3.0| 3.7297041|\n",
      "|   566|    329|   3.0| 3.5067675|\n",
      "|   294|    329|   4.0| 2.8808615|\n",
      "|    18|    329|   4.0| 3.2584302|\n",
      "|     6|    460|   3.0|  2.923726|\n",
      "|    33|   1056|   4.0| 3.5257642|\n",
      "|   599|   1873|   3.0| 2.5650206|\n",
      "|   432|   1873|   5.0| 3.6332808|\n",
      "|    51|   1873|   5.0| 3.4155953|\n",
      "|   288|   1873|   3.0| 3.3119452|\n",
      "|   474|   2069|   3.5| 3.4418187|\n",
      "|   274|   2496|   3.5| 3.0451102|\n",
      "|   474|   2496|   3.0| 2.6129563|\n",
      "|   555|   2496|   2.0| 3.2298002|\n",
      "|   382|   2496|   3.5| 3.4496782|\n",
      "|   599|   2497|   1.5|  2.032396|\n",
      "|   222|   3173|   4.0| 2.3217409|\n",
      "|   140|   3173|   4.0| 3.0333617|\n",
      "|   292|   3173|   1.0| 2.5476022|\n",
      "|   307|   3173|   3.0| 2.0658686|\n",
      "|   585|   3173|   4.0|  3.435337|\n",
      "|   438|   3173|   3.5|  3.167644|\n",
      "|   448|   3173|   3.0|  2.751063|\n",
      "|    68|   3173|   3.5|  2.381342|\n",
      "+------+-------+------+----------+\n",
      "only showing top 2500 rows\n",
      "\n"
     ]
    }
   ],
   "source": [
    "test_predictions.filter(test_predictions.prediction.isNotNull()).show(2500)"
   ]
  },
  {
   "cell_type": "code",
   "execution_count": 86,
   "metadata": {
    "slideshow": {
     "slide_type": "notes"
    }
   },
   "outputs": [
    {
     "data": {
      "text/plain": [
       "nan"
      ]
     },
     "execution_count": 86,
     "metadata": {},
     "output_type": "execute_result"
    }
   ],
   "source": [
    "from pyspark.sql.functions import isnan\n",
    "evaluator.evaluate(test_predictions.where(isnan(\"prediction\")))"
   ]
  },
  {
   "cell_type": "code",
   "execution_count": 90,
   "metadata": {
    "slideshow": {
     "slide_type": "notes"
    }
   },
   "outputs": [
    {
     "name": "stdout",
     "output_type": "stream",
     "text": [
      "20076\n",
      "19285\n"
     ]
    },
    {
     "data": {
      "text/plain": [
       "0.8908312639058603"
      ]
     },
     "execution_count": 90,
     "metadata": {},
     "output_type": "execute_result"
    }
   ],
   "source": [
    "print(test_predictions.count())\n",
    "test_predictions = test_predictions.na.drop()\n",
    "print(test_predictions.count())\n",
    "evaluator.evaluate(test_predictions)"
   ]
  },
  {
   "cell_type": "markdown",
   "metadata": {
    "slideshow": {
     "slide_type": "slide"
    }
   },
   "source": [
    "### Important Question\n",
    "\n",
    "Will Billy like movie m?"
   ]
  },
  {
   "cell_type": "code",
   "execution_count": 49,
   "metadata": {
    "slideshow": {
     "slide_type": "slide"
    }
   },
   "outputs": [],
   "source": [
    "billy_row = user_factors[user_factors['id'] == 10].first()\n",
    "billy_factors = np.array(billy_row['features'])"
   ]
  },
  {
   "cell_type": "code",
   "execution_count": 50,
   "metadata": {
    "slideshow": {
     "slide_type": "slide"
    }
   },
   "outputs": [],
   "source": [
    "m_row = item_factors[item_factors['id'] == 296].first()\n",
    "m_factors = np.array(m_row['features'])"
   ]
  },
  {
   "cell_type": "code",
   "execution_count": 51,
   "metadata": {
    "scrolled": true,
    "slideshow": {
     "slide_type": "slide"
    }
   },
   "outputs": [
    {
     "data": {
      "text/plain": [
       "array([ 0.63686609,  0.45804632,  0.28430074,  1.02743554, -0.80457139,\n",
       "        0.28032553,  0.20997393,  1.38921404,  0.33457235, -0.17821293])"
      ]
     },
     "execution_count": 51,
     "metadata": {},
     "output_type": "execute_result"
    }
   ],
   "source": [
    "billy_factors"
   ]
  },
  {
   "cell_type": "code",
   "execution_count": 52,
   "metadata": {
    "slideshow": {
     "slide_type": "slide"
    }
   },
   "outputs": [
    {
     "data": {
      "text/plain": [
       "array([ 0.58915579,  1.13703477, -1.38429129,  1.181077  ,  0.18176536,\n",
       "        1.1247915 ,  0.45762929, -0.02493427,  0.33827844,  0.20756954])"
      ]
     },
     "execution_count": 52,
     "metadata": {},
     "output_type": "execute_result"
    }
   ],
   "source": [
    "m_factors"
   ]
  },
  {
   "cell_type": "code",
   "execution_count": 53,
   "metadata": {
    "slideshow": {
     "slide_type": "slide"
    }
   },
   "outputs": [
    {
     "data": {
      "text/plain": [
       "2.022656176543938"
      ]
     },
     "execution_count": 53,
     "metadata": {},
     "output_type": "execute_result"
    }
   ],
   "source": [
    "billy_factors @ m_factors"
   ]
  },
  {
   "cell_type": "code",
   "execution_count": 54,
   "metadata": {
    "slideshow": {
     "slide_type": "slide"
    }
   },
   "outputs": [],
   "source": [
    "billy_preds = predictions[predictions['userId'] == 10]"
   ]
  },
  {
   "cell_type": "code",
   "execution_count": 55,
   "metadata": {
    "scrolled": true,
    "slideshow": {
     "slide_type": "slide"
    }
   },
   "outputs": [
    {
     "name": "stdout",
     "output_type": "stream",
     "text": [
      "+------+-------+------+----------+\n",
      "|userId|movieId|rating|prediction|\n",
      "+------+-------+------+----------+\n",
      "|    10|    296|   1.0|  2.022656|\n",
      "|    10|    356|   3.5| 3.7200947|\n",
      "|    10|    588|   4.0| 3.3394587|\n",
      "|    10|    912|   4.0| 3.4187894|\n",
      "|    10|   2671|   3.5| 3.3281434|\n",
      "|    10|   4306|   4.5|  3.319521|\n",
      "|    10|   5957|   3.0| 3.2033124|\n",
      "|    10|   6535|   4.0| 2.3917892|\n",
      "|    10|   7293|   3.5|   4.02743|\n",
      "|    10|  31433|   2.5| 3.8346786|\n",
      "|    10|  40819|   4.0|  3.014394|\n",
      "|    10|  49286|   5.0| 3.8277862|\n",
      "|    10|  51662|   3.0|  3.049507|\n",
      "|    10|  51705|   4.5| 3.0408254|\n",
      "|    10|  56367|   3.5| 3.4707341|\n",
      "|    10|  56949|   3.0| 3.4603763|\n",
      "|    10|  64969|   0.5| 3.5690844|\n",
      "|    10|  68954|   4.0| 3.4042344|\n",
      "|    10|  70293|   0.5|  2.857835|\n",
      "|    10|  72011|   2.5| 2.6984928|\n",
      "+------+-------+------+----------+\n",
      "only showing top 20 rows\n",
      "\n"
     ]
    }
   ],
   "source": [
    "billy_preds.sort('movieId').show()"
   ]
  },
  {
   "cell_type": "code",
   "execution_count": 57,
   "metadata": {
    "slideshow": {
     "slide_type": "slide"
    }
   },
   "outputs": [
    {
     "name": "stdout",
     "output_type": "stream",
     "text": [
      "296,Pulp Fiction (1994),Comedy|Crime|Drama|Thriller\r",
      "\r\n",
      "1296,\"Room with a View, A (1986)\",Drama|Romance\r",
      "\r\n",
      "2296,\"Night at the Roxbury, A (1998)\",Comedy\r",
      "\r\n",
      "2961,\"Story of Us, The (1999)\",Comedy|Drama\r",
      "\r\n",
      "2962,Fever Pitch (1997),Comedy|Romance\r",
      "\r\n",
      "2964,Julien Donkey-Boy (1999),Drama\r",
      "\r\n",
      "2965,\"Omega Code, The (1999)\",Action\r",
      "\r\n",
      "2966,\"Straight Story, The (1999)\",Adventure|Drama\r",
      "\r\n",
      "2967,\"Bad Seed, The (1956)\",Drama|Thriller\r",
      "\r\n",
      "2968,Time Bandits (1981),Adventure|Comedy|Fantasy|Sci-Fi\r",
      "\r\n",
      "2969,\"Man and a Woman, A (Un homme et une femme) (1966)\",Drama|Romance\r",
      "\r\n",
      "3296,To Sir with Love (1967),Drama\r",
      "\r\n",
      "4296,Love Story (1970),Drama|Romance\r",
      "\r\n",
      "5296,\"Sweetest Thing, The (2002)\",Comedy|Romance\r",
      "\r\n",
      "6296,\"Mighty Wind, A (2003)\",Comedy|Musical\r",
      "\r\n",
      "32296,Miss Congeniality 2: Armed and Fabulous (2005),Adventure|Comedy|Crime\r",
      "\r\n",
      "52967,Away from Her (2006),Drama\r",
      "\r\n",
      "98296,Deadfall (2012),Crime|Drama|Thriller\r",
      "\r\n",
      "129657,Tracers (2015),Action\r",
      "\r\n",
      "129659,\"McFarland, USA (2015)\",Drama\r",
      "\r\n",
      "142961,Life Eternal (2015),Comedy|Crime|Thriller\r",
      "\r\n",
      "157296,Finding Dory (2016),Adventure|Animation|Comedy\r",
      "\r\n",
      "162968,Kizumonogatari Part 1: Tekketsu (2016),Action|Animation|Mystery\r",
      "\r\n",
      "167296,Iron Man (1931),Drama\r",
      "\r\n"
     ]
    }
   ],
   "source": [
    "!grep 296 < data/movies.csv"
   ]
  },
  {
   "cell_type": "markdown",
   "metadata": {
    "slideshow": {
     "slide_type": "slide"
    }
   },
   "source": [
    "## Okay, what *will* Billy like?"
   ]
  },
  {
   "cell_type": "code",
   "execution_count": 58,
   "metadata": {
    "slideshow": {
     "slide_type": "slide"
    }
   },
   "outputs": [],
   "source": [
    "recs = als_model.recommendForAllUsers(numItems=10)"
   ]
  },
  {
   "cell_type": "code",
   "execution_count": 59,
   "metadata": {
    "slideshow": {
     "slide_type": "slide"
    }
   },
   "outputs": [
    {
     "data": {
      "text/plain": [
       "[Row(movieId=7018, rating=5.385290145874023),\n",
       " Row(movieId=32892, rating=5.0265421867370605),\n",
       " Row(movieId=6732, rating=4.86475133895874),\n",
       " Row(movieId=67618, rating=4.6341376304626465),\n",
       " Row(movieId=8869, rating=4.600409984588623),\n",
       " Row(movieId=74946, rating=4.589346885681152),\n",
       " Row(movieId=71579, rating=4.523812294006348),\n",
       " Row(movieId=3086, rating=4.487799644470215),\n",
       " Row(movieId=6944, rating=4.477414131164551),\n",
       " Row(movieId=140110, rating=4.477058410644531)]"
      ]
     },
     "execution_count": 59,
     "metadata": {},
     "output_type": "execute_result"
    }
   ],
   "source": [
    "recs[recs['userId']==10].first()['recommendations']"
   ]
  },
  {
   "cell_type": "code",
   "execution_count": 60,
   "metadata": {
    "slideshow": {
     "slide_type": "slide"
    }
   },
   "outputs": [
    {
     "name": "stdout",
     "output_type": "stream",
     "text": [
      "3086,Babes in Toyland (1934),Children|Comedy|Fantasy|Musical\r",
      "\r\n",
      "83086,Burlesque (2010),Drama|Musical|Romance\r",
      "\r\n"
     ]
    }
   ],
   "source": [
    "!grep 3086 < data/movies.csv"
   ]
  },
  {
   "cell_type": "markdown",
   "metadata": {
    "slideshow": {
     "slide_type": "slide"
    }
   },
   "source": [
    "## Objective Review\n",
    "\n",
    "* Identify the key components of the ALS \n",
    "* Demonstrate an understanding on how recommendation systems are being used for personalization of online services/products\n",
    "* Parse and filter datasets into Spark DataFrame, performing basic feature selection\n",
    "* Run a brief hyper-parameter selection activity through a scalable grid search\n",
    "* Train and evaluate the predictive performance of recommendation system\n",
    "* Generate predictions from the trained model"
   ]
  },
  {
   "cell_type": "markdown",
   "metadata": {
    "slideshow": {
     "slide_type": "slide"
    }
   },
   "source": [
    "## Some great technical resources:\n",
    "\n",
    "- [Stanford ALS Theory and Implementation](http://stanford.edu/~rezab/classes/cme323/S15/notes/lec14.pdf)\n",
    "- [The Netflix Recommendation Project](https://www.netflixprize.com/assets/GrandPrize2009_BPC_BellKor.pdf)"
   ]
  }
 ],
 "metadata": {
  "celltoolbar": "Slideshow",
  "kernelspec": {
   "display_name": "Python 3",
   "language": "python",
   "name": "python3"
  },
  "language_info": {
   "codemirror_mode": {
    "name": "ipython",
    "version": 3
   },
   "file_extension": ".py",
   "mimetype": "text/x-python",
   "name": "python",
   "nbconvert_exporter": "python",
   "pygments_lexer": "ipython3",
   "version": "3.6.5"
  }
 },
 "nbformat": 4,
 "nbformat_minor": 2
}
