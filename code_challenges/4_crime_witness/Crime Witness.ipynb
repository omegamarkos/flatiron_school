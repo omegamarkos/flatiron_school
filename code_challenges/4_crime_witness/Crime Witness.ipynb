{
 "cells": [
  {
   "cell_type": "markdown",
   "metadata": {},
   "source": [
    "```\n",
    "There are n people lined up, and each have a height represented as an integer. A crime has happened right in front of them, and only people who are taller than everyone in front of them are able to see what has happened. How many witnesses are there?\n",
    "Example: \n",
    "Input: [3, 6, 3, 4, 1]\n",
    "witness_crime([3,6,3,4,1])\n",
    "Output: 3 \n",
    "Explanation: Only [6, 4, 1] were able to see in front of them.\n",
    "```"
   ]
  },
  {
   "cell_type": "code",
   "execution_count": 6,
   "metadata": {},
   "outputs": [],
   "source": [
    "line = [3,6,3,4,1]"
   ]
  },
  {
   "cell_type": "code",
   "execution_count": 27,
   "metadata": {},
   "outputs": [],
   "source": [
    "def witness_crime(line):\n",
    "    '''\n",
    "    Function to determine how many people in a line saw a crime\n",
    "    \n",
    "    Args:\n",
    "        line: list of integers represeting heights of people in line\n",
    "        \n",
    "    Returns:\n",
    "        number of witnesses\n",
    "    '''\n",
    "    witnesses = []\n",
    "    for i in range(len(line)):\n",
    "        if (max(line[i:]) == line[i]) & (line[i] not in line[i + 1:]):\n",
    "            witnesses.append(line[i])\n",
    "    return len(witnesses)"
   ]
  },
  {
   "cell_type": "code",
   "execution_count": 28,
   "metadata": {},
   "outputs": [
    {
     "data": {
      "text/plain": [
       "3"
      ]
     },
     "execution_count": 28,
     "metadata": {},
     "output_type": "execute_result"
    }
   ],
   "source": [
    "witness_crime(line)"
   ]
  }
 ],
 "metadata": {
  "kernelspec": {
   "display_name": "Python 3",
   "language": "python",
   "name": "python3"
  },
  "language_info": {
   "codemirror_mode": {
    "name": "ipython",
    "version": 3
   },
   "file_extension": ".py",
   "mimetype": "text/x-python",
   "name": "python",
   "nbconvert_exporter": "python",
   "pygments_lexer": "ipython3",
   "version": "3.7.4"
  }
 },
 "nbformat": 4,
 "nbformat_minor": 2
}
