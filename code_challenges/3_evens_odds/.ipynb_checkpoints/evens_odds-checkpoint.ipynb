{
 "cells": [
  {
   "cell_type": "markdown",
   "metadata": {},
   "source": [
    "```\n",
    "Given an array A of non-negative integers, return an array consisting of all the even elements of A, followed by all the odd elements of A.\n",
    "\n",
    "Example:\n",
    "\n",
    "A = [3,1,2,4]\n",
    "\n",
    "evens_odds(A)\n",
    "[2,4,3,1]\n",
    "```"
   ]
  },
  {
   "cell_type": "code",
   "execution_count": 1,
   "metadata": {},
   "outputs": [],
   "source": [
    "A = [3, 1, 2, 4]"
   ]
  },
  {
   "cell_type": "code",
   "execution_count": 2,
   "metadata": {},
   "outputs": [],
   "source": [
    "def evens_odds(A):\n",
    "    '''\n",
    "    Function that sorts array with evens in front and odds at the rear of the array\n",
    "    \n",
    "    Args\n",
    "        A: array to sort\n",
    "        \n",
    "    Returns:\n",
    "        array that is sorted with evens in front and odds at the rear\n",
    "    '''\n",
    "    evens = []\n",
    "    odds = []\n",
    "    \n",
    "    for x in A:\n",
    "        if x % 2 == 0:\n",
    "            evens.append(x)\n",
    "        else:\n",
    "            odds.append(x)\n",
    "    return evens + odds"
   ]
  },
  {
   "cell_type": "code",
   "execution_count": 3,
   "metadata": {},
   "outputs": [
    {
     "data": {
      "text/plain": [
       "[2, 4, 3, 1]"
      ]
     },
     "execution_count": 3,
     "metadata": {},
     "output_type": "execute_result"
    }
   ],
   "source": [
    "evens_odds(A,)"
   ]
  },
  {
   "cell_type": "code",
   "execution_count": 4,
   "metadata": {},
   "outputs": [],
   "source": [
    "def evens_odds_list_comprehension(A):\n",
    "    '''\n",
    "    Function that sorts array with evens in front and odds at the rear of the array\n",
    "    \n",
    "    Args\n",
    "        A: array to sort\n",
    "        \n",
    "    Returns:\n",
    "        array that is sorted with evens in front and odds at the rear\n",
    "    '''\n",
    "    evens = [x for x in A if x % 2 == 0]\n",
    "    odds = [x for x in A if x % 2 != 0]\n",
    "    \n",
    "    return evens + odds"
   ]
  },
  {
   "cell_type": "code",
   "execution_count": 5,
   "metadata": {},
   "outputs": [
    {
     "data": {
      "text/plain": [
       "[2, 4, 3, 1]"
      ]
     },
     "execution_count": 5,
     "metadata": {},
     "output_type": "execute_result"
    }
   ],
   "source": [
    "evens_odds_list_comprehension(A)"
   ]
  },
  {
   "cell_type": "code",
   "execution_count": 13,
   "metadata": {},
   "outputs": [],
   "source": [
    "def evens_odds_pop(A):\n",
    "    '''\n",
    "    Function that sorts array with evens in front and odds at the rear of the array\n",
    "    \n",
    "    Args\n",
    "        A: array to sort\n",
    "        \n",
    "    Returns:\n",
    "        array that is sorted with evens in front and odds at the rear\n",
    "    '''\n",
    "        \n",
    "    B = A.copy()\n",
    "    \n",
    "    for x in A:\n",
    "        if x % 2 != 0:\n",
    "            B.remove(x)\n",
    "            B += [x]\n",
    "    return B"
   ]
  },
  {
   "cell_type": "code",
   "execution_count": 14,
   "metadata": {},
   "outputs": [
    {
     "data": {
      "text/plain": [
       "[2, 4, 3, 1]"
      ]
     },
     "execution_count": 14,
     "metadata": {},
     "output_type": "execute_result"
    }
   ],
   "source": [
    "evens_odds_pop(A)"
   ]
  },
  {
   "cell_type": "code",
   "execution_count": 20,
   "metadata": {},
   "outputs": [
    {
     "name": "stdout",
     "output_type": "stream",
     "text": [
      "718 ns ± 21 ns per loop (mean ± std. dev. of 7 runs, 1000000 loops each)\n"
     ]
    }
   ],
   "source": [
    "%%timeit\n",
    "evens_odds(A)"
   ]
  },
  {
   "cell_type": "code",
   "execution_count": 21,
   "metadata": {},
   "outputs": [
    {
     "name": "stdout",
     "output_type": "stream",
     "text": [
      "1.06 µs ± 23.6 ns per loop (mean ± std. dev. of 7 runs, 1000000 loops each)\n"
     ]
    }
   ],
   "source": [
    "%%timeit\n",
    "evens_odds_list_comprehension(A)"
   ]
  },
  {
   "cell_type": "code",
   "execution_count": 22,
   "metadata": {},
   "outputs": [
    {
     "name": "stdout",
     "output_type": "stream",
     "text": [
      "759 ns ± 35.8 ns per loop (mean ± std. dev. of 7 runs, 1000000 loops each)\n"
     ]
    }
   ],
   "source": [
    "%%timeit\n",
    "evens_odds_pop(A)"
   ]
  },
  {
   "cell_type": "code",
   "execution_count": null,
   "metadata": {},
   "outputs": [],
   "source": []
  }
 ],
 "metadata": {
  "kernelspec": {
   "display_name": "Python 3",
   "language": "python",
   "name": "python3"
  },
  "language_info": {
   "codemirror_mode": {
    "name": "ipython",
    "version": 3
   },
   "file_extension": ".py",
   "mimetype": "text/x-python",
   "name": "python",
   "nbconvert_exporter": "python",
   "pygments_lexer": "ipython3",
   "version": "3.7.4"
  }
 },
 "nbformat": 4,
 "nbformat_minor": 2
}
