{
 "cells": [
  {
   "cell_type": "markdown",
   "metadata": {},
   "source": [
    "## Palindrome \n",
    "```\n",
    "Write a function that checks if a string is a palindrome.\n",
    "\n",
    "Example: \n",
    "\n",
    "palindrome('level')\n",
    "True\n",
    "\n",
    "palindrome('rabbit')\n",
    "False\n",
    "```"
   ]
  },
  {
   "cell_type": "code",
   "execution_count": 3,
   "metadata": {},
   "outputs": [],
   "source": [
    "def palindrome(word):\n",
    "    '''\n",
    "    function to check if a string is a palindrome\n",
    "    \n",
    "    Args:\n",
    "        word (str): The word to check if it is a palindrome\n",
    "        \n",
    "    Returns:\n",
    "        bool: True if it is a palindrome, False otherwise\n",
    "    '''\n",
    "    return True if word == word[::-1] else False"
   ]
  },
  {
   "cell_type": "code",
   "execution_count": 5,
   "metadata": {},
   "outputs": [
    {
     "data": {
      "text/plain": [
       "False"
      ]
     },
     "execution_count": 5,
     "metadata": {},
     "output_type": "execute_result"
    }
   ],
   "source": [
    "palindrome('rabbit')"
   ]
  },
  {
   "cell_type": "markdown",
   "metadata": {},
   "source": [
    "## Level Up\n",
    "```\n",
    "Write a function that finds the longest palindrome substring in a string (that has a length > 1). \n",
    "\n",
    "Example:\n",
    "\n",
    "palindrome_substring('reabcbawq'):\n",
    "'abcba'\n",
    "```"
   ]
  },
  {
   "cell_type": "code",
   "execution_count": 6,
   "metadata": {},
   "outputs": [],
   "source": [
    "word = 'banana'"
   ]
  },
  {
   "cell_type": "code",
   "execution_count": 16,
   "metadata": {},
   "outputs": [
    {
     "data": {
      "text/plain": [
       "'a'"
      ]
     },
     "execution_count": 16,
     "metadata": {},
     "output_type": "execute_result"
    }
   ],
   "source": [
    "word[5:7]"
   ]
  },
  {
   "cell_type": "code",
   "execution_count": 18,
   "metadata": {},
   "outputs": [
    {
     "name": "stdout",
     "output_type": "stream",
     "text": [
      "0 2\n",
      "1 3\n",
      "2 4\n",
      "3 5\n",
      "4 6\n",
      "0 3\n",
      "1 4\n",
      "2 5\n",
      "3 6\n",
      "0 4\n",
      "1 5\n",
      "2 6\n",
      "0 5\n",
      "1 6\n",
      "0 6\n"
     ]
    }
   ],
   "source": [
    "for spaces in range(2, len(word) + 1):\n",
    "    for start in range(len(word)):\n",
    "        stop = start + spaces\n",
    "        if stop > len(word):\n",
    "            continue\n",
    "        else:\n",
    "            print(start, stop)"
   ]
  },
  {
   "cell_type": "code",
   "execution_count": 23,
   "metadata": {},
   "outputs": [
    {
     "name": "stdout",
     "output_type": "stream",
     "text": [
      "ana\n",
      "anana\n"
     ]
    }
   ],
   "source": [
    "longest_palindrome = None\n",
    "len_longest_palindrome = 0\n",
    "\n",
    "for spaces in range(2, len(word) + 1):\n",
    "for start in range(len(word)):\n",
    "    stop = start + spaces\n",
    "    if stop > len(word):\n",
    "        continue\n",
    "    else:\n",
    "        if palindrome(word[start: stop]):\n",
    "            if len(word[start: stop]) > len_longest_palindrome:\n",
    "                longest_palindrome = word[start: stop]\n",
    "                len_longest_palindrome = len(longest_palindrome)\n",
    "                print(longest_palindrome)"
   ]
  },
  {
   "cell_type": "code",
   "execution_count": 25,
   "metadata": {},
   "outputs": [],
   "source": [
    "def palindrome_substring(word):\n",
    "    '''\n",
    "    function to find the largest palindrome in a string\n",
    "    \n",
    "    Args:\n",
    "        word (str): The word to check\n",
    "    \n",
    "    Returns:\n",
    "        str: the longest palindrome in the string; if no palindrome in the string returns None\n",
    "    '''\n",
    "    longest_palindrome = None\n",
    "    len_longest_palindrome = 0\n",
    "\n",
    "    for spaces in range(2, len(word) + 1):\n",
    "        for start in range(len(word)):\n",
    "            stop = start + spaces\n",
    "            if stop > len(word):\n",
    "                continue\n",
    "            else:\n",
    "                if palindrome(word[start: stop]):\n",
    "                    if len(word[start: stop]) > len_longest_palindrome:\n",
    "                        longest_palindrome = word[start: stop]\n",
    "                        len_longest_palindrome = len(longest_palindrome)\n",
    "    return longest_palindrome"
   ]
  },
  {
   "cell_type": "code",
   "execution_count": 26,
   "metadata": {},
   "outputs": [
    {
     "data": {
      "text/plain": [
       "'anana'"
      ]
     },
     "execution_count": 26,
     "metadata": {},
     "output_type": "execute_result"
    }
   ],
   "source": [
    "palindrome_substring('banana')"
   ]
  },
  {
   "cell_type": "code",
   "execution_count": 27,
   "metadata": {},
   "outputs": [
    {
     "data": {
      "text/plain": [
       "'abcba'"
      ]
     },
     "execution_count": 27,
     "metadata": {},
     "output_type": "execute_result"
    }
   ],
   "source": [
    "palindrome_substring('reabcbawq')"
   ]
  },
  {
   "cell_type": "code",
   "execution_count": null,
   "metadata": {},
   "outputs": [],
   "source": []
  }
 ],
 "metadata": {
  "kernelspec": {
   "display_name": "Python 3",
   "language": "python",
   "name": "python3"
  },
  "language_info": {
   "codemirror_mode": {
    "name": "ipython",
    "version": 3
   },
   "file_extension": ".py",
   "mimetype": "text/x-python",
   "name": "python",
   "nbconvert_exporter": "python",
   "pygments_lexer": "ipython3",
   "version": "3.7.4"
  }
 },
 "nbformat": 4,
 "nbformat_minor": 2
}
